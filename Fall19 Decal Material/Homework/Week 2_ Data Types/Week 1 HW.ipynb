{
 "cells": [
  {
   "cell_type": "markdown",
   "metadata": {},
   "source": [
    "## Data Types"
   ]
  },
  {
   "cell_type": "markdown",
   "metadata": {},
   "source": [
    "### Remembering Problems"
   ]
  },
  {
   "cell_type": "markdown",
   "metadata": {},
   "source": [
    "#### Problem 1: Data Types (5 Points)\n",
    "Instructions: Fill in the blanks. (Ex. a = 5, so the data type of a is an int). If you're not sure, you can use the type() function to output the type of the variable. "
   ]
  },
  {
   "cell_type": "code",
   "execution_count": null,
   "metadata": {},
   "outputs": [],
   "source": [
    "variable1 = \"Surprised Pikachu is the best meme.\" # Data type of variable1: _______________\n",
    "\n",
    "variable2 = 5 # Data type of variable2: _______________\n",
    "\n",
    "variable3 = 1.29 # Data type of variable3: _______________\n",
    "\n",
    "def g():\n",
    "    print(\"beep beep\")\n",
    "    return True\n",
    "\n",
    "variable4 = g # Data type of variable4: _______________\n",
    "\n",
    "variable5 = g() # Data type of variable5: _______________"
   ]
  },
  {
   "cell_type": "markdown",
   "metadata": {},
   "source": [
    "#### Problem 2: Using /, //, % (5 points)\n",
    "\n",
    "Observe what happens in each of these scenarios. Recall the differences between normal, floor, and modulo division and describe those differences in the markdown cell below."
   ]
  },
  {
   "cell_type": "code",
   "execution_count": null,
   "metadata": {},
   "outputs": [],
   "source": [
    "5/2 # normal division"
   ]
  },
  {
   "cell_type": "code",
   "execution_count": null,
   "metadata": {},
   "outputs": [],
   "source": [
    "4//3 # floor division"
   ]
  },
  {
   "cell_type": "code",
   "execution_count": null,
   "metadata": {},
   "outputs": [],
   "source": [
    "459 % 4 # modulo division"
   ]
  },
  {
   "cell_type": "markdown",
   "metadata": {},
   "source": [
    "Description: [Replace text here]"
   ]
  },
  {
   "cell_type": "markdown",
   "metadata": {},
   "source": [
    "### Application Problems"
   ]
  },
  {
   "cell_type": "markdown",
   "metadata": {},
   "source": [
    "#### Problem 1 (5 points)\n",
    "\n",
    "Take your favorite equation (or find one on the internet) and turn it into a function (like we did with the volume of a sphere)."
   ]
  },
  {
   "cell_type": "code",
   "execution_count": null,
   "metadata": {},
   "outputs": [],
   "source": [
    "## INSERT CODE ##"
   ]
  },
  {
   "cell_type": "markdown",
   "metadata": {},
   "source": [
    "#### Problem 2 (5 points)\n",
    "\n",
    "Write a function last_digit(num) which returns the last digit of a number as a string. Tip: To convert an int or a float to a string, use the str() function. If you want to convert a string to an int or a float, use int() or float() respectively. "
   ]
  },
  {
   "cell_type": "code",
   "execution_count": null,
   "metadata": {},
   "outputs": [],
   "source": [
    "def last_digit(num):\n",
    "    \"\"\" Returns last digit of a number as a string. \n",
    "    \n",
    "    >>> last_digit(2019):\n",
    "    9\n",
    "    >>> last_digit(40023948):\n",
    "    8\n",
    "    \"\"\"\n",
    "    return ## INSERT CODE ##\n"
   ]
  },
  {
   "cell_type": "markdown",
   "metadata": {},
   "source": [
    "#### Problem 3 (5 points)\n",
    "\n",
    "For this problem, it would be helpful to know some functions that are already built-in to Python. In particular, min() and max(). Run the following code (and try it yourself) to see what they do, and then complete the function two_of_three."
   ]
  },
  {
   "cell_type": "code",
   "execution_count": null,
   "metadata": {},
   "outputs": [],
   "source": [
    "min(3, 4, 5), min(-5, 9, -20)"
   ]
  },
  {
   "cell_type": "code",
   "execution_count": null,
   "metadata": {},
   "outputs": [],
   "source": [
    "max(3, 4, 5), max(-5, 9, -20)"
   ]
  },
  {
   "cell_type": "code",
   "execution_count": null,
   "metadata": {},
   "outputs": [],
   "source": [
    "def two_of_three(a, b, c):\n",
    "    \"\"\"Return x*x + y*y, where x and y are the two largest members of the\n",
    "    positive numbers a, b, and c.\n",
    "\n",
    "    >>> two_of_three(1, 2, 3)\n",
    "    13\n",
    "    >>> two_of_three(5, 3, 1)\n",
    "    34\n",
    "    >>> two_of_three(10, 2, 8)\n",
    "    164\n",
    "    >>> two_of_three(5, 5, 5)\n",
    "    50\n",
    "    \"\"\"\n",
    "    return ## INSERT CODE ##\n"
   ]
  },
  {
   "cell_type": "markdown",
   "metadata": {},
   "source": [
    "### Coding Hygiene"
   ]
  },
  {
   "cell_type": "markdown",
   "metadata": {},
   "source": [
    "#### Environment Diagrams (10 points for each Environment Diagram)\n",
    "\n",
    "Environment diagrams are a way to keep track of the order in which functions are being called, names are being defined, as well as the environment (local or global) these actions are occuring in. If you don't remember how environment diagrams work from lecture, have no fear! Watch this video from Berkeley's CS61A course on Environment Diagrams: https://www.youtube.com/watch?v=gyk0Qutui1s&list=PL6BsET-8jgYW8q2dPxPi_cfcLqNAjrCvR&index=3\n",
    "\n",
    "Please write an environment diagram for the following code AND an environment diagram for one of the practice problems on the handout we passed out on Friday. If you want to see the solution, plug the code into the handy-dandy Python Tutor (http://pythontutor.com/visualize.html#mode=edit) and click \"Visualize Execution\"."
   ]
  },
  {
   "cell_type": "code",
   "execution_count": null,
   "metadata": {},
   "outputs": [],
   "source": [
    "def strange_eggs(eggs, method1, method2):\n",
    "    return method2(method1(eggs))\n",
    "\n",
    "def scramble(eggs):\n",
    "    print(\"scramble the bois!\")\n",
    "    return eggs % 2\n",
    "\n",
    "def boil(eggs):\n",
    "    print(\"hard-boiled bois...\")\n",
    "    return eggs * 2\n",
    "\n",
    "def poach(eggs):\n",
    "    print(\"soft-boiled bois~\")\n",
    "    return eggs - 2\n",
    "\n",
    "get_strange_eggs(8, poach, boil)"
   ]
  }
 ],
 "metadata": {
  "kernelspec": {
   "display_name": "Python 3",
   "language": "python",
   "name": "python3"
  },
  "language_info": {
   "codemirror_mode": {
    "name": "ipython",
    "version": 3
   },
   "file_extension": ".py",
   "mimetype": "text/x-python",
   "name": "python",
   "nbconvert_exporter": "python",
   "pygments_lexer": "ipython3",
   "version": "3.7.3"
  }
 },
 "nbformat": 4,
 "nbformat_minor": 2
}
