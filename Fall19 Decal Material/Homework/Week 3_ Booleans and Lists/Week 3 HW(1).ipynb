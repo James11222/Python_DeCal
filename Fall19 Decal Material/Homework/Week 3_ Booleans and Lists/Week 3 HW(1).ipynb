{
 "cells": [
  {
   "cell_type": "markdown",
   "metadata": {},
   "source": [
    "# Remembering Problems"
   ]
  },
  {
   "cell_type": "markdown",
   "metadata": {},
   "source": [
    "### Boolean Math\n",
    "For each of the following expressions below, write the boolean answer that the expression will evaluate to:"
   ]
  },
  {
   "cell_type": "markdown",
   "metadata": {},
   "source": [
    "True and False = (Answer Here)    "
   ]
  },
  {
   "cell_type": "markdown",
   "metadata": {},
   "source": [
    "False or not True = (Answer Here) "
   ]
  },
  {
   "cell_type": "markdown",
   "metadata": {},
   "source": [
    "not (not False and True) = (Answer Here)  "
   ]
  },
  {
   "cell_type": "markdown",
   "metadata": {},
   "source": [
    "True and (True and False) = (Answer Here)  "
   ]
  },
  {
   "cell_type": "markdown",
   "metadata": {},
   "source": [
    "(not True or False) and not (not False and True) = (Answer Here)"
   ]
  },
  {
   "cell_type": "markdown",
   "metadata": {},
   "source": [
    "### Operations on Lists"
   ]
  },
  {
   "cell_type": "markdown",
   "metadata": {},
   "source": [
    "Note: The following cells have to be run in order!"
   ]
  },
  {
   "cell_type": "code",
   "execution_count": null,
   "metadata": {
    "collapsed": true
   },
   "outputs": [],
   "source": [
    "''' Here is a list of the names of everyone in this course! '''\n",
    "\n",
    "students = [\"Sachin\", \"Ruby\", \"Luna\", \"Alex\", \"Quetzal\", \"Asia\", \"Kevin\",\n",
    "            \"James\", \"Pragyan\", \"Shreya\", \"Angelo\", \"Egor\", \"Ethan\", \"Fira\",\n",
    "            \"Bella\", \"Sally\"]"
   ]
  },
  {
   "cell_type": "code",
   "execution_count": null,
   "metadata": {
    "collapsed": true
   },
   "outputs": [],
   "source": [
    "''' What is the length of this list? '''\n",
    "\n",
    "### YOUR CODE HERE ###"
   ]
  },
  {
   "cell_type": "code",
   "execution_count": null,
   "metadata": {
    "collapsed": true
   },
   "outputs": [],
   "source": [
    "'''Oops, we forgot the facilitators. Can you create a new list for faciliators and append it to the original list?'''\n",
    "\n",
    "### YOUR CODE HERE ###"
   ]
  },
  {
   "cell_type": "code",
   "execution_count": null,
   "metadata": {
    "collapsed": true
   },
   "outputs": [],
   "source": [
    "''' I think I also put in a student that doesn't exist. Can you remove Sally from the list? '''\n",
    "\n",
    "### YOUR CODE HERE ###"
   ]
  },
  {
   "cell_type": "markdown",
   "metadata": {},
   "source": [
    "# Application Problems"
   ]
  },
  {
   "cell_type": "markdown",
   "metadata": {},
   "source": [
    "### A + |B|"
   ]
  },
  {
   "cell_type": "code",
   "execution_count": null,
   "metadata": {},
   "outputs": [],
   "source": [
    "from operator import add, sub\n",
    "\n",
    "def a_plus_abs_b(a, b):\n",
    "    \"\"\"Return a+abs(b), but without calling abs.\n",
    "\n",
    "    >>> a_plus_abs_b(2, 3)\n",
    "    5\n",
    "    >>> a_plus_abs_b(2, -3)\n",
    "    5\n",
    "    \"\"\"\n",
    "    if b < 0:\n",
    "        f = ## INSERT CODE HERE ##\n",
    "    else:\n",
    "        f = ## INSERT CODE HERE ##\n",
    "    return f(a, b)\n"
   ]
  },
  {
   "cell_type": "markdown",
   "metadata": {},
   "source": [
    "### Highest Exponent \n",
    "\n",
    "Write a function that takes in a base and a limit, and returns the highest power the base can be raised to before crossing the limit.  "
   ]
  },
  {
   "cell_type": "code",
   "execution_count": 24,
   "metadata": {
    "collapsed": true
   },
   "outputs": [],
   "source": [
    "def highest_exponent(base, limit):\n",
    "    \"\"\" Returns the highest integer power the \n",
    "    base can be raised to before crossing the limit.\n",
    "\n",
    "    >>> highest_exponent(2, 5)\n",
    "    3\n",
    "    >>> highest_exponent(3, 200)\n",
    "    4\n",
    "    \"\"\"\n",
    "    \n",
    "    ### YOUR CODE HERE ###\n",
    "    "
   ]
  },
  {
   "cell_type": "markdown",
   "metadata": {},
   "source": [
    "### Huh. That's Odd..."
   ]
  },
  {
   "cell_type": "code",
   "execution_count": 27,
   "metadata": {
    "collapsed": true
   },
   "outputs": [],
   "source": [
    "def is_odd(num):\n",
    "    ''' Returns True if number is odd. '''\n",
    "   \n",
    "    ### YOUR CODE HERE ###\n",
    "\n",
    "def select_odd(numbers):\n",
    "    ''' Returns a new list with only the numbers that are odd in the numbers list.\n",
    "    \n",
    "    >>> select_odd([2, 3, 7, 10])\n",
    "    [3, 7]\n",
    "    >>> select_odd([2, 4, 6, 8])\n",
    "    []\n",
    "    '''\n",
    "     ### YOUR CODE HERE ###\n",
    "        "
   ]
  },
  {
   "cell_type": "markdown",
   "metadata": {},
   "source": [
    "## Environment Diagram"
   ]
  },
  {
   "cell_type": "markdown",
   "metadata": {},
   "source": [
    "Please write environment diagrams for the following code below. Remember to take pictures or turn in a hard copy before class on Friday next week!"
   ]
  },
  {
   "cell_type": "markdown",
   "metadata": {},
   "source": [
    "### Problem 1"
   ]
  },
  {
   "cell_type": "code",
   "execution_count": null,
   "metadata": {},
   "outputs": [],
   "source": [
    "shark = 1\n",
    "tornado = 2\n",
    "\n",
    "if shark == tornado:\n",
    "    print('sharknado')\n",
    "elif shark < tornado:\n",
    "    print('shornado')\n",
    "elif not shark < tornado:\n",
    "    print('tornark')\n",
    "else:\n",
    "    print('shordtarko')"
   ]
  },
  {
   "cell_type": "markdown",
   "metadata": {},
   "source": [
    "### Problem 2"
   ]
  },
  {
   "cell_type": "code",
   "execution_count": null,
   "metadata": {},
   "outputs": [],
   "source": [
    "water = 1\n",
    "melon = 2\n",
    "\n",
    "if water == melon:\n",
    "    print('watermelon')\n",
    "    if water > melon:\n",
    "        print('WATERmelon')\n",
    "    else:\n",
    "        print('waterMELON')\n",
    "elif water != melon:\n",
    "    if water !< melon:\n",
    "        print(\"wat?melon\")\n",
    "    else:\n",
    "        print(\"whoatermelon\")\n",
    "else:\n",
    "    print(\"uwu melon\")"
   ]
  },
  {
   "cell_type": "markdown",
   "metadata": {},
   "source": [
    "## Problem 3"
   ]
  },
  {
   "cell_type": "code",
   "execution_count": null,
   "metadata": {},
   "outputs": [],
   "source": [
    "i = 0\n",
    "k = 0\n",
    "\n",
    "while i < 5:\n",
    "    print(i)\n",
    "    if i % 2 == 0:\n",
    "        k += 1\n",
    "    i += 1"
   ]
  }
 ],
 "metadata": {
  "kernelspec": {
   "display_name": "Python 3",
   "language": "python",
   "name": "python3"
  },
  "language_info": {
   "codemirror_mode": {
    "name": "ipython",
    "version": 3
   },
   "file_extension": ".py",
   "mimetype": "text/x-python",
   "name": "python",
   "nbconvert_exporter": "python",
   "pygments_lexer": "ipython3",
   "version": "3.7.3"
  }
 },
 "nbformat": 4,
 "nbformat_minor": 2
}
