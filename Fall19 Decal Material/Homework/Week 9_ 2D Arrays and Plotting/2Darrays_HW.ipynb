{
 "cells": [
  {
   "cell_type": "markdown",
   "metadata": {},
   "source": [
    "# 2D Arrays and 2D Plotting HW"
   ]
  },
  {
   "cell_type": "code",
   "execution_count": null,
   "metadata": {},
   "outputs": [],
   "source": [
    "import numpy as np"
   ]
  },
  {
   "cell_type": "markdown",
   "metadata": {},
   "source": [
    "## Concept Review"
   ]
  },
  {
   "cell_type": "markdown",
   "metadata": {},
   "source": [
    "1. What are some ways to make 2D arrays?"
   ]
  },
  {
   "cell_type": "markdown",
   "metadata": {},
   "source": []
  },
  {
   "cell_type": "markdown",
   "metadata": {},
   "source": [
    "2. What is the rule for reshaping 1D arrays into 2D arrays?"
   ]
  },
  {
   "cell_type": "markdown",
   "metadata": {},
   "source": []
  },
  {
   "cell_type": "markdown",
   "metadata": {},
   "source": [
    "3. What functions allow you to create a large n $\\times$ m 2D array?"
   ]
  },
  {
   "cell_type": "markdown",
   "metadata": {},
   "source": []
  },
  {
   "cell_type": "markdown",
   "metadata": {},
   "source": [
    "4. How does Indexing work for 2D arrays and how is it different from 1D Indexing? In what ways are they similar?"
   ]
  },
  {
   "cell_type": "markdown",
   "metadata": {},
   "source": []
  },
  {
   "cell_type": "markdown",
   "metadata": {},
   "source": [
    "5. How does splicing and striding work with 2D arrays? In what ways is it similar to 1D array splicing and striding?"
   ]
  },
  {
   "cell_type": "markdown",
   "metadata": {},
   "source": []
  },
  {
   "cell_type": "markdown",
   "metadata": {},
   "source": [
    "6. Write a brief description to the following keyword arguments and an example of where you may use it.\n",
    "\n",
    "    a. extent\n",
    "    \n",
    "    b. interpolation\n",
    "    \n",
    "    c. norm"
   ]
  },
  {
   "cell_type": "markdown",
   "metadata": {},
   "source": []
  },
  {
   "cell_type": "markdown",
   "metadata": {},
   "source": [
    "---"
   ]
  },
  {
   "cell_type": "markdown",
   "metadata": {},
   "source": [
    "# Homework Section"
   ]
  },
  {
   "cell_type": "markdown",
   "metadata": {},
   "source": [
    "# 1 \n",
    "Create a $7 \\times 7$ matrix and fill it with a checkers patterns of 1 and 0 using splicing and striding. \n",
    "   Your output should look something like:\n",
    "   \n",
    "    \n",
    "    1 0 1 0 1 0 1 \n",
    "    0 1 0 1 0 1 0 \n",
    "    1 0 1 0 1 0 1 \n",
    "    0 1 0 1 0 1 0 \n",
    "    1 0 1 0 1 0 1 \n",
    "    0 1 0 1 0 1 0 \n",
    "    1 0 1 0 1 0 1 \n",
    "    \n",
    "    or \n",
    "    \n",
    "    0 1 0 1 0 1 0\n",
    "    1 0 1 0 1 0 1\n",
    "    0 1 0 1 0 1 0\n",
    "    1 0 1 0 1 0 1\n",
    "    0 1 0 1 0 1 0\n",
    "    1 0 1 0 1 0 1\n",
    "    0 1 0 1 0 1 0\n",
    "    "
   ]
  },
  {
   "cell_type": "code",
   "execution_count": null,
   "metadata": {},
   "outputs": [],
   "source": []
  },
  {
   "cell_type": "markdown",
   "metadata": {},
   "source": [
    "# 2 \n",
    "Create a $10 \\times 10$ array of zeros and then frame it with a border of ones."
   ]
  },
  {
   "cell_type": "code",
   "execution_count": null,
   "metadata": {},
   "outputs": [],
   "source": []
  },
  {
   "cell_type": "markdown",
   "metadata": {},
   "source": [
    "## 2D Array and Plotting"
   ]
  },
  {
   "cell_type": "code",
   "execution_count": null,
   "metadata": {},
   "outputs": [],
   "source": [
    "import matplotlib.pyplot as plt"
   ]
  },
  {
   "cell_type": "markdown",
   "metadata": {},
   "source": [
    "# 3 \n",
    "\n",
    "Recreate the following 2D array using any method we have learned.\n",
    "\n",
    "\n",
    "    2 2 0 0 0 0 2 2\n",
    "    2 0 5 5 5 5 0 2\n",
    "    0 5 0 5 0 5 5 0\n",
    "    0 5 0 5 0 5 5 0\n",
    "    0 5 5 5 5 0 5 0\n",
    "    0 5 0 0 0 5 5 0\n",
    "    2 0 5 5 5 5 0 2\n",
    "    2 2 0 0 0 0 2 2\n",
    "    \n",
    "Once you have produced this 2D array, plot the array using imshow. For plotting the array use colormap Greys_r, set interpolation to none. What do you see?"
   ]
  },
  {
   "cell_type": "code",
   "execution_count": null,
   "metadata": {},
   "outputs": [],
   "source": []
  },
  {
   "cell_type": "markdown",
   "metadata": {},
   "source": [
    "This problem will test your knowledge of how to read FITS headers to get information that is useful when plotting astronomical images.\n",
    "\n",
    "# 4 \n",
    "\n",
    "Download the Fits files labeled image.fits, once you have the file downloaded use imshow to plot the image inside the file. Also label your axis with real units and make the values sensible. \n",
    "\n",
    "In images like the one in this problem they are typically in (RA,DEC). You can find relevant information regarding the RA and DEC in the header. \n",
    "\n",
    "In this problem mess around with cmap and an interpolation method once you have found the correct axis units. "
   ]
  },
  {
   "cell_type": "code",
   "execution_count": null,
   "metadata": {},
   "outputs": [],
   "source": [
    "#write code here"
   ]
  },
  {
   "cell_type": "code",
   "execution_count": null,
   "metadata": {},
   "outputs": [],
   "source": []
  },
  {
   "cell_type": "markdown",
   "metadata": {},
   "source": [
    "Write with comments or markdown if you're using jupyter notebook to describe what it is that you see in the image and why you chose a specific color map and interpolation method."
   ]
  },
  {
   "cell_type": "markdown",
   "metadata": {},
   "source": []
  }
 ],
 "metadata": {
  "kernelspec": {
   "display_name": "Python 3",
   "language": "python",
   "name": "python3"
  },
  "language_info": {
   "codemirror_mode": {
    "name": "ipython",
    "version": 3
   },
   "file_extension": ".py",
   "mimetype": "text/x-python",
   "name": "python",
   "nbconvert_exporter": "python",
   "pygments_lexer": "ipython3",
   "version": "3.7.1"
  }
 },
 "nbformat": 4,
 "nbformat_minor": 2
}
