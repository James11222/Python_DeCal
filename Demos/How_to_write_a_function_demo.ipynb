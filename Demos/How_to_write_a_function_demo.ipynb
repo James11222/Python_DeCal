{
 "cells": [
  {
   "cell_type": "markdown",
   "metadata": {},
   "source": [
    "# How to write a function\n",
    "\n",
    "Lets write a function for the Surface Area of a Sphere:\n",
    "\n",
    "$ A = 4\\pi r^2 $"
   ]
  },
  {
   "cell_type": "code",
   "execution_count": 2,
   "metadata": {},
   "outputs": [
    {
     "data": {
      "text/plain": [
       "208.4"
      ]
     },
     "execution_count": 2,
     "metadata": {},
     "output_type": "execute_result"
    }
   ],
   "source": [
    "def square(x):\n",
    "    y = x**2\n",
    "    return y\n",
    "\n",
    "pi = 3.14\n",
    "\n",
    "def surface_area(radius):\n",
    "    A = 4 * pi * radius**2 #radius in terms of meters\n",
    "    return A\n",
    "\n",
    "surface_area(2)\n",
    "\n",
    "def convert_temp(T):\n",
    "    temp = T*9/5 + 32\n",
    "    return temp\n",
    "\n",
    "convert_temp(98)"
   ]
  },
  {
   "cell_type": "code",
   "execution_count": 3,
   "metadata": {},
   "outputs": [],
   "source": [
    "def flip(word):\n",
    "    flipped = word[::-1]\n",
    "    return flipped\n",
    "\n",
    "def quadratic(a,b,c,x):\n",
    "    y = a*x**2 + b*x + c\n",
    "    return y\n"
   ]
  },
  {
   "cell_type": "markdown",
   "metadata": {},
   "source": [
    "# Import Statements"
   ]
  },
  {
   "cell_type": "code",
   "execution_count": null,
   "metadata": {},
   "outputs": [],
   "source": [
    "import math\n",
    "# import math as m\n",
    "\n",
    "math.cos(1)"
   ]
  },
  {
   "cell_type": "code",
   "execution_count": 4,
   "metadata": {},
   "outputs": [],
   "source": [
    "help(math)"
   ]
  },
  {
   "cell_type": "markdown",
   "metadata": {},
   "source": [
    "# Possibilities of what functions can do without input/fun example"
   ]
  },
  {
   "cell_type": "code",
   "execution_count": 5,
   "metadata": {},
   "outputs": [],
   "source": [
    "from os import system\n",
    "\n",
    "def playmario():\n",
    "    cmd = 'musicalbeeps Mario.txt'\n",
    "    system(cmd)\n",
    "    return None\n",
    "    \n",
    "playmario()"
   ]
  },
  {
   "cell_type": "code",
   "execution_count": 5,
   "metadata": {},
   "outputs": [
    {
     "data": {
      "text/plain": [
       "0.5403023058681398"
      ]
     },
     "execution_count": 5,
     "metadata": {},
     "output_type": "execute_result"
    }
   ],
   "source": []
  },
  {
   "cell_type": "code",
   "execution_count": null,
   "metadata": {},
   "outputs": [],
   "source": []
  },
  {
   "cell_type": "code",
   "execution_count": null,
   "metadata": {},
   "outputs": [],
   "source": [
    "import random"
   ]
  },
  {
   "cell_type": "code",
   "execution_count": 41,
   "metadata": {},
   "outputs": [
    {
     "name": "stdout",
     "output_type": "stream",
     "text": [
      "10\n"
     ]
    }
   ],
   "source": [
    "x = 10\n",
    "print(x)"
   ]
  },
  {
   "cell_type": "code",
   "execution_count": 44,
   "metadata": {},
   "outputs": [
    {
     "name": "stdout",
     "output_type": "stream",
     "text": [
      "20\n"
     ]
    }
   ],
   "source": [
    "y = 2*x\n",
    "print(y)"
   ]
  },
  {
   "cell_type": "code",
   "execution_count": 43,
   "metadata": {},
   "outputs": [
    {
     "name": "stdout",
     "output_type": "stream",
     "text": [
      "30\n"
     ]
    }
   ],
   "source": [
    "z = y + x\n",
    "print(z)"
   ]
  },
  {
   "cell_type": "code",
   "execution_count": 16,
   "metadata": {},
   "outputs": [
    {
     "name": "stdout",
     "output_type": "stream",
     "text": [
      "Please give me your guess of what the die value is: 4\n",
      "Rolling a die .....\n",
      "Sorry... Try again\n",
      "Please give me your guess of what the die value is: 4\n",
      "Rolling a die .....\n",
      "Sorry... Try again\n",
      "Please give me your guess of what the die value is: 4\n",
      "Rolling a die .....\n",
      "Sorry... Try again\n",
      "Please give me your guess of what the die value is: 4\n",
      "Rolling a die .....\n",
      "Sorry... Try again\n",
      "Please give me your guess of what the die value is: 4\n",
      "Rolling a die .....\n",
      "Sorry... Try again\n",
      "Please give me your guess of what the die value is: 4\n",
      "Rolling a die .....\n",
      "Sorry... Try again\n",
      "Please give me your guess of what the die value is: 4\n",
      "Rolling a die .....\n",
      "Sorry... Try again\n",
      "Please give me your guess of what the die value is: 4\n",
      "Rolling a die .....\n",
      "Sorry... Try again\n",
      "Please give me your guess of what the die value is: 4\n",
      "Rolling a die .....\n",
      "Sorry... Try again\n",
      "Please give me your guess of what the die value is: 4\n",
      "Rolling a die .....\n",
      "Congratulations you guessed correctly!\n"
     ]
    }
   ],
   "source": [
    "guess = 0\n",
    "value = random.randint(1,6)\n",
    "\n",
    "while guess != value:\n",
    "    value = str(random.randint(1,6))\n",
    "    guess = input(\"Please give me your guess of what the die value is: \")\n",
    "    if (guess == value):\n",
    "        print(\"Rolling a die .....\")\n",
    "        print(\"Congratulations you guessed correctly!\")\n",
    "    elif guess == 'quit':\n",
    "        break\n",
    "    else:\n",
    "        print(\"Rolling a die .....\")\n",
    "        print(\"Sorry... Try again\")"
   ]
  },
  {
   "cell_type": "markdown",
   "metadata": {},
   "source": [
    "#### "
   ]
  },
  {
   "cell_type": "code",
   "execution_count": null,
   "metadata": {},
   "outputs": [],
   "source": [
    "def factorial(n):\n",
    "    if n == 1:\n",
    "        return 1\n",
    "    else:\n",
    "        return (n * factorial(n - 1))"
   ]
  }
 ],
 "metadata": {
  "kernelspec": {
   "display_name": "Python 3",
   "language": "python",
   "name": "python3"
  },
  "language_info": {
   "codemirror_mode": {
    "name": "ipython",
    "version": 3
   },
   "file_extension": ".py",
   "mimetype": "text/x-python",
   "name": "python",
   "nbconvert_exporter": "python",
   "pygments_lexer": "ipython3",
   "version": "3.7.3"
  }
 },
 "nbformat": 4,
 "nbformat_minor": 4
}
