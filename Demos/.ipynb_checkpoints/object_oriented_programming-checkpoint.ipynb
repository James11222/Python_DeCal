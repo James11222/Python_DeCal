{
 "cells": [
  {
   "cell_type": "code",
   "execution_count": 16,
   "id": "fitting-thesis",
   "metadata": {},
   "outputs": [],
   "source": [
    "import math as m\n",
    "import numpy as np"
   ]
  },
  {
   "cell_type": "code",
   "execution_count": 2,
   "id": "scientific-vertical",
   "metadata": {},
   "outputs": [],
   "source": [
    "class Vector:\n",
    "    def __init__(self, x, y):\n",
    "        self.x = x\n",
    "        self.y = y\n",
    "    #all the properties of vectors and the tools we can use with them. We could use numpy, but this made more intuitive sense to make our own\n",
    "    #class, and rewrite our own operators. It is nice to stay consistent with the class and object style from before with the balls.\n",
    "    def len(self):\n",
    "        return math.sqrt(self.x*self.x + self.y*self.y)\n",
    "    def __add__(self, other):\n",
    "        return Vector(self.x + other.x, self.y + other.y)\n",
    "    def __sub__(self, other):\n",
    "        return Vector(self.x - other.x, self.y - other.y)\n",
    "    def __mul__(self, other):\n",
    "        return Vector(self.x * other, self.y * other)\n",
    "    def __rmul__(self, other):\n",
    "        return Vector(self.x * other, self.y * other)\n",
    "    def __truediv__(self, other):\n",
    "        return Vector(self.x / other, self.y / other)\n",
    "    def angle(self):\n",
    "        return math.atan2(self.y, self.x)\n",
    "    def norm(self):\n",
    "        if self.x == 0 and self.y == 0:\n",
    "            return Vector(0, 0)\n",
    "        return self / self.len()\n",
    "    def dot(self, other):\n",
    "        return self.x*other.x + self.y*other.y"
   ]
  },
  {
   "cell_type": "code",
   "execution_count": 5,
   "id": "royal-lexington",
   "metadata": {},
   "outputs": [
    {
     "data": {
      "text/plain": [
       "24"
      ]
     },
     "execution_count": 5,
     "metadata": {},
     "output_type": "execute_result"
    }
   ],
   "source": [
    "Position1 = Vector(2,3)\n",
    "Position2 = Vector(3,6)\n",
    "\n",
    "Position1.dot(Position2)\n",
    "Position2.dot(Position1)"
   ]
  },
  {
   "cell_type": "code",
   "execution_count": 7,
   "id": "single-interim",
   "metadata": {},
   "outputs": [
    {
     "data": {
      "text/plain": [
       "0.982793723247329"
      ]
     },
     "execution_count": 7,
     "metadata": {},
     "output_type": "execute_result"
    }
   ],
   "source": [
    "Position1.angle()"
   ]
  },
  {
   "cell_type": "code",
   "execution_count": 8,
   "id": "intellectual-crest",
   "metadata": {},
   "outputs": [],
   "source": [
    "Total = Position1 + Position2"
   ]
  },
  {
   "cell_type": "code",
   "execution_count": 11,
   "id": "front-durham",
   "metadata": {},
   "outputs": [
    {
     "name": "stdout",
     "output_type": "stream",
     "text": [
      "5 9\n"
     ]
    }
   ],
   "source": [
    "print(Total.x, Total.y)"
   ]
  },
  {
   "cell_type": "code",
   "execution_count": 18,
   "id": "assumed-wheat",
   "metadata": {},
   "outputs": [],
   "source": [
    "class Planet:\n",
    "    def __init__(self,position,velocity,rotation):\n",
    "        self.position = position\n",
    "        self.velocity = velocity\n",
    "        self.rotation = rotation"
   ]
  },
  {
   "cell_type": "code",
   "execution_count": 19,
   "id": "tight-clark",
   "metadata": {},
   "outputs": [],
   "source": [
    "Mercury = Planet(Vector(2,3), Vector(0,0), 2*np.pi)"
   ]
  },
  {
   "cell_type": "code",
   "execution_count": 20,
   "id": "superior-xerox",
   "metadata": {},
   "outputs": [
    {
     "data": {
      "text/plain": [
       "__main__.Planet"
      ]
     },
     "execution_count": 20,
     "metadata": {},
     "output_type": "execute_result"
    }
   ],
   "source": [
    "type(Mercury)"
   ]
  },
  {
   "cell_type": "code",
   "execution_count": 31,
   "id": "antique-brazil",
   "metadata": {},
   "outputs": [],
   "source": [
    "class Human: \n",
    "    def __init__(self, age, height):\n",
    "        self.age = age\n",
    "        self.height = height\n",
    "        \n",
    "    def grow(self):\n",
    "        if self.height < 72:\n",
    "            self.height += 1\n",
    "            self.age += 1\n",
    "        else:\n",
    "            self.age += 1"
   ]
  },
  {
   "cell_type": "code",
   "execution_count": 33,
   "id": "spectacular-robinson",
   "metadata": {},
   "outputs": [],
   "source": [
    "James = Human(1,20)"
   ]
  },
  {
   "cell_type": "code",
   "execution_count": 34,
   "id": "miniature-trigger",
   "metadata": {},
   "outputs": [
    {
     "name": "stdout",
     "output_type": "stream",
     "text": [
      "At the age of 1 James was 20 inches tall\n",
      "At the age of 2 James was 21 inches tall\n",
      "At the age of 3 James was 22 inches tall\n",
      "At the age of 4 James was 23 inches tall\n",
      "At the age of 5 James was 24 inches tall\n",
      "At the age of 6 James was 25 inches tall\n",
      "At the age of 7 James was 26 inches tall\n",
      "At the age of 8 James was 27 inches tall\n",
      "At the age of 9 James was 28 inches tall\n",
      "At the age of 10 James was 29 inches tall\n",
      "At the age of 11 James was 30 inches tall\n",
      "At the age of 12 James was 31 inches tall\n",
      "At the age of 13 James was 32 inches tall\n",
      "At the age of 14 James was 33 inches tall\n",
      "At the age of 15 James was 34 inches tall\n",
      "At the age of 16 James was 35 inches tall\n",
      "At the age of 17 James was 36 inches tall\n",
      "At the age of 18 James was 37 inches tall\n",
      "At the age of 19 James was 38 inches tall\n",
      "At the age of 20 James was 39 inches tall\n",
      "At the age of 21 James was 40 inches tall\n",
      "At the age of 22 James was 41 inches tall\n",
      "At the age of 23 James was 42 inches tall\n",
      "At the age of 24 James was 43 inches tall\n",
      "At the age of 25 James was 44 inches tall\n",
      "At the age of 26 James was 45 inches tall\n",
      "At the age of 27 James was 46 inches tall\n",
      "At the age of 28 James was 47 inches tall\n",
      "At the age of 29 James was 48 inches tall\n",
      "At the age of 30 James was 49 inches tall\n",
      "At the age of 31 James was 50 inches tall\n",
      "At the age of 32 James was 51 inches tall\n",
      "At the age of 33 James was 52 inches tall\n",
      "At the age of 34 James was 53 inches tall\n",
      "At the age of 35 James was 54 inches tall\n",
      "At the age of 36 James was 55 inches tall\n",
      "At the age of 37 James was 56 inches tall\n",
      "At the age of 38 James was 57 inches tall\n",
      "At the age of 39 James was 58 inches tall\n",
      "At the age of 40 James was 59 inches tall\n",
      "At the age of 41 James was 60 inches tall\n",
      "At the age of 42 James was 61 inches tall\n",
      "At the age of 43 James was 62 inches tall\n",
      "At the age of 44 James was 63 inches tall\n",
      "At the age of 45 James was 64 inches tall\n",
      "At the age of 46 James was 65 inches tall\n",
      "At the age of 47 James was 66 inches tall\n",
      "At the age of 48 James was 67 inches tall\n",
      "At the age of 49 James was 68 inches tall\n",
      "At the age of 50 James was 69 inches tall\n",
      "At the age of 51 James was 70 inches tall\n",
      "At the age of 52 James was 71 inches tall\n",
      "At the age of 53 James was 72 inches tall\n",
      "At the age of 54 James was 72 inches tall\n",
      "At the age of 55 James was 72 inches tall\n",
      "At the age of 56 James was 72 inches tall\n",
      "At the age of 57 James was 72 inches tall\n",
      "At the age of 58 James was 72 inches tall\n",
      "At the age of 59 James was 72 inches tall\n",
      "At the age of 60 James was 72 inches tall\n",
      "At the age of 61 James was 72 inches tall\n",
      "At the age of 62 James was 72 inches tall\n",
      "At the age of 63 James was 72 inches tall\n",
      "At the age of 64 James was 72 inches tall\n",
      "At the age of 65 James was 72 inches tall\n",
      "At the age of 66 James was 72 inches tall\n",
      "At the age of 67 James was 72 inches tall\n",
      "At the age of 68 James was 72 inches tall\n",
      "At the age of 69 James was 72 inches tall\n",
      "At the age of 70 James was 72 inches tall\n",
      "At the age of 71 James was 72 inches tall\n",
      "At the age of 72 James was 72 inches tall\n",
      "At the age of 73 James was 72 inches tall\n",
      "At the age of 74 James was 72 inches tall\n",
      "At the age of 75 James was 72 inches tall\n",
      "At the age of 76 James was 72 inches tall\n",
      "At the age of 77 James was 72 inches tall\n",
      "At the age of 78 James was 72 inches tall\n",
      "At the age of 79 James was 72 inches tall\n",
      "At the age of 80 James was 72 inches tall\n",
      "At the age of 81 James was 72 inches tall\n",
      "At the age of 82 James was 72 inches tall\n",
      "At the age of 83 James was 72 inches tall\n",
      "At the age of 84 James was 72 inches tall\n",
      "At the age of 85 James was 72 inches tall\n",
      "At the age of 86 James was 72 inches tall\n",
      "At the age of 87 James was 72 inches tall\n",
      "At the age of 88 James was 72 inches tall\n",
      "At the age of 89 James was 72 inches tall\n",
      "At the age of 90 James was 72 inches tall\n",
      "At the age of 91 James was 72 inches tall\n",
      "At the age of 92 James was 72 inches tall\n",
      "At the age of 93 James was 72 inches tall\n",
      "At the age of 94 James was 72 inches tall\n",
      "At the age of 95 James was 72 inches tall\n",
      "At the age of 96 James was 72 inches tall\n",
      "At the age of 97 James was 72 inches tall\n",
      "At the age of 98 James was 72 inches tall\n",
      "At the age of 99 James was 72 inches tall\n",
      "At the age of 100 James was 72 inches tall\n"
     ]
    }
   ],
   "source": [
    "year = 0\n",
    "\n",
    "while year < 100:\n",
    "    print(\"At the age of {0:0.0f} James was {1:0.0f} inches tall\".format(James.age,James.height))\n",
    "    James.grow()\n",
    "    year += 1"
   ]
  },
  {
   "cell_type": "code",
   "execution_count": null,
   "id": "fundamental-turkish",
   "metadata": {},
   "outputs": [],
   "source": []
  }
 ],
 "metadata": {
  "kernelspec": {
   "display_name": "Python 3",
   "language": "python",
   "name": "python3"
  },
  "language_info": {
   "codemirror_mode": {
    "name": "ipython",
    "version": 3
   },
   "file_extension": ".py",
   "mimetype": "text/x-python",
   "name": "python",
   "nbconvert_exporter": "python",
   "pygments_lexer": "ipython3",
   "version": "3.7.3"
  }
 },
 "nbformat": 4,
 "nbformat_minor": 5
}
