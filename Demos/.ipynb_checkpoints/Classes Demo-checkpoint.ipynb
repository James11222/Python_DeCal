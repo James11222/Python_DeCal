{
 "cells": [
  {
   "cell_type": "code",
   "execution_count": 17,
   "metadata": {},
   "outputs": [],
   "source": [
    "import math\n",
    "import numpy as np"
   ]
  },
  {
   "cell_type": "code",
   "execution_count": 10,
   "metadata": {},
   "outputs": [],
   "source": [
    "class Vector:\n",
    "    def __init__(self, x, y):\n",
    "        self.x = x\n",
    "        self.y = y\n",
    "    #all the properties of vectors and the tools we can use with them. We could use numpy, but this made more intuitive sense to make our own\n",
    "    #class, and rewrite our own operators. It is nice to stay consistent with the class and object style from before with the balls.\n",
    "    def len(self):\n",
    "        return math.sqrt(self.x*self.x + self.y*self.y)\n",
    "    def __add__(self, other):\n",
    "        return Vector(self.x + other.x, self.y + other.y)\n",
    "    def __sub__(self, other):\n",
    "        return Vector(self.x - other.x, self.y - other.y)\n",
    "    def __mul__(self, other):\n",
    "        return Vector(self.x * other, self.y * other)\n",
    "    def __rmul__(self, other):\n",
    "        return Vector(self.x * other, self.y * other)\n",
    "    def __truediv__(self, other):\n",
    "        return Vector(self.x / other, self.y / other)\n",
    "    def angle(self):\n",
    "        return math.atan2(self.y, self.x)\n",
    "    def norm(self):\n",
    "        if self.x == 0 and self.y == 0:\n",
    "            return Vector(0, 0)\n",
    "        return self / self.len()\n",
    "    def dot(self, other):\n",
    "        return self.x*other.x + self.y*other.y"
   ]
  },
  {
   "cell_type": "code",
   "execution_count": 12,
   "metadata": {},
   "outputs": [
    {
     "data": {
      "text/plain": [
       "24"
      ]
     },
     "execution_count": 12,
     "metadata": {},
     "output_type": "execute_result"
    }
   ],
   "source": [
    "Position1 = Vector(2,3)\n",
    "Position2 = Vector(3,6)\n",
    "\n",
    "Position1.dot(Position2)"
   ]
  },
  {
   "cell_type": "code",
   "execution_count": 13,
   "metadata": {},
   "outputs": [
    {
     "data": {
      "text/plain": [
       "0.982793723247329"
      ]
     },
     "execution_count": 13,
     "metadata": {},
     "output_type": "execute_result"
    }
   ],
   "source": [
    "Position1.angle()"
   ]
  },
  {
   "cell_type": "code",
   "execution_count": 14,
   "metadata": {},
   "outputs": [],
   "source": [
    "Total = Position1 + Position2"
   ]
  },
  {
   "cell_type": "code",
   "execution_count": 15,
   "metadata": {},
   "outputs": [
    {
     "data": {
      "text/plain": [
       "5"
      ]
     },
     "execution_count": 15,
     "metadata": {},
     "output_type": "execute_result"
    }
   ],
   "source": [
    "Total.x"
   ]
  },
  {
   "cell_type": "code",
   "execution_count": 16,
   "metadata": {},
   "outputs": [
    {
     "data": {
      "text/plain": [
       "9"
      ]
     },
     "execution_count": 16,
     "metadata": {},
     "output_type": "execute_result"
    }
   ],
   "source": [
    "Total.y"
   ]
  },
  {
   "cell_type": "code",
   "execution_count": 19,
   "metadata": {},
   "outputs": [],
   "source": [
    "class Planet:\n",
    "    def __init__(self, position, velocity, rotation):\n",
    "        #Position and Velocity are vector objects from the vector class\n",
    "        self.position = position\n",
    "        self.velocity = velocity\n",
    "        self.rotation = rotation\n",
    "        \n"
   ]
  },
  {
   "cell_type": "code",
   "execution_count": 20,
   "metadata": {},
   "outputs": [],
   "source": [
    "Mercury = Planet(Vector(2,3), Vector(0,0), 2*np.pi) "
   ]
  },
  {
   "cell_type": "code",
   "execution_count": 21,
   "metadata": {},
   "outputs": [
    {
     "data": {
      "text/plain": [
       "__main__.Planet"
      ]
     },
     "execution_count": 21,
     "metadata": {},
     "output_type": "execute_result"
    }
   ],
   "source": [
    "type(Mercury)"
   ]
  },
  {
   "cell_type": "code",
   "execution_count": 31,
   "metadata": {},
   "outputs": [],
   "source": [
    "class Human:\n",
    "    def __init__(self, age, height):\n",
    "        self.age = age\n",
    "        self.height = height\n",
    "        \n",
    "    def grow(self):\n",
    "        if self.height < 72: \n",
    "            self.height += 1\n",
    "            self.age += 1\n",
    "        else:\n",
    "            self.age += 1\n",
    "\n",
    "\n",
    "James = Human(1,20)"
   ]
  },
  {
   "cell_type": "code",
   "execution_count": 35,
   "metadata": {},
   "outputs": [
    {
     "data": {
      "text/plain": [
       "__main__.Human"
      ]
     },
     "execution_count": 35,
     "metadata": {},
     "output_type": "execute_result"
    }
   ],
   "source": [
    "type(James)"
   ]
  },
  {
   "cell_type": "code",
   "execution_count": 36,
   "metadata": {},
   "outputs": [
    {
     "name": "stdout",
     "output_type": "stream",
     "text": [
      "At the age of 101 James was 72 inches tall\n",
      "At the age of 101 James was 72 inches tall\n",
      "At the age of 101 James was 72 inches tall\n",
      "At the age of 101 James was 72 inches tall\n",
      "At the age of 101 James was 72 inches tall\n",
      "At the age of 101 James was 72 inches tall\n",
      "At the age of 101 James was 72 inches tall\n",
      "At the age of 101 James was 72 inches tall\n",
      "At the age of 101 James was 72 inches tall\n",
      "At the age of 101 James was 72 inches tall\n",
      "At the age of 101 James was 72 inches tall\n",
      "At the age of 101 James was 72 inches tall\n",
      "At the age of 101 James was 72 inches tall\n",
      "At the age of 101 James was 72 inches tall\n",
      "At the age of 101 James was 72 inches tall\n",
      "At the age of 101 James was 72 inches tall\n",
      "At the age of 101 James was 72 inches tall\n",
      "At the age of 101 James was 72 inches tall\n",
      "At the age of 101 James was 72 inches tall\n",
      "At the age of 101 James was 72 inches tall\n",
      "At the age of 101 James was 72 inches tall\n",
      "At the age of 101 James was 72 inches tall\n",
      "At the age of 101 James was 72 inches tall\n",
      "At the age of 101 James was 72 inches tall\n",
      "At the age of 101 James was 72 inches tall\n",
      "At the age of 101 James was 72 inches tall\n",
      "At the age of 101 James was 72 inches tall\n",
      "At the age of 101 James was 72 inches tall\n",
      "At the age of 101 James was 72 inches tall\n",
      "At the age of 101 James was 72 inches tall\n",
      "At the age of 101 James was 72 inches tall\n",
      "At the age of 101 James was 72 inches tall\n",
      "At the age of 101 James was 72 inches tall\n",
      "At the age of 101 James was 72 inches tall\n",
      "At the age of 101 James was 72 inches tall\n",
      "At the age of 101 James was 72 inches tall\n",
      "At the age of 101 James was 72 inches tall\n",
      "At the age of 101 James was 72 inches tall\n",
      "At the age of 101 James was 72 inches tall\n",
      "At the age of 101 James was 72 inches tall\n",
      "At the age of 101 James was 72 inches tall\n",
      "At the age of 101 James was 72 inches tall\n",
      "At the age of 101 James was 72 inches tall\n",
      "At the age of 101 James was 72 inches tall\n",
      "At the age of 101 James was 72 inches tall\n",
      "At the age of 101 James was 72 inches tall\n",
      "At the age of 101 James was 72 inches tall\n",
      "At the age of 101 James was 72 inches tall\n",
      "At the age of 101 James was 72 inches tall\n",
      "At the age of 101 James was 72 inches tall\n",
      "At the age of 101 James was 72 inches tall\n",
      "At the age of 101 James was 72 inches tall\n",
      "At the age of 101 James was 72 inches tall\n",
      "At the age of 101 James was 72 inches tall\n",
      "At the age of 101 James was 72 inches tall\n",
      "At the age of 101 James was 72 inches tall\n",
      "At the age of 101 James was 72 inches tall\n",
      "At the age of 101 James was 72 inches tall\n",
      "At the age of 101 James was 72 inches tall\n",
      "At the age of 101 James was 72 inches tall\n",
      "At the age of 101 James was 72 inches tall\n",
      "At the age of 101 James was 72 inches tall\n",
      "At the age of 101 James was 72 inches tall\n",
      "At the age of 101 James was 72 inches tall\n",
      "At the age of 101 James was 72 inches tall\n",
      "At the age of 101 James was 72 inches tall\n",
      "At the age of 101 James was 72 inches tall\n",
      "At the age of 101 James was 72 inches tall\n",
      "At the age of 101 James was 72 inches tall\n",
      "At the age of 101 James was 72 inches tall\n",
      "At the age of 101 James was 72 inches tall\n",
      "At the age of 101 James was 72 inches tall\n",
      "At the age of 101 James was 72 inches tall\n",
      "At the age of 101 James was 72 inches tall\n",
      "At the age of 101 James was 72 inches tall\n",
      "At the age of 101 James was 72 inches tall\n",
      "At the age of 101 James was 72 inches tall\n",
      "At the age of 101 James was 72 inches tall\n",
      "At the age of 101 James was 72 inches tall\n",
      "At the age of 101 James was 72 inches tall\n",
      "At the age of 101 James was 72 inches tall\n",
      "At the age of 101 James was 72 inches tall\n",
      "At the age of 101 James was 72 inches tall\n",
      "At the age of 101 James was 72 inches tall\n",
      "At the age of 101 James was 72 inches tall\n",
      "At the age of 101 James was 72 inches tall\n",
      "At the age of 101 James was 72 inches tall\n",
      "At the age of 101 James was 72 inches tall\n",
      "At the age of 101 James was 72 inches tall\n",
      "At the age of 101 James was 72 inches tall\n",
      "At the age of 101 James was 72 inches tall\n",
      "At the age of 101 James was 72 inches tall\n",
      "At the age of 101 James was 72 inches tall\n",
      "At the age of 101 James was 72 inches tall\n",
      "At the age of 101 James was 72 inches tall\n",
      "At the age of 101 James was 72 inches tall\n",
      "At the age of 101 James was 72 inches tall\n",
      "At the age of 101 James was 72 inches tall\n",
      "At the age of 101 James was 72 inches tall\n",
      "At the age of 101 James was 72 inches tall\n"
     ]
    }
   ],
   "source": [
    "year = 0\n",
    "\n",
    "while year < 100:\n",
    "    print(\"At the age of {0:0.0f} James was {1:0.0f} inches tall\".format(James.age,James.height))\n",
    "    year += 1"
   ]
  },
  {
   "cell_type": "code",
   "execution_count": null,
   "metadata": {},
   "outputs": [],
   "source": [
    "def spawn_objects(N):\n",
    "    \n",
    "    for i in range(N):\n",
    "        "
   ]
  }
 ],
 "metadata": {
  "kernelspec": {
   "display_name": "Python 3",
   "language": "python",
   "name": "python3"
  },
  "language_info": {
   "codemirror_mode": {
    "name": "ipython",
    "version": 3
   },
   "file_extension": ".py",
   "mimetype": "text/x-python",
   "name": "python",
   "nbconvert_exporter": "python",
   "pygments_lexer": "ipython3",
   "version": "3.7.3"
  }
 },
 "nbformat": 4,
 "nbformat_minor": 4
}
