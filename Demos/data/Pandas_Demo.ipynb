{
 "cells": [
  {
   "cell_type": "markdown",
   "id": "corrected-brave",
   "metadata": {},
   "source": [
    "## Pandas Demo"
   ]
  },
  {
   "cell_type": "code",
   "execution_count": null,
   "id": "hidden-aruba",
   "metadata": {},
   "outputs": [],
   "source": [
    "import pandas as pd\n",
    "import numpy as np\n",
    "import matplotlib.pyplot as plt\n",
    "\n",
    "# plt.rcParams['mathtext.fontset'] = 'stix'\n",
    "# plt.rcParams['font.family'] = 'STIXGeneral'\n",
    "# plt.rcParams['font.size'] = 22"
   ]
  },
  {
   "cell_type": "markdown",
   "id": "lasting-prophet",
   "metadata": {},
   "source": [
    "## We will see just how easy it makes our lives!"
   ]
  },
  {
   "cell_type": "code",
   "execution_count": null,
   "id": "disciplinary-economics",
   "metadata": {},
   "outputs": [],
   "source": [
    "#load in data#"
   ]
  },
  {
   "cell_type": "code",
   "execution_count": null,
   "id": "quantitative-tours",
   "metadata": {},
   "outputs": [],
   "source": [
    "#plot data"
   ]
  },
  {
   "cell_type": "markdown",
   "id": "complete-legislation",
   "metadata": {},
   "source": [
    "## Now lets create and store our own files with pandas!"
   ]
  },
  {
   "cell_type": "code",
   "execution_count": null,
   "id": "under-external",
   "metadata": {},
   "outputs": [],
   "source": [
    "#create data frame with months and their corresponding indeces"
   ]
  },
  {
   "cell_type": "code",
   "execution_count": null,
   "id": "mysterious-palace",
   "metadata": {},
   "outputs": [],
   "source": [
    "#Let's Save the DataFrame!\n"
   ]
  },
  {
   "cell_type": "code",
   "execution_count": null,
   "id": "38472019",
   "metadata": {},
   "outputs": [],
   "source": []
  }
 ],
 "metadata": {
  "kernelspec": {
   "display_name": "Python 3 (ipykernel)",
   "language": "python",
   "name": "python3"
  },
  "language_info": {
   "codemirror_mode": {
    "name": "ipython",
    "version": 3
   },
   "file_extension": ".py",
   "mimetype": "text/x-python",
   "name": "python",
   "nbconvert_exporter": "python",
   "pygments_lexer": "ipython3",
   "version": "3.9.9"
  }
 },
 "nbformat": 4,
 "nbformat_minor": 5
}
