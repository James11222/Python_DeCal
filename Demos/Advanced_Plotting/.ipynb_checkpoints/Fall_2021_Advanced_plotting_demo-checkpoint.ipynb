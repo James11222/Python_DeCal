{
 "cells": [
  {
   "cell_type": "markdown",
   "id": "forward-rogers",
   "metadata": {},
   "source": [
    "### Preamble"
   ]
  },
  {
   "cell_type": "code",
   "execution_count": 4,
   "id": "shaped-attraction",
   "metadata": {},
   "outputs": [],
   "source": [
    "import numpy as np\n",
    "import matplotlib.pyplot as plt\n",
    "%matplotlib inline"
   ]
  },
  {
   "cell_type": "markdown",
   "id": "precise-present",
   "metadata": {},
   "source": [
    "## Starting Simple\n",
    "\n",
    "For the first exercise we will simply plot 3D data using `plt.imshow`. Let's use what we just learned on the homework, a checkerboard!"
   ]
  },
  {
   "cell_type": "code",
   "execution_count": 3,
   "id": "unnecessary-consolidation",
   "metadata": {},
   "outputs": [
    {
     "name": "stdout",
     "output_type": "stream",
     "text": [
      "[[1 0 1 0 1 0 1 0]\n",
      " [0 1 0 1 0 1 0 1]\n",
      " [1 0 1 0 1 0 1 0]\n",
      " [0 1 0 1 0 1 0 1]\n",
      " [1 0 1 0 1 0 1 0]\n",
      " [0 1 0 1 0 1 0 1]\n",
      " [1 0 1 0 1 0 1 0]\n",
      " [0 1 0 1 0 1 0 1]]\n"
     ]
    }
   ],
   "source": [
    "#create a 2D checkerboard array using the code we wrote in HW3\n",
    "#checkerboard = ...\n",
    "\n",
    "checkerboard = np.ones((8,8), dtype = int)\n",
    "checkerboard[1::2,::2] = 0\n",
    "checkerboard[::2,1::2] = 0\n",
    "print(checkerboard)"
   ]
  },
  {
   "cell_type": "code",
   "execution_count": null,
   "id": "charming-tackle",
   "metadata": {},
   "outputs": [],
   "source": [
    "#plot checkerboard\n",
    "plt.figure(figsize=(6,6))\n"
   ]
  },
  {
   "cell_type": "markdown",
   "id": "ancient-geography",
   "metadata": {},
   "source": [
    "## Plotting Continuous 3D Functions\n",
    "\n",
    "let's plot a function $f(x,y)$ that we may come across in multivariable calculus for example"
   ]
  },
  {
   "cell_type": "code",
   "execution_count": null,
   "id": "organizational-taylor",
   "metadata": {},
   "outputs": [],
   "source": [
    "# create x and y grid for our function\n",
    "\n",
    "# write multivariable function\n",
    "\n",
    "# plot using imshow()"
   ]
  },
  {
   "cell_type": "markdown",
   "id": "short-confidence",
   "metadata": {},
   "source": [
    "## Plotting Data\n",
    "\n",
    "we can also plot data from data files like we saw in previous lectures/hw"
   ]
  },
  {
   "cell_type": "code",
   "execution_count": null,
   "id": "centered-treat",
   "metadata": {},
   "outputs": [],
   "source": [
    "#load in data\n",
    "\n",
    "#plot data"
   ]
  },
  {
   "cell_type": "markdown",
   "id": "falling-spectrum",
   "metadata": {},
   "source": [
    "## Making Subplots"
   ]
  },
  {
   "cell_type": "code",
   "execution_count": null,
   "id": "conservative-market",
   "metadata": {},
   "outputs": [],
   "source": [
    "# make x, y1, y2\n",
    "\n",
    "# initialize figure\n",
    "\n",
    "# fill figure with subplots"
   ]
  },
  {
   "cell_type": "code",
   "execution_count": null,
   "id": "conditional-boutique",
   "metadata": {},
   "outputs": [],
   "source": []
  }
 ],
 "metadata": {
  "kernelspec": {
   "display_name": "Python 3",
   "language": "python",
   "name": "python3"
  },
  "language_info": {
   "codemirror_mode": {
    "name": "ipython",
    "version": 3
   },
   "file_extension": ".py",
   "mimetype": "text/x-python",
   "name": "python",
   "nbconvert_exporter": "python",
   "pygments_lexer": "ipython3",
   "version": "3.7.3"
  }
 },
 "nbformat": 4,
 "nbformat_minor": 5
}
