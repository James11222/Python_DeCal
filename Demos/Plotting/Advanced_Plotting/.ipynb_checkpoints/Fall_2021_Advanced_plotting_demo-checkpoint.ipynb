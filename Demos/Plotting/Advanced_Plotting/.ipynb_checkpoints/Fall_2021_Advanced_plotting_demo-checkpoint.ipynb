{
 "cells": [
  {
   "cell_type": "markdown",
   "id": "forward-rogers",
   "metadata": {},
   "source": [
    "### Preamble"
   ]
  },
  {
   "cell_type": "code",
   "execution_count": 4,
   "id": "shaped-attraction",
   "metadata": {},
   "outputs": [],
   "source": [
    "import numpy as np\n",
    "import matplotlib.pyplot as plt\n",
    "%matplotlib inline"
   ]
  },
  {
   "cell_type": "markdown",
   "id": "precise-present",
   "metadata": {},
   "source": [
    "## Starting Simple\n",
    "\n",
    "For the first exercise we will simply plot 3D data using `plt.imshow`. Let's use what we just learned on the homework, a checkerboard!"
   ]
  },
  {
   "cell_type": "code",
   "execution_count": 1,
   "id": "unnecessary-consolidation",
   "metadata": {},
   "outputs": [],
   "source": [
    "#create a 2D checkerboard array using the code we wrote in HW3\n",
    "#checkerboard = ...\n"
   ]
  },
  {
   "cell_type": "code",
   "execution_count": 2,
   "id": "charming-tackle",
   "metadata": {},
   "outputs": [],
   "source": [
    "#plot checkerboard\n"
   ]
  },
  {
   "cell_type": "markdown",
   "id": "ancient-geography",
   "metadata": {},
   "source": [
    "## Plotting Continuous 3D Functions\n",
    "\n",
    "let's plot a function $f(x,y)$ that we may come across in multivariable calculus for example"
   ]
  },
  {
   "cell_type": "code",
   "execution_count": 3,
   "id": "organizational-taylor",
   "metadata": {},
   "outputs": [],
   "source": [
    "# create x and y grid for our function\n",
    "\n",
    "\n",
    "# write multivariable function\n",
    "\n",
    "\n",
    "# plot using imshow()\n"
   ]
  },
  {
   "cell_type": "markdown",
   "id": "short-confidence",
   "metadata": {},
   "source": [
    "## Plotting Data\n",
    "\n",
    "we can also plot data from data files like we saw in previous lectures/hw"
   ]
  },
  {
   "cell_type": "code",
   "execution_count": 4,
   "id": "centered-treat",
   "metadata": {},
   "outputs": [],
   "source": [
    "#load in data\n",
    "\n",
    "#plot data\n",
    "\n"
   ]
  },
  {
   "cell_type": "markdown",
   "id": "falling-spectrum",
   "metadata": {},
   "source": [
    "## Making Subplots"
   ]
  },
  {
   "cell_type": "code",
   "execution_count": null,
   "id": "conservative-market",
   "metadata": {},
   "outputs": [],
   "source": [
    "# make x, y1, y2\n",
    "\n",
    "# initialize figure\n",
    "\n",
    "# fill figure with subplots"
   ]
  },
  {
   "cell_type": "code",
   "execution_count": null,
   "id": "conditional-boutique",
   "metadata": {},
   "outputs": [],
   "source": []
  }
 ],
 "metadata": {
  "kernelspec": {
   "display_name": "Python 3 (ipykernel)",
   "language": "python",
   "name": "python3"
  },
  "language_info": {
   "codemirror_mode": {
    "name": "ipython",
    "version": 3
   },
   "file_extension": ".py",
   "mimetype": "text/x-python",
   "name": "python",
   "nbconvert_exporter": "python",
   "pygments_lexer": "ipython3",
   "version": "3.7.3"
  }
 },
 "nbformat": 4,
 "nbformat_minor": 5
}
