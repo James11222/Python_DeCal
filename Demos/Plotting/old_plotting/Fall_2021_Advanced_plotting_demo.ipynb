{
 "cells": [
  {
   "cell_type": "markdown",
   "id": "norwegian-referral",
   "metadata": {},
   "source": [
    "### Preamble"
   ]
  },
  {
   "cell_type": "code",
   "execution_count": null,
   "id": "adjustable-bruce",
   "metadata": {},
   "outputs": [],
   "source": [
    "import numpy as np\n",
    "import matplotlib.pyplot as plt\n",
    "%matplotlib inline"
   ]
  },
  {
   "cell_type": "markdown",
   "id": "capable-extra",
   "metadata": {},
   "source": [
    "## Starting Simple\n",
    "\n",
    "For the first exercise we will simply plot 3D data using `plt.imshow`. Let's use what we just learned on the homework, a checkerboard!"
   ]
  },
  {
   "cell_type": "code",
   "execution_count": null,
   "id": "hollow-formula",
   "metadata": {},
   "outputs": [],
   "source": [
    "#create a 2D checkerboard array using the code we wrote in HW3\n",
    "#checkerboard = ..."
   ]
  },
  {
   "cell_type": "code",
   "execution_count": null,
   "id": "auburn-basement",
   "metadata": {},
   "outputs": [],
   "source": [
    "#plot checkerboard"
   ]
  },
  {
   "cell_type": "markdown",
   "id": "necessary-charity",
   "metadata": {},
   "source": [
    "## Plotting Continuous 3D Functions\n",
    "\n",
    "let's plot a function $f(x,y)$ that we may come across in multivariable calculus for example"
   ]
  },
  {
   "cell_type": "code",
   "execution_count": null,
   "id": "fleet-favorite",
   "metadata": {},
   "outputs": [],
   "source": [
    "# create x and y grid for our function\n",
    "\n",
    "# write multivariable function\n",
    "\n",
    "# plot using imshow()"
   ]
  },
  {
   "cell_type": "markdown",
   "id": "stable-suite",
   "metadata": {},
   "source": [
    "## Plotting Data\n",
    "\n",
    "we can also plot data from data files like we saw in previous lectures/hw"
   ]
  },
  {
   "cell_type": "code",
   "execution_count": null,
   "id": "transparent-protection",
   "metadata": {},
   "outputs": [],
   "source": [
    "#load in data\n",
    "\n",
    "#plot data"
   ]
  },
  {
   "cell_type": "markdown",
   "id": "polar-click",
   "metadata": {},
   "source": [
    "## Making Subplots"
   ]
  },
  {
   "cell_type": "code",
   "execution_count": null,
   "id": "joint-stadium",
   "metadata": {},
   "outputs": [],
   "source": [
    "# make x, y1, y2\n",
    "\n",
    "# initialize figure\n",
    "\n",
    "# fill figure with subplots"
   ]
  },
  {
   "cell_type": "code",
   "execution_count": null,
   "id": "pressed-clinic",
   "metadata": {},
   "outputs": [],
   "source": []
  }
 ],
 "metadata": {
  "kernelspec": {
   "display_name": "Python 3",
   "language": "python",
   "name": "python3"
  },
  "language_info": {
   "codemirror_mode": {
    "name": "ipython",
    "version": 3
   },
   "file_extension": ".py",
   "mimetype": "text/x-python",
   "name": "python",
   "nbconvert_exporter": "python",
   "pygments_lexer": "ipython3",
   "version": "3.7.3"
  }
 },
 "nbformat": 4,
 "nbformat_minor": 5
}
