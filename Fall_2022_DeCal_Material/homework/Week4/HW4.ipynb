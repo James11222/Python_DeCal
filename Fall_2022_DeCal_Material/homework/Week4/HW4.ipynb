{
 "cells": [
  {
   "cell_type": "markdown",
   "id": "e99c9e33",
   "metadata": {},
   "source": [
    "# Homework 4\n",
    "\n",
    "This homework is all about introductory plotting and data analysis in python! This is by far the most important skill to take away from this course. You will use plotting any where you go, whether that is in physics or astronomy, data science, economics, biology, or even social sciences! Being able to represent your data in a visual manor is absolutely a crucial skill to have. This homework and the next will be arguably the most important homeworks of the semester. \n",
    "\n",
    "If you get stuck on how to do something you have several options, I would encourage you to first take a look at **The Ultimate Plotting Guide** Notebook Posted in the Bcourses files. This guide is pretty exhaustive on the basics and should contain a lot of useful information on how to create just about any plot you could possibly need in Python."
   ]
  },
  {
   "cell_type": "code",
   "execution_count": 2,
   "id": "f2504fb7",
   "metadata": {},
   "outputs": [],
   "source": [
    "#Preamble\n",
    "import numpy as np\n",
    "import matplotlib.pyplot as plt\n",
    "%matplotlib inline"
   ]
  },
  {
   "cell_type": "markdown",
   "id": "da23f687",
   "metadata": {},
   "source": [
    "# Problem 1: Loading Data Using Numpy (10 Points)\n",
    "\n",
    "Like we showed in lecture this week, the numpy library is a great way to load up a data array to work on. If you have a csv file full of data you'd like to analyze but there's no way to get at it, it's a pretty poor system. This problem will walk you through using `numpy.loadtxt()` to get at the data you have loaded on a csv!\n",
    "\n",
    "\n",
    "Below is an import statement of a `.csv` file. This is basically the same thing as a `.txt` file but much easier to work with. It stands for Comma Seperated Value.... meaning internally in the file itself everything is seperated by a comma. \n",
    "\n",
    "The `.loadtxt` function takes in the file path/name as a string (make sure you keep track of its directory path and if your notebook is in the same directory then don't worry about including the directory) we set the delimiter parameter to a comma so numpy knows how to seperate everything the way we want. Finally we use the skiprows argument and we set it to 1 to skip the first row of the file because the first row has the names of each column. "
   ]
  },
  {
   "cell_type": "markdown",
   "id": "0c6c8d98",
   "metadata": {},
   "source": [
    "### Part a\n",
    "You should have downloaded a csv file called 'sample_data.csv' from the assignment files along with this homework. Make sure you know which directory this file is in so you can reference it. Use the `numpy.loadtext(filename)` function to load up your data. Print it out to look at (Visually Inspect)."
   ]
  },
  {
   "cell_type": "code",
   "execution_count": 7,
   "id": "1c269b31",
   "metadata": {},
   "outputs": [],
   "source": [
    "###Your Code Here###"
   ]
  },
  {
   "cell_type": "markdown",
   "id": "4e390ca4",
   "metadata": {},
   "source": [
    "### Part b"
   ]
  },
  {
   "cell_type": "markdown",
   "id": "b1e4a632",
   "metadata": {},
   "source": [
    "Hazzah! This is just a 2D numpy array isn't that neat! This can be a little combersome to seperate neatly so let's add an extra argument called `unpack` and we set it equal to `True`. This essentially tells python to split each column up into a 1D array that we can treat as a list. "
   ]
  },
  {
   "cell_type": "markdown",
   "id": "7f63846e",
   "metadata": {},
   "source": [
    "Now we can assign names to each column's corresponding values and treat them as variables. This sample data happens to be me measuring the constant of gravity on earth ($g_{earth}$) from my Dorm."
   ]
  },
  {
   "cell_type": "markdown",
   "id": "f8232d87",
   "metadata": {},
   "source": [
    "Hint: You can set something equal to two variables on one line of code: `trials, values = <function>`"
   ]
  },
  {
   "cell_type": "code",
   "execution_count": 8,
   "id": "46538134",
   "metadata": {},
   "outputs": [],
   "source": [
    "###Your Code Here###"
   ]
  },
  {
   "cell_type": "markdown",
   "id": "f481dd09",
   "metadata": {},
   "source": [
    "## Problem 2 (10 Points)\n",
    "\n",
    "In lecture we discussed a couple neat functions that numpy has built in ready to go for our use. \n",
    "\n",
    "**Part a)** Your task for this problem is to calculate:\n",
    "\n",
    "- The Minimum\n",
    "- The Maximum\n",
    "- The Median\n",
    "- The Mean\n",
    "- The Standard Deviation\n",
    "\n",
    "Of the dataset. Print the values in a well formatted string with 3 sig figs past the decimal. The data is reported in SI units. "
   ]
  },
  {
   "cell_type": "code",
   "execution_count": 3,
   "id": "e70dd62c",
   "metadata": {},
   "outputs": [],
   "source": [
    "###Your Code Here###"
   ]
  },
  {
   "cell_type": "markdown",
   "id": "ae12f85e",
   "metadata": {},
   "source": [
    "**Part b)** Now have python figure out which trial corresponds to the maximum and minumum data value. Do not just look at the data, use what you know to figure out which trial corresponds to which data point."
   ]
  },
  {
   "cell_type": "code",
   "execution_count": 4,
   "id": "6e8be978",
   "metadata": {},
   "outputs": [],
   "source": [
    "###Your Code Here###"
   ]
  },
  {
   "cell_type": "markdown",
   "id": "d935b452",
   "metadata": {},
   "source": [
    "## Proper Plotting Hygiene\n",
    "\n",
    "Make sure it is clear what your plot is representing. This means you should always have a descriptive title, x and y axis labels, the figure should be large enough to actually read (I recommend using `figsize=(10,8)` or widths and heights close to that ratio and magnitude to make nice large plots. Look at the Beautifying Plots section of the Ultimate Plotting Guide to see how to really make your plots stand out from the rest (this is not required). \n",
    "\n",
    "Your code should also be semi-documented with comments so that we can see where you are defining your functions or data sets, where each figure begins, and where each subplot begins. This helps your code be readable for someone helping you debug any issues you come across."
   ]
  },
  {
   "cell_type": "markdown",
   "id": "c66a78af",
   "metadata": {},
   "source": [
    "## Plotting Function Problems"
   ]
  },
  {
   "cell_type": "markdown",
   "id": "92401188",
   "metadata": {},
   "source": [
    "### Problem 1: Plotting a Function (10 Points)\n",
    "\n",
    "For this problem plot $f(x) = sin(x)$ and $g(x) = cos(x)$ on the same figure, add a title, axis labels, and a legend as well so that we know which curve is which. Your domain should be $x \\in [0, 2 \\pi]$. "
   ]
  },
  {
   "cell_type": "code",
   "execution_count": 5,
   "id": "9ea69f62",
   "metadata": {},
   "outputs": [],
   "source": [
    "###Your Code Here###"
   ]
  },
  {
   "cell_type": "markdown",
   "id": "522984c6",
   "metadata": {},
   "source": [
    "### Problem 2: Subplots! (10 Points)\n",
    "\n",
    "**Part a)** For this problem you should make a figure that contains two plots (side by side) where we have the function $f(x) = e^{-3x} sin(x)$ and $g(x) = e^{-3x}$ on the left plot, on the right plot you should plot $f(x) = e^{-5x^2}$ and again add a title and axis labels, dont forget a legend. Your domain should be $x \\in [0, 2 \\pi]$. "
   ]
  },
  {
   "cell_type": "code",
   "execution_count": 6,
   "id": "92eb9afa",
   "metadata": {},
   "outputs": [],
   "source": [
    "###Your code here###"
   ]
  },
  {
   "cell_type": "markdown",
   "id": "15a12d3e",
   "metadata": {},
   "source": [
    "**Part b)** Now do the same thing except make the first plot on top of the second plot (vertically aligned)"
   ]
  },
  {
   "cell_type": "code",
   "execution_count": 1,
   "id": "2e0aa7f0",
   "metadata": {},
   "outputs": [],
   "source": [
    "###Your Code Here###"
   ]
  }
 ],
 "metadata": {
  "kernelspec": {
   "display_name": "Python 3 (ipykernel)",
   "language": "python",
   "name": "python3"
  },
  "language_info": {
   "codemirror_mode": {
    "name": "ipython",
    "version": 3
   },
   "file_extension": ".py",
   "mimetype": "text/x-python",
   "name": "python",
   "nbconvert_exporter": "python",
   "pygments_lexer": "ipython3",
   "version": "3.9.13"
  }
 },
 "nbformat": 4,
 "nbformat_minor": 5
}
