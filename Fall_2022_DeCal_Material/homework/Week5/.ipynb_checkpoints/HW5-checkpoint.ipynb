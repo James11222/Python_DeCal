{
 "cells": [
  {
   "cell_type": "markdown",
   "id": "4206bc27",
   "metadata": {},
   "source": [
    "# Homework 5\n",
    "\n",
    "This homework is going to be all about advanced plotting and curve fitting! All of these are extremely useful in any STEM based course, so the goal of this homework is to get y'all more comfortable with these methods."
   ]
  },
  {
   "cell_type": "code",
   "execution_count": 3,
   "id": "d9246b58",
   "metadata": {
    "scrolled": true
   },
   "outputs": [],
   "source": [
    "#Code Preamble#\n",
    "import numpy as np\n",
    "import scipy as sp\n",
    "import matplotlib.pyplot as plt\n",
    "import scipy.optimize as fitter\n",
    "%matplotlib inline"
   ]
  },
  {
   "cell_type": "markdown",
   "id": "424ac393",
   "metadata": {},
   "source": [
    "### Problem 1: 3D Subplots (25 Points)\n",
    "\n",
    "Plot the following graphs in one figure. We should see 4 total plots (2 x 2)\n",
    "\n",
    "**Top Left**:\n",
    "\n",
    "$$f(x,y) = \\frac{sgn(xy) * sgn(1-(9x)^2+(9y)^2)}{9}$$\n",
    "\n",
    "**Top Right**:\n",
    "\n",
    "$$f(x,y) = (0.4^2-(0.6-(x^2+y^2)^{1/2})^2)^{1/2}$$\n",
    "\n",
    "**Bottom Left**:\n",
    "\n",
    "$$f(x,y) = \\frac{1}{15(x^2+y^2)}$$\n",
    "\n",
    "**Bottom Right**:\n",
    "\n",
    "$$f(x,y) = \\frac{(1-sgn(-x-.51+abs(2y)))(sgn(\\frac{1}{2}-x)+1)}{3}$$\n",
    "\n",
    "\n",
    "Use the same colormap for the whole figure (all 4 plots), add a colorbar for the whole figure, a title for each plot, and x and y labels for each plot. Pick the same domain for $x$ and $y$ and it should be the same for all plots. I will let you figure out what domain works best. Each of these is an interesting shape or structure. Create a markdown cell below your plotting cell describing what you see in each plot.\n",
    "\n",
    "Hint: `numpy` has a sgn(x) function"
   ]
  },
  {
   "cell_type": "code",
   "execution_count": 2,
   "id": "8ed6c270",
   "metadata": {},
   "outputs": [],
   "source": [
    "###Your Code Here###"
   ]
  },
  {
   "cell_type": "markdown",
   "id": "57a5aefb",
   "metadata": {},
   "source": [
    "## Plotting Data\n",
    "\n",
    "### Problem 2: Covid-19 (25 Points)\n",
    "\n",
    "\n",
    "Last week we learned how to import data into our notebooks in the form of arrays. Well we can actually plot that data! For this problem we will actually make a pretty relevant plot to the state of the world in 2020. As someone who has taken the Python DeCal you will be able to say that you have worked with real COVID-19 Data. So often we simply listen to people tell us about the data, but you should be able to look at it yourself (to reduce bias of course). \n",
    "\n",
    "In this problem we will plot some COVID-19 United States Data from the https://ourworldindata.org/coronavirus-source-data, You should have a file named `Covid_Data.csv` in the same directory as this notebook. The data starts on January 1st, 2020 and each new row below that is the next day until the end of the data set which goes to September 23rd, 2020. \n",
    "\n",
    "\n",
    "**Part a)** Your task for this problem is to make a scatter plot of the Total Cases (unsmoothed) in the United States for each day since the data started being taken. Make sure to import the data using the `numpy.loadtxt`function.\n",
    "\n",
    "Hint 1: Set `Unpack = True` and import all the required data sets as their own 1D arrays\n",
    "\n",
    "Hint 2: Skip the first row in the data set.\n",
    "\n",
    "Hint 3: You dont need the first column because that is the  date which would be a string, while the rest of the data is floats. This may cause some issues. Think about how you can get around this. \n",
    "\n",
    "Extra: If you feel ambitious, try and figure out how you can make the x-axis in units of months instead of just number of days. You `plt.xticks()` could be useful for this because you can put strings for your x-axis tick marks. \n"
   ]
  },
  {
   "cell_type": "code",
   "execution_count": null,
   "id": "e85df1e6",
   "metadata": {},
   "outputs": [],
   "source": [
    "###Your Code Here###"
   ]
  },
  {
   "cell_type": "markdown",
   "id": "bdbcd78d",
   "metadata": {},
   "source": [
    "**Part b)** Now make a similar plot of New Cases (unsmoothed) vs. time (days). Dont forget to include your plot's title, axis labels (with units), and a legend."
   ]
  },
  {
   "cell_type": "code",
   "execution_count": null,
   "id": "bcd3294c",
   "metadata": {},
   "outputs": [],
   "source": [
    "###Your Code Here###"
   ]
  },
  {
   "cell_type": "markdown",
   "id": "4e1da5e9",
   "metadata": {},
   "source": [
    "**Part c)** A crucial part of being a scientist is being able to look at a data set and find something interesting that they want to look at within a data set. Go ahead and open up the data set in some spreadsheet editor (I Use Microsoft Excel for example) and look at the titles for each column. Pick one of the columns that you find really interesting or that is relevant to show someone. Plot that vs time (days). As usual dont forget to add a title, labels, and a legend. "
   ]
  },
  {
   "cell_type": "code",
   "execution_count": null,
   "id": "1e323e6c",
   "metadata": {},
   "outputs": [],
   "source": [
    "###Your Code Here###"
   ]
  },
  {
   "cell_type": "markdown",
   "id": "9b909ef0",
   "metadata": {},
   "source": [
    "# Curve Fitting\n",
    "\n",
    "#### The following problem will be us exploring how to fit a set of data.\n",
    "\n",
    "#### This is inherently very statistics heavy to fully understand. So, do not freak out if the rest of this cell doesn't make any sense to you right now. It freaked me out when I first looked at it but now that I have actually learned stats in my other courses it isn't too scary to read. I am just going to put it here for your reference in the future if you want to understand what is happening more deeply. \n",
    "\n",
    "\n",
    "Note: The following information was provided and adapted from Physics 77\n",
    "\n",
    "\n",
    "The simplest technique to describe is **least-squares fitting**. Usually you use the least-squares fit if **you have a set of data** (pairs of data points $(x_i, y_i)$ ), and **you want to describe it in terms of a model** $y(x;\\{\\theta_j\\})$, where **you have parameters** $\\{\\theta_j\\}$ **that are unknown**. The purpose of your fit is to determine the values of $\\{\\theta_j\\}$ and (hopefully) their uncertainties. An example of a model is:\n",
    "\n",
    "$$y = a_0 + a_1 x$$\n",
    "\n",
    "where the unknown parameters $\\theta_j$ are $a_0$ and $a_1$.\n",
    "\n",
    "There are two standard cases where least-squares method is applicable:\n",
    "1. You know errors for each data point $\\sigma_i$ and you know that those errors are Gaussian. In this case, you minimize $\\chi^2=\\sum \\left(\\frac{y_i - y(x_i;\\theta)}{\\sigma_i}\\right)^2$ with respect to the parameters $\\{\\theta_j\\}$. The value of the $\\chi^2_{\\min}$ can be interpreted as a goodness-of-fit. The parameters $\\{\\theta_j\\}$ that minimize $\\chi^2$ have probabilistic interpretation\n",
    "1. You know that the errors are Gaussian and are the same for each data point, but you do not know their magnitude. In this case, you would minimize the sum of squares: $\\mathcal{S} = \\sum \\left(y_i - y(x_i;\\theta)\\right)^2$. Then value of $\\mathcal{S}$ can be used to *estimate* the errors $\\sigma_i$ for each data point: $\\sigma_i = \\sqrt{\\mathcal{S}/(N_\\mathrm{data}-N_\\mathrm{parameters})}$\n",
    "The errors on $\\theta$ have a probabilistic definition, but you lose information about the goodness of fit\n",
    "1. If the errors are not known to be Gaussian, then the least square method is not useful to estimate uncertainties or the goodness of fit. It is also not guaranteed to be unbiased or most efficient. "
   ]
  },
  {
   "cell_type": "markdown",
   "id": "cce4cb93",
   "metadata": {},
   "source": [
    "### Let's try it out by fitting a straight line model to some data\n",
    "\n",
    "\n",
    "First lets generate some fake data and plot it"
   ]
  },
  {
   "cell_type": "code",
   "execution_count": 4,
   "id": "c530b17e",
   "metadata": {},
   "outputs": [
    {
     "data": {
      "image/png": "[encoded data removed]",
      "text/plain": [
       "<Figure size 576x432 with 1 Axes>"
      ]
     },
     "metadata": {
      "needs_background": "light"
     },
     "output_type": "display_data"
    }
   ],
   "source": [
    "import scipy.optimize as fitter\n",
    "\n",
    "# Generate artificial data = straight line with a=0 and b=1\n",
    "# plus some noise.\n",
    "a0 = 0\n",
    "b0 = 1\n",
    "sig = 0.2\n",
    "Npoints = 10\n",
    "xdata = np.arange(0,Npoints,1.)\n",
    "ydata = a0+xdata*b0+sig*np.random.standard_normal(size=Npoints)\n",
    "sigma = np.ones(Npoints)*sig\n",
    "\n",
    "plt.figure(figsize=(8,6))\n",
    "plt.scatter(xdata,ydata,color='b')\n",
    "plt.errorbar(xdata,ydata, sigma, color='r',ls='none')\n",
    "plt.xlim(-1,Npoints)\n",
    "plt.show()"
   ]
  },
  {
   "cell_type": "code",
   "execution_count": 5,
   "id": "2ba2415d",
   "metadata": {},
   "outputs": [
    {
     "name": "stdout",
     "output_type": "stream",
     "text": [
      "Your model's parameters and their uncertainties are the following: \n",
      "\n",
      "a= 0.067+/-0.118 \n",
      "\n",
      "b= 0.991+/-0.022 \n",
      "\n",
      "\n",
      "Your model's chi^2 value and reduced chi^2 value and their uncertainties are the following: \n",
      "\n",
      "chi^2 =  4.69 \n",
      "\n",
      "chi^2/d.f.= 0.59 \n",
      "\n"
     ]
    },
    {
     "data": {
      "image/png": "[encoded data removed]",
      "text/plain": [
       "<Figure size 576x432 with 1 Axes>"
      ]
     },
     "metadata": {
      "needs_background": "light"
     },
     "output_type": "display_data"
    }
   ],
   "source": [
    "# Make sure you run the cell above this first to generate some artificial data\n",
    "# to which we will fit this curve\n",
    "\n",
    "#=============================================================================================\n",
    "# Define a fit model. For this part, we will use a linear function\n",
    "# The function which defines your model HAS TO TAKE ON A SPECIFIC FORM\n",
    "#=============================================================================================\n",
    "\n",
    "def model(x, a, b):\n",
    "    return a + b*x\n",
    "\n",
    "# You have to supply an initial guess of parameters, and they should be \"close enough\" to the true values, otherwise\n",
    "# the fit may fall into a false minimum\n",
    "par0    = np.array([0.5, -0.3]) # initial guess for parameters\n",
    "par, cov = fitter.curve_fit(model, xdata, ydata, par0, sigma, absolute_sigma=True)\n",
    "\n",
    "#=============================================================================================\n",
    "# the par arrays contains the values of parameters. cov is the covariance matrix\n",
    "# decode it now\n",
    "#=============================================================================================\n",
    "\n",
    "print(\"Your model's parameters and their uncertainties are the following: \\n\")\n",
    "a = par[0]\n",
    "ea = np.sqrt(cov[0,0])\n",
    "print('a={0:6.3f}+/-{1:5.3f} \\n'.format(a,ea))\n",
    "b = par[1]\n",
    "eb = np.sqrt(cov[1,1])\n",
    "print('b={0:6.3f}+/-{1:5.3f} \\n\\n'.format(b,eb))\n",
    "\n",
    "#=============================================================================================\n",
    "# compute reduced chi2\n",
    "#=============================================================================================\n",
    "\n",
    "print(\"Your model's chi^2 value and reduced chi^2 value and their uncertainties are the following: \\n\")\n",
    "chi_squared = np.sum(((ydata - model(xdata, *par))/sigma)**2)\n",
    "reduced_chi_squared = (chi_squared)/(len(xdata)-len(par))\n",
    "print ('chi^2 = {0:5.2f} \\n'.format(chi_squared))\n",
    "print ('chi^2/d.f.={0:5.2f} \\n'.format(reduced_chi_squared))\n",
    "\n",
    "#=============================================================================================\n",
    "# overlay plot over data\n",
    "#=============================================================================================\n",
    "\n",
    "plt.figure(figsize=(8,6))\n",
    "plt.errorbar(xdata, ydata, xerr=0, yerr=sigma, fmt='o', label='data') #plotting the data\n",
    "plt.xlim(-1,Npoints)\n",
    "xfit = np.linspace(0,Npoints-1.,50)\n",
    "plt.plot(xfit,model(xfit,par[0],par[1]),'r-', label='model') #plotting the model\n",
    "plt.legend()\n",
    "plt.show()"
   ]
  },
  {
   "cell_type": "markdown",
   "id": "af331059",
   "metadata": {},
   "source": [
    "In summary:\n",
    "1. for curve fitting you need to write a model function that you think the data should fit based on some unknown parameters\n",
    "1. you need to make an array full of guesses for each unknown parameter\n",
    "1. use `scipy.optimize.curve_fit` function to fit the model's paramters to best match the data\n",
    "1. This function spits out two things, the parameters array which it's length depends on how many parameters your model needs. The second thing is the Covariance 2D array which the square root of the diagonals correspond to the uncertainties of each parameter\n",
    "1. We now can plug these found parameters into our model and plot to see how well the model fits the data points\n"
   ]
  },
  {
   "cell_type": "markdown",
   "id": "e50a037c",
   "metadata": {},
   "source": [
    "## Problem 3 (25 Points)\n",
    "\n",
    "We now introduced a new function: `scipy.optimize.curve_fit()`. The code in the cell immediately below will generate some data where the first column is $x$ values, the second column is the $y$ values, the third column is the uncertainty in each value. Use the techniques above to fit a quadratic model of the form\n",
    "$$y = a_0 + a_1 x + a_2 x^2$$\n",
    "\n",
    "Plot the data and your best fit curve with error and print out the values and their uncertainties as we did above."
   ]
  },
  {
   "cell_type": "code",
   "execution_count": 6,
   "id": "2f094fa5",
   "metadata": {
    "scrolled": true
   },
   "outputs": [
    {
     "name": "stdout",
     "output_type": "stream",
     "text": [
      "Your x data values are stored as xdata\n",
      "Your y data values are stored as ydata\n",
      "Your y data uncertainties are stored as sigma\n"
     ]
    },
    {
     "data": {
      "image/png": "[encoded data removed]",
      "text/plain": [
       "<Figure size 576x432 with 1 Axes>"
      ]
     },
     "metadata": {
      "needs_background": "light"
     },
     "output_type": "display_data"
    }
   ],
   "source": [
    "# Generate artificial data = quadratic function with a0 = .5, a1=1, a2 = -0.3\n",
    "# plus some noise.\n",
    "a0 = 0.5\n",
    "a1 = 1\n",
    "a2 = -0.3\n",
    "sig = 0.4\n",
    "Npoints = 10\n",
    "\n",
    "xdata = np.arange(0,Npoints,1.)\n",
    "ydata = a0 + a1 * xdata + a2 * xdata **2 + sig * np.random.standard_normal(size=Npoints)\n",
    "sigma = np.ones(Npoints)*sig\n",
    "\n",
    "print(\"Your x data values are stored as xdata\")\n",
    "print(\"Your y data values are stored as ydata\")\n",
    "print(\"Your y data uncertainties are stored as sigma\")\n",
    "\n",
    "plt.figure(figsize=(8,6))\n",
    "plt.scatter(xdata,ydata,color='b')\n",
    "plt.errorbar(xdata,ydata, sigma, color='r',ls='none')\n",
    "plt.xlim(-1,Npoints)\n",
    "plt.show()"
   ]
  },
  {
   "cell_type": "code",
   "execution_count": 1,
   "id": "2eacb621",
   "metadata": {},
   "outputs": [],
   "source": [
    "###Your Code Here###"
   ]
  },
  {
   "cell_type": "markdown",
   "id": "f3141bf6",
   "metadata": {},
   "source": [
    "# Root Finding\n",
    "\n",
    "The following problem will be us exploring how to find the roots of a function numerically.\n",
    "\n",
    "## Problem 4 (25 Points)\n",
    "\n",
    "### [Adapted from Newman 6.15]\n",
    "\n",
    "Consider a sixth-order polynomial \n",
    "$$P(x) = 924x^6 - 2772x^5 + 3150x^4 -1680x^3 +420x^2 -42x + 1$$\n",
    "There is no general formula for the roots of a polynomial of degree 6, but you can compute the roots numerically. \n",
    "1. Make a plot of $P(x)$ from $x=0$ to $x=1$ and by inspecting it find rough values for the six roots of the polynomial. \n",
    "1. Write the code to solve for the positions of all six roots to at least ten decimal places using at least one of the methods dsicussed in class. (you can/should use the built-in functions). \n",
    "\n",
    "Hint: I would recommend using `fsolve` in the scipy library"
   ]
  },
  {
   "cell_type": "code",
   "execution_count": null,
   "id": "63abb045",
   "metadata": {},
   "outputs": [],
   "source": [
    "from scipy.optimize import fsolve\n",
    "###Your Code Here###"
   ]
  },
  {
   "cell_type": "code",
   "execution_count": null,
   "id": "aeb07ab9",
   "metadata": {},
   "outputs": [],
   "source": []
  }
 ],
 "metadata": {
  "kernelspec": {
   "display_name": "Python 3 (ipykernel)",
   "language": "python",
   "name": "python3"
  },
  "language_info": {
   "codemirror_mode": {
    "name": "ipython",
    "version": 3
   },
   "file_extension": ".py",
   "mimetype": "text/x-python",
   "name": "python",
   "nbconvert_exporter": "python",
   "pygments_lexer": "ipython3",
   "version": "3.9.13"
  }
 },
 "nbformat": 4,
 "nbformat_minor": 5
}
