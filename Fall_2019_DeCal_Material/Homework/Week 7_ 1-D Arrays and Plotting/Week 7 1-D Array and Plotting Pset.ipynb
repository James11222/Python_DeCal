{
 "cells": [
  {
   "cell_type": "markdown",
   "metadata": {},
   "source": [
    "# Question 1\n",
    "In your homework file you should find a file titled \"Luminosity Array.txt\". This array comes from data taken by the Sloan Digital Sky Survey (SDSS) and was released as a part of their Data Release 14. This data in particular was gathered by the SPIDERS survey, which aimed to follow up on galaxy clusters found using X-ray surveys with an optical survey. This array in particular is a list of the calculated luminosities of galaxy clusters in the SPIDERS survey in the 0.1-2.4 keV band. You can learn more about SPIDERS here: https://www.sdss.org/surveys/eboss/ (SPIDERS is a sub-survey of the eBOSS survey) and SDSS in general here: https://www.sdss.org/\n",
    "\n",
    "Import Numpy, then load this array. How many entries are in this array? Try to calculate the mean cluster luminosity. What happens? (We expect an output here, not an error code)."
   ]
  },
  {
   "cell_type": "code",
   "execution_count": 1,
   "metadata": {},
   "outputs": [],
   "source": [
    "#import here\n",
    "def luminosity_mean():\n",
    "    \n",
    "    return"
   ]
  },
  {
   "cell_type": "code",
   "execution_count": 2,
   "metadata": {},
   "outputs": [],
   "source": [
    "luminosity_mean()"
   ]
  },
  {
   "cell_type": "markdown",
   "metadata": {},
   "source": [
    "---------------------------\n",
    "\n",
    "Array Length: (Answer Here)  \n",
    "Mean Luminosity: (Answer Here)\n",
    "\n",
    "----------------------------"
   ]
  },
  {
   "cell_type": "markdown",
   "metadata": {},
   "source": [
    "The reason why the mean luminosity isn't what we expect when we attempt to calculate it above is because there are a couple of NaN's (Not a Number's) in our data.   \n",
    "\n",
    "Remove the NaN's from the array and calculate the actual mean luminosity. (Hint: use np.isnan)"
   ]
  },
  {
   "cell_type": "code",
   "execution_count": 3,
   "metadata": {},
   "outputs": [],
   "source": [
    "def no_outliers():\n",
    "    \n",
    "    return"
   ]
  },
  {
   "cell_type": "code",
   "execution_count": 4,
   "metadata": {},
   "outputs": [],
   "source": [
    "no_outliers()\n",
    "luminosity_mean()"
   ]
  },
  {
   "cell_type": "markdown",
   "metadata": {},
   "source": [
    "---------------------------------\n",
    "New Mean Luminosity: (Answer Here)\n",
    "\n",
    "-----------------------------------"
   ]
  },
  {
   "cell_type": "markdown",
   "metadata": {},
   "source": [
    "# Question 2\n",
    "Construct an array of the size specified in the function input that repeats the same pattern of 0, 1, and 2 like so:\n",
    "\n",
    "repetition(11) returns 0,1,2,0,1,2,0,1,2,0,1\n",
    "\n",
    "Hint: Use array slicing"
   ]
  },
  {
   "cell_type": "code",
   "execution_count": 5,
   "metadata": {},
   "outputs": [],
   "source": [
    "def repetition(size):\n",
    "    \n",
    "    return"
   ]
  },
  {
   "cell_type": "code",
   "execution_count": 6,
   "metadata": {},
   "outputs": [],
   "source": [
    "repetition(11)"
   ]
  },
  {
   "cell_type": "markdown",
   "metadata": {},
   "source": [
    "# Question 3\n",
    "Import matplotlib.pyplot. Plot f(x)=1/x using a line graph on a log-log plot. Include a title, axes labels, and legend. Then plot g(x)=x on the same plot. Make f(x) a red dashed line, and g(x) a green solid line."
   ]
  },
  {
   "cell_type": "code",
   "execution_count": 7,
   "metadata": {},
   "outputs": [],
   "source": [
    "#import here\n",
    "def plots():\n",
    "    \n",
    "    return"
   ]
  },
  {
   "cell_type": "code",
   "execution_count": 8,
   "metadata": {},
   "outputs": [],
   "source": [
    "plots()"
   ]
  },
  {
   "cell_type": "markdown",
   "metadata": {},
   "source": [
    "# Question 4\n",
    "Using the \"Redshift Array.txt\" and \"Luminosity Array.txt\" files, plot luminosity vs. redshift on a scatter plot. Include a title and axes labels."
   ]
  },
  {
   "cell_type": "code",
   "execution_count": 9,
   "metadata": {},
   "outputs": [],
   "source": [
    "def scatter():\n",
    "    \n",
    "    return"
   ]
  },
  {
   "cell_type": "code",
   "execution_count": 10,
   "metadata": {},
   "outputs": [],
   "source": [
    "scatter()"
   ]
  },
  {
   "cell_type": "markdown",
   "metadata": {},
   "source": [
    "Notice that there is one point on the scatter plot that is much much higher than the others. This point is most likely some sort of outlier. Remove that point (from both the luminosity and redshift arrays - keep in mind that the luminosity is of order 10^45-10^46, even though the y-axis ranges from 0 to ~1.5) and plot the graph again to better see the relationship between the points."
   ]
  },
  {
   "cell_type": "code",
   "execution_count": 11,
   "metadata": {},
   "outputs": [],
   "source": [
    "def improved_scatter():\n",
    "    \n",
    "    return"
   ]
  }
 ],
 "metadata": {
  "kernelspec": {
   "display_name": "Python 3",
   "language": "python",
   "name": "python3"
  },
  "language_info": {
   "codemirror_mode": {
    "name": "ipython",
    "version": 3
   },
   "file_extension": ".py",
   "mimetype": "text/x-python",
   "name": "python",
   "nbconvert_exporter": "python",
   "pygments_lexer": "ipython3",
   "version": "3.7.1"
  }
 },
 "nbformat": 4,
 "nbformat_minor": 2
}
