{
 "cells": [
  {
   "cell_type": "markdown",
   "metadata": {},
   "source": [
    "# Object-Oriented Programming\n",
    "\n",
    "Object-oriented programming (OOP) is a method of software design in which the programmer defines a new data type, a \"class\", and writes a program to act on instances of the class, referred to as \"objects\". OOP allows users to write programs in terms of interactions between several independent agents, similar to how we describe objects in physics. It's attractive to computer scientists because it invites the use of $\\textbf{abstraction}$, the act of revealing only essential information, without including unimportant background details. It is based the following principles:\n",
    "\n",
    "$\\textbf{Encapsulation}$ - The internal representation and state of each object is stored privately within a boundary. Outsider access to an object's state is limited to user-defined public functions, or methods. Imagine the object as a machine whose insides are sealed off from the outside (like a car), such that the user may only interact with it through a provided interface (the steering wheel, the pedals, etc.). Abstraction through encapsulation leads to improved program security and helps to avoid bugs and data corruption.\n",
    "\n",
    "$\\textbf{Polymorphism}$ - A form of generalization in which different classes share a common interface. For example, if two different classes each have similar attributes, a function might be written to calculate some value from either object. Consider two classes representing a 2-vector and a 3-vector, respectively. Although their attributes differ in number ($x$ and $y$ versus $x$, $y$ and $x$), if we represent each set of coordinates as a list ({$x$, $y$} and {$x$, $y$, $z$}), we can easily write a function that calculates the magnitude of any such vector, regardless of its dimension:\n",
    "\n",
    "INSERT FUNCTION HERE\n",
    "\n",
    "In fact, mathematicians use this principle all the time, implicitly, through their definitions of mathematical objects and operations (e.g. vectors and inner products). Polymorphism may also refer to a single object having multiple interfaces (e.g. a donut is both a torus and a pastry).\n",
    "\n",
    "$\\textbf{Inheritance}$ - A mechanism in which one class inherits properties of another class. Defining such a relationship between objects allows the user to reuse logic while maintaining a clear hierarchy, reducing development time and ensuring a greater level of accuracy.\n",
    "All birds are animals, but not all animals are birds, hence \"Bird\" inherits from \"Animal\".\n",
    "\n",
    "If you don't fully understand these concepts yet, that's okay! We will further explain and discuss examples of each."
   ]
  },
  {
   "cell_type": "markdown",
   "metadata": {},
   "source": [
    "## Classes and Objects"
   ]
  },
  {
   "cell_type": "markdown",
   "metadata": {},
   "source": [
    "#### Problem 1. Gone Fishing\n",
    "\n",
    "First, try to guess what the following code will print to the command line. Run the code, and note any differences you observe between class and object attributes, and how/whether changing one affects the other."
   ]
  },
  {
   "cell_type": "code",
   "execution_count": null,
   "metadata": {},
   "outputs": [],
   "source": [
    "class Fisherman:\n",
    "    fishes = 0\n",
    "\n",
    "    def __init__(self):\n",
    "        self.fishes = 0\n",
    "\n",
    "    def fish(self):\n",
    "        self.fishes += 1\n",
    "\n",
    "tom = Fisherman()\n",
    "tom.fish()\n",
    "tom.fish()\n",
    "print(tom.fishes)\n",
    "print(Fisherman.fishes)\n",
    "\n",
    "print('\\n')\n",
    "\n",
    "Fisherman.fishes += 1\n",
    "florian_cloud_de_bounevialle_o_malley_armstrong = Fisherman()\n",
    "print(florian_cloud_de_bounevialle_o_malley_armstrong.fishes)\n",
    "print(Fisherman.fishes)\n",
    "print(tom.fishes)"
   ]
  },
  {
   "cell_type": "markdown",
   "metadata": {},
   "source": [
    "(Describe the differences here)"
   ]
  },
  {
   "cell_type": "markdown",
   "metadata": {},
   "source": [
    "#### Problem 2. Angular Momentum\n",
    "\n",
    "Below is an example of a basic class whose objects represent planets. Each Planet object has a mass, radius, and rotational period.\n",
    "\n",
    "Write a method (class function) to return the magnitude of rotational angular momentum of any planet, in whatever units were specified during initialization (object creation). The moment of inertia of a solid sphere of mass $M$ and radius $R$ is $\\frac{2MR^2}{5}$."
   ]
  },
  {
   "cell_type": "code",
   "execution_count": 3,
   "metadata": {},
   "outputs": [],
   "source": [
    "from math import pi\n",
    "\n",
    "class Planet:\n",
    "\n",
    "    def __init__(self, mass, radius, period):\n",
    "        self.mass = mass\n",
    "        self.radius = radius\n",
    "        self.period = period\n",
    "\n",
    "    def angular_momentum(self):\n",
    "        \"\"\" Calculates the angular momentum of the planet.\n",
    "\n",
    "        >>> earth = Planet(1.0, 1.0, 1.0)\n",
    "        >>> earth.angular_momentum()\n",
    "        2.5132741228718345\n",
    "        \"\"\"\n",
    "        # YOUR CODE HERE"
   ]
  },
  {
   "cell_type": "markdown",
   "metadata": {},
   "source": [
    "#### Problem 3. Mass Production\n",
    "\n",
    "Now write functions to calculate the total mass and highest density of a list of planets."
   ]
  },
  {
   "cell_type": "code",
   "execution_count": null,
   "metadata": {},
   "outputs": [],
   "source": [
    "def total_mass(planets):\n",
    "    \"\"\" Takes a list of planets and returns the total mass.\n",
    "\n",
    "    >>> jupiter = Planet(317.8, 11.2, 0.414)\n",
    "    >>> saturn = Planet(95.2, 9.45, 0.446)\n",
    "    >>> big_bois = [jupiter, saturn]\n",
    "    >>> total_mass(big_bois)\n",
    "    413.0\n",
    "    \"\"\"\n",
    "    return ## INSERT CODE HERE ##\n",
    "\n",
    "def max_density(planets):\n",
    "    \"\"\" Takes a list of planets and returns the highest density.\n",
    "\n",
    "    >>> avg_density([Planet(1.0, 1.0, 1.0), Planet(2.0, 2.0, 2.0), Planet(3.0, 3.0, 3.0)])\n",
    "    0.23873241463784303\n",
    "    \"\"\"\n",
    "    return ## INSERT CODE HERE ##"
   ]
  },
  {
   "cell_type": "markdown",
   "metadata": {},
   "source": [
    "## Inheritance\n",
    "\n",
    "#### Problem 4. The Fault in Our Stars\n",
    "\n",
    "Assume you run the following code:"
   ]
  },
  {
   "cell_type": "code",
   "execution_count": null,
   "metadata": {},
   "outputs": [],
   "source": [
    "class Star:\n",
    "    points = 0\n",
    "\n",
    "    def brightness(self, color):\n",
    "        print(color, self.points)\n",
    "\n",
    "    def __str__(self):\n",
    "        return 'Twinkle twinkle'\n",
    "\n",
    "class Supergiant(Star):\n",
    "    points = 50\n",
    "\n",
    "    def __init__(self):\n",
    "        self.points += 50\n",
    "\n",
    "    def brightness(self, color):\n",
    "        if points < 100:\n",
    "            print(Star().brightness(color))\n",
    "        else:\n",
    "            Star.brightness(self, color)\n",
    "\n",
    "def probe(s):\n",
    "    s.points += 1\n",
    "    sirius.points += 10\n",
    "    print(s().points)\n",
    "\n",
    "sirius = Star()\n",
    "sirius.points = 25\n",
    "telescope = sirius.brightness\n",
    "points = 75"
   ]
  },
  {
   "cell_type": "markdown",
   "metadata": {},
   "source": [
    "Write the output displayed when each of these expressions is evaluated:"
   ]
  },
  {
   "cell_type": "code",
   "execution_count": null,
   "metadata": {},
   "outputs": [],
   "source": [
    "Supergiant().points       # WRITE OUTPUT HERE\n",
    "telescope(sirius)         # WRITE OUTPUT HERE\n",
    "Supergiant().brightness() # WRITE OUTPUT HERE\n",
    "probe(Star)               # WRITE OUTPUT HERE"
   ]
  },
  {
   "cell_type": "markdown",
   "metadata": {},
   "source": [
    "# 1-D Array and Plotting \n",
    "Don't forget to import your packages, and rename them!!"
   ]
  },
  {
   "cell_type": "code",
   "execution_count": null,
   "metadata": {},
   "outputs": [],
   "source": []
  },
  {
   "cell_type": "markdown",
   "metadata": {},
   "source": [
    "# Question 1\n",
    "In your homework file you should find a file titled \"Luminosity Array.txt\". This array comes from data taken by the Sloan Digital Sky Survey (SDSS) and was released as a part of their Data Release 14. This data in particular was gathered by the SPIDERS survey, which aimed to follow up on galaxy clusters found using X-ray surveys with an optical survey. This array in particular is a list of the calculated luminosities of galaxy clusters in the SPIDERS survey in the 0.1-2.4 keV band. You can learn more about SPIDERS here: https://www.sdss.org/surveys/eboss/ (SPIDERS is a sub-survey of the eBOSS survey) and SDSS in general here: https://www.sdss.org/\n",
    "\n",
    "Load this array. How many entries are in this array? Try to calculate the mean cluster luminosity. What happens? (We expect an output here, not an error code)."
   ]
  },
  {
   "cell_type": "code",
   "execution_count": 4,
   "metadata": {},
   "outputs": [],
   "source": [
    "def luminosity_mean():\n",
    "    return"
   ]
  },
  {
   "cell_type": "code",
   "execution_count": 10,
   "metadata": {},
   "outputs": [],
   "source": [
    "luminosity_mean()"
   ]
  },
  {
   "cell_type": "markdown",
   "metadata": {},
   "source": [
    "Array Length: (Answer Here)  \n",
    "Mean Luminosity: (Answer Here)"
   ]
  },
  {
   "cell_type": "markdown",
   "metadata": {},
   "source": [
    "The reason why the mean luminosity isn't what we expect when we attempt to calculate it above is because there are a couple of NaN's (Not a Number's) in our data.   \n",
    "\n",
    "Remove the NaN's from the array and calculate the actual mean luminosity. (Hint: use np.isnan)"
   ]
  },
  {
   "cell_type": "code",
   "execution_count": 5,
   "metadata": {},
   "outputs": [],
   "source": [
    "def no_outliers():\n",
    "    return\n"
   ]
  },
  {
   "cell_type": "code",
   "execution_count": 6,
   "metadata": {},
   "outputs": [],
   "source": [
    "no_outliers()\n",
    "luminosity_mean()"
   ]
  },
  {
   "cell_type": "markdown",
   "metadata": {},
   "source": [
    "New Mean Luminosity: (Answer Here)"
   ]
  },
  {
   "cell_type": "markdown",
   "metadata": {},
   "source": [
    "# Question 2\n",
    "Plot f(x)=1/x using a line graph on a log-log plot. Include a title, axes labels, and legend. Then plot g(x)=x on the same plot. Make f(x) a red dashed line, and g(x) a green solid line.\n",
    "(Reading the plot() function documentation will be a great help for this problem in order to learn all of the customization keywords that can be used within a plot function. Googling for the correct functions for the rest of this problem's requirements is also key)"
   ]
  },
  {
   "cell_type": "code",
   "execution_count": 8,
   "metadata": {},
   "outputs": [],
   "source": [
    "def plots():\n",
    "    return"
   ]
  },
  {
   "cell_type": "code",
   "execution_count": 9,
   "metadata": {},
   "outputs": [],
   "source": [
    "plots()"
   ]
  },
  {
   "cell_type": "markdown",
   "metadata": {},
   "source": [
    "# Question 3\n",
    "Using the \"Redshift Array.txt\" and \"Luminosity Array.txt\" files, plot luminosity vs. redshift on a scatter plot. Include a title and axes labels."
   ]
  },
  {
   "cell_type": "code",
   "execution_count": null,
   "metadata": {},
   "outputs": [],
   "source": []
  },
  {
   "cell_type": "markdown",
   "metadata": {},
   "source": [
    "Notice that there is one point on the scatter plot that is much much higher than the others. This point is most likely some sort of outlier. Remove that point (from both the luminosity and redshift arrays - keep in mind that the luminosity is of order 10^45-10^46, even though the y-axis ranges from 0 to ~1.5) and plot the graph again to better see the relationship between the points."
   ]
  },
  {
   "cell_type": "code",
   "execution_count": null,
   "metadata": {},
   "outputs": [],
   "source": []
  }
 ],
 "metadata": {
  "kernelspec": {
   "display_name": "Python 3",
   "language": "python",
   "name": "python3"
  },
  "language_info": {
   "codemirror_mode": {
    "name": "ipython",
    "version": 3
   },
   "file_extension": ".py",
   "mimetype": "text/x-python",
   "name": "python",
   "nbconvert_exporter": "python",
   "pygments_lexer": "ipython3",
   "version": "3.7.3"
  }
 },
 "nbformat": 4,
 "nbformat_minor": 2
}
