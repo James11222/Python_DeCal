{
 "cells": [
  {
   "cell_type": "markdown",
   "metadata": {
    "id": "tXT2nYpmYBpd"
   },
   "source": [
    "# Command Line\n"
   ]
  },
  {
   "cell_type": "markdown",
   "metadata": {
    "id": "7ne4Hr2yYEu9"
   },
   "source": [
    "The command line is an important tool that lets us manipulate files on our computer without having to use any other interfaces or our mouse. This is especially important if you need to remote ssh (basically logon) to another computer remotely. We do not expect you to have every command memorized, so when in doubt Google!"
   ]
  },
  {
   "cell_type": "markdown",
   "metadata": {
    "id": "18Wfx2NAYcJv"
   },
   "source": [
    "For each question, write out the command line commands (in your Terminal) you would use to complete the task. There may be multiple ways to do each task.\n",
    "\n",
    "Note: You cannot run commands in Google Colab, but feel free to experiment in your own terminal!"
   ]
  },
  {
   "cell_type": "markdown",
   "metadata": {
    "id": "MY7dRNz_YjDH"
   },
   "source": [
    "## Question 1"
   ]
  },
  {
   "cell_type": "markdown",
   "metadata": {
    "id": "OqjnGW7OYo9c"
   },
   "source": [
    "Create a directory called “python_decal_review” . Go into the decal directory. Then, create another directory inside of that called “final_project”.\n",
    "    "
   ]
  },
  {
   "cell_type": "markdown",
   "metadata": {
    "id": "U6u7rInQbstj"
   },
   "source": [
    ""
   ]
  },
  {
   "cell_type": "markdown",
   "metadata": {
    "id": "BO1kHsU9YvGN"
   },
   "source": [
    "## Question 2"
   ]
  },
  {
   "cell_type": "markdown",
   "metadata": {
    "id": "0pXa4R68Y0DT"
   },
   "source": [
    "Count how many total files and directories are in your current directory. If there are more than 10 no need to count, you can just put 10."
   ]
  },
  {
   "cell_type": "markdown",
   "metadata": {
    "id": "sQ4QocPDburw"
   },
   "source": [
    ""
   ]
  },
  {
   "cell_type": "markdown",
   "metadata": {
    "id": "OxL7kXMpY7Lc"
   },
   "source": [
    "## Question 3"
   ]
  },
  {
   "cell_type": "markdown",
   "metadata": {
    "id": "Gxx0RldHY-um"
   },
   "source": [
    "Someone asks you what path your “Review_Command_Line.ipnyb” is located at."
   ]
  },
  {
   "cell_type": "markdown",
   "metadata": {
    "id": "daa9Km58bwY6"
   },
   "source": [
    ""
   ]
  },
  {
   "cell_type": "markdown",
   "metadata": {
    "id": "R6YAlswrZJiB"
   },
   "source": [
    "## Question 4"
   ]
  },
  {
   "cell_type": "markdown",
   "metadata": {
    "id": "dZE8Z6mUZLSa"
   },
   "source": [
    "Copy this file \"Review_Command_Line.ipynb\" into the \"python_decal_review\" directory you made earlier. "
   ]
  },
  {
   "cell_type": "markdown",
   "metadata": {
    "id": "meAWGSajbx1U"
   },
   "source": [
    ""
   ]
  },
  {
   "cell_type": "markdown",
   "metadata": {
    "id": "3LHsxKckZjlF"
   },
   "source": [
    "## Question 5"
   ]
  },
  {
   "cell_type": "markdown",
   "metadata": {
    "id": "L99hzVm-ZvGA"
   },
   "source": [
    "Delete (remove) the \"python_decal_review\" directory you made. (Hint: you will need a flag to delete an entire directory not just a file. This would be a good time to use Google.)"
   ]
  },
  {
   "cell_type": "markdown",
   "metadata": {
    "id": "WajXs5f0bzhR"
   },
   "source": [
    ""
   ]
  }
 ],
 "metadata": {
  "colab": {
   "authorship_tag": "ABX9TyPSmc3wWqtRdO+EeHPtOYUP",
   "name": "Review_Command_Line.ipynb",
   "provenance": []
  },
  "kernelspec": {
   "display_name": "Python 3",
   "name": "python3"
  },
  "language_info": {
   "name": "python"
  }
 },
 "nbformat": 4,
 "nbformat_minor": 0
}
