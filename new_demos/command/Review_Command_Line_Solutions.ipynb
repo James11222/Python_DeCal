{
 "cells": [
  {
   "cell_type": "markdown",
   "metadata": {
    "id": "tXT2nYpmYBpd"
   },
   "source": [
    "# Command Line\n"
   ]
  },
  {
   "cell_type": "markdown",
   "metadata": {
    "id": "7ne4Hr2yYEu9"
   },
   "source": [
    "The command line is an important tool that lets us manipulate files on our computer without having to use any other interfaces or our mouse. This is especially important if you need to remote ssh (basically logon) to another computer remotely. We do not expect you to have every command memorized, so when in doubt Google!"
   ]
  },
  {
   "cell_type": "markdown",
   "metadata": {
    "id": "18Wfx2NAYcJv"
   },
   "source": [
    "For each question, write out the command line commands (in your Terminal) you would use to complete the task. There may be multiple ways to do each task.\n",
    "\n",
    "Note: You cannot run commands in Google Colab or Jupyter Notebook, but feel free to experiment in your own terminal or create a new markdown cell to describe what each command will do!"
   ]
  },
  {
   "cell_type": "markdown",
   "metadata": {
    "id": "MY7dRNz_YjDH"
   },
   "source": [
    "## Question 1"
   ]
  },
  {
   "cell_type": "markdown",
   "metadata": {
    "id": "OqjnGW7OYo9c"
   },
   "source": [
    "Create a directory called “python_decal_review” . Go into the decal directory. Then, create another directory inside of that called “final_project”.\n",
    "    "
   ]
  },
  {
   "cell_type": "markdown",
   "metadata": {
    "id": "YWztR8EXa3JR"
   },
   "source": [
    "**SOLUTION** \\\\\n",
    "mkdir python_decal_review \\\\\n",
    "cd python_decal_review \\\\\n",
    "mkdir final_project"
   ]
  },
  {
   "cell_type": "markdown",
   "metadata": {
    "id": "BO1kHsU9YvGN"
   },
   "source": [
    "## Question 2"
   ]
  },
  {
   "cell_type": "markdown",
   "metadata": {
    "id": "0pXa4R68Y0DT"
   },
   "source": [
    "Count how many total files and directories are in your current directory. If there are more than 10 no need to count, you can just put 10."
   ]
  },
  {
   "cell_type": "markdown",
   "metadata": {
    "id": "DY_VuNhZbJa1"
   },
   "source": [
    "**SOLUTION** \\\\\n",
    "ls \\\\\n",
    "List the files then manually count how many files"
   ]
  },
  {
   "cell_type": "markdown",
   "metadata": {
    "id": "OxL7kXMpY7Lc"
   },
   "source": [
    "## Question 3"
   ]
  },
  {
   "cell_type": "markdown",
   "metadata": {
    "id": "Gxx0RldHY-um"
   },
   "source": [
    "Someone asks you what path your “Review_Command_Line.ipnyb” is located at."
   ]
  },
  {
   "cell_type": "markdown",
   "metadata": {
    "id": "bXHAupgCbZSJ"
   },
   "source": [
    "**SOLUTION** \\\\\n",
    "pwd"
   ]
  },
  {
   "cell_type": "markdown",
   "metadata": {
    "id": "R6YAlswrZJiB"
   },
   "source": [
    "## Question 4"
   ]
  },
  {
   "cell_type": "markdown",
   "metadata": {
    "id": "dZE8Z6mUZLSa"
   },
   "source": [
    "Copy this file \"Review_Command_Line.ipynb\" into the \"python_decal_review\" directory you made earlier. "
   ]
  },
  {
   "cell_type": "markdown",
   "metadata": {
    "id": "cbigCSkObcMH"
   },
   "source": [
    "**SOLUTION** \\\\\n",
    "cp Review_Command_Line.ipnyb python_decal_review"
   ]
  },
  {
   "cell_type": "markdown",
   "metadata": {},
   "source": [
    "# Command Line in a Notebook"
   ]
  },
  {
   "cell_type": "markdown",
   "metadata": {},
   "source": [
    "In this section of the review, you will become familiar with how to interact with your environment through the Jupyter Notebook. Pull up os documentation (https://docs.python.org/3/library/os.html) and peruse. From our first lecture on Command Line, try to identify some key words like files, paths, and directories. You will not need to understand it all right away."
   ]
  },
  {
   "cell_type": "code",
   "execution_count": 1,
   "metadata": {},
   "outputs": [],
   "source": [
    "import os"
   ]
  },
  {
   "cell_type": "markdown",
   "metadata": {},
   "source": [
    "## Question 5\n",
    "\n",
    "The command `os.getcwd()` will output the current working directory, or where you are in your computer. Double-click on the markdown cell below, and write what the output is, and what it represents. "
   ]
  },
  {
   "cell_type": "code",
   "execution_count": 2,
   "metadata": {},
   "outputs": [
    {
     "data": {
      "text/plain": [
       "'/Users/cgtolley/Desktop/Python_DeCal/new_git_command_demo'"
      ]
     },
     "execution_count": 2,
     "metadata": {},
     "output_type": "execute_result"
    }
   ],
   "source": [
    "os.getcwd()"
   ]
  },
  {
   "cell_type": "markdown",
   "metadata": {},
   "source": [
    "This is a path! It will look different for everyone because everyone will have a different user profile name, and will keep their Downloads in a different place. This represents where the file that I am working in is located. If you do the previous exercises where you move the file into the \"python_decal_review\" directory that you made, it will describe wherever you made that directory."
   ]
  },
  {
   "cell_type": "code",
   "execution_count": null,
   "metadata": {
    "id": "y18JU8v2cCux"
   },
   "outputs": [],
   "source": []
  }
 ],
 "metadata": {
  "colab": {
   "collapsed_sections": [],
   "name": "Review_Command_Line_Solutions.ipynb",
   "provenance": []
  },
  "kernelspec": {
   "display_name": "Python 3 (ipykernel)",
   "language": "python",
   "name": "python3"
  },
  "language_info": {
   "codemirror_mode": {
    "name": "ipython",
    "version": 3
   },
   "file_extension": ".py",
   "mimetype": "text/x-python",
   "name": "python",
   "nbconvert_exporter": "python",
   "pygments_lexer": "ipython3",
   "version": "3.9.13"
  }
 },
 "nbformat": 4,
 "nbformat_minor": 1
}
