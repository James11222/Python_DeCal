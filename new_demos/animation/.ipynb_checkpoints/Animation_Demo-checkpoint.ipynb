{
 "cells": [
  {
   "cell_type": "markdown",
   "metadata": {},
   "source": [
    "# Animation Demo"
   ]
  },
  {
   "cell_type": "markdown",
   "metadata": {},
   "source": [
    "Let's animate a planet orbiting a star!"
   ]
  },
  {
   "cell_type": "code",
   "execution_count": null,
   "metadata": {},
   "outputs": [],
   "source": [
    "import numpy as np\n",
    "import matplotlib.pyplot as plt\n",
    "import scipy\n",
    "import scipy.integrate\n",
    "\n",
    "from mpl_toolkits.mplot3d import Axes3D\n",
    "from matplotlib.animation import FFMpegWriter\n",
    "\n",
    "%config InlineBackend.figure_format='retina' # makes animation display better\n",
    "# ^ COMMENT OUT IF ON WINDOWS\n",
    "\n",
    "%matplotlib osx \n",
    "# ^ UNCOMMENT THIS LINE IF USING MAC\n",
    "\n",
    "# %matplotlib qt \n",
    "# ^ UNCOMMENT THIS LINE IS USING WINDOWS"
   ]
  },
  {
   "cell_type": "markdown",
   "metadata": {},
   "source": [
    "Set up initial conditions:"
   ]
  },
  {
   "cell_type": "code",
   "execution_count": null,
   "metadata": {},
   "outputs": [],
   "source": [
    "# Define masses\n",
    "mp = 3 * 10**(-5)\n",
    "ms = 1.0\n",
    "\n",
    "# Define initial position vectors \n",
    "r1 = np.array([1, 0])\n",
    "r2 = np.array([0, 0]) # at orgin\n",
    "\n",
    "# Define initial velocities\n",
    "v1 = np.array([0, 0.75])\n",
    "v2 = np.array([0, 0]) # stationary"
   ]
  },
  {
   "cell_type": "markdown",
   "metadata": {},
   "source": [
    "Newton's Law of Universal Gravitation governs our planet's motion:\n",
    "\n",
    "\\begin{equation}\n",
    " F = G \\frac{m_1 m_2}{r^2}\n",
    "\\end{equation}\n",
    "\n",
    "We define a function that calculates velocity and acceleration at some time step t:"
   ]
  },
  {
   "cell_type": "code",
   "execution_count": null,
   "metadata": {},
   "outputs": [],
   "source": [
    "def OrbitEquation(w, t, m1, m2): # w is an array containing positions and velocities\n",
    "    r1 = w[:2]\n",
    "    v1 = w[2:4]\n",
    "    \n",
    "    r12 = np.linalg.norm(r1)\n",
    "    \n",
    "    dv1bydt = m2*(-r1)/r12**3  # derivative of velocity\n",
    "\n",
    "    dr1bydt = v1 # derivative of position \n",
    "    \n",
    "    r_derivs = dr1bydt\n",
    "    v_derivs = dv1bydt\n",
    "    derivs = np.concatenate((r_derivs, v_derivs)) # joining the two arrays\n",
    "    \n",
    "    return derivs"
   ]
  },
  {
   "cell_type": "markdown",
   "metadata": {},
   "source": [
    "Solve the ordinary differential equation (OrbitEquation) using scipy.integrate.odeint:"
   ]
  },
  {
   "cell_type": "code",
   "execution_count": null,
   "metadata": {},
   "outputs": [],
   "source": [
    "# Package initial parameters into one array (just easier to work with this way)\n",
    "init_params = np.array([r1, v1])\n",
    "init_params = init_params.flatten()\n",
    "time_span = np.linspace(0, 5, 500)  # run for t=5 (500 points)\n",
    "\n",
    "# Run the ODE solver\n",
    "sol = scipy.integrate.odeint(OrbitEquation, init_params, time_span, args=(mp,ms))"
   ]
  },
  {
   "cell_type": "markdown",
   "metadata": {},
   "source": [
    "Save the solutions into a format that's easier to work with: "
   ]
  },
  {
   "cell_type": "code",
   "execution_count": null,
   "metadata": {},
   "outputs": [],
   "source": [
    "r1_sol = sol[:,:2]"
   ]
  },
  {
   "cell_type": "markdown",
   "metadata": {},
   "source": [
    "Initialize the writer:"
   ]
  },
  {
   "cell_type": "code",
   "execution_count": null,
   "metadata": {},
   "outputs": [],
   "source": [
    "# Initilize writer \n",
    "metadata = dict(title='My first animation', artist='Matplotlib')\n",
    "writer = FFMpegWriter(fps=50, metadata=metadata, bitrate=200000) # change fps for different frame rates\n",
    "fig = plt.figure(dpi=200)"
   ]
  },
  {
   "cell_type": "markdown",
   "metadata": {},
   "source": [
    "Running the writer loop:\n",
    "\n",
    "(this should open up a separate window and it will most likely take a while to run!)"
   ]
  },
  {
   "cell_type": "code",
   "execution_count": null,
   "metadata": {},
   "outputs": [],
   "source": [
    "# SAVE AS MP4 (will be saved in whatever directory you are working in)\n",
    "fig, ax = plt.subplots()\n",
    "\n",
    "with writer.saving(fig, \"orbit.mp4\", dpi=200):\n",
    "    for i in range(len(time_span)):\n",
    "\n",
    "        ax.clear()\n",
    "\n",
    "        ax.plot(r1_sol[:i,0],r1_sol[:i,1],color=\"blue\", alpha=0.5)\n",
    "        ax.scatter(r1_sol[i,0],r1_sol[i,1],color=\"blue\",marker=\"o\",s=20, zorder=5) # planet\n",
    "        \n",
    "        ax.scatter(0, 0, color=\"orange\",marker=\"*\",s=50, zorder=5) # star\n",
    "        \n",
    "        ax.set_xlim(-1.5, 1.5)\n",
    "        ax.set_ylim(-1.5, 1.5)\n",
    "        \n",
    "        plt.draw()\n",
    "        plt.pause(0.01)\n",
    "        writer.grab_frame()"
   ]
  },
  {
   "cell_type": "markdown",
   "metadata": {},
   "source": [
    "****"
   ]
  },
  {
   "cell_type": "markdown",
   "metadata": {},
   "source": [
    "Plotting a dynamic tail!"
   ]
  },
  {
   "cell_type": "code",
   "execution_count": null,
   "metadata": {},
   "outputs": [],
   "source": [
    "# SAVE AS MP4 -- tailed orbit\n",
    "fig, ax = plt.subplots()\n",
    "\n",
    "tail_length = 50  # set tail length\n",
    "\n",
    "with writer.saving(fig, \"orbit_tail_.mp4\", dpi=200):\n",
    "    for i in range(len(time_span)):\n",
    "\n",
    "        ax.clear()\n",
    "        \n",
    "        if i < tail_length:\n",
    "            ax.plot(r1_sol[:i,0],r1_sol[:i,1],color=\"blue\", alpha=0.5)\n",
    "        else:\n",
    "            ax.plot(r1_sol[i-tail_length:i,0],r1_sol[i-tail_length:i,1],color=\"blue\", alpha=0.5)\n",
    "            \n",
    "        ax.scatter(r1_sol[i,0],r1_sol[i,1],color=\"blue\",marker=\"o\",s=20, zorder=5) # planet\n",
    "        \n",
    "        ax.scatter(0, 0, color=\"orange\",marker=\"*\",s=50, zorder=5) # star\n",
    "        \n",
    "        ax.set_xlim(-1.5, 1.5)\n",
    "        ax.set_ylim(-1.5, 1.5)\n",
    "        \n",
    "        plt.draw()\n",
    "        plt.pause(0.01)\n",
    "        writer.grab_frame()"
   ]
  },
  {
   "cell_type": "code",
   "execution_count": null,
   "metadata": {},
   "outputs": [],
   "source": []
  }
 ],
 "metadata": {
  "kernelspec": {
   "display_name": "Python 3",
   "language": "python",
   "name": "python3"
  },
  "language_info": {
   "codemirror_mode": {
    "name": "ipython",
    "version": 3
   },
   "file_extension": ".py",
   "mimetype": "text/x-python",
   "name": "python",
   "nbconvert_exporter": "python",
   "pygments_lexer": "ipython3",
   "version": "3.8.3"
  }
 },
 "nbformat": 4,
 "nbformat_minor": 4
}
