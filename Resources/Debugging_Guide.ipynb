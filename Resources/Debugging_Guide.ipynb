{
 "cells": [
  {
   "cell_type": "code",
   "execution_count": null,
   "metadata": {
    "id": "11DFrcdJ94xG"
   },
   "outputs": [],
   "source": [
    "#imports\n",
    "import numpy as np \n",
    "from math import sqrt"
   ]
  },
  {
   "cell_type": "markdown",
   "metadata": {
    "id": "tSQrahkcjOMm"
   },
   "source": [
    "# Debugging Strategies Resource\n",
    "\n",
    "Hello, welcome to the Python DeCal debugging strategies notebook. This will serve as a great resource for those who are new to python and don't know how to fix code when it's not working. This is not an all encompasing resource for all the possible debugging tools, but it will walk you through the basics and make you feel more comfortable when an error pops up in your coding expeditions.\n",
    "\n",
    "We break this notebook up into 4 sections. Section I serves as a walkthrough of the overal debugging process, Section II summarizes those steps into a cohesive list, Section III shows the most common types of errors that occur in scientific programming to help you anticipate them, and Section IV shows you how to write code that anticipates errors. Section IV is particularly useful if you wish to write code that is usable by someone other than yourself."
   ]
  },
  {
   "cell_type": "markdown",
   "metadata": {
    "id": "_Ek6iYtPAdTg"
   },
   "source": [
    "## I. Reading Error Messages"
   ]
  },
  {
   "cell_type": "markdown",
   "metadata": {
    "id": "h4owsvewj3oa"
   },
   "source": [
    "Often times, the hardest part of learning how to debug is simply just understanding what all the red text means! We address that in this section with a workflow example. Below is an example of a common buggy code that was written hastly and needs some debugging treatment.\n",
    "\n",
    "This is some code that makes use of a fun statistical fact that if we draw a quarter of a circle inside of a square and randomly throw some darts at the square, the ratio of darts inside the circle to the number of total darts thrown approximates $\\pi/4$! \n",
    "\n",
    "<p align=\"center\">\n",
    "  <img src=\"https://github.com/James11222/Python_DeCal/blob/master/DeCal_Images/darts_pi.png?raw=true\" alt=\"monte pi\", width=50%>\n",
    "</p>\n",
    "\n",
    "This code is purposefully flawed. Let's try running the cell below and see what happens.\n"
   ]
  },
  {
   "cell_type": "code",
   "execution_count": null,
   "metadata": {
    "colab": {
     "base_uri": "https://localhost:8080/",
     "height": 371
    },
    "id": "SqPNnfiejxnj",
    "outputId": "621c4d76-b7e5-402b-952a-d0879c4c85d9"
   },
   "outputs": [
    {
     "ename": "TypeError",
     "evalue": "ignored",
     "output_type": "error",
     "traceback": [
      "\u001b[0;31m---------------------------------------------------------------------------\u001b[0m",
      "\u001b[0;31mTypeError\u001b[0m                                 Traceback (most recent call last)",
      "\u001b[0;32m<ipython-input-77-b32a4d3d809e>\u001b[0m in \u001b[0;36m<module>\u001b[0;34m()\u001b[0m\n\u001b[1;32m     30\u001b[0m \u001b[0;31m#-------------------------------------------------------\u001b[0m\u001b[0;34m\u001b[0m\u001b[0;34m\u001b[0m\u001b[0;34m\u001b[0m\u001b[0m\n\u001b[1;32m     31\u001b[0m \u001b[0;34m\u001b[0m\u001b[0m\n\u001b[0;32m---> 32\u001b[0;31m \u001b[0mestimate_pi\u001b[0m\u001b[0;34m(\u001b[0m\u001b[0;36m200000\u001b[0m\u001b[0;34m)\u001b[0m\u001b[0;34m\u001b[0m\u001b[0;34m\u001b[0m\u001b[0m\n\u001b[0m",
      "\u001b[0;32m<ipython-input-77-b32a4d3d809e>\u001b[0m in \u001b[0;36mestimate_pi\u001b[0;34m(number_of_darts)\u001b[0m\n\u001b[1;32m     21\u001b[0m \u001b[0;34m\u001b[0m\u001b[0m\n\u001b[1;32m     22\u001b[0m     \u001b[0;32mfor\u001b[0m \u001b[0mthrow\u001b[0m \u001b[0;32min\u001b[0m \u001b[0mrange\u001b[0m\u001b[0;34m(\u001b[0m\u001b[0mnumber_of_darts\u001b[0m\u001b[0;34m)\u001b[0m\u001b[0;34m:\u001b[0m\u001b[0;34m\u001b[0m\u001b[0;34m\u001b[0m\u001b[0m\n\u001b[0;32m---> 23\u001b[0;31m       \u001b[0mnumber_of_darts_in_circle\u001b[0m \u001b[0;34m+=\u001b[0m \u001b[0mthrow_dart\u001b[0m\u001b[0;34m(\u001b[0m\u001b[0;34m)\u001b[0m\u001b[0;34m\u001b[0m\u001b[0;34m\u001b[0m\u001b[0m\n\u001b[0m\u001b[1;32m     24\u001b[0m \u001b[0;34m\u001b[0m\u001b[0m\n\u001b[1;32m     25\u001b[0m     \u001b[0mpi_approx\u001b[0m \u001b[0;34m=\u001b[0m \u001b[0;36m4\u001b[0m \u001b[0;34m*\u001b[0m \u001b[0;34m(\u001b[0m\u001b[0mnumber_of_darts_in_circle\u001b[0m \u001b[0;34m/\u001b[0m \u001b[0mnumber_of_darts\u001b[0m\u001b[0;34m)\u001b[0m\u001b[0;34m\u001b[0m\u001b[0;34m\u001b[0m\u001b[0m\n",
      "\u001b[0;32m<ipython-input-77-b32a4d3d809e>\u001b[0m in \u001b[0;36mthrow_dart\u001b[0;34m()\u001b[0m\n\u001b[1;32m      7\u001b[0m     \"\"\"\n\u001b[1;32m      8\u001b[0m     \u001b[0mx\u001b[0m\u001b[0;34m,\u001b[0m \u001b[0my\u001b[0m \u001b[0;34m=\u001b[0m \u001b[0mnp\u001b[0m\u001b[0;34m.\u001b[0m\u001b[0mrandom\u001b[0m\u001b[0;34m.\u001b[0m\u001b[0muniform\u001b[0m\u001b[0;34m(\u001b[0m\u001b[0;36m0\u001b[0m\u001b[0;34m,\u001b[0m\u001b[0;36m1\u001b[0m\u001b[0;34m,\u001b[0m \u001b[0;36m2\u001b[0m\u001b[0;34m)\u001b[0m\u001b[0;34m,\u001b[0m \u001b[0mnp\u001b[0m\u001b[0;34m.\u001b[0m\u001b[0mrandom\u001b[0m\u001b[0;34m.\u001b[0m\u001b[0muniform\u001b[0m\u001b[0;34m(\u001b[0m\u001b[0;36m0\u001b[0m\u001b[0;34m,\u001b[0m\u001b[0;36m1\u001b[0m\u001b[0;34m,\u001b[0m \u001b[0;36m2\u001b[0m\u001b[0;34m)\u001b[0m \u001b[0;31m#giving each dart a random x,y position between 0 and 1\u001b[0m\u001b[0;34m\u001b[0m\u001b[0;34m\u001b[0m\u001b[0m\n\u001b[0;32m----> 9\u001b[0;31m     \u001b[0;32mif\u001b[0m \u001b[0msqrt\u001b[0m\u001b[0;34m(\u001b[0m\u001b[0;34m(\u001b[0m\u001b[0mx\u001b[0m \u001b[0;34m-\u001b[0m \u001b[0;36m0.5\u001b[0m\u001b[0;34m)\u001b[0m\u001b[0;34m**\u001b[0m\u001b[0;36m2\u001b[0m \u001b[0;34m+\u001b[0m \u001b[0;34m(\u001b[0m\u001b[0my\u001b[0m \u001b[0;34m-\u001b[0m \u001b[0;36m0.5\u001b[0m\u001b[0;34m)\u001b[0m\u001b[0;34m**\u001b[0m\u001b[0;36m2\u001b[0m\u001b[0;34m)\u001b[0m \u001b[0;34m<=\u001b[0m \u001b[0;36m0.5\u001b[0m\u001b[0;34m:\u001b[0m \u001b[0;31m#check to see if its in the circle\u001b[0m\u001b[0;34m\u001b[0m\u001b[0;34m\u001b[0m\u001b[0m\n\u001b[0m\u001b[1;32m     10\u001b[0m         \u001b[0;32mreturn\u001b[0m \u001b[0;36m1\u001b[0m\u001b[0;34m\u001b[0m\u001b[0;34m\u001b[0m\u001b[0m\n\u001b[1;32m     11\u001b[0m     \u001b[0;32melse\u001b[0m\u001b[0;34m:\u001b[0m\u001b[0;34m\u001b[0m\u001b[0;34m\u001b[0m\u001b[0m\n",
      "\u001b[0;31mTypeError\u001b[0m: only size-1 arrays can be converted to Python scalars"
     ]
    }
   ],
   "source": [
    "#-------------------------------------------------------\n",
    "#                     Code Below\n",
    "#-------------------------------------------------------\n",
    "\n",
    "\n",
    "def throw_dart():\n",
    "    \"\"\"\n",
    "    A function that effectively throws a dart, if it lands in\n",
    "    the quarter circle we return 1, if not we return 0.\n",
    "    \"\"\"\n",
    "    x, y = np.random.uniform(0,1, 2), np.random.uniform(0,1, 2) #giving each dart a random x,y position between 0 and 1\n",
    "    if sqrt((x - 0.5)**2 + (y - 0.5)**2) <= 0.5: #check to see if its in the circle\n",
    "        return 1\n",
    "    else:\n",
    "        return 0\n",
    "\n",
    "\n",
    "def estimate_pi(number_of_darts):\n",
    "    \"\"\"\n",
    "    A simple function to estimate π using\n",
    "    sampling from a normal distribution with num points.\n",
    "    \"\"\"\n",
    "    number_of_darts_in_circle = 0\n",
    "\n",
    "    for throw in range(number_of_darts):\n",
    "        number_of_darts_in_circle += throw_dart()\n",
    "        \n",
    "    pi_approx = 4 * (number_of_darts_in_circle / number_of_darts)\n",
    "    \n",
    "    return pi_approx\n",
    "\n",
    "#-------------------------------------------------------\n",
    "#                 Executing the Code\n",
    "#-------------------------------------------------------\n",
    "\n",
    "estimate_pi(200000)\n"
   ]
  },
  {
   "cell_type": "markdown",
   "metadata": {
    "id": "wcfOBy1WvFnW"
   },
   "source": [
    "Hmm, something is wrong here. This might be a bit daunting to read but fear not, we will walk through it. \n",
    "\n",
    "<p align=\"center\">\n",
    "  <img src=\"https://github.com/James11222/Python_DeCal/blob/master/DeCal_Images/debugging_step1.png?raw=true\" alt=\"debug step 1\", width=70%>\n",
    "</p>\n",
    "\n",
    "When reading these huge error statements it is important to first direct your attention the the very bottom of the statement. This will tell you what kind of error is occuring and a short summary of the problem. In this case a `TypeError` means we are using the wrong data type somewhere and we are trying to do an operation that doesn't make sense for the data types being used (an example would be `max(7)`, that would give a type error because you can't take the max of an integer). We also get a small sentence explaining the issue \n",
    "\n",
    "`TypeError: only size-1 arrays can be converted to Python scalars`\n",
    "\n",
    "which immediately tells us something is funky with our use of arrays/lists and assigning them to variables. Often times if you have absolutely no idea what this sentence means, you can google it! Literally copy and paste that line into google and find a stack overflow page that might help. That would look something like:\n",
    "\n",
    "\n",
    "<p align=\"center\">\n",
    "  <img src=\"https://github.com/James11222/Python_DeCal/blob/master/DeCal_Images/debugging_gif.gif?raw=true\" alt=\"debug gif\", width=70%>\n",
    "</p>\n",
    "\n",
    "Typically there is atleast 1 other person in the world who has likely had the same question as you. It is a common joke/meme that software developers are just experts at using stack overflow for this very reason. Note that if you do end up using/copying code from one of these threads, it is a good idea to cite that thread to give credit to those who answered the question.\n",
    "\n",
    "Another tool at our disposal is checking the stack trace. This means reading through the error message text above the final line. This is often really powerful and allows us to find exactly what lines of code are causing the problem. Let's go back to that original image we had earlier:\n",
    "\n",
    "<p align=\"center\">\n",
    "  <img src=\"https://github.com/James11222/Python_DeCal/blob/master/DeCal_Images/debugging_step2.png?raw=true\" alt=\"debug step 2\", width=70%>\n",
    "</p>\n",
    "\n",
    "The purple serves as a guide for reading the stack trace. We start at the very top to find what line of code started the cascade of errors. Then we go down the stack (follow the arrows) which show what lines caused our original line to error. In the image above we see that line 36 (our `estimate_pi` function call), errored because of line 26 earlier in the code. This tells us line 26 has a problem, but since this isn't the final error in the stack trace it actually goes deeper. Since we are calling a function on that line `throw_dart()`, it is likely the error is coming from that function. If we keep going with the next arrow to see that line 12 seems to be the root source of error in our code. Line 12 does happen to be inside our `throw_dart` function, so this function has a bug in it! Let's fix it.\n",
    "\n",
    "It appears that `x` and `y` aren't behaving as we think they should. We had originally planned for `x` and `y` to simply be a coordinate of a single dart. This means that `x` should be a `float` and `y` should also be a `float`. We can check to see if that is the case by adding a print statement to see what `x` and `y` really are. We have to do this **before** the line where we expect the error to occur. We know this error occurs in the if statement, so lets add the print statements before that so they will execute before the code errors."
   ]
  },
  {
   "cell_type": "code",
   "execution_count": null,
   "metadata": {
    "colab": {
     "base_uri": "https://localhost:8080/",
     "height": 364
    },
    "id": "qMxaue9c4tQY",
    "outputId": "0c5b1ae4-5fb3-42d0-f640-a3c7160cd1dc"
   },
   "outputs": [
    {
     "name": "stdout",
     "output_type": "stream",
     "text": [
      "the type of x is:  <class 'numpy.ndarray'>\n",
      "the type of y is:  <class 'numpy.ndarray'>\n"
     ]
    },
    {
     "ename": "TypeError",
     "evalue": "ignored",
     "output_type": "error",
     "traceback": [
      "\u001b[0;31m---------------------------------------------------------------------------\u001b[0m",
      "\u001b[0;31mTypeError\u001b[0m                                 Traceback (most recent call last)",
      "\u001b[0;32m<ipython-input-79-25cb116187b2>\u001b[0m in \u001b[0;36m<module>\u001b[0;34m()\u001b[0m\n\u001b[1;32m     15\u001b[0m \u001b[0;34m\u001b[0m\u001b[0m\n\u001b[1;32m     16\u001b[0m \u001b[0;34m\u001b[0m\u001b[0m\n\u001b[0;32m---> 17\u001b[0;31m \u001b[0mthrow_dart\u001b[0m\u001b[0;34m(\u001b[0m\u001b[0;34m)\u001b[0m\u001b[0;34m\u001b[0m\u001b[0;34m\u001b[0m\u001b[0m\n\u001b[0m",
      "\u001b[0;32m<ipython-input-79-25cb116187b2>\u001b[0m in \u001b[0;36mthrow_dart\u001b[0;34m()\u001b[0m\n\u001b[1;32m      9\u001b[0m     \u001b[0mprint\u001b[0m\u001b[0;34m(\u001b[0m\u001b[0;34m\"the type of y is: \"\u001b[0m\u001b[0;34m,\u001b[0m \u001b[0mtype\u001b[0m\u001b[0;34m(\u001b[0m\u001b[0my\u001b[0m\u001b[0;34m)\u001b[0m\u001b[0;34m)\u001b[0m \u001b[0;31m#temporary debugging print statements\u001b[0m\u001b[0;34m\u001b[0m\u001b[0;34m\u001b[0m\u001b[0m\n\u001b[1;32m     10\u001b[0m \u001b[0;34m\u001b[0m\u001b[0m\n\u001b[0;32m---> 11\u001b[0;31m     \u001b[0;32mif\u001b[0m \u001b[0msqrt\u001b[0m\u001b[0;34m(\u001b[0m\u001b[0;34m(\u001b[0m\u001b[0mx\u001b[0m \u001b[0;34m-\u001b[0m \u001b[0;36m0.5\u001b[0m\u001b[0;34m)\u001b[0m\u001b[0;34m**\u001b[0m\u001b[0;36m2\u001b[0m \u001b[0;34m+\u001b[0m \u001b[0;34m(\u001b[0m\u001b[0my\u001b[0m \u001b[0;34m-\u001b[0m \u001b[0;36m0.5\u001b[0m\u001b[0;34m)\u001b[0m\u001b[0;34m**\u001b[0m\u001b[0;36m2\u001b[0m\u001b[0;34m)\u001b[0m \u001b[0;34m<=\u001b[0m \u001b[0;36m0.5\u001b[0m\u001b[0;34m:\u001b[0m \u001b[0;31m#check to see if its in the circle\u001b[0m\u001b[0;34m\u001b[0m\u001b[0;34m\u001b[0m\u001b[0m\n\u001b[0m\u001b[1;32m     12\u001b[0m         \u001b[0;32mreturn\u001b[0m \u001b[0;36m1\u001b[0m\u001b[0;34m\u001b[0m\u001b[0;34m\u001b[0m\u001b[0m\n\u001b[1;32m     13\u001b[0m     \u001b[0;32melse\u001b[0m\u001b[0;34m:\u001b[0m\u001b[0;34m\u001b[0m\u001b[0;34m\u001b[0m\u001b[0m\n",
      "\u001b[0;31mTypeError\u001b[0m: only size-1 arrays can be converted to Python scalars"
     ]
    }
   ],
   "source": [
    "def throw_dart():\n",
    "    \"\"\"\n",
    "    A function that effectively throws a dart, if it lands in\n",
    "    the quarter circle we return 1, if not we return 0.\n",
    "    \"\"\"\n",
    "    x, y = np.random.uniform(0,1, 2), np.random.uniform(0,1, 2) #giving each dart a random x,y position between 0 and 1\n",
    "\n",
    "    print(\"the type of x is: \", type(x)) #temporary debugging print statements\n",
    "    print(\"the type of y is: \", type(y)) #temporary debugging print statements\n",
    "\n",
    "    if sqrt((x - 0.5)**2 + (y - 0.5)**2) <= 0.5: #check to see if its in the circle\n",
    "        return 1\n",
    "    else:\n",
    "        return 0\n",
    "\n",
    "\n",
    "throw_dart()"
   ]
  },
  {
   "cell_type": "markdown",
   "metadata": {
    "id": "0rjZPafl8Nqv"
   },
   "source": [
    "Notice we didn't plan to fix the issue, simply diagnose it, so we will still see the error messages. Our print statements ran (above the error message) and they show exactly what data types x and y are. They are numpy arrays! Aha, let's fix that issue by looking at how we made `x` and `y`. We made them in this line\n",
    "\n",
    "```python\n",
    " x, y = np.random.uniform(0,1,2), np.random.uniform(0,1,2)\n",
    "```\n",
    "\n",
    "we should probably check to see if we understand how `np.random.uniform()` works. You can simply just google that function string plus the word python right after and go to the documentation website. You would type something like\n",
    "`\"np.random.uniform() python\"`\n",
    "into google. Clicking on one of the first links:  https://numpy.org/doc/ gives us\n",
    "\n",
    "<p align=\"center\">\n",
    "  <img src=\"https://github.com/James11222/Python_DeCal/blob/master/DeCal_Images/numpy_doc.png?raw=true\" alt=\"documentation\", width=70%>\n",
    "</p>\n",
    "\n",
    "By closely reading what each parameter/argument means in this function and looking at the returns. We see the third argument creates the size of an array! We don't want that, we just want 1 float value for each call so we need to just remove the 3rd argument to our function calls! Let's try it!\n"
   ]
  },
  {
   "cell_type": "code",
   "execution_count": null,
   "metadata": {
    "colab": {
     "base_uri": "https://localhost:8080/"
    },
    "id": "Fxlym_LdnX8B",
    "outputId": "c65d4724-57bd-4d78-9a96-555cf0699491"
   },
   "outputs": [
    {
     "name": "stdout",
     "output_type": "stream",
     "text": [
      "π = 3.13364\n"
     ]
    }
   ],
   "source": [
    "#-------------------------------------------------------\n",
    "#                     Code Below\n",
    "#-------------------------------------------------------\n",
    "\n",
    "\n",
    "def throw_dart():\n",
    "    \"\"\"\n",
    "    A function that effectively throws a dart, if it lands in\n",
    "    the quarter circle we return 1, if not we return 0.\n",
    "    \"\"\"\n",
    "    x, y = np.random.uniform(0,1), np.random.uniform(0,1) #giving each dart a random x,y position between 0 and 1\n",
    "    if sqrt((x - 0.5)**2 + (y - 0.5)**2) <= 0.5: #check to see if its in the circle\n",
    "        return 1\n",
    "    else:\n",
    "        return 0\n",
    "\n",
    "\n",
    "def estimate_pi(number_of_darts):\n",
    "    \"\"\"\n",
    "    A simple function to estimate π using\n",
    "    sampling from a normal distribution with num points.\n",
    "    \"\"\"\n",
    "    number_of_darts_in_circle = 0\n",
    "\n",
    "    for throw in range(number_of_darts):\n",
    "        number_of_darts_in_circle += throw_dart()\n",
    "        \n",
    "    pi_approx = 4 * (number_of_darts_in_circle / number_of_darts)\n",
    "    \n",
    "    return pi_approx\n",
    "\n",
    "#-------------------------------------------------------\n",
    "#                 Executing the Code\n",
    "#-------------------------------------------------------\n",
    "\n",
    "print(\"π =\", estimate_pi(200000))\n"
   ]
  },
  {
   "cell_type": "markdown",
   "metadata": {
    "id": "_Nx2Me6H_anG"
   },
   "source": [
    "Voila! There we have it, we successfully debugged the code. This isn't the absolute best way to do it, there are other tools you can use that are meant to streamline this process but those typically require using applications like <a href=\"https://code.visualstudio.com\">VS-Code</a>,  <a href=\"https://www.jetbrains.com/pycharm/\">pycharm</a>, or debugging widget extensions. This is merely serving as giving you the absolute fundamentals of learning how to read errors and use them to help you fix your code. Feel free to add more darts and see how much better it approximates $\\pi$!"
   ]
  },
  {
   "cell_type": "markdown",
   "metadata": {
    "id": "L5yJ0aU3BWHX"
   },
   "source": [
    "## II. Debugging Strategies Summarized"
   ]
  },
  {
   "cell_type": "markdown",
   "metadata": {
    "id": "K8GsCj8BB2q5"
   },
   "source": [
    "To summarize and add to the strategies in the previous section, here are some steps to follow when debugging your code: \\\n",
    "\n",
    "\n",
    "1.   **Read the error** \n",
    "> * Find out what kind of error you have (such as a `TypeError`, `RuntimeError`, etc.)\n",
    " * This will help you figure out how to start debugging\n",
    " * If the error is one you are unsure about, look it up in the [list of errors](https://docs.python.org/3/library/exceptions.html) (or simply Google it 😎).\n",
    "\n",
    "\n",
    "\n",
    " 2. **Locate the error**\n",
    "> * Follow the arrows in the outputted arrow to see which line is triggering the error\n",
    "* If there are multiple errors, the topmost one corresponds to the line which resulted in an error. The last error is the line that you actually need to fix.\n",
    "\n",
    "3. **Attempt to fix the error**\n",
    "> *   You may know exactly what needs to be fixed just by looking at the line. Other times, however, you may have no idea where to even begin.\n",
    ">* If you have an inkling of the root of the issue, utilize a print statement like in the above example. If a value is of a different type than intended or a loop is not performing as expected and so on, this will help you understand the issue further. \n",
    ">* If you're completely stuck though (which happens more often than not), Google and StackOverflow are your best friends 😃.\n",
    "\n",
    "And if all else fails, feel free to ask your peers, a mentor/professor, or even us instructors; we're always happy to help!\n",
    "\n",
    "\n",
    "\n",
    "\n"
   ]
  },
  {
   "cell_type": "markdown",
   "metadata": {
    "id": "QFnHGG3FBhtH"
   },
   "source": [
    "## III. Different Types of Errors"
   ]
  },
  {
   "cell_type": "markdown",
   "metadata": {
    "id": "7qT8nfMbCCvl"
   },
   "source": [
    "**Examples of Syntax Errors**\n",
    "These types of errors are the definition of \"It is the small things that matter.\" On the bright side, Python immediately stops the running the code once it hits an error which makes life easier if you know how to read the error.\n",
    "\n",
    "Exercise your error reading skill by trying the below examples and fix what is wrong."
   ]
  },
  {
   "cell_type": "code",
   "execution_count": null,
   "metadata": {
    "colab": {
     "base_uri": "https://localhost:8080/",
     "height": 149
    },
    "id": "4xPJdMrMBo_y",
    "outputId": "795de880-0684-4a02-dcbc-7aeaf219eb6b"
   },
   "outputs": [
    {
     "ename": "SyntaxError",
     "evalue": "ignored",
     "output_type": "error",
     "traceback": [
      "\u001b[0;36m  File \u001b[0;32m\"<ipython-input-1-3caeff3bdff6>\"\u001b[0;36m, line \u001b[0;32m2\u001b[0m\n\u001b[0;31m    if (\"your mom\" != \"cool\")\u001b[0m\n\u001b[0m                             ^\u001b[0m\n\u001b[0;31mSyntaxError\u001b[0m\u001b[0;31m:\u001b[0m invalid syntax\n"
     ]
    }
   ],
   "source": [
    "# Just a few tweaks \n",
    "if (\"your mom\" != \"cool\")\n",
    "     print(\"your mom is still cool\")"
   ]
  },
  {
   "cell_type": "markdown",
   "metadata": {
    "id": "dqp1sbL1feeE"
   },
   "source": [
    "Above we expect a SyntaxError because we forgot to close the `if` statement with a `:`. Also, be careful of additional spaces in between indents. Here is correct way to write that:"
   ]
  },
  {
   "cell_type": "code",
   "execution_count": null,
   "metadata": {
    "id": "TaqOnoYufdeA"
   },
   "outputs": [],
   "source": [
    "#Solutions for Syntax Errors \n",
    "\n",
    "# Just a few tweaks (1)\n",
    "if (\"your mom\" != \"cool\"): # -- It's okay to Google syntax <3\n",
    "    print(\"your mom is still cool\") # -- Python loves reading spaces so be careful! "
   ]
  },
  {
   "cell_type": "code",
   "execution_count": null,
   "metadata": {
    "colab": {
     "base_uri": "https://localhost:8080/",
     "height": 131
    },
    "id": "dJ-MhqVhqvRQ",
    "outputId": "8037abfa-9258-419d-9df0-cd8ab7862f98"
   },
   "outputs": [
    {
     "ename": "SyntaxError",
     "evalue": "ignored",
     "output_type": "error",
     "traceback": [
      "\u001b[0;36m  File \u001b[0;32m\"<ipython-input-3-6f80e600ad5c>\"\u001b[0;36m, line \u001b[0;32m10\u001b[0m\n\u001b[0;31m    Mj = ((5K * T)/(G * mu * M)) ** (3/2) * (3/(4 * np.pi* rho))**(1/2))\u001b[0m\n\u001b[0m            ^\u001b[0m\n\u001b[0;31mSyntaxError\u001b[0m\u001b[0;31m:\u001b[0m invalid syntax\n"
     ]
    }
   ],
   "source": [
    "#Jean's Mass \n",
    "K = 1.38 * 10^-23\n",
    "T = 70 #temperature in Kelvin\n",
    "G = 6.674 * 10**-11 #graviational constants in m^3 kg^-1 s^-2\n",
    "mu = 1\n",
    "M = 1.673 * 10**-27 #mass in kg\n",
    "n = 10**-7 \n",
    "rho = M * n #density\n",
    "\n",
    "Mj = ((5K * T)/(G * mu * M)) ** (3/2) * (3/(4 * np.pi* rho))**(1/2))\n",
    "print(Mk)"
   ]
  },
  {
   "cell_type": "markdown",
   "metadata": {
    "id": "_pIXqBaPidvq"
   },
   "source": [
    "There is a lot going on here. First make sure that all the operators are correct such as replacing any `^` with `**` and ensuring that all values are being multiplied using `*`. Then check your parenthesis!"
   ]
  },
  {
   "cell_type": "code",
   "execution_count": null,
   "metadata": {
    "id": "_zMxOqqVqvvJ"
   },
   "outputs": [],
   "source": [
    "#Jean's Mass\n",
    "K = 1.38 * 10**-23 # --- Don't use ^ for powers --\n",
    "T = 70 #temperature in Kelvin\n",
    "G = 6.674 * 10**-11 #graviational constants in m^3 kg^-1 s^-2\n",
    "mu = 1\n",
    "M = 1.673 * 10**-27 #mass in kg\n",
    "n = 10**12 \n",
    "rho = M * n #density\n",
    "\n",
    "Mj = ((5 * K * T)/(G * mu * M)) ** (3/2) * (3/(4 * np.pi* rho))**(1/2) #Always use * between each variable and an extra parenthesis\n",
    "#PROTIP: break apart big equations like these into different variable if you can't find what is wrong. \n",
    "print(Mj)\n"
   ]
  },
  {
   "cell_type": "markdown",
   "metadata": {
    "id": "66ucRfj0sdc2"
   },
   "source": [
    "**Examples of Run Time Errors:**\n",
    "These happen when the syntax of the code checks out but there is another underlying issue. "
   ]
  },
  {
   "cell_type": "code",
   "execution_count": null,
   "metadata": {
    "colab": {
     "base_uri": "https://localhost:8080/",
     "height": 248
    },
    "id": "uKNKX2ccsgdx",
    "outputId": "588dfbcd-a7b3-4f1e-9bd9-088deb341fb1"
   },
   "outputs": [
    {
     "ename": "ZeroDivisionError",
     "evalue": "ignored",
     "output_type": "error",
     "traceback": [
      "\u001b[0;31m---------------------------------------------------------------------------\u001b[0m",
      "\u001b[0;31mZeroDivisionError\u001b[0m                         Traceback (most recent call last)",
      "\u001b[0;32m<ipython-input-3-bac4d3bdaeef>\u001b[0m in \u001b[0;36m<module>\u001b[0;34m()\u001b[0m\n\u001b[1;32m      3\u001b[0m \u001b[0mv\u001b[0m \u001b[0;34m=\u001b[0m \u001b[0;36m3\u001b[0m \u001b[0;34m*\u001b[0m \u001b[0;36m10\u001b[0m \u001b[0;34m**\u001b[0m \u001b[0;36m8\u001b[0m\u001b[0;34m\u001b[0m\u001b[0;34m\u001b[0m\u001b[0m\n\u001b[1;32m      4\u001b[0m \u001b[0mc\u001b[0m \u001b[0;34m=\u001b[0m \u001b[0;36m3\u001b[0m \u001b[0;34m*\u001b[0m \u001b[0;36m10\u001b[0m \u001b[0;34m**\u001b[0m \u001b[0;36m8\u001b[0m\u001b[0;34m\u001b[0m\u001b[0;34m\u001b[0m\u001b[0m\n\u001b[0;32m----> 5\u001b[0;31m \u001b[0mtimePrime\u001b[0m \u001b[0;34m=\u001b[0m \u001b[0mtime\u001b[0m \u001b[0;34m/\u001b[0m \u001b[0;34m(\u001b[0m\u001b[0;34m(\u001b[0m\u001b[0;36m1\u001b[0m \u001b[0;34m-\u001b[0m \u001b[0;34m(\u001b[0m\u001b[0mv\u001b[0m\u001b[0;34m/\u001b[0m\u001b[0mc\u001b[0m\u001b[0;34m)\u001b[0m\u001b[0;34m**\u001b[0m\u001b[0;36m2\u001b[0m\u001b[0;34m)\u001b[0m\u001b[0;34m**\u001b[0m\u001b[0;34m(\u001b[0m\u001b[0;36m1\u001b[0m\u001b[0;34m/\u001b[0m\u001b[0;36m2\u001b[0m\u001b[0;34m)\u001b[0m\u001b[0;34m)\u001b[0m\u001b[0;34m\u001b[0m\u001b[0;34m\u001b[0m\u001b[0m\n\u001b[0m\u001b[1;32m      6\u001b[0m \u001b[0;34m\u001b[0m\u001b[0m\n\u001b[1;32m      7\u001b[0m \u001b[0;31m#EXPLANATION: Since v = c, and v/c = 1, the denominator becomes 0.\u001b[0m\u001b[0;34m\u001b[0m\u001b[0;34m\u001b[0m\u001b[0;34m\u001b[0m\u001b[0m\n",
      "\u001b[0;31mZeroDivisionError\u001b[0m: float division by zero"
     ]
    }
   ],
   "source": [
    "#Can anything go at the speed of light?\n",
    "time = 5 \n",
    "v = 3 * 10 ** 8\n",
    "c = 3 * 10 ** 8\n",
    "timePrime = time / ((1 - (v/c)**2)**(1/2)) \n",
    "\n"
   ]
  },
  {
   "cell_type": "markdown",
   "metadata": {
    "id": "YmMGLQ2wjM80"
   },
   "source": [
    "EXPLANATION: Since v = c, and v/c = 1, the denominator becomes 0. "
   ]
  },
  {
   "cell_type": "code",
   "execution_count": null,
   "metadata": {
    "colab": {
     "base_uri": "https://localhost:8080/",
     "height": 248
    },
    "id": "ovcVFY4jskNt",
    "outputId": "c8bd5a50-bf44-4ec8-ee59-0ae4d1b14d1c"
   },
   "outputs": [
    {
     "ename": "ValueError",
     "evalue": "ignored",
     "output_type": "error",
     "traceback": [
      "\u001b[0;31m---------------------------------------------------------------------------\u001b[0m",
      "\u001b[0;31mValueError\u001b[0m                                Traceback (most recent call last)",
      "\u001b[0;32m<ipython-input-14-907643507ffd>\u001b[0m in \u001b[0;36m<module>\u001b[0;34m()\u001b[0m\n\u001b[1;32m      3\u001b[0m \u001b[0mv\u001b[0m \u001b[0;34m=\u001b[0m \u001b[0;36m3\u001b[0m \u001b[0;34m*\u001b[0m \u001b[0;36m10\u001b[0m \u001b[0;34m**\u001b[0m \u001b[0;36m10\u001b[0m\u001b[0;34m\u001b[0m\u001b[0;34m\u001b[0m\u001b[0m\n\u001b[1;32m      4\u001b[0m \u001b[0mc\u001b[0m \u001b[0;34m=\u001b[0m \u001b[0;36m3\u001b[0m \u001b[0;34m*\u001b[0m \u001b[0;36m10\u001b[0m \u001b[0;34m**\u001b[0m \u001b[0;36m8\u001b[0m\u001b[0;34m\u001b[0m\u001b[0;34m\u001b[0m\u001b[0m\n\u001b[0;32m----> 5\u001b[0;31m \u001b[0mtimePrime\u001b[0m \u001b[0;34m=\u001b[0m \u001b[0mtime\u001b[0m \u001b[0;34m/\u001b[0m \u001b[0msqrt\u001b[0m\u001b[0;34m(\u001b[0m\u001b[0;34m(\u001b[0m\u001b[0;36m1\u001b[0m \u001b[0;34m-\u001b[0m \u001b[0;34m(\u001b[0m\u001b[0mv\u001b[0m\u001b[0;34m/\u001b[0m\u001b[0mc\u001b[0m\u001b[0;34m)\u001b[0m\u001b[0;34m**\u001b[0m\u001b[0;36m2\u001b[0m\u001b[0;34m)\u001b[0m\u001b[0;34m)\u001b[0m\u001b[0;34m\u001b[0m\u001b[0;34m\u001b[0m\u001b[0m\n\u001b[0m\u001b[1;32m      6\u001b[0m \u001b[0mprint\u001b[0m\u001b[0;34m(\u001b[0m\u001b[0mtimePrime\u001b[0m\u001b[0;34m)\u001b[0m\u001b[0;34m\u001b[0m\u001b[0;34m\u001b[0m\u001b[0m\n\u001b[1;32m      7\u001b[0m \u001b[0;34m\u001b[0m\u001b[0m\n",
      "\u001b[0;31mValueError\u001b[0m: math domain error"
     ]
    }
   ],
   "source": [
    "#How about faster than the speed of light?\n",
    "time = 5 \n",
    "v = 3 * 10 ** 10\n",
    "c = 3 * 10 ** 8\n",
    "timePrime = time / sqrt((1 - (v/c)**2)) \n",
    "print(timePrime)\n"
   ]
  },
  {
   "cell_type": "markdown",
   "metadata": {
    "id": "LafSgywMjUU-"
   },
   "source": [
    "EXPLANATION: Here, v > c, so it is taking the square root of a negative. "
   ]
  },
  {
   "cell_type": "code",
   "execution_count": null,
   "metadata": {
    "colab": {
     "base_uri": "https://localhost:8080/",
     "height": 248
    },
    "id": "mvo5uSKOs_zC",
    "outputId": "48e7dce5-54ee-4f3a-9494-fd3626bf023e"
   },
   "outputs": [
    {
     "ename": "NameError",
     "evalue": "ignored",
     "output_type": "error",
     "traceback": [
      "\u001b[0;31m---------------------------------------------------------------------------\u001b[0m",
      "\u001b[0;31mNameError\u001b[0m                                 Traceback (most recent call last)",
      "\u001b[0;32m<ipython-input-12-214143d4fc82>\u001b[0m in \u001b[0;36m<module>\u001b[0;34m()\u001b[0m\n\u001b[1;32m      2\u001b[0m \u001b[0mtime\u001b[0m \u001b[0;34m=\u001b[0m \u001b[0;36m5\u001b[0m\u001b[0;34m\u001b[0m\u001b[0;34m\u001b[0m\u001b[0m\n\u001b[1;32m      3\u001b[0m \u001b[0mc\u001b[0m \u001b[0;34m=\u001b[0m \u001b[0;36m3\u001b[0m \u001b[0;34m*\u001b[0m \u001b[0;36m10\u001b[0m \u001b[0;34m**\u001b[0m \u001b[0;36m8\u001b[0m\u001b[0;34m\u001b[0m\u001b[0;34m\u001b[0m\u001b[0m\n\u001b[0;32m----> 4\u001b[0;31m \u001b[0mtimePrime\u001b[0m \u001b[0;34m=\u001b[0m \u001b[0mtime\u001b[0m \u001b[0;34m/\u001b[0m \u001b[0;34m(\u001b[0m\u001b[0;34m(\u001b[0m\u001b[0;36m1\u001b[0m \u001b[0;34m-\u001b[0m \u001b[0;34m(\u001b[0m\u001b[0mu\u001b[0m\u001b[0;34m/\u001b[0m\u001b[0mc\u001b[0m\u001b[0;34m)\u001b[0m\u001b[0;34m**\u001b[0m\u001b[0;36m2\u001b[0m\u001b[0;34m)\u001b[0m\u001b[0;34m**\u001b[0m\u001b[0;34m(\u001b[0m\u001b[0;36m1\u001b[0m\u001b[0;34m/\u001b[0m\u001b[0;36m2\u001b[0m\u001b[0;34m)\u001b[0m\u001b[0;34m)\u001b[0m\u001b[0;34m\u001b[0m\u001b[0;34m\u001b[0m\u001b[0m\n\u001b[0m\u001b[1;32m      5\u001b[0m \u001b[0;34m\u001b[0m\u001b[0m\n\u001b[1;32m      6\u001b[0m \u001b[0;31m#EXPLANATION: v is not defined.\u001b[0m\u001b[0;34m\u001b[0m\u001b[0;34m\u001b[0m\u001b[0;34m\u001b[0m\u001b[0m\n",
      "\u001b[0;31mNameError\u001b[0m: name 'u' is not defined"
     ]
    }
   ],
   "source": [
    "#The need for speed!\n",
    "time = 5 \n",
    "c = 3 * 10 ** 8\n",
    "timePrime = time / ((1 - (u/c)**2)**(1/2))\n",
    "\n"
   ]
  },
  {
   "cell_type": "markdown",
   "metadata": {
    "id": "SOEm1Ca4jXzP"
   },
   "source": [
    "EXPLANATION: v is not defined. "
   ]
  },
  {
   "cell_type": "code",
   "execution_count": null,
   "metadata": {
    "colab": {
     "base_uri": "https://localhost:8080/",
     "height": 232
    },
    "id": "_5DsFYZWtC-A",
    "outputId": "0596af0f-437a-4a40-b179-fad1ff9db676"
   },
   "outputs": [
    {
     "ename": "FileNotFoundError",
     "evalue": "ignored",
     "output_type": "error",
     "traceback": [
      "\u001b[0;31m---------------------------------------------------------------------------\u001b[0m",
      "\u001b[0;31mFileNotFoundError\u001b[0m                         Traceback (most recent call last)",
      "\u001b[0;32m<ipython-input-5-e8a68dc9ed26>\u001b[0m in \u001b[0;36m<module>\u001b[0;34m()\u001b[0m\n\u001b[1;32m      1\u001b[0m \u001b[0;31m#Opening a pandora box that doesn't exist\u001b[0m\u001b[0;34m\u001b[0m\u001b[0;34m\u001b[0m\u001b[0;34m\u001b[0m\u001b[0m\n\u001b[0;32m----> 2\u001b[0;31m \u001b[0mf\u001b[0m \u001b[0;34m=\u001b[0m \u001b[0mopen\u001b[0m\u001b[0;34m(\u001b[0m\u001b[0;34m\"pandorabox.txt\"\u001b[0m\u001b[0;34m)\u001b[0m\u001b[0;34m\u001b[0m\u001b[0;34m\u001b[0m\u001b[0m\n\u001b[0m\u001b[1;32m      3\u001b[0m \u001b[0;34m\u001b[0m\u001b[0m\n\u001b[1;32m      4\u001b[0m \u001b[0;31m#EXPLANATION: Make sure the file you're trying to open is in the same folder as the code you are trying to run!\u001b[0m\u001b[0;34m\u001b[0m\u001b[0;34m\u001b[0m\u001b[0;34m\u001b[0m\u001b[0m\n",
      "\u001b[0;31mFileNotFoundError\u001b[0m: [Errno 2] No such file or directory: 'pandorabox.txt'"
     ]
    }
   ],
   "source": [
    "#Opening a pandora box that doesn't exist\n",
    "f = open(\"pandorabox.txt\") "
   ]
  },
  {
   "cell_type": "markdown",
   "metadata": {
    "id": "aO8GlQIMjaZ6"
   },
   "source": [
    "EXPLANATION: Make sure the file you're trying to open is in the same directory as the code you are trying to run!"
   ]
  },
  {
   "cell_type": "code",
   "execution_count": null,
   "metadata": {
    "colab": {
     "base_uri": "https://localhost:8080/",
     "height": 397
    },
    "id": "cXFJNwQRtO9_",
    "outputId": "0ba1364e-ddfd-45bb-dbe4-3428269e624d"
   },
   "outputs": [
    {
     "ename": "AxisError",
     "evalue": "ignored",
     "output_type": "error",
     "traceback": [
      "\u001b[0;31m---------------------------------------------------------------------------\u001b[0m",
      "\u001b[0;31mAxisError\u001b[0m                                 Traceback (most recent call last)",
      "\u001b[0;32m<ipython-input-9-21dbfc03f886>\u001b[0m in \u001b[0;36m<module>\u001b[0;34m()\u001b[0m\n\u001b[1;32m      3\u001b[0m \u001b[0mvectorB\u001b[0m \u001b[0;34m=\u001b[0m \u001b[0mnp\u001b[0m\u001b[0;34m.\u001b[0m\u001b[0marray\u001b[0m\u001b[0;34m(\u001b[0m\u001b[0;34m[\u001b[0m\u001b[0;36m4\u001b[0m\u001b[0;34m,\u001b[0m \u001b[0;36m5\u001b[0m\u001b[0;34m,\u001b[0m \u001b[0;36m6\u001b[0m\u001b[0;34m]\u001b[0m\u001b[0;34m)\u001b[0m\u001b[0;34m\u001b[0m\u001b[0;34m\u001b[0m\u001b[0m\n\u001b[1;32m      4\u001b[0m \u001b[0mscalar\u001b[0m \u001b[0;34m=\u001b[0m \u001b[0mnp\u001b[0m\u001b[0;34m.\u001b[0m\u001b[0mdot\u001b[0m\u001b[0;34m(\u001b[0m\u001b[0mvectorA\u001b[0m\u001b[0;34m,\u001b[0m \u001b[0mvectorB\u001b[0m\u001b[0;34m)\u001b[0m \u001b[0;31m#taking dot prouct\u001b[0m\u001b[0;34m\u001b[0m\u001b[0;34m\u001b[0m\u001b[0m\n\u001b[0;32m----> 5\u001b[0;31m \u001b[0mnotScalar\u001b[0m \u001b[0;34m=\u001b[0m \u001b[0mnp\u001b[0m\u001b[0;34m.\u001b[0m\u001b[0mcross\u001b[0m\u001b[0;34m(\u001b[0m\u001b[0mscalar\u001b[0m\u001b[0;34m,\u001b[0m \u001b[0mvectorB\u001b[0m\u001b[0;34m)\u001b[0m \u001b[0;31m#taking cross product\u001b[0m\u001b[0;34m\u001b[0m\u001b[0;34m\u001b[0m\u001b[0m\n\u001b[0m\u001b[1;32m      6\u001b[0m \u001b[0;34m\u001b[0m\u001b[0m\n\u001b[1;32m      7\u001b[0m \u001b[0;31m#EXPLANATION: Dot product produces a scalar quantity while cross product gives needs 2 vector so this code will not run.\u001b[0m\u001b[0;34m\u001b[0m\u001b[0;34m\u001b[0m\u001b[0;34m\u001b[0m\u001b[0m\n",
      "\u001b[0;32m<__array_function__ internals>\u001b[0m in \u001b[0;36mcross\u001b[0;34m(*args, **kwargs)\u001b[0m\n",
      "\u001b[0;32m/usr/local/lib/python3.7/dist-packages/numpy/core/numeric.py\u001b[0m in \u001b[0;36mcross\u001b[0;34m(a, b, axisa, axisb, axisc, axis)\u001b[0m\n\u001b[1;32m   1595\u001b[0m     \u001b[0mb\u001b[0m \u001b[0;34m=\u001b[0m \u001b[0masarray\u001b[0m\u001b[0;34m(\u001b[0m\u001b[0mb\u001b[0m\u001b[0;34m)\u001b[0m\u001b[0;34m\u001b[0m\u001b[0;34m\u001b[0m\u001b[0m\n\u001b[1;32m   1596\u001b[0m     \u001b[0;31m# Check axisa and axisb are within bounds\u001b[0m\u001b[0;34m\u001b[0m\u001b[0;34m\u001b[0m\u001b[0;34m\u001b[0m\u001b[0m\n\u001b[0;32m-> 1597\u001b[0;31m     \u001b[0maxisa\u001b[0m \u001b[0;34m=\u001b[0m \u001b[0mnormalize_axis_index\u001b[0m\u001b[0;34m(\u001b[0m\u001b[0maxisa\u001b[0m\u001b[0;34m,\u001b[0m \u001b[0ma\u001b[0m\u001b[0;34m.\u001b[0m\u001b[0mndim\u001b[0m\u001b[0;34m,\u001b[0m \u001b[0mmsg_prefix\u001b[0m\u001b[0;34m=\u001b[0m\u001b[0;34m'axisa'\u001b[0m\u001b[0;34m)\u001b[0m\u001b[0;34m\u001b[0m\u001b[0;34m\u001b[0m\u001b[0m\n\u001b[0m\u001b[1;32m   1598\u001b[0m     \u001b[0maxisb\u001b[0m \u001b[0;34m=\u001b[0m \u001b[0mnormalize_axis_index\u001b[0m\u001b[0;34m(\u001b[0m\u001b[0maxisb\u001b[0m\u001b[0;34m,\u001b[0m \u001b[0mb\u001b[0m\u001b[0;34m.\u001b[0m\u001b[0mndim\u001b[0m\u001b[0;34m,\u001b[0m \u001b[0mmsg_prefix\u001b[0m\u001b[0;34m=\u001b[0m\u001b[0;34m'axisb'\u001b[0m\u001b[0;34m)\u001b[0m\u001b[0;34m\u001b[0m\u001b[0;34m\u001b[0m\u001b[0m\n\u001b[1;32m   1599\u001b[0m \u001b[0;34m\u001b[0m\u001b[0m\n",
      "\u001b[0;31mAxisError\u001b[0m: axisa: axis -1 is out of bounds for array of dimension 0"
     ]
    }
   ],
   "source": [
    "#Vector vs Scalar\n",
    "vectorA = np.array([1, 2, 3])\n",
    "vectorB = np.array([4, 5, 6])\n",
    "scalar = np.dot(vectorA, vectorB) #taking dot prouct\n",
    "notScalar = np.cross(scalar, vectorB) #taking cross product"
   ]
  },
  {
   "cell_type": "markdown",
   "metadata": {
    "id": "5PtJrNZ_jeOX"
   },
   "source": [
    "EXPLANATION: Dot product produces a scalar quantity while cross product gives needs 2 vector so this code will not run. "
   ]
  },
  {
   "cell_type": "code",
   "execution_count": null,
   "metadata": {
    "id": "W29_LYnklBBk"
   },
   "outputs": [],
   "source": [
    "#And it goes on and on and on - for a bit too long.\n",
    "def fibonacci(n):\n",
    "    if n <= 1:\n",
    "        return n\n",
    "    else:\n",
    "        return(fibonacci(n-1) + fibonacci(n-2))\n",
    "       \n",
    "print(fibonacci(1000))"
   ]
  },
  {
   "cell_type": "markdown",
   "metadata": {
    "id": "HHE9R6jBlIka"
   },
   "source": [
    "EXPLANATION: Python has a limit for the number times it can call itself. For more information go here: https://www.pythonpool.com/recursionerror-maximum-recursion-depth-exceeded-while-calling-a-python-object/"
   ]
  },
  {
   "cell_type": "markdown",
   "metadata": {
    "id": "mNWR_Eo9tmEc"
   },
   "source": [
    "**Examples of Type Errors:** Type errors are usually found when there are odd clashes - like the character 's' being added to the int 1. "
   ]
  },
  {
   "cell_type": "code",
   "execution_count": null,
   "metadata": {
    "id": "ASGtYDlWub-V"
   },
   "outputs": [],
   "source": [
    "#Call me maybe - or later - or not at all\n",
    "song = [\"here's\", \"my\", \"number\", \"so\", \"call\", \"me\"]\n",
    "song.append[\"maybe\"]"
   ]
  },
  {
   "cell_type": "markdown",
   "metadata": {
    "id": "gxnCGNMtjiq8"
   },
   "source": [
    "EXPLANATION: There needs to be `()` instead of `[]`!\n",
    "\n"
   ]
  },
  {
   "cell_type": "code",
   "execution_count": null,
   "metadata": {
    "colab": {
     "base_uri": "https://localhost:8080/",
     "height": 201
    },
    "id": "dNVYxfxukAAD",
    "outputId": "78bd0b42-d82f-443a-ef8b-1635b3e3c546"
   },
   "outputs": [
    {
     "ename": "TypeError",
     "evalue": "ignored",
     "output_type": "error",
     "traceback": [
      "\u001b[0;31m---------------------------------------------------------------------------\u001b[0m",
      "\u001b[0;31mTypeError\u001b[0m                                 Traceback (most recent call last)",
      "\u001b[0;32m<ipython-input-1-719b3561ae51>\u001b[0m in \u001b[0;36m<module>\u001b[0;34m()\u001b[0m\n\u001b[1;32m      1\u001b[0m \u001b[0;31m#Leave \"them\" out of this!\u001b[0m\u001b[0;34m\u001b[0m\u001b[0;34m\u001b[0m\u001b[0;34m\u001b[0m\u001b[0m\n\u001b[1;32m      2\u001b[0m \u001b[0mtheDrama\u001b[0m \u001b[0;34m=\u001b[0m \u001b[0;36m5\u001b[0m\u001b[0;34m\u001b[0m\u001b[0;34m\u001b[0m\u001b[0m\n\u001b[0;32m----> 3\u001b[0;31m \u001b[0maddingThemToTheDrama\u001b[0m \u001b[0;34m=\u001b[0m \u001b[0;34m\"them\"\u001b[0m \u001b[0;34m+\u001b[0m \u001b[0mtheDrama\u001b[0m\u001b[0;34m\u001b[0m\u001b[0;34m\u001b[0m\u001b[0m\n\u001b[0m",
      "\u001b[0;31mTypeError\u001b[0m: can only concatenate str (not \"int\") to str"
     ]
    }
   ],
   "source": [
    "#Leave \"them\" out of this!\n",
    "theDrama = 5\n",
    "addingThemToTheDrama = \"them\" + theDrama"
   ]
  },
  {
   "cell_type": "markdown",
   "metadata": {
    "id": "QHyE4lglkZs-"
   },
   "source": [
    "EXPLANATION: Make sure that all operators that are being operated on are of the same type. "
   ]
  },
  {
   "cell_type": "markdown",
   "metadata": {
    "id": "dSfI8jTRBqCU"
   },
   "source": [
    "\n",
    "## IV. Anticipating Errors"
   ]
  },
  {
   "cell_type": "markdown",
   "metadata": {
    "id": "9kr_1HFqCJDE"
   },
   "source": [
    "If you have a feeling that your code may produce an error, there is a way to check and see if it will error. This method is called `try` and `except`. They are quite useful when going through lists/arrays that you don't know the contents of.\\\n",
    "The syntax for this is as follows:"
   ]
  },
  {
   "cell_type": "code",
   "execution_count": null,
   "metadata": {
    "id": "50w6W82LGuEA"
   },
   "outputs": [],
   "source": [
    "try:\n",
    "    \"code with expected error\"\n",
    "except \"error name\" as \"alias\":\n",
    "    print('what you want to show if error does occur')"
   ]
  },
  {
   "cell_type": "markdown",
   "metadata": {
    "id": "9pLj6H-IGNvJ"
   },
   "source": [
    "Say you a `ZeroDivisionError` (dividing by zero) may occur in your code. You can do this to see if it does happen:"
   ]
  },
  {
   "cell_type": "code",
   "execution_count": null,
   "metadata": {
    "colab": {
     "base_uri": "https://localhost:8080/"
    },
    "id": "CAKVpWdFBu-l",
    "outputId": "b9e036ea-4050-40f3-d81b-80c68d403357"
   },
   "outputs": [
    {
     "name": "stdout",
     "output_type": "stream",
     "text": [
      "can't divide by zero!\n"
     ]
    }
   ],
   "source": [
    "try:\n",
    "    print(10/0)\n",
    "except ZeroDivisionError as error:\n",
    "    print(\"can't divide by zero!\")"
   ]
  },
  {
   "cell_type": "markdown",
   "metadata": {
    "id": "7TJGMLO7ICiP"
   },
   "source": [
    "They can also be implemented in functions!"
   ]
  },
  {
   "cell_type": "code",
   "execution_count": null,
   "metadata": {
    "colab": {
     "base_uri": "https://localhost:8080/"
    },
    "id": "wMVIl2ECIYaA",
    "outputId": "c210bc34-e90e-4357-f58d-f41f31288532"
   },
   "outputs": [
    {
     "name": "stdout",
     "output_type": "stream",
     "text": [
      "divided by zero :o\n",
      "0\n"
     ]
    }
   ],
   "source": [
    "def divide(dividend, divisor):\n",
    "    try:\n",
    "        result = dividend/divisor\n",
    "    except ZeroDivisionError:\n",
    "        print(\"divided by zero :o\")\n",
    "        result = 0\n",
    "    return result\n",
    "\n",
    "print(divide(1, 0))"
   ]
  },
  {
   "cell_type": "markdown",
   "metadata": {
    "id": "omlUyXa1IwDi"
   },
   "source": [
    "## That's it!\n",
    "\n",
    "Good job reading through this guide. We hope it will be useful for you in the future, and make you feel a bit more confident when your code starts breaking.\n",
    "\n",
    "This resource was written by the Python DeCal Staff: James Sunseri, Megan Joseph, and Mahum Khan "
   ]
  },
  {
   "cell_type": "code",
   "execution_count": null,
   "metadata": {},
   "outputs": [],
   "source": []
  }
 ],
 "metadata": {
  "colab": {
   "collapsed_sections": [],
   "name": "Debugging Guide.ipynb",
   "provenance": []
  },
  "kernelspec": {
   "display_name": "Python 3 (ipykernel)",
   "language": "python",
   "name": "python3"
  },
  "language_info": {
   "codemirror_mode": {
    "name": "ipython",
    "version": 3
   },
   "file_extension": ".py",
   "mimetype": "text/x-python",
   "name": "python",
   "nbconvert_exporter": "python",
   "pygments_lexer": "ipython3",
   "version": "3.9.9"
  }
 },
 "nbformat": 4,
 "nbformat_minor": 1
}
