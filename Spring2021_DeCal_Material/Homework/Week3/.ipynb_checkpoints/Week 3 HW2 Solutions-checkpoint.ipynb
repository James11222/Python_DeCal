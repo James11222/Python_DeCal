{
 "cells": [
  {
   "cell_type": "markdown",
   "metadata": {},
   "source": [
    "# Homework 2 Solutions\n",
    "\n",
    "This week we learned about one of the most powerful concepts in all of programming. The `for` and `while` loops are used for so many different things in the world of programming and we will give you a sense of this in this homework. We also cover how to format strings, and use that as a tool for some real world application problems! If you have questions go to office hours (fill out the poll if you haven't already) or ask on the class piazza page."
   ]
  },
  {
   "cell_type": "markdown",
   "metadata": {},
   "source": [
    "## Comparison Operators (5 points)\n",
    "For each of the following expressions below, write the boolean answer that the expression will evaluate to. Double click where it says to put your answer, this will allow you to edit the cell."
   ]
  },
  {
   "cell_type": "code",
   "execution_count": 3,
   "metadata": {},
   "outputs": [],
   "source": [
    "a = 7\n",
    "b = 14"
   ]
  },
  {
   "cell_type": "markdown",
   "metadata": {},
   "source": [
    "`a > b` evaluates to: <span style=\"color:blue\">False</span>"
   ]
  },
  {
   "cell_type": "markdown",
   "metadata": {},
   "source": [
    "`a > 0 and b > 0` evaluates to: <span style=\"color:blue\">True</span>"
   ]
  },
  {
   "cell_type": "markdown",
   "metadata": {},
   "source": [
    "`a > 0 and b < 0` evaluates to: <span style=\"color:blue\">False</span>"
   ]
  },
  {
   "cell_type": "markdown",
   "metadata": {},
   "source": [
    "`a == b` evaluates to: <span style=\"color:blue\">False</span>"
   ]
  },
  {
   "cell_type": "markdown",
   "metadata": {},
   "source": [
    "`2*a == b and a < b` evaluates to: <span style=\"color:blue\">True</span>"
   ]
  },
  {
   "cell_type": "markdown",
   "metadata": {},
   "source": [
    "`a != b` evaluates to: <span style=\"color:blue\">True</span>"
   ]
  },
  {
   "cell_type": "markdown",
   "metadata": {},
   "source": [
    "`a == b or a != -b` evaluates to: <span style=\"color:blue\">True</span>"
   ]
  },
  {
   "cell_type": "markdown",
   "metadata": {},
   "source": [
    "`\"James\" > \"Yilun\" or \"Wendy\" > \"Yilun\"` evaluates to: <span style=\"color:blue\">False</span>"
   ]
  },
  {
   "cell_type": "markdown",
   "metadata": {},
   "source": [
    "`\"racecar\" == \"racecar[::-1]` evaluates to: <span style=\"color:blue\">True</span>"
   ]
  },
  {
   "cell_type": "markdown",
   "metadata": {},
   "source": [
    "`\"a\" < \"b\"` evaluates to: <span style=\"color:blue\">True</span>"
   ]
  },
  {
   "cell_type": "markdown",
   "metadata": {},
   "source": [
    "## Operations on Lists (5 Points)"
   ]
  },
  {
   "cell_type": "markdown",
   "metadata": {},
   "source": [
    "Note: The following cells have to be run in order!"
   ]
  },
  {
   "cell_type": "code",
   "execution_count": 44,
   "metadata": {},
   "outputs": [],
   "source": [
    "''' Here is a list of the names of everyone in this course! '''\n",
    "\n",
    "students = [\"Caytyn\", \"Paige\", \"Victoria\", \"Riley\", \"Victor\", \"Oski\",\n",
    "            \"Kingsley\", \"Geo\", \"Enmanuel\",\"Carol Christ\", \"Joshua\", \"Lyla\",\n",
    "            \"Nadia\",\"Camden\",\"Mey\", \"Sebastian\", \"Esther\",\"Chloe\"]"
   ]
  },
  {
   "cell_type": "code",
   "execution_count": 45,
   "metadata": {},
   "outputs": [
    {
     "name": "stdout",
     "output_type": "stream",
     "text": [
      "18\n"
     ]
    }
   ],
   "source": [
    "''' What is the length of this list? '''\n",
    "\n",
    "### YOUR CODE HERE ###\n",
    "\n",
    "print(len(students)) # len() is a useful function to check how long a list is"
   ]
  },
  {
   "cell_type": "code",
   "execution_count": 46,
   "metadata": {},
   "outputs": [
    {
     "name": "stdout",
     "output_type": "stream",
     "text": [
      "['Caytyn', 'Paige', 'Victoria', 'Riley', 'Victor', 'Oski', 'Kingsley', 'Geo', 'Enmanuel', 'Carol Christ', 'Joshua', 'Lyla', 'Nadia', 'Camden', 'Mey', 'Sebastian', 'Esther', 'Chloe', ['James', 'Wendy', 'Yilun']]\n"
     ]
    }
   ],
   "source": [
    "'''Oops, we forgot the facilitators. Can you create a new list for faciliators and append it to the original list?'''\n",
    "\n",
    "\n",
    "\"\"\"Incorrect Method\"\"\"\n",
    "\n",
    "### YOUR CODE HERE ###\n",
    "facilitators = [\"James\", \"Wendy\", \"Yilun\"]\n",
    "\n",
    "incorrect_list = students.copy()\n",
    "incorrect_list.append(facilitators)\n",
    "print(incorrect_list)"
   ]
  },
  {
   "cell_type": "code",
   "execution_count": 47,
   "metadata": {},
   "outputs": [
    {
     "name": "stdout",
     "output_type": "stream",
     "text": [
      "['Caytyn', 'Paige', 'Victoria', 'Riley', 'Victor', 'Oski', 'Kingsley', 'Geo', 'Enmanuel', 'Carol Christ', 'Joshua', 'Lyla', 'Nadia', 'Camden', 'Mey', 'Sebastian', 'Esther', 'Chloe', 'James', 'Wendy', 'Yilun']\n"
     ]
    }
   ],
   "source": [
    "\"\"\"Alternatively, one could use the .extend function in python to make sure that we don't have a list \n",
    "inside a list as seen above (preferred when adding a whole list to another one)\"\"\"\n",
    "\n",
    "\"\"\"Correct Method\"\"\"\n",
    "\n",
    "correct_list = students.copy()\n",
    "correct_list.extend(facilitators)\n",
    "print(correct_list)"
   ]
  },
  {
   "cell_type": "code",
   "execution_count": 48,
   "metadata": {},
   "outputs": [
    {
     "name": "stdout",
     "output_type": "stream",
     "text": [
      "['Caytyn', 'Paige', 'Victoria', 'Riley', 'Victor', 'Kingsley', 'Geo', 'Enmanuel', 'Joshua', 'Lyla', 'Nadia', 'Camden', 'Mey', 'Sebastian', 'Esther', 'Chloe']\n"
     ]
    }
   ],
   "source": [
    "''' I think I also put in a couple people that aren't students by accident.\n",
    "Can you remove Carol Christ and Oski from the list? '''\n",
    "\n",
    "### YOUR CODE HERE ###\n",
    "\n",
    "students.remove('Oski')\n",
    "students.remove('Carol Christ')\n",
    "print(students)"
   ]
  },
  {
   "cell_type": "code",
   "execution_count": 53,
   "metadata": {},
   "outputs": [
    {
     "name": "stdout",
     "output_type": "stream",
     "text": [
      "['Victoria', 'Victor']\n"
     ]
    }
   ],
   "source": [
    "'''Now can you give me a new list with only people who's names start with a V. \n",
    "This might be  a little challenging'''\n",
    "\n",
    "\"\"\"You should have used a for loop. although it was not specified so we will not remove points if \n",
    "a for loop was not used.\"\"\"\n",
    "### YOUR CODE HERE ###\n",
    "V_list = []\n",
    "for i in students:\n",
    "    if i[0] == 'V':\n",
    "        V_list.append(i)\n",
    "        \n",
    "print(V_list)"
   ]
  },
  {
   "cell_type": "markdown",
   "metadata": {},
   "source": [
    "## Conditional + Iterative Problems (40 Points)"
   ]
  },
  {
   "cell_type": "markdown",
   "metadata": {},
   "source": [
    "### <span style=\"color:red\">Absolute</span>ly  Magnificent (5 Points)\n",
    "\n",
    "Write your own version of an absolute value function. Where it takes in a number a and returns the absolute value of a. You are not allowed to use the built in `abs` function discussed in lecture. "
   ]
  },
  {
   "cell_type": "code",
   "execution_count": 54,
   "metadata": {},
   "outputs": [
    {
     "name": "stdout",
     "output_type": "stream",
     "text": [
      "2\n",
      "2\n"
     ]
    }
   ],
   "source": [
    "def my_absolute(a):\n",
    "    \"\"\"Return abs(a), but without calling abs.\n",
    "\n",
    "    >>> my_absolute(2)\n",
    "    2\n",
    "    >>> my_absolute(-2)\n",
    "    3\n",
    "    \"\"\"\n",
    "    if a < 0:\n",
    "        return -a\n",
    "    else:\n",
    "        return a\n",
    "    \n",
    "print(my_absolute(2))\n",
    "print(my_absolute(-2))"
   ]
  },
  {
   "cell_type": "markdown",
   "metadata": {},
   "source": [
    "### Huh. That's Odd... (5 Points)"
   ]
  },
  {
   "cell_type": "code",
   "execution_count": 58,
   "metadata": {},
   "outputs": [
    {
     "name": "stdout",
     "output_type": "stream",
     "text": [
      "[3, 7]\n",
      "[]\n"
     ]
    }
   ],
   "source": [
    "def is_odd(num):\n",
    "    ''' Returns True if number is odd. '''\n",
    "   \n",
    "    ### YOUR CODE HERE ###\n",
    "    \n",
    "    if num % 2 == 0:\n",
    "        return False\n",
    "    else:\n",
    "        return True\n",
    "\n",
    "def select_odd(numbers):\n",
    "    ''' Returns a new list with only the numbers that are odd in the numbers list.\n",
    "    \n",
    "    >>> select_odd([2, 3, 7, 10])\n",
    "    [3, 7]\n",
    "    >>> select_odd([2, 4, 6, 8])\n",
    "    []\n",
    "    '''\n",
    "     ### YOUR CODE HERE ###\n",
    "    odds = []\n",
    "    for i in numbers:\n",
    "        if i % 2 != 0:\n",
    "            odds.append(i)\n",
    "            \n",
    "    return odds\n",
    "\n",
    "print(select_odd([2, 3, 7, 10]))\n",
    "print(select_odd([2, 4, 6, 8]))"
   ]
  },
  {
   "cell_type": "markdown",
   "metadata": {},
   "source": [
    "### Prime Numbers (10 Points)\n",
    "\n",
    "[Adapted from Ayars, Problem 1-6] Write a function called `is_prime(n)` that determines whether a number `n` is prime or not, and returns either `True` or `False` accordingly. You can assume that the argument `n` passed to any of your functions will be an integer. Remember to include descriptive doc strings for each function your write!\n",
    "\n",
    "    def is_prime(n):\n",
    "        \"\"\" Determines if n is prime or not. Takes an integer n.\n",
    "        Returns True if n is prime, and False otherwise. \"\"\"\n",
    "        # Your code here!\n",
    "        \n",
    "        \n",
    "Remember to try various test cases: What if the argument passed to `is_prime` is ...\n",
    "- 20\n",
    "- 2\n",
    "- 1\n",
    "- 0\n",
    "- negative"
   ]
  },
  {
   "cell_type": "code",
   "execution_count": 61,
   "metadata": {},
   "outputs": [],
   "source": [
    "### YOUR CODE HERE ###\n",
    "def is_prime(n):\n",
    "    \"\"\" Determines if n is prime or not. Takes an integer n.\n",
    "    Returns True if n is prime, and False otherwise. \"\"\"\n",
    "    if n <= 1:\n",
    "        return False\n",
    "    for i in range(2,n):\n",
    "        if n%i == 0:\n",
    "            return False\n",
    "    return True"
   ]
  },
  {
   "cell_type": "markdown",
   "metadata": {},
   "source": [
    "### Fibonacci Sequence (10 Points)\n",
    "The Fibonacci sequence is a sequence of integers defined by the following relation. The $n$-th integer $a_n$ is defined in terms of previous integers of the sequence as\n",
    "\n",
    "$$a_n = a_{n-1} + a_{n-2}$$\n",
    "\n",
    "and $a_0 = 0$ and $a_1 = 1$. So the first few numbers are 0, 1, 1, 2, 3, 5, 8, 13, 21, .... Write a program to print the Fibonacci series from 0 to 50. Expected output:\n",
    "    \n",
    "    0 1 1 2 3 5 8 13 21 34\n",
    "Hint 1: Two (or more) variables can be assigned simultaneously. For instance, to swap the values of `a` and `b`, you can write `a, b = b, a`.\n",
    "\n",
    "Hint 2: Try doing so using a while or a for loop. If you feel ambitious you can try doing this recursively but that is not required. If you do code this recursively you will see how much prettier recursion can be and is often why computer scientists like to use it."
   ]
  },
  {
   "cell_type": "code",
   "execution_count": 62,
   "metadata": {},
   "outputs": [],
   "source": [
    "### YOUR CODE HERE ###\n",
    "\n",
    "def fibonacci(n):\n",
    "    if n <= 1:\n",
    "        return n\n",
    "    else:\n",
    "        fibonacci(n - 1) + fibonacci(n - 2)\n",
    "\n",
    "def fibonacci_for(n):\n",
    "    if n == 0:\n",
    "        return 0\n",
    "    elif n == 1:\n",
    "        return 1\n",
    "    else:\n",
    "        a_n_1 = 0\n",
    "        a_n_2 = 1\n",
    "        for i in range(n):\n",
    "            a_n_1, a_n_2 = a_n_1 + a_n_2, a_n_1\n",
    "        print(a_n_1)\n",
    "        \n",
    "def fibonacci_while(n):\n",
    "    pred = 0\n",
    "    curr = 1\n",
    "    k = 1\n",
    "    while k < n:\n",
    "        pred = curr\n",
    "        curr = pred + curr\n",
    "        k = k + 1\n",
    "    return curr\n"
   ]
  },
  {
   "cell_type": "markdown",
   "metadata": {},
   "source": [
    "### Pyramid Building (10 Points)\n",
    "\n",
    "Write a Python program to construct the following pattern, using a nested `for` loop (or maybe two nested `for` loops).\n",
    "\n",
    "    * \n",
    "    * * \n",
    "    * * * \n",
    "    * * * * \n",
    "    * * * * * \n",
    "    * * * * \n",
    "    * * * \n",
    "    * * \n",
    "    *\n",
    "Hints: You can multiply strings by numbers to have them repeat multiple times!\n",
    "\n",
    "Also, some solutions to exercise this might use a `range()` going backwards. You can make `range()` go backwards using syntax like this: `range(20,10,-1)`."
   ]
  },
  {
   "cell_type": "code",
   "execution_count": 59,
   "metadata": {},
   "outputs": [
    {
     "name": "stdout",
     "output_type": "stream",
     "text": [
      "* \n",
      "* * \n",
      "* * * \n",
      "* * * * \n",
      "* * * * * \n",
      "* * * * \n",
      "* * * \n",
      "* * \n",
      "* \n"
     ]
    }
   ],
   "source": [
    "### YOUR CODE HERE ###\n",
    "\n",
    "### option 1\n",
    "for i in range(1,5):\n",
    "    print('* '*i)\n",
    "for i in range(5,0,-1):\n",
    "    print('* '*i)"
   ]
  },
  {
   "cell_type": "code",
   "execution_count": 60,
   "metadata": {},
   "outputs": [
    {
     "name": "stdout",
     "output_type": "stream",
     "text": [
      "* \n",
      "* * \n",
      "* * * \n",
      "* * * * \n",
      "* * * * * \n",
      "* * * * \n",
      "* * * \n",
      "* * \n",
      "* \n"
     ]
    }
   ],
   "source": [
    "### option 2 (nested loops)\n",
    "for i in range(1,5):\n",
    "    for j in range (0,i):\n",
    "        print('* ', end = '') # suppress newline\n",
    "    print() # newline\n",
    "\n",
    "for i in range(5,0,-1):\n",
    "    for j in range (0,i): # suppress newline\n",
    "        print('* ', end = '')\n",
    "    if i != 0:\n",
    "        print()"
   ]
  },
  {
   "cell_type": "markdown",
   "metadata": {},
   "source": [
    "## How to Format Strings\n",
    "\n",
    "We did not get the chance to cover this in lecture, but in scientific computing it is often extremeley valuable to print your results out in a way that the average reader could understand. We will be looking at the `.format` method which will help you in some of the problems above.\n",
    "\n",
    "`print(\"blah blah {0:2.1f} stuff and blah blah {1:2.1f} other stuff more blahs\".format(stuff1, stuff2))`\n",
    "\n",
    "The above line of code is how we can place well formatted values into a long sentence in python when we want to print it out. You will notice right away the curly braces. The first number inside is the index of the `.format` tuple at the very end of the string (How you put multiple variables into the string). The second number refers to how much white space you would like between the words and your value. The third number is the number of sig figs past the decimal you would like. Below are some examples of how this works in practice."
   ]
  },
  {
   "cell_type": "code",
   "execution_count": 18,
   "metadata": {},
   "outputs": [
    {
     "name": "stdout",
     "output_type": "stream",
     "text": [
      "My mass would be 7.2 kg and my height would be 1.4 meters\n",
      "My mass would be 7.239 kg and my height would be 1.400 meters\n",
      "My mass would be 7.238722 kg and my height would be 1.400000 meters\n",
      "\n",
      "\n",
      "My mass would be       7.24 kg\n",
      "My mass would be  7.24 kg\n",
      "My mass would be 7.24 kg\n"
     ]
    }
   ],
   "source": [
    "mass = 7.23872193 #kg\n",
    "height = 1.4 #meters\n",
    "\n",
    "print(\"My mass would be {0:2.1f} kg and my height would be {1:2.1f} meters\".format(mass, height))\n",
    "print(\"My mass would be {0:2.3f} kg and my height would be {1:2.3f} meters\".format(mass, height))\n",
    "print(\"My mass would be {0:2.6f} kg and my height would be {1:2.6f} meters\".format(mass, height))\n",
    "\n",
    "print('\\n') #prints a new line for neatness\n",
    "\n",
    "print(\"My mass would be {0:10.2f} kg\".format(mass))\n",
    "print(\"My mass would be {0:5.2f} kg\".format(mass))\n",
    "print(\"My mass would be {0:1.2f} kg\".format(mass))"
   ]
  },
  {
   "cell_type": "markdown",
   "metadata": {},
   "source": [
    "## Real World Application Problems (30 Points) "
   ]
  },
  {
   "cell_type": "markdown",
   "metadata": {},
   "source": [
    "### Satellite Altitudes (15 Points)\n",
    "\n",
    "[Adapted from Newman, Exercise 2.2 and Physics 77] A satellite is to be launched into a circular orbit around the Earth so that it orbits the planet once every $T$ seconds. The altitude $h$ above the Earth's surface that the satellite must have is $$ h = \\left( \\frac{G M T^2}{4 \\pi^2} \\right)^{1/3} - R, $$ where $G = 6.67 \\times 10^{-11}~\\text{m}^3~\\text{kg}^{-1}~\\text{s}^{-2}$ is Newton's gravitational constant, $M = 5.97 \\times 10^{24}~\\text{kg}$ is the mass of the Earth, and $R = 6371~\\text{km}$ is its radius."
   ]
  },
  {
   "cell_type": "markdown",
   "metadata": {},
   "source": [
    "**1a.** Write a program that, for a given value of $T$ (entered as a variable T in a cell), calculates and prints out the correct altitude in meters, kilometers, and miles, with one decimal place for each result.\n",
    "\n",
    "*Output for 1a*: When the code cell for this part of the problem is entered, it should specify (in the comments or the Markdown cell above) what units of $T$ are assumed. The program should print out the correct altitude in meters, kilometers, and miles, with one decimal place for each result."
   ]
  },
  {
   "cell_type": "code",
   "execution_count": 63,
   "metadata": {},
   "outputs": [
    {
     "name": "stdout",
     "output_type": "stream",
     "text": [
      "How many seconds should we make it take to go around the earth?:86400\n",
      "The altitude would be 35855910.2 Meters\n",
      "The altitude would be 35855.9 Kilometers\n",
      "The altitude would be 22284.6 Miles\n"
     ]
    }
   ],
   "source": [
    "### YOUR CODE HERE ###\n",
    "\n",
    "import math as m\n",
    "\n",
    "G = 6.67*(10**-11) # [m^3 kg^-1 s^-2], gravitational constant\n",
    "M = 5.97*(10**24) #kg\n",
    "R = 6371000. #meters\n",
    "T = float(input(\"How many seconds should we make it take to go around the earth?:\"))\n",
    "\n",
    "h = ((G*M*T**2)/(4*m.pi*m.pi))**(1/3) - R\n",
    "h1 = h/1000.\n",
    "h2 = h/1609.\n",
    "\n",
    "print(\"The altitude would be\",'{0:2.1f}'.format(h), \"Meters\")\n",
    "print(\"The altitude would be\",'{0:2.1f}'.format(h1), \"Kilometers\")\n",
    "print(\"The altitude would be\",'{0:2.1f}'.format(h2), \"Miles\")"
   ]
  },
  {
   "cell_type": "markdown",
   "metadata": {},
   "source": [
    "*Output for 1b:* Use code cells to carry out the desired calculations, and Markdown cells to present and discuss your results. To create a new cell go to the top menu and click `Insert` then `Insert Cell` either above or below the cell you currently have selected\n",
    "\n",
    "**1b.** Use your program to calculate the altitudes of satellites that orbit the Earth once a day (so-called \"geosynchronous\" orbit), once every 90 minutes, and once every 45 minutes. What do you conclude from the last of these calculations?"
   ]
  },
  {
   "cell_type": "code",
   "execution_count": 66,
   "metadata": {},
   "outputs": [
    {
     "name": "stdout",
     "output_type": "stream",
     "text": [
      "How many seconds should we make it take to go around the earth?:86400\n",
      "The altitude would be 35855910.2 Meters\n",
      "The altitude would be 35855.9 Kilometers\n",
      "The altitude would be 22284.6 Miles\n"
     ]
    }
   ],
   "source": [
    "### YOUR CODE HERE ###\n",
    "G = 6.67*(10**-11) # [m^3 kg^-1 s^-2], gravitational constant\n",
    "M = 5.97*(10**24) #kg\n",
    "R = 6371000. #meters\n",
    "T = float(input(\"How many seconds should we make it take to go around the earth?:\"))\n",
    "\n",
    "h = ((G*M*T**2)/(4*m.pi*m.pi))**(1/3) - R\n",
    "h1 = h/1000.\n",
    "h2 = h/1609.\n",
    "\n",
    "print(\"The altitude would be\",'{0:2.1f}'.format(h), \"Meters\")\n",
    "print(\"The altitude would be\",'{0:2.1f}'.format(h1), \"Kilometers\")\n",
    "print(\"The altitude would be\",'{0:2.1f}'.format(h2), \"Miles\")"
   ]
  },
  {
   "cell_type": "code",
   "execution_count": 64,
   "metadata": {},
   "outputs": [
    {
     "name": "stdout",
     "output_type": "stream",
     "text": [
      "How many seconds should we make it take to go around the earth?:5400\n",
      "The altitude would be 279321.6 Meters\n",
      "The altitude would be 279.3 Kilometers\n",
      "The altitude would be 173.6 Miles\n"
     ]
    }
   ],
   "source": [
    "### YOUR CODE HERE ###\n",
    "G = 6.67*(10**-11) # [m^3 kg^-1 s^-2], gravitational constant\n",
    "M = 5.97*(10**24) #kg\n",
    "R = 6371000. #meters\n",
    "T = float(input(\"How many seconds should we make it take to go around the earth?:\"))\n",
    "\n",
    "h = ((G*M*T**2)/(4*m.pi*m.pi))**(1/3) - R\n",
    "h1 = h/1000.\n",
    "h2 = h/1609.\n",
    "\n",
    "print(\"The altitude would be\",'{0:2.1f}'.format(h), \"Meters\")\n",
    "print(\"The altitude would be\",'{0:2.1f}'.format(h1), \"Kilometers\")\n",
    "print(\"The altitude would be\",'{0:2.1f}'.format(h2), \"Miles\")"
   ]
  },
  {
   "cell_type": "code",
   "execution_count": 65,
   "metadata": {},
   "outputs": [
    {
     "name": "stdout",
     "output_type": "stream",
     "text": [
      "How many seconds should we make it take to go around the earth?:2700\n",
      "The altitude would be -2181559.9 Meters\n",
      "The altitude would be -2181.6 Kilometers\n",
      "The altitude would be -1355.8 Miles\n"
     ]
    }
   ],
   "source": [
    "### YOUR CODE HERE ###\n",
    "G = 6.67*(10**-11) # [m^3 kg^-1 s^-2], gravitational constant\n",
    "M = 5.97*(10**24) #kg\n",
    "R = 6371000. #meters\n",
    "T = float(input(\"How many seconds should we make it take to go around the earth?:\"))\n",
    "\n",
    "h = ((G*M*T**2)/(4*m.pi*m.pi))**(1/3) - R\n",
    "h1 = h/1000.\n",
    "h2 = h/1609.\n",
    "\n",
    "print(\"The altitude would be\",'{0:2.1f}'.format(h), \"Meters\")\n",
    "print(\"The altitude would be\",'{0:2.1f}'.format(h1), \"Kilometers\")\n",
    "print(\"The altitude would be\",'{0:2.1f}'.format(h2), \"Miles\")"
   ]
  },
  {
   "cell_type": "markdown",
   "metadata": {},
   "source": [
    "### Perfect Hardboiled Eggs (15 points)\n",
    "\n",
    "[Adapted from Langtangen, Exercise 1.12 and Physics 77. You may derive the formula in Physics 112 or Physics 89] As an egg cooks, the proteins first denature and then coagulate. When the temperature exceeds a critical point, reactions begin and proceed faster as the temperature increases. In the egg white the proteins start to coagulate for temperatures above 63 C, while in the  yolk the proteins start to coagulate for temperatures above 70 C. For a soft boiled egg, the white needs to have been heated long enough to coagulate at a temperature above 63 C, but the yolk should not be heated above 70 C. For a hard boiled egg, the center of the yolk should be allowed to reach 70 C.\n",
    "\n",
    "The following formula expresses the time $t$ it takes (in seconds) for the center of the yolk to reach the temperature $T_y$ (in Celsius degrees): $$ t = \\frac{M^{2/3} c \\rho^{1/3}}{K \\pi^2 (4\\pi/3)^{2/3}} \\ln \\left[ 0.76 \\frac{T_0 - T_w}{T_y - T_w} \\right] . $$ Here, $M$, $\\rho$, $c$, and $K$ are properties of the egg:\n",
    "* $M$ is the mass,\n",
    "* $\\rho$ is the density,\n",
    "* $c$ is the specific heat capacity, and \n",
    "* $K$ is the thermal conductivity.\n",
    "\n",
    "Relevant values are\n",
    "* $M = 64~\\text{g}$ for a large egg (USA size XL: en.wikipedia.org/wiki/Chicken_egg_sizes),\n",
    "* $\\rho = 1.0378~\\text{g cm}^{-3}$,\n",
    "* $c = 3.7~\\text{J g}^{-1}\\,\\text{K}^{-1}$, and\n",
    "* $K = 5.4 \\cdot 10^{-3}~\\text{W cm}^{-1}\\,\\text{K}^{-1}$.\n",
    "\n",
    "Furthermore,\n",
    "* $T_w$ is the temperature (in C degrees) of the boiling water, and\n",
    "* $T_0$ is the original temperature (in C degrees) of the egg before being put in the water.\n",
    "\n",
    "Suppose we want our eggs hard-boiled. Implement the formula in a program, set $T_w = 100~\\text{C}$ and $T_y = 70~\\text{C}$, and compute $t$ for a large egg taken from the fridge ($T_0 = 4~\\text{C}$) and from room temperature ($T_0 = 20~\\text{C}$). Also compute the results for a small egg ($M = 42~\\text{g}$)."
   ]
  },
  {
   "cell_type": "markdown",
   "metadata": {},
   "source": [
    "*Output for 2:*\n",
    "When you run your code cell, it should produce the following text, with your numbers instead of the `TTT`, `MMM`, and `SSS` placeholders:\n",
    "\n",
    "    To hard-boil a large egg taken directly from the fridge, cook it for TTT minutes (MMM min, SSS sec).\n",
    "    To hard-boil a small egg taken directly from the fridge, cook it for TTT minutes (MMM min, SSS sec).\n",
    "    To hard-boil a large egg starting from room temperature, cook it for TTT minutes (MMM min, SSS sec).\n",
    "    To hard-boil a small egg starting from room temperature, cook it for TTT minutes (MMM min, SSS sec).\n",
    "\n",
    "The `TTT` placeholders should be values in minutes to two decimal places. The `MMM` and `SSS` placeholders should be rounded to the nearest minute/second, with no decimal places. For example,\n",
    "\n",
    "    To hard-boil a large egg taken directly from the fridge, cook it for 56.78 minutes (56 min 47 sec).\n",
    "    "
   ]
  },
  {
   "cell_type": "markdown",
   "metadata": {},
   "source": [
    "#### Hints\n",
    "\n",
    "Writing the entire formula in one line is difficult to type, difficult to read, difficult to debug---and you have to retype the entire calculation just to change one piece of it. Try breaking it down in smaller chunks assigned to variables, and combine those chunks to produce the final result.\n",
    "\n",
    "Beware of integer division!\n",
    "\n",
    "Remember to comment your code and use descriptive variable names so others (and future you) can understand what you're doing!"
   ]
  },
  {
   "cell_type": "code",
   "execution_count": 68,
   "metadata": {},
   "outputs": [
    {
     "name": "stdout",
     "output_type": "stream",
     "text": [
      "To hard-boil a large egg taken directly from the fridge, cook it for 6.29 minutes (6 minutes, 18 seconds).\n",
      "To hard-boil a large egg starting from room temperature, cook it for 5.00 minutes (5 minutes, 0 seconds).\n",
      "To hard-boil a small egg taken directly from the fridge, cook it for 4.77 minutes (4 minutes, 46 seconds).\n",
      "To hard-boil a small egg starting from room temperature, cook it for 3.79 minutes (3 minutes, 47 seconds).\n"
     ]
    }
   ],
   "source": [
    "### YOUR CODE HERE ###\n",
    "\n",
    "M = 64. #big egg mass\n",
    "m1 = 42. #small egg mass\n",
    "p = 1.0378 # density\n",
    "c = 3.7 #specific heat\n",
    "K = .0054 #thermal conductivity\n",
    "Tw = 100. #temp of boiling water\n",
    "Ty = 70. # temp of yolk\n",
    "Tof = 4. # initial temp of fridge\n",
    "Tor = 20. # initial temp of room\n",
    "\n",
    "t = (((M**.66)*c*(p**.33))/(K*m.pi*m.pi*(((4*m.pi)/3)**.66)))*m.log(0.76*((Tof-Tw)/(Ty-Tw)))/60.\n",
    "#time for a large egg taken out of fridge\n",
    "\n",
    "t1 = (((M**.66)*c*(p**.33))/(K*m.pi*m.pi*(((4*m.pi)/3)**.66)))*m.log(0.76*((Tor-Tw)/(Ty-Tw)))/60.\n",
    "#time for a large egg taken out of room\n",
    "\n",
    "t2 = (((m1**.66)*c*(p**.33))/(K*m.pi*m.pi*(((4*m.pi)/3)**.66)))*m.log(0.76*((Tof-Tw)/(Ty-Tw)))/60. \n",
    "#time for a small egg out of fridge\n",
    "\n",
    "t3 = (((m1**.66)*c*(p**.33))/(K*m.pi*m.pi*(((4*m.pi)/3)**.66)))*m.log(0.76*((Tor-Tw)/(Ty-Tw)))/60.\n",
    "#time for a small egg out of room\n",
    "\n",
    "\n",
    "print('To hard-boil a large egg taken directly from the fridge, cook it for','{0:2.2f}'.format(t),'minutes ({0:0.0f} minutes, {1:0.0f} seconds).'.format(t//1, (t%1)*60))\n",
    "print('To hard-boil a large egg starting from room temperature, cook it for','{0:2.2f}'.format(t1),'minutes ({0:0.0f} minutes, {1:0.0f} seconds).'.format(t1//1, (t1%1)*60))\n",
    "print('To hard-boil a small egg taken directly from the fridge, cook it for','{0:2.2f}'.format(t2),'minutes ({0:0.0f} minutes, {1:0.0f} seconds).'.format(t2//1, (t2%1)*60))\n",
    "print('To hard-boil a small egg starting from room temperature, cook it for','{0:2.2f}'.format(t3), 'minutes ({0:0.0f} minutes, {1:0.0f} seconds).'.format(t3//1, (t3%1)*60))"
   ]
  },
  {
   "cell_type": "code",
   "execution_count": null,
   "metadata": {},
   "outputs": [],
   "source": []
  }
 ],
 "metadata": {
  "kernelspec": {
   "display_name": "Python 3",
   "language": "python",
   "name": "python3"
  },
  "language_info": {
   "codemirror_mode": {
    "name": "ipython",
    "version": 3
   },
   "file_extension": ".py",
   "mimetype": "text/x-python",
   "name": "python",
   "nbconvert_exporter": "python",
   "pygments_lexer": "ipython3",
   "version": "3.7.3"
  }
 },
 "nbformat": 4,
 "nbformat_minor": 2
}
