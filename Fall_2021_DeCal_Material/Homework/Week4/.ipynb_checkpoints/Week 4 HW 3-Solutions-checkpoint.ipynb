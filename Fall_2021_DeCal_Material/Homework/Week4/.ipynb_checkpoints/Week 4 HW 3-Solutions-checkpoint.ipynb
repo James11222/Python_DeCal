{
 "cells": [
  {
   "cell_type": "markdown",
   "metadata": {},
   "source": [
    "# Homework 3 Solutions\n",
    "\n",
    "This homework is mostly an introduction to Numpy! Arguably the most useful library in all of scientific programming. We will see just a taste of what it is truly capable of. Next week we will explore how you can use it with other libraries to do some pretty spectacular things! But for now we will focus on the basics\n",
    "\n",
    "In the cell directly below is where we typically write our `import` statements. We call this the `import` suite (later there will be a lot more things to import)"
   ]
  },
  {
   "cell_type": "code",
   "execution_count": 1,
   "metadata": {},
   "outputs": [],
   "source": [
    "import numpy as np # import numpy as np alias"
   ]
  },
  {
   "cell_type": "markdown",
   "metadata": {},
   "source": [
    "# Playing with Numpy Arrays (20 Points)"
   ]
  },
  {
   "cell_type": "markdown",
   "metadata": {},
   "source": [
    "## Problem 1 (5 Points)\n",
    "\n",
    "Create an $8 \\times 8$ array with a checkerboard pattern of zeros and ones using a slicing + striding approach."
   ]
  },
  {
   "cell_type": "code",
   "execution_count": 2,
   "metadata": {},
   "outputs": [
    {
     "name": "stdout",
     "output_type": "stream",
     "text": [
      "[[1 0 1 0 1 0 1 0]\n",
      " [0 1 0 1 0 1 0 1]\n",
      " [1 0 1 0 1 0 1 0]\n",
      " [0 1 0 1 0 1 0 1]\n",
      " [1 0 1 0 1 0 1 0]\n",
      " [0 1 0 1 0 1 0 1]\n",
      " [1 0 1 0 1 0 1 0]\n",
      " [0 1 0 1 0 1 0 1]]\n"
     ]
    }
   ],
   "source": [
    "###Your Code Here###\n",
    "checkerboard = np.ones((8,8), dtype = int)\n",
    "checkerboard[1::2,::2] = 0\n",
    "checkerboard[::2,1::2] = 0\n",
    "print(checkerboard)"
   ]
  },
  {
   "cell_type": "markdown",
   "metadata": {},
   "source": [
    "## Problem 2 (5 Points)\n",
    "\n",
    "Create a random $5\\times5$ array using the function `np.random.rand(5, 5)` and print the result."
   ]
  },
  {
   "cell_type": "code",
   "execution_count": 3,
   "metadata": {},
   "outputs": [
    {
     "name": "stdout",
     "output_type": "stream",
     "text": [
      "[[0.83160603 0.38865482 0.1413279  0.98646506 0.39791344]\n",
      " [0.17674513 0.74252792 0.98898681 0.25684435 0.62844683]\n",
      " [0.70045229 0.90301085 0.02906675 0.29913849 0.22415904]\n",
      " [0.45404435 0.86562954 0.78625961 0.59213408 0.63960631]\n",
      " [0.29379827 0.42005241 0.97882843 0.48188531 0.02991023]]\n"
     ]
    }
   ],
   "source": [
    "###Your Code Here###\n",
    "\n",
    "randmat = np.random.rand(5,5)\n",
    "print(randmat)"
   ]
  },
  {
   "cell_type": "markdown",
   "metadata": {},
   "source": [
    "## Problem 3 (5 Points)\n",
    "\n",
    "Use `np.random.rand(5,5)` to create a random 5x5 array. Use boolean indexing to set the nine entries in a 3x3 block in the bottom right corner to 0. Print the result.\n",
    "\n",
    "(Hint: Use `np.ones()` or `np.zeros()` with the dtype argument to get a 5x5 array full of `True`'s or `False`'s. Use this array to build a boolean filter, in order to set only the entries you want equal to 0.)"
   ]
  },
  {
   "cell_type": "code",
   "execution_count": 4,
   "metadata": {},
   "outputs": [
    {
     "name": "stdout",
     "output_type": "stream",
     "text": [
      "[[0.75777345 0.40418872 0.70179607 0.02273169 0.7463544 ]\n",
      " [0.0624559  0.86249576 0.54793262 0.43297067 0.666633  ]\n",
      " [0.44321475 0.81271123 0.         0.         0.        ]\n",
      " [0.8357253  0.26982243 0.         0.         0.        ]\n",
      " [0.63099136 0.34340642 0.         0.         0.        ]]\n"
     ]
    }
   ],
   "source": [
    "###Your Code Here###\n",
    "\n",
    "randmat = np.random.rand(5, 5)\n",
    "boolean_filter = np.zeros((5,5), dtype = bool)\n",
    "boolean_filter[-3:,-3:] = np.ones(3, dtype = bool)\n",
    "randmat[boolean_filter] = 0\n",
    "print(randmat)"
   ]
  },
  {
   "cell_type": "markdown",
   "metadata": {},
   "source": [
    "## Problem 4 (5 Points)\n",
    "\n",
    "Create a 1D numpy array that is equivalent to the following list:\n",
    "\n",
    "                `numbers = [1,2,3,4,5,6,7,8,9,10]`\n",
    "              \n",
    "Once you have created this array, append the even values following the number 10 going all the way to 100. So your array should be the same as a list that looks like:\n",
    "\n",
    "    `modified_nums = [1,2,3,4,5,6,7,8,9,10,12,14,16...96,98,100]`\n",
    "    \n",
    "Hint 1: Try using a for loop. You can make use of the `range` function in python that will give you a range of numbers to iterate over`range(5)` will give me an iterable object that is like a list `[0,1,2,3,4]`. I encourage you to google how to use it so you can start your range at a different number other than 0 as well. \n",
    "\n",
    "Hint 2: numpy has a slightly different method to append numbers to an array than python's standard syntax. I recommend googling to figure out the difference so that you dont get lots of errors. "
   ]
  },
  {
   "cell_type": "code",
   "execution_count": 29,
   "metadata": {},
   "outputs": [
    {
     "name": "stdout",
     "output_type": "stream",
     "text": [
      "modified_nums = [  1   2   3   4   5   6   7   8   9  10  12  14  16  18  20  22  24  26\n",
      "  28  30  32  34  36  38  40  42  44  46  48  50  52  54  56  58  60  62\n",
      "  64  66  68  70  72  74  76  78  80  82  84  86  88  90  92  94  96  98\n",
      " 100]\n"
     ]
    }
   ],
   "source": [
    "###Your Code Here###\n",
    "\n",
    "numbers = np.arange(1,11)\n",
    "\n",
    "modified_nums = numbers\n",
    "values = []\n",
    "for i in range(11, 101):\n",
    "    if i % 2 == 0:\n",
    "        values.append(i)\n",
    "        \n",
    "modified_nums = np.append(modified_nums, values)\n",
    "        \n",
    "print(\"modified_nums =\", modified_nums)"
   ]
  },
  {
   "cell_type": "markdown",
   "metadata": {},
   "source": [
    "# Challenge Problem"
   ]
  },
  {
   "cell_type": "markdown",
   "metadata": {},
   "source": [
    "## Problem 5: Binomial Coefficients (20 Points)\n",
    "\n",
    "[Adapted from Newman, Exercise 2.11 and Physics 77] The binomial coefficient $n \\choose k$ is an integer equal to\n",
    "\n",
    "$$ {n \\choose k} = \\frac{n!}{k!(n-k)!} = \\frac{n \\times (n-1) \\times (n-2) \\times \\cdots \\times (n-k + 1)}{1 \\times 2 \\times \\cdots \\times k} $$\n",
    "\n",
    "when $k \\geq 1$, or ${n \\choose 0} = 1$ when $k=0$. (The special case $k=0$ can be included in the general definition by using the conventional definition $0! \\equiv 1$.)\n",
    "\n",
    "1. Write a function `factorial(n)` that takes an integer $n$ and returns $n!$ as an integer. It should yield $1$ when $n=0$. You may assume that the argument will also be an integer greater than or equal to 0.\n",
    "\n",
    "1. Using the form of the binomial coefficient given above, write a function `binomial(n,k)` that calculates the binomial coefficient for given $n$ and $k$. Make sure your function returns the answer in the form of an integer (not a float) and gives the correct value of 1 for the case where $k=0$. (Hint: Use your `factorial` function from Part 1.)\n",
    "\n",
    "1. Using your `binomial` function, write a function `pascals_triangle(N)` to print out the first $N$ lines of \"Pascal's triangle\" (starting with the $0$th line). The $n$th line of Pascal's triangle contains $n+1$ numbers, which are the coefficients $n \\choose 0$, $n \\choose 1$, and so on up to $n \\choose n$. Thus the first few lines are\n",
    "        1\n",
    "        1 1\n",
    "        1 2 1\n",
    "        1 3 3 1\n",
    "        1 4 6 4 1     \n",
    "This would be the result of `pascals_triangle(5)`. Print the first 15 rows of Pascal's triangle.\n",
    "        \n",
    "1. The probability that an ubiased coin, tossed $n$ times, will come up heads $k$ times is ${n \\choose k} / 2^n$. (Or instead of coins, perhaps you'd prefer to think of spins measured in a [Stern-Gerlach experiment](https://en.wikipedia.org/wiki/Stern%E2%80%93Gerlach_experiment).)\n",
    "    - Write a function `heads_exactly(n,k)` to calculate the probability that a coin tossed $n$ times comes up heads exactly $k$ times.\n",
    "    - Write a function `heads_atleast(n,k)` to calculate the probability that a coin tossed $n$ times comes up heads $k$ or more times.\n",
    "    - Print the probabilities (to three decimal places) that a coin tossed 100 times comes up heads exactly 60 times, and at least 60 times. You should print corresponding statements with the numbers so it is clear what they each mean.\n",
    "\n",
    "#### Output\n",
    "\n",
    "To summarize, your program should output the following things:\n",
    "\n",
    "1. The first 15 rows of Pascal's triangle\n",
    "1. The probabilities (to three decimal places) that a coin tossed 100 times comes up heads exactly 60 times, and at least 60 times, with corresponding statements so it is clear what each number signifies.\n",
    "\n",
    "#### Reminder\n",
    "\n",
    "Remember to write informative doc strings, comment your code, and use descriptive function and variable names so others (and future you) can understand what you're doing!"
   ]
  },
  {
   "cell_type": "code",
   "execution_count": 8,
   "metadata": {},
   "outputs": [
    {
     "name": "stdout",
     "output_type": "stream",
     "text": [
      "If you flip a coin 100 times, the probability of getting exactly 60 heads is 0.011 and\n",
      "the probability of getting at least 60 heads is 0.028\n",
      "\n",
      "\n",
      "Pascal's Triangle for the first 15 Rows:\n",
      "1 \n",
      "1 1 \n",
      "1 2 1 \n",
      "1 3 3 1 \n",
      "1 4 6 4 1 \n",
      "1 5 10 10 5 1 \n",
      "1 6 15 20 15 6 1 \n",
      "1 7 21 35 35 21 7 1 \n",
      "1 8 28 56 70 56 28 8 1 \n",
      "1 9 36 84 126 126 84 36 9 1 \n",
      "1 10 45 120 210 252 210 120 45 10 1 \n",
      "1 11 55 165 330 462 462 330 165 55 11 1 \n",
      "1 12 66 220 495 792 924 792 495 220 66 12 1 \n",
      "1 13 78 286 715 1287 1716 1716 1287 715 286 78 13 1 \n",
      "1 14 91 364 1001 2002 3003 3432 3003 2002 1001 364 91 14 1 \n",
      "1 15 105 455 1365 3003 5005 6435 6435 5005 3003 1365 455 105 15 1 \n"
     ]
    }
   ],
   "source": [
    "###Your Code Here###\n",
    "import numpy as np\n",
    "import matplotlib.pyplot as plt\n",
    "%matplotlib inline\n",
    "plt.rcParams['figure.figsize'] = [12, 6]\n",
    "plt.rcParams.update({'font.size': 16})\n",
    "\n",
    "def factorial(n):\n",
    "    \"\"\"Returns the factorial of n\"\"\"\n",
    "    return_value = 1\n",
    "    if return_value != 0:\n",
    "        for i in range(1,n + 1):\n",
    "            return_value = return_value * i\n",
    "    return return_value\n",
    "\n",
    "def factorial_rec(n):\n",
    "    \"\"\"Returns the factorial of n recursively\"\"\"\n",
    "    if n <= 1:\n",
    "        return 1\n",
    "    else:\n",
    "        return n * factorial_rec(n-1)\n",
    "\n",
    "def binomial(n, k):\n",
    "    \"\"\"Returns the binomial coefficient n choose k\"\"\"\n",
    "    if k == 0:\n",
    "        return 1\n",
    "    return int(factorial(n)/(factorial(k) * factorial(n-k)))\n",
    "\n",
    "def pascals_triangle(N):\n",
    "    \"\"\"Prints out N rows of pascal's triangle\"\"\"\n",
    "    for i in range(0, N + 1):\n",
    "        for j in range(0, i + 1):\n",
    "            print('{:d} '.format(binomial(i,j)), end='')\n",
    "        print('')\n",
    "            \n",
    "def heads_exactly(n,k):\n",
    "    \"\"\"Returns the probability of getting k heads if you flip a coin n times\"\"\"\n",
    "    return binomial(n,k)/2**n\n",
    "\n",
    "def heads_atleast(n,k):\n",
    "    \"\"\"Returns the probability of getting at least k heads if you flip a coin n times\"\"\"\n",
    "    total_prob = 0\n",
    "    for j in range(k, n + 1):\n",
    "        total_prob += heads_exactly(n,j)\n",
    "    return total_prob\n",
    "\n",
    "print(\"\"\"If you flip a coin 100 times, the probability of getting exactly 60 heads is {0:.3f} and\n",
    "the probability of getting at least 60 heads is {1:.3f}\n",
    "\\n\"\"\".format(heads_exactly(100,60), heads_atleast(100,60)))\n",
    "\n",
    "\n",
    "print(\"Pascal's Triangle for the first 15 Rows:\")\n",
    "pascals_triangle(15)"
   ]
  },
  {
   "cell_type": "markdown",
   "metadata": {},
   "source": [
    "# Data Manipulation (File IO)\n",
    "\n",
    "### Note: The following introduction was adapted from Physics 77 and modified for our needs.\n",
    "\n",
    "#### ASCII Files or .txt Files\n",
    "\n",
    "Think of ASCII files as text files. You can open them using a text editor (like vim or emacs in Unix, or Notepad in Windows) and read the information they contain directly. There are a few ways to produce these files, and to read them once they've been produced. In Python, the simplest way is to use file objects. \n",
    "\n",
    "Let's give it a try. We create an abstract file object by calling the function `open( filename, access_mode )` and assigning its return value to a variable (usually `f`). The argument `filename` just specifices the name of the file we're interested in, and `access_mode` tells Python what we plan to do with that file:  \n",
    "\n",
    "    'r': read the file  \n",
    "    'w': write to the file (creates a new file, or clears an existing file)\n",
    "    'a': append the file  \n",
    "     \n",
    "Note that both arguments should be strings.\n",
    "For full syntax and special arguments, see documentation at https://docs.python.org/2/library/functions.html#open"
   ]
  },
  {
   "cell_type": "code",
   "execution_count": 31,
   "metadata": {},
   "outputs": [],
   "source": [
    "f = open( 'welcome.txt', 'w' )"
   ]
  },
  {
   "cell_type": "markdown",
   "metadata": {},
   "source": [
    "**A note of caution**: as soon as you call `open()`, Python creates a new file with the name you pass to it if you open it in write mode (`'w'`). Python will overwrite existing files if you open a file of the same name in write ('`w`') mode.\n",
    "\n",
    "Now we can write to the file using `f.write( thing_to_write )`. We can write anything we want, but it must be formatted as a string."
   ]
  },
  {
   "cell_type": "code",
   "execution_count": 32,
   "metadata": {},
   "outputs": [],
   "source": [
    "topics = ['Data types', 'Loops', 'Functions', 'Arrays']"
   ]
  },
  {
   "cell_type": "code",
   "execution_count": 33,
   "metadata": {},
   "outputs": [],
   "source": [
    "f.write( 'Welcome to the Python DeCal, Fall 2020\\n' ) # the newline command \\n tells Python to start a new line\n",
    "f.write( 'Topics we will learn about include:\\n' )\n",
    "for top in topics:\n",
    "    f.write( top + '\\n')\n",
    "f.close()                                         # don't forget this part!"
   ]
  },
  {
   "cell_type": "markdown",
   "metadata": {},
   "source": [
    "## Problem 6 (10 Points)\n",
    "\n",
    "### Part a)\n",
    "\n",
    "Use the syntax you have just learned to create an ASCII file titled \"`cosine.txt`\" with two columns containing 20 x and 20 y values. The x values should range from $0$ to $2\\pi$ - you can use `np.linspace()` to generate these values (as many as you want). The y values should be $y = cos(x)$ (you can use `np.cos()`) for this. Then, use a `for` loop as above to write a new line for each pair of x and y values. To make sure that each x,y pair is on a new line, remember to add `\\n` to the end of each line like above. To separate the values by a tab so that the columns are nicely aligned, you can use the \"character\" `\\t`.  So `\\n` inserts a new line and `\\t` inserts a tab. You may wish to use some kind of string formatting to decimals from running too far. Here is an example with just one data point:\n",
    "\n",
    "    x = 0.5 * np.pi\n",
    "    y = np.cos(x)\n",
    "    print(\"{0:0.5f} \\t {1:0.5f}\".format(x,y))\n",
    "\n",
    "Pay close attention to the fact that when you use the `write` function, the argument that you pass to it needs to be a string."
   ]
  },
  {
   "cell_type": "code",
   "execution_count": 30,
   "metadata": {},
   "outputs": [],
   "source": [
    "###Your Code Here###\n",
    "f = open('cosine.txt', 'w')\n",
    "x = np.linspace(0,2*np.pi,20)\n",
    "y = np.sin(x)\n",
    "for i in range(20):\n",
    "    X = x[i]\n",
    "    Y = y[i]\n",
    "    f.write(str('%.5f \\t %.5f' %(X,Y)) + '\\n')\n",
    "f.close()"
   ]
  },
  {
   "cell_type": "markdown",
   "metadata": {},
   "source": [
    "### Part b)\n",
    "\n",
    "We can use the code in cell beneath this one to read our values back into the jupyter notebook from our `welcome.txt` file. (If you are curious about what the `.strip()` does.... Remove it and see what happens)"
   ]
  },
  {
   "cell_type": "code",
   "execution_count": 34,
   "metadata": {},
   "outputs": [
    {
     "name": "stdout",
     "output_type": "stream",
     "text": [
      "Welcome to the Python DeCal, Fall 2020\n",
      "Topics we will learn about include:\n",
      "Data types\n",
      "Loops\n",
      "Functions\n",
      "Arrays\n"
     ]
    }
   ],
   "source": [
    "f = open( 'welcome.txt', 'r' )\n",
    "for line in f:\n",
    "    print(line.strip())\n",
    "f.close()"
   ]
  },
  {
   "cell_type": "markdown",
   "metadata": {},
   "source": [
    "Your task for this part b) is to read in the values of `cosine.txt` the same way we just did for the `welcome.txt` file above. "
   ]
  },
  {
   "cell_type": "code",
   "execution_count": 35,
   "metadata": {},
   "outputs": [
    {
     "name": "stdout",
     "output_type": "stream",
     "text": [
      "0.00000 \t 0.00000\n",
      "0.33069 \t 0.32470\n",
      "0.66139 \t 0.61421\n",
      "0.99208 \t 0.83717\n",
      "1.32278 \t 0.96940\n",
      "1.65347 \t 0.99658\n",
      "1.98416 \t 0.91577\n",
      "2.31486 \t 0.73572\n",
      "2.64555 \t 0.47595\n",
      "2.97625 \t 0.16459\n",
      "3.30694 \t -0.16459\n",
      "3.63763 \t -0.47595\n",
      "3.96833 \t -0.73572\n",
      "4.29902 \t -0.91577\n",
      "4.62972 \t -0.99658\n",
      "4.96041 \t -0.96940\n",
      "5.29110 \t -0.83717\n",
      "5.62180 \t -0.61421\n",
      "5.95249 \t -0.32470\n",
      "6.28319 \t -0.00000\n"
     ]
    }
   ],
   "source": [
    "###Your Code Here###\n",
    "f = open('cosine.txt', 'r')\n",
    "for line in f:\n",
    "    print(line.strip())\n",
    "f.close()"
   ]
  },
  {
   "cell_type": "markdown",
   "metadata": {},
   "source": [
    "Suppose we wanted to skip the first two lines of `welcome.txt` and print only the list of topics `('Data types', 'Loops', 'Functions', 'Arrays')`. We can use `readline()` to \"read\" the first two lines but not store their value, thereby ignoring them."
   ]
  },
  {
   "cell_type": "code",
   "execution_count": 36,
   "metadata": {},
   "outputs": [
    {
     "name": "stdout",
     "output_type": "stream",
     "text": [
      "['Data types', 'Loops', 'Functions', 'Arrays']\n"
     ]
    }
   ],
   "source": [
    "f = open( 'welcome.txt', 'r' )\n",
    "f.readline()\n",
    "f.readline() # skip the first two lines\n",
    "topicList = []\n",
    "for line in f:\n",
    "    topicList.append(line.strip())\n",
    "f.close()\n",
    "print(topicList)"
   ]
  },
  {
   "cell_type": "markdown",
   "metadata": {},
   "source": [
    "# The Easy Way\n",
    "\n",
    "The above method is how you use native python with no libraries to read in a text file.... I don't know about you but that sucked. It was long and tedious and a lot to remember. Luckily, the people who created the `numpy` library thought this too. They figured out how to do almost all the stuff we just did in 1 line of code. This can be done using `numpy.loadtxt()` and `numpy.loadtxt()`\n",
    "\n",
    "\n",
    "Below is an import statement of a `.csv` file. This is basically the same thing as a `.txt` file but much easier to work with. It stands for Comma Seperated Value.... meaning internally in the file itself everything is seperated by a comma. \n",
    "\n",
    "The `.loadtxt` function takes in the file path/name as a string (make sure you keep track of its directory path and if your notebook is in the same directory then don't worry about including the directory) we set the delimiter parameter to a comma so numpy knows how to seperate everything the way we want. Finally we use the skiprows argument and we set it to 1 to skip the first row of the file because the first row has the names of each column. "
   ]
  },
  {
   "cell_type": "code",
   "execution_count": 37,
   "metadata": {},
   "outputs": [],
   "source": [
    "data = np.loadtxt('sample_data.csv', delimiter=',', skiprows = 1)"
   ]
  },
  {
   "cell_type": "code",
   "execution_count": 38,
   "metadata": {},
   "outputs": [
    {
     "data": {
      "text/plain": [
       "array([[ 1.  ,  9.44],\n",
       "       [ 2.  ,  9.54],\n",
       "       [ 3.  ,  9.53],\n",
       "       [ 4.  , 10.  ],\n",
       "       [ 5.  , 11.1 ],\n",
       "       [ 6.  ,  8.6 ],\n",
       "       [ 7.  ,  6.  ],\n",
       "       [ 8.  ,  8.8 ],\n",
       "       [ 9.  ,  9.  ],\n",
       "       [10.  ,  9.8 ],\n",
       "       [11.  ,  9.14],\n",
       "       [12.  ,  9.99],\n",
       "       [13.  , 10.4 ],\n",
       "       [14.  ,  7.7 ],\n",
       "       [15.  ,  9.  ]])"
      ]
     },
     "execution_count": 38,
     "metadata": {},
     "output_type": "execute_result"
    }
   ],
   "source": [
    "data"
   ]
  },
  {
   "cell_type": "markdown",
   "metadata": {},
   "source": [
    "Hazzah! This is just a 2D numpy array isn't that neat! This can be a little combersome to seperate neatly so let's add an extra argument called `unpack` and we set it equal to `True`. This essentially tells python to split each column up into a 1D array that we can treat as a list. "
   ]
  },
  {
   "cell_type": "markdown",
   "metadata": {},
   "source": [
    "Now we can assign names to each column's corresponding values and treat them as variables. This sample data happens to be me measuring the constant of gravity on earth ($g_{earth}$) from my Dorm."
   ]
  },
  {
   "cell_type": "code",
   "execution_count": 39,
   "metadata": {},
   "outputs": [],
   "source": [
    "trials, values = np.loadtxt('sample_data.csv', unpack=True, delimiter=',', skiprows = 1)"
   ]
  },
  {
   "cell_type": "code",
   "execution_count": 40,
   "metadata": {},
   "outputs": [
    {
     "data": {
      "text/plain": [
       "array([ 1.,  2.,  3.,  4.,  5.,  6.,  7.,  8.,  9., 10., 11., 12., 13.,\n",
       "       14., 15.])"
      ]
     },
     "execution_count": 40,
     "metadata": {},
     "output_type": "execute_result"
    }
   ],
   "source": [
    "trials"
   ]
  },
  {
   "cell_type": "code",
   "execution_count": 41,
   "metadata": {},
   "outputs": [
    {
     "data": {
      "text/plain": [
       "array([ 9.44,  9.54,  9.53, 10.  , 11.1 ,  8.6 ,  6.  ,  8.8 ,  9.  ,\n",
       "        9.8 ,  9.14,  9.99, 10.4 ,  7.7 ,  9.  ])"
      ]
     },
     "execution_count": 41,
     "metadata": {},
     "output_type": "execute_result"
    }
   ],
   "source": [
    "values"
   ]
  },
  {
   "cell_type": "markdown",
   "metadata": {},
   "source": [
    "## Problem 7 (10 Points)\n",
    "\n",
    "In lecture we discussed a couple neat functions that numpy has built in ready to go for our use. \n",
    "\n",
    "**Part a)** Your task for this last problem is to calculate:\n",
    "\n",
    "- The Minimum\n",
    "- The Maximum\n",
    "- The Median\n",
    "- The Mean\n",
    "- The Standard Deviation\n",
    "\n",
    "Of the dataset. Print the values in a well formatted string with 3 sig figs past the decimal. The data is reported in SI units. "
   ]
  },
  {
   "cell_type": "code",
   "execution_count": 43,
   "metadata": {},
   "outputs": [
    {
     "name": "stdout",
     "output_type": "stream",
     "text": [
      "\t The minimum of the set is 6.000 m/s^2 \n",
      "\n",
      "         The maximum of the set is 11.100 m/s^2 \n",
      "\n",
      "         The median of the data set is 9.440 m/s^2 \n",
      "\n",
      "         The mean of the data set is 9.203 m/s^2 \n",
      "\n",
      "         The standard deviation of the data set is 1.156 m/s^2\n"
     ]
    }
   ],
   "source": [
    "###Your Code Here###\n",
    "print(\"\"\"\\t The minimum of the set is {0:3.3f} m/s^2 \\n\n",
    "         The maximum of the set is {1:3.3f} m/s^2 \\n\n",
    "         The median of the data set is {2:3.3f} m/s^2 \\n\n",
    "         The mean of the data set is {3:3.3f} m/s^2 \\n\n",
    "         The standard deviation of the data set is {4:3.3f} m/s^2\"\"\".format(min(values), max(values), \n",
    "        np.median(values), np.mean(values), np.std(values)))"
   ]
  },
  {
   "cell_type": "markdown",
   "metadata": {},
   "source": [
    "**Part b)** Now have python figure out which trial corresponds to the maximum and minumum data value. Do not just look at the data, use what you know to figure out which trial corresponds to which data point."
   ]
  },
  {
   "cell_type": "code",
   "execution_count": 51,
   "metadata": {},
   "outputs": [
    {
     "name": "stdout",
     "output_type": "stream",
     "text": [
      "\t The trial that had the minimum value of the graviational consant was trial 7 \n",
      "\n",
      "         The trial that had the maximum value of the graviational consant was trial 5\n",
      "         \n"
     ]
    }
   ],
   "source": [
    "###Your Code Here###\n",
    "min_index = np.where(values == np.min(values))[0][0]\n",
    "max_index = np.where(values == np.max(values))[0][0]\n",
    "\n",
    "print(\"\"\"\\t The trial that had the minimum value of the graviational consant was trial {0:0.0f} \\n\n",
    "         The trial that had the maximum value of the graviational consant was trial {01:0.0f}\n",
    "         \"\"\".format(trials[min_index], trials[max_index]))"
   ]
  },
  {
   "cell_type": "code",
   "execution_count": null,
   "metadata": {},
   "outputs": [],
   "source": []
  }
 ],
 "metadata": {
  "kernelspec": {
   "display_name": "Python 3",
   "language": "python",
   "name": "python3"
  },
  "language_info": {
   "codemirror_mode": {
    "name": "ipython",
    "version": 3
   },
   "file_extension": ".py",
   "mimetype": "text/x-python",
   "name": "python",
   "nbconvert_exporter": "python",
   "pygments_lexer": "ipython3",
   "version": "3.7.3"
  }
 },
 "nbformat": 4,
 "nbformat_minor": 4
}
