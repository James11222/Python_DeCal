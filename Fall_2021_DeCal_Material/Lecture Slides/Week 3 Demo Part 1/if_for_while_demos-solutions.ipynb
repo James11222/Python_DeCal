{
 "cells": [
  {
   "cell_type": "markdown",
   "metadata": {},
   "source": [
    "# If Statements and For and While Loops Demos - SOLUTIONS"
   ]
  },
  {
   "cell_type": "markdown",
   "metadata": {},
   "source": [
    "## If Statements"
   ]
  },
  {
   "cell_type": "code",
   "execution_count": null,
   "metadata": {},
   "outputs": [],
   "source": [
    "# example\n",
    "x = int(input('Enter an integer: '))\n",
    "if x > 10: \n",
    "    print('x is greater than 10.')\n",
    "elif x == 10:\n",
    "    print('x is equal to 10.')\n",
    "else:\n",
    "    print('x is smaller than 10.')"
   ]
  },
  {
   "cell_type": "markdown",
   "metadata": {},
   "source": [
    "Nested if statement -- We want to find if x can be divided by 2 and 3."
   ]
  },
  {
   "cell_type": "code",
   "execution_count": null,
   "metadata": {},
   "outputs": [],
   "source": [
    "x = int(input('Enter an integer: '))\n",
    "if x%2 == 0:\n",
    "    if x%3 == 0:\n",
    "        print('Divisible by 2 and 3')\n",
    "else:\n",
    "    print('Not divisible by 2 and 3')"
   ]
  },
  {
   "cell_type": "markdown",
   "metadata": {},
   "source": [
    "Write an if statement that determines whether x can be divided by 2 and 3. Consider all cases:\n",
    "- Can be divided by 2 and 3\n",
    "- Can be divided by 2 but not by 3 \n",
    "- Can be divided by 3 but not by 2\n",
    "- Can’t be divided by 3 nor 2"
   ]
  },
  {
   "cell_type": "code",
   "execution_count": null,
   "metadata": {},
   "outputs": [],
   "source": [
    "x = int(input('Enter an integer: '))\n",
    "if x%2==0 and x%3==0:\n",
    "    print('Divisible by 2 and 3')\n",
    "    \n",
    "elif x%2==0 and x%3!=0:\n",
    "    print('Divisible by 2 but not 3')\n",
    "    \n",
    "elif x%2!=0 and x%3==0:\n",
    "    print('Divisible by 3 but not 2')\n",
    "    \n",
    "else:\n",
    "    print('Not divisible by 2 or 3')"
   ]
  },
  {
   "cell_type": "markdown",
   "metadata": {},
   "source": [
    "## For Loops"
   ]
  },
  {
   "cell_type": "code",
   "execution_count": null,
   "metadata": {},
   "outputs": [],
   "source": [
    "# example\n",
    "for i in range(1,21):\n",
    "    print(i)"
   ]
  },
  {
   "cell_type": "markdown",
   "metadata": {},
   "source": [
    "Let's make a list of some astronomical object names (strings)."
   ]
  },
  {
   "cell_type": "code",
   "execution_count": null,
   "metadata": {},
   "outputs": [],
   "source": [
    "objects = ['SN_2005gj', 'NGC_2070', 'NGC_2129', 'SN_2002bj', 'SN_2006gy', 'M31', 'NGC_3384']"
   ]
  },
  {
   "cell_type": "markdown",
   "metadata": {},
   "source": [
    "Use a for loop to print all the objects in the list."
   ]
  },
  {
   "cell_type": "code",
   "execution_count": null,
   "metadata": {},
   "outputs": [],
   "source": [
    "for obj in objects:\n",
    "    print(obj)"
   ]
  },
  {
   "cell_type": "markdown",
   "metadata": {},
   "source": [
    "Nested for loop -- Print all the supernovae (begin with 'SN'). Remember: you can access the elements of a string just like a list"
   ]
  },
  {
   "cell_type": "code",
   "execution_count": null,
   "metadata": {},
   "outputs": [],
   "source": [
    "for obj in objects:\n",
    "    for letter in obj:\n",
    "        if letter == 'S':\n",
    "            print(obj)\n",
    "            \n",
    "# # more precise solution\n",
    "# for obj in objects:\n",
    "#     if obj[0] == 'S' and obj[1] == 'N':\n",
    "#         print(obj)"
   ]
  },
  {
   "cell_type": "markdown",
   "metadata": {},
   "source": [
    "## While Loops"
   ]
  },
  {
   "cell_type": "code",
   "execution_count": null,
   "metadata": {},
   "outputs": [],
   "source": [
    "# example\n",
    "i = 1\n",
    "while i < 6:\n",
    "    print(i)\n",
    "    i += 1"
   ]
  },
  {
   "cell_type": "markdown",
   "metadata": {},
   "source": [
    "## Putting it All Together"
   ]
  },
  {
   "cell_type": "markdown",
   "metadata": {},
   "source": [
    "Let's make a die simulator!"
   ]
  },
  {
   "cell_type": "code",
   "execution_count": null,
   "metadata": {},
   "outputs": [],
   "source": [
    "import random  # import necessary package"
   ]
  },
  {
   "cell_type": "code",
   "execution_count": null,
   "metadata": {},
   "outputs": [],
   "source": [
    "value = 0\n",
    "guess = 1\n",
    "\n",
    "while guess != value:  # we want to play until we guess correctly\n",
    "    guess = int(input(\"Guess the value of the die: \"))\n",
    "    if guess < 1 or guess > 6: # check if valid input\n",
    "        print('Error: enter number between 1 and 6')\n",
    "        continue\n",
    "    value = random.randint(1,6) # generate random integer\n",
    "    if guess == value:\n",
    "        print('The die rolled {} -- congrats!'.format(value))\n",
    "    else:\n",
    "        print('The die rolled {} -- try again.'.format(value))"
   ]
  },
  {
   "cell_type": "markdown",
   "metadata": {},
   "source": [
    "We can use a while loop to make a simple function that does integration!"
   ]
  },
  {
   "cell_type": "code",
   "execution_count": null,
   "metadata": {},
   "outputs": [],
   "source": [
    "def while_int(a, b, dx):\n",
    "    \"\"\"A simple function to calculate the integral of \n",
    "    f(x) = x**2 between two bounds a and b, given a \n",
    "    step size dx.\"\"\"\n",
    "    x = a  # integration start point\n",
    "    value = 0\n",
    "    while x < b:\n",
    "        y = x**2  # function\n",
    "        value += y * dx  # the \"area of the rectangle\"\n",
    "        x += dx\n",
    "\n",
    "    return value\n",
    "\n",
    "while_int(-2, 2, 0.1)"
   ]
  },
  {
   "cell_type": "code",
   "execution_count": null,
   "metadata": {},
   "outputs": [],
   "source": []
  }
 ],
 "metadata": {
  "kernelspec": {
   "display_name": "Python 3",
   "language": "python",
   "name": "python3"
  },
  "language_info": {
   "codemirror_mode": {
    "name": "ipython",
    "version": 3
   },
   "file_extension": ".py",
   "mimetype": "text/x-python",
   "name": "python",
   "nbconvert_exporter": "python",
   "pygments_lexer": "ipython3",
   "version": "3.8.3"
  }
 },
 "nbformat": 4,
 "nbformat_minor": 4
}
