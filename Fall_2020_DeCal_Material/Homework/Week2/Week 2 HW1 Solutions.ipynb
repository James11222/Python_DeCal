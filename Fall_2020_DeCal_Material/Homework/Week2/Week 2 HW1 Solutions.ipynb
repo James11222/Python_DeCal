{
 "cells": [
  {
   "cell_type": "markdown",
   "metadata": {},
   "source": [
    "# Data Types - Solutions"
   ]
  },
  {
   "cell_type": "markdown",
   "metadata": {},
   "source": [
    "## Comprehension Problems"
   ]
  },
  {
   "cell_type": "markdown",
   "metadata": {},
   "source": [
    "### Problem 1: Data Types (15 Points)\n",
    "Instructions: Fill in the blanks. (Ex. a = 5, so the data type of a is an int). If you're not sure, you can use the type() function to output the type of the variable. "
   ]
  },
  {
   "cell_type": "code",
   "execution_count": null,
   "metadata": {},
   "outputs": [],
   "source": [
    "variable1 = \"Surprised Pikachu is the best meme.\" # Data type of variable1: str\n",
    "\n",
    "variable2 = 5 # Data type of variable2: int\n",
    "\n",
    "variable3 = 1.29 # Data type of variable3: float\n",
    "\n",
    "def g():\n",
    "    print(\"beep beep\")\n",
    "    return True\n",
    "\n",
    "variable4 = g # Data type of variable4: function\n",
    "\n",
    "variable5 = g() # Data type of variable5: boolean\n",
    "\n",
    "variable6 = [1,2,3] #Data type of variable6: list\n",
    "\n",
    "variable7 = (1,3,5) #Data type of variable7: tuple\n",
    "\n",
    "variable8 = {\"brand\": \"Ford\", \"model\": \"Mustang\", \"year\": 1964} #Data type of variable8: Dictionary"
   ]
  },
  {
   "cell_type": "markdown",
   "metadata": {},
   "source": [
    "### Problem 2: Using /, //, % (5 points)\n",
    "\n",
    "Observe what happens in each of these scenarios. Recall the differences between normal, floor, and modulo division and describe those differences in the markdown cell below."
   ]
  },
  {
   "cell_type": "code",
   "execution_count": null,
   "metadata": {},
   "outputs": [],
   "source": [
    "5/2 # normal division"
   ]
  },
  {
   "cell_type": "code",
   "execution_count": null,
   "metadata": {},
   "outputs": [],
   "source": [
    "4//3 # floor division"
   ]
  },
  {
   "cell_type": "code",
   "execution_count": null,
   "metadata": {},
   "outputs": [],
   "source": [
    "459 % 4 # modulo division"
   ]
  },
  {
   "cell_type": "markdown",
   "metadata": {},
   "source": [
    "\n",
    "- The first cell describes a normal division, this will yield decimal (float) values. \n",
    "- The second cell describes floor division, this will return an integer value (how many times 3 went into 4)\n",
    "- The third cell describes modulo division, this also returns an integer value that is the remainder of the division (extremely useful for checking if something is odd or even)\n",
    "\n"
   ]
  },
  {
   "cell_type": "markdown",
   "metadata": {},
   "source": [
    "### Problem 3: Hanging by a String (3 points)\n",
    "\n",
    "In the following problem use string indexing to turn the words below into a new word that is part of the original word or a modified version of it. Example: Strongest $\\rightarrow$ Strong"
   ]
  },
  {
   "cell_type": "code",
   "execution_count": 10,
   "metadata": {},
   "outputs": [
    {
     "name": "stdout",
     "output_type": "stream",
     "text": [
      "Fast\n",
      "Out or side\n",
      "race or car or racecar\n"
     ]
    }
   ],
   "source": [
    "word_1 = \"Fastest\"\n",
    "##CODE HERE##\n",
    "print(word_1[:4])\n",
    "word_2 = \"Outside\" #two options are acceptable here, try both if you want!\n",
    "##CODE HERE##\n",
    "print(word_2[:3] + ' or ' + word_2[3:])\n",
    "word_3 = \"racecar\"\n",
    "##CODE HERE##\n",
    "print(word_3[:4] + ' or ' + word_3[4:] + ' or ' + word_3[::-1])"
   ]
  },
  {
   "cell_type": "markdown",
   "metadata": {},
   "source": [
    "### Problem 4: Palindromes (2 points)\n",
    "\n",
    "Use string indexing to reverse the palindrome, then use the `print()` function to print the string out to verify that it is in fact a palindrome."
   ]
  },
  {
   "cell_type": "code",
   "execution_count": 11,
   "metadata": {},
   "outputs": [
    {
     "name": "stdout",
     "output_type": "stream",
     "text": [
      "tattarrattat\n",
      "madam\n"
     ]
    }
   ],
   "source": [
    "palindrome_1 = \"tattarrattat\"\n",
    "##CODE HERE##\n",
    "print(palindrome_1[::-1])\n",
    "palindrome_2 = \"madam\"\n",
    "##CODE HERE##\n",
    "print(palindrome_2[::-1])"
   ]
  },
  {
   "cell_type": "markdown",
   "metadata": {},
   "source": [
    "## Application Problems"
   ]
  },
  {
   "cell_type": "markdown",
   "metadata": {},
   "source": [
    "### Problem 1 (5 points)\n",
    "\n",
    "Take your favorite equation (or find one on the internet) and turn it into a function (like we did with the volume of a sphere)."
   ]
  },
  {
   "cell_type": "code",
   "execution_count": 12,
   "metadata": {},
   "outputs": [],
   "source": [
    "## INSERT CODE ##\n",
    "\n",
    "#Should have input argument(s)\n",
    "#Should have a body\n",
    "#Should have good coding hygiene\n",
    "#Should have a return statement\n",
    "#Should have a docstring describing what the function is. \n",
    "\n",
    "#Example\n",
    "def sphere_volume(radius):\n",
    "    \"\"\" This function returns the volume of a sphere given a radius. \"\"\"\n",
    "    volume = 4/3 * 3.14 * radius**3\n",
    "    return volume"
   ]
  },
  {
   "cell_type": "markdown",
   "metadata": {},
   "source": [
    "### Problem 2 (5 points)\n",
    "\n",
    "Write a function last_digit(num) which returns the last digit of a number as a string. Tip: To convert an int or a float to a string, use the str() function. If you want to convert a string to an int or a float, use int() or float() respectively. "
   ]
  },
  {
   "cell_type": "code",
   "execution_count": 15,
   "metadata": {},
   "outputs": [
    {
     "name": "stdout",
     "output_type": "stream",
     "text": [
      "9\n",
      "8\n"
     ]
    }
   ],
   "source": [
    "def last_digit(num):\n",
    "    \"\"\" Returns last digit of a number as a string. \n",
    "    \n",
    "    >>> last_digit(2019):\n",
    "    9\n",
    "    >>> last_digit(40023948):\n",
    "    8\n",
    "    \"\"\"\n",
    "    return str(num)[-1]\n",
    "\n",
    "print(last_digit(2019))\n",
    "print(last_digit(40023948))"
   ]
  },
  {
   "cell_type": "markdown",
   "metadata": {},
   "source": [
    "### Problem 3 (10 points)\n",
    "\n",
    "For this problem, it would be helpful to know some functions that are already built-in to Python. In particular, min() and max(). Run the following code (and try it yourself) to see what they do, and then complete the function two_of_three. This one is a bit tricky so dont feel bad if you're stuck for a while!"
   ]
  },
  {
   "cell_type": "code",
   "execution_count": 16,
   "metadata": {},
   "outputs": [
    {
     "data": {
      "text/plain": [
       "(3, -20)"
      ]
     },
     "execution_count": 16,
     "metadata": {},
     "output_type": "execute_result"
    }
   ],
   "source": [
    "min(3, 4, 5), min(-5, 9, -20)"
   ]
  },
  {
   "cell_type": "code",
   "execution_count": 17,
   "metadata": {},
   "outputs": [
    {
     "data": {
      "text/plain": [
       "(5, 9)"
      ]
     },
     "execution_count": 17,
     "metadata": {},
     "output_type": "execute_result"
    }
   ],
   "source": [
    "max(3, 4, 5), max(-5, 9, -20)"
   ]
  },
  {
   "cell_type": "code",
   "execution_count": 18,
   "metadata": {},
   "outputs": [
    {
     "name": "stdout",
     "output_type": "stream",
     "text": [
      "13\n",
      "34\n",
      "164\n",
      "50\n"
     ]
    }
   ],
   "source": [
    "def two_of_three(a, b, c):\n",
    "    \"\"\"Return x*x + y*y, where x and y are the two largest members of the\n",
    "    positive numbers a, b, and c.\n",
    "\n",
    "    >>> two_of_three(1, 2, 3)\n",
    "    13\n",
    "    >>> two_of_three(5, 3, 1)\n",
    "    34\n",
    "    >>> two_of_three(10, 2, 8)\n",
    "    164\n",
    "    >>> two_of_three(5, 5, 5)\n",
    "    50\n",
    "    \"\"\"\n",
    "    return max(a,b)**2 + max(b,c)**2\n",
    "\n",
    "print(two_of_three(1, 2, 3))\n",
    "print(two_of_three(5, 3, 1))\n",
    "print(two_of_three(10, 2, 8))\n",
    "print(two_of_three(5, 5, 5))\n"
   ]
  },
  {
   "cell_type": "markdown",
   "metadata": {},
   "source": [
    "## Coding Hygiene\n",
    "\n",
    "As programmers we do need to practice good coding. What does that entail you might ask?\n",
    "\n",
    "As good programmers we should abide by the following rules of thumb:\n",
    "\n",
    "1. Use semi descriptive variables. DO NOT represent every variable as a single letter. This leads to ambiguity and makes it very difficult to understand/read your code when you come back to it, it also makes it difficult on us when we grade your homework. Examples: use temp instead of t, radius instead of r, etc...\n",
    "\n",
    "2. Leave comments as frequently as needed to make it easy to understand for people reading, especially in your functions. We recommend a docstring under the name of your functions describing what it does. Docstring is a comment using triple quotes of the form (\"\"\"________\"\"\") \n",
    "\n",
    "3. Stay consistent with your line spacing, try to make it as comprehensible as possible. Cramped up code with no spacing inbetween is not very pleasing to the eye and can get overwhelming"
   ]
  },
  {
   "cell_type": "markdown",
   "metadata": {},
   "source": [
    "### Pretty Me Up (5 points)\n",
    "\n",
    "Fix the given code so that it adheres to the coding hygiene guidelines above"
   ]
  },
  {
   "cell_type": "code",
   "execution_count": 19,
   "metadata": {},
   "outputs": [],
   "source": [
    "#Before\n",
    "def v(r):\n",
    "    return 4/3 * 3.14 * r**3\n",
    "\n",
    "#After\n",
    "def sphere_volume(radius):\n",
    "    \"\"\" This function returns the volume of a sphere given a radius. \"\"\"\n",
    "    volume = 4/3 * 3.14 * radius**3\n",
    "    return volume"
   ]
  },
  {
   "cell_type": "markdown",
   "metadata": {},
   "source": [
    "### Environment Diagrams (Optional)\n",
    "\n",
    "Environment diagrams are a way to keep track of the order in which functions are being called, names are being defined, as well as the environment (local or global) these actions are occuring in. We did not cover this because it is definitely a more advanced way of looking at coding from a computer science perspective, but if you are curious please feel free to watch this video from Berkeley's CS61A course on Environment Diagrams: https://www.youtube.com/watch?v=gyk0Qutui1s&list=PL6BsET-8jgYW8q2dPxPi_cfcLqNAjrCvR&index=3\n",
    "\n",
    "If you feel up for a challenge, write an environment diagram for the following code. If you want to see the solution, plug the code into the handy-dandy Python Tutor (http://pythontutor.com/visualize.html#mode=edit) and click \"Visualize Execution\"."
   ]
  },
  {
   "cell_type": "code",
   "execution_count": null,
   "metadata": {},
   "outputs": [],
   "source": [
    "def strange_eggs(eggs, method1, method2):\n",
    "    return method2(method1(eggs))\n",
    "\n",
    "def scramble(eggs):\n",
    "    print(\"scramble the bois!\")\n",
    "    return eggs % 2\n",
    "\n",
    "def boil(eggs):\n",
    "    print(\"hard-boiled bois...\")\n",
    "    return eggs * 2\n",
    "\n",
    "def poach(eggs):\n",
    "    print(\"soft-boiled bois~\")\n",
    "    return eggs - 2\n",
    "\n",
    "get_strange_eggs(8, poach, boil)"
   ]
  }
 ],
 "metadata": {
  "kernelspec": {
   "display_name": "Python 3",
   "language": "python",
   "name": "python3"
  },
  "language_info": {
   "codemirror_mode": {
    "name": "ipython",
    "version": 3
   },
   "file_extension": ".py",
   "mimetype": "text/x-python",
   "name": "python",
   "nbconvert_exporter": "python",
   "pygments_lexer": "ipython3",
   "version": "3.7.3"
  }
 },
 "nbformat": 4,
 "nbformat_minor": 2
}
