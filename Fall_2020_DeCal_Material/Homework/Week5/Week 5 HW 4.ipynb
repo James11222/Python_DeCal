{
 "cells": [
  {
   "cell_type": "markdown",
   "metadata": {},
   "source": [
    "# Homework 4\n",
    "\n",
    "This homework is all about plotting in python! This is by far the most important skill to take away from this course. You will use plotting any where you go, whether that is in physics or astronomy, data science, economics, biology, or even social sciences! Being able to represent your data in a visual manor is absolutely a crucial skill to have. This homework and the next will be arguably the most important homeworks of the semester. \n",
    "\n",
    "If you get stuck on how to do something you have several options, I would encourage you to first take a look at **The Ultimate Plotting Guide** Notebook Posted in the Bcourses files. This guide is pretty exhaustive on the basics and should contain a lot of useful information on how to create just about any plot you could possibly need in Python."
   ]
  },
  {
   "cell_type": "code",
   "execution_count": null,
   "metadata": {},
   "outputs": [],
   "source": [
    "#Preamble\n",
    "import numpy as np\n",
    "import matplotlib.pyplot as plt\n",
    "%matplotlib inline"
   ]
  },
  {
   "cell_type": "markdown",
   "metadata": {},
   "source": [
    "## Proper Plotting Hygiene\n",
    "\n",
    "Make sure it is clear what your plot is representing. This means you should always have a descriptive title, x and y axis labels, the figure should be large enough to actually read (I recommend using `figsize=(10,8)` or widths and heights close to that ratio and magnitude to make nice large plots. Look at the Beautifying Plots section of the Ultimate Plotting Guide to see how to really make your plots stand out from the rest (this is not required). \n",
    "\n",
    "Your code should also be semi-documented with comments so that we can see where you are defining your functions or data sets, where each figure begins, and where each subplot begins. This helps your code be readable for someone helping you debug any issues you come across."
   ]
  },
  {
   "cell_type": "markdown",
   "metadata": {},
   "source": [
    "## Plotting Function Problems"
   ]
  },
  {
   "cell_type": "markdown",
   "metadata": {},
   "source": [
    "### Problem 1: Plotting a Function (5 Points)\n",
    "\n",
    "For this problem plot $f(x) = sin(x)$ and $g(x) = cos(x)$ on the same figure, add a title, axis labels, and a legend as well so that we know which curve is which. Your domain should be $x \\in [0, 2 \\pi]$. "
   ]
  },
  {
   "cell_type": "code",
   "execution_count": null,
   "metadata": {},
   "outputs": [],
   "source": [
    "###Your Code Here###"
   ]
  },
  {
   "cell_type": "markdown",
   "metadata": {},
   "source": [
    "### Problem 2: Subplots! (10 Points)\n",
    "\n",
    "**Part a)** For this problem you should make a figure that contains two plots (side by side) where we have the function $f(x) = e^{-3x} sin(x)$ and $g(x) = e^{-3x}$ on the left plot, on the right plot you should plot $f(x) = e^{-5x^2}$ and again add a title and axis labels, dont forget a legend. Your domain should be $x \\in [0, 2 \\pi]$. "
   ]
  },
  {
   "cell_type": "code",
   "execution_count": null,
   "metadata": {},
   "outputs": [],
   "source": [
    "###Your Code Here###"
   ]
  },
  {
   "cell_type": "markdown",
   "metadata": {},
   "source": [
    "**Part b)** Now do the same thing except make the first plot on top of the second plot (vertically aligned)"
   ]
  },
  {
   "cell_type": "code",
   "execution_count": null,
   "metadata": {},
   "outputs": [],
   "source": [
    "###Your Code Here###"
   ]
  },
  {
   "cell_type": "markdown",
   "metadata": {},
   "source": [
    "### Problem 3: 3D Plotting (10 Points)\n",
    "\n",
    "A lot of times in physics and astrophysics we have a 3 Dimensional function that needs to be plotted in a way that makes sense. This can also be done in python using the `matplotlib` library. Your task for this problem is to plot the following function. Use whatever color map you prefer. I highly recommend googling `imshow()` colormaps to see all the options. It can be really fun if you are a visual person. You should have a colorbar, title, and axis labels. Your domain should be $x \\in [0, 2 \\pi]$. \n",
    "\n",
    "$$f(x,y) = \\frac{sin(10(x^2+y^2))}{10}$$"
   ]
  },
  {
   "cell_type": "code",
   "execution_count": null,
   "metadata": {},
   "outputs": [],
   "source": [
    "###Your Code Here###"
   ]
  },
  {
   "cell_type": "markdown",
   "metadata": {},
   "source": [
    "### Problem 4: 3D Subplots (25 Points)\n",
    "\n",
    "Plot the following graphs in one figure. We should see 4 total plots (2 x 2)\n",
    "\n",
    "**Top Left**:\n",
    "\n",
    "$$f(x,y) = \\frac{sgn(xy) * sgn(1-(9x)^2+(9y)^2)}{9}$$\n",
    "\n",
    "**Top Right**:\n",
    "\n",
    "$$f(x,y) = (0.4^2-(0.6-(x^2+y^2)^{1/2})^2)^{1/2}$$\n",
    "\n",
    "**Bottom Left**:\n",
    "\n",
    "$$f(x,y) = \\frac{1}{15(x^2+y^2)}$$\n",
    "\n",
    "**Bottom Right**:\n",
    "\n",
    "$$f(x,y) = \\frac{(1-sgn(-x-.51+abs(2y)))(sgn(\\frac{1}{2}-x)+1)}{3}$$\n",
    "\n",
    "\n",
    "Use the same colormap for the whole figure (all 4 plots), add a colorbar for the whole figure, a title for each plot, and x and y labels for each plot. Pick the same domain for $x$ and $y$ and it should be the same for all plots. I will let you figure out what domain works best. Each of these is an interesting shape or structure. Create a markdown cell below your plotting cell describing what you see in each plot.\n",
    "\n",
    "Hint: `numpy` has a sgn(x) function"
   ]
  },
  {
   "cell_type": "code",
   "execution_count": null,
   "metadata": {},
   "outputs": [],
   "source": [
    "###Your Code Here###"
   ]
  },
  {
   "cell_type": "markdown",
   "metadata": {},
   "source": [
    "## Plotting Data\n",
    "\n",
    "### Problem 5: Covid-19 (25 Points)\n",
    "\n",
    "\n",
    "Last week we learned how to import data into our notebooks in the form of arrays. Well we can actually plot that data! For this problem we will actually make a pretty relevant plot to the state of the world in 2020. As someone who has taken the Python DeCal you will be able to say that you have worked with real COVID-19 Data. So often we simply listen to people tell us about the data, but you should be able to look at it yourself (to reduce bias of course). \n",
    "\n",
    "In this problem we will plot some COVID-19 United States Data from the https://ourworldindata.org/coronavirus-source-data, You should have a file named `Covid_Data.csv` in the same directory as this notebook. The data starts on January 1st, 2020 and each new row below that is the next day until the end of the data set which goes to September 23rd, 2020. \n",
    "\n",
    "\n",
    "**Part a)** Your task for this problem is to make a scatter plot of the Total Cases (unsmoothed) in the United States for each day since the data started being taken. Make sure to import the data using the `numpy.loadtxt`function.\n",
    "\n",
    "Hint 1: Set `Unpack = True` and import all the required data sets as their own 1D arrays\n",
    "\n",
    "Hint 2: Skip the first row in the data set.\n",
    "\n",
    "Hint 3: You dont need the first column because that is the  date which would be a string, while the rest of the data is floats. This may cause some issues. Think about how you can get around this. \n",
    "\n",
    "Extra: If you feel ambitious, try and figure out how you can make the x-axis in units of months instead of just number of days. You `plt.xticks()` could be useful for this because you can put strings for your x-axis tick marks. \n"
   ]
  },
  {
   "cell_type": "code",
   "execution_count": null,
   "metadata": {},
   "outputs": [],
   "source": [
    "###Your Code Here###"
   ]
  },
  {
   "cell_type": "markdown",
   "metadata": {},
   "source": [
    "**Part b)** Now make a similar plot of New Cases (unsmoothed) vs. time (days). Dont forget to include your plot's title, axis labels (with units), and a legend."
   ]
  },
  {
   "cell_type": "code",
   "execution_count": null,
   "metadata": {},
   "outputs": [],
   "source": [
    "###Your Code Here###"
   ]
  },
  {
   "cell_type": "markdown",
   "metadata": {},
   "source": [
    "**Part c)** A crucial part of being a scientist is being able to look at a data set and find something interesting that they want to look at within a data set. Go ahead and open up the data set in some spreadsheet editor (I Use Microsoft Excel for example) and look at the titles for each column. Pick one of the columns that you find really interesting or that is relevant to show someone. Plot that vs time (days). As usual dont forget to add a title, labels, and a legend. "
   ]
  },
  {
   "cell_type": "code",
   "execution_count": null,
   "metadata": {},
   "outputs": [],
   "source": [
    "###Your Code Here###"
   ]
  }
 ],
 "metadata": {
  "kernelspec": {
   "display_name": "Python 3",
   "language": "python",
   "name": "python3"
  },
  "language_info": {
   "codemirror_mode": {
    "name": "ipython",
    "version": 3
   },
   "file_extension": ".py",
   "mimetype": "text/x-python",
   "name": "python",
   "nbconvert_exporter": "python",
   "pygments_lexer": "ipython3",
   "version": "3.7.3"
  }
 },
 "nbformat": 4,
 "nbformat_minor": 4
}
