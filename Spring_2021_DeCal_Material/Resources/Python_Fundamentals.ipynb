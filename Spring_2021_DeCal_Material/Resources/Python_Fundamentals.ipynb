{
 "cells": [
  {
   "cell_type": "markdown",
   "metadata": {},
   "source": [
    "# Python 101: The Basics\n",
    "\n",
    "This is a resource designed simply for your reference on how the basics of python work. Feel free to look at this notebook if you get stuck working on the homework at all.\n",
    "\n",
    "Note: a comment is denoted by `# ____ `, python ignores anything after the `#` which allows us to comment our\n",
    "code and explain what parts of the code are doing"
   ]
  },
  {
   "cell_type": "markdown",
   "metadata": {},
   "source": [
    "## Data Types\n",
    "\n",
    "There are a few important data types within python. Let's get acquainted with them!"
   ]
  },
  {
   "cell_type": "markdown",
   "metadata": {},
   "source": [
    "## Floats and Integers\n",
    "Floats are essentially just numbers with decimals included, even if the decimal is just a .0 on the end"
   ]
  },
  {
   "cell_type": "code",
   "execution_count": 1,
   "metadata": {},
   "outputs": [
    {
     "data": {
      "text/plain": [
       "1000000.0"
      ]
     },
     "execution_count": 1,
     "metadata": {},
     "output_type": "execute_result"
    }
   ],
   "source": [
    "30.0\n",
    "30.549820\n",
    "28.75\n",
    "1e6 #The e6 means 10 to the 6"
   ]
  },
  {
   "cell_type": "markdown",
   "metadata": {},
   "source": [
    "Integers are just numbers without decimals"
   ]
  },
  {
   "cell_type": "code",
   "execution_count": 2,
   "metadata": {},
   "outputs": [
    {
     "data": {
      "text/plain": [
       "2340328"
      ]
     },
     "execution_count": 2,
     "metadata": {},
     "output_type": "execute_result"
    }
   ],
   "source": [
    "30\n",
    "45\n",
    "213\n",
    "2340328"
   ]
  },
  {
   "cell_type": "markdown",
   "metadata": {},
   "source": [
    "You can do math with combined integers and floats, this will just give you a float"
   ]
  },
  {
   "cell_type": "code",
   "execution_count": 3,
   "metadata": {},
   "outputs": [
    {
     "data": {
      "text/plain": [
       "24.5"
      ]
     },
     "execution_count": 3,
     "metadata": {},
     "output_type": "execute_result"
    }
   ],
   "source": [
    "20.5+45\n",
    "45-20.5"
   ]
  },
  {
   "cell_type": "code",
   "execution_count": 4,
   "metadata": {},
   "outputs": [
    {
     "data": {
      "text/plain": [
       "1000"
      ]
     },
     "execution_count": 4,
     "metadata": {},
     "output_type": "execute_result"
    }
   ],
   "source": [
    "10**3 #making the exponent an integer makes the answer an integer"
   ]
  },
  {
   "cell_type": "code",
   "execution_count": 5,
   "metadata": {},
   "outputs": [
    {
     "data": {
      "text/plain": [
       "1000.0"
      ]
     },
     "execution_count": 5,
     "metadata": {},
     "output_type": "execute_result"
    }
   ],
   "source": [
    "10**3.0 #making the exponent a float makes the answer a float"
   ]
  },
  {
   "cell_type": "markdown",
   "metadata": {},
   "source": [
    "## Strings\n",
    "Strings are not numbers, strings are collections of letters that can be manipulated through arithmetic expressions"
   ]
  },
  {
   "cell_type": "code",
   "execution_count": 6,
   "metadata": {},
   "outputs": [
    {
     "ename": "SyntaxError",
     "evalue": "invalid syntax (<ipython-input-6-b6864983539b>, line 5)",
     "output_type": "error",
     "traceback": [
      "\u001b[0;36m  File \u001b[0;32m\"<ipython-input-6-b6864983539b>\"\u001b[0;36m, line \u001b[0;32m5\u001b[0m\n\u001b[0;31m    I love Astrophysics #gives you an error as it reads this as actual code\u001b[0m\n\u001b[0m         ^\u001b[0m\n\u001b[0;31mSyntaxError\u001b[0m\u001b[0;31m:\u001b[0m invalid syntax\n"
     ]
    }
   ],
   "source": [
    "'I love Astrophysics' #is a string\n",
    "\n",
    "#But you need the quotes to make the string\n",
    "\n",
    "I love Astrophysics #gives you an error as it reads this as actual code"
   ]
  },
  {
   "cell_type": "code",
   "execution_count": 7,
   "metadata": {},
   "outputs": [
    {
     "name": "stdout",
     "output_type": "stream",
     "text": [
      "abc\n",
      "aa\n"
     ]
    },
    {
     "ename": "TypeError",
     "evalue": "can't multiply sequence by non-int of type 'str'",
     "output_type": "error",
     "traceback": [
      "\u001b[0;31m---------------------------------------------------------------------------\u001b[0m",
      "\u001b[0;31mTypeError\u001b[0m                                 Traceback (most recent call last)",
      "\u001b[0;32m<ipython-input-7-c697fd00789e>\u001b[0m in \u001b[0;36m<module>\u001b[0;34m\u001b[0m\n\u001b[1;32m      3\u001b[0m \u001b[0mprint\u001b[0m\u001b[0;34m(\u001b[0m\u001b[0;36m2\u001b[0m\u001b[0;34m*\u001b[0m\u001b[0;34m'a'\u001b[0m\u001b[0;34m)\u001b[0m \u001b[0;31m#repeat the same letter multiple times\u001b[0m\u001b[0;34m\u001b[0m\u001b[0;34m\u001b[0m\u001b[0m\n\u001b[1;32m      4\u001b[0m \u001b[0;34m\u001b[0m\u001b[0m\n\u001b[0;32m----> 5\u001b[0;31m \u001b[0mprint\u001b[0m\u001b[0;34m(\u001b[0m\u001b[0;34m'a'\u001b[0m \u001b[0;34m*\u001b[0m \u001b[0;34m'b'\u001b[0m\u001b[0;34m)\u001b[0m \u001b[0;31m#can't multiply strings -> Error\u001b[0m\u001b[0;34m\u001b[0m\u001b[0;34m\u001b[0m\u001b[0m\n\u001b[0m",
      "\u001b[0;31mTypeError\u001b[0m: can't multiply sequence by non-int of type 'str'"
     ]
    }
   ],
   "source": [
    "print('a'+'b'+'c') #You can add strings\n",
    "\n",
    "print(2*'a') #repeat the same letter multiple times\n",
    "\n",
    "print('a' * 'b') #can't multiply strings -> Error"
   ]
  },
  {
   "cell_type": "markdown",
   "metadata": {},
   "source": [
    "You can index into strings to pull out a specific letter"
   ]
  },
  {
   "cell_type": "code",
   "execution_count": 8,
   "metadata": {},
   "outputs": [
    {
     "name": "stdout",
     "output_type": "stream",
     "text": [
      "R\n",
      "ae\n",
      "l\n"
     ]
    }
   ],
   "source": [
    "name = 'Raphael'\n",
    "\n",
    "#treat it like a list of letters, all the same indexing style. (0th index means first letter)\n",
    "print(name[0]) #pulls out the first letter\n",
    "print(name[4:6]) #pulls out the 4th through 6th letters\n",
    "print(name[-1]) #pulls out the last letter"
   ]
  },
  {
   "cell_type": "markdown",
   "metadata": {},
   "source": [
    "## Lists & Tuples\n",
    "\n",
    "A list is a way to store several data types or items in one place for easy access. For example, it might be useful to make a list of important stars that you want to look up later. A tuple is the same as a list except you cant edit it. The reason you would want a tuple over a list is that they take up less memory on the computer and are easier for the computer to work with."
   ]
  },
  {
   "cell_type": "code",
   "execution_count": 9,
   "metadata": {},
   "outputs": [
    {
     "name": "stdout",
     "output_type": "stream",
     "text": [
      "betelgeuse\n",
      "cal-star\n",
      "['proxima centauri', 'cal-star']\n",
      "Stephenson-143A\n"
     ]
    }
   ],
   "source": [
    "stars = ['betelgeuse', 'proxima centauri', 'cal-star', 'sirius', 'Stephenson-143A'] #list\n",
    "\n",
    "print(stars[0]) #print out the first item in the list (notice lists start with 0 as their first item's index)\n",
    "print(stars[2])\n",
    "print(stars[1:3])\n",
    "print(stars[-1])"
   ]
  },
  {
   "cell_type": "code",
   "execution_count": 10,
   "metadata": {},
   "outputs": [
    {
     "name": "stdout",
     "output_type": "stream",
     "text": [
      "['james', 'ayla', 'emily', 'yilun', 'raphael', 'mariska']\n"
     ]
    },
    {
     "ename": "AttributeError",
     "evalue": "'tuple' object has no attribute 'append'",
     "output_type": "error",
     "traceback": [
      "\u001b[0;31m---------------------------------------------------------------------------\u001b[0m",
      "\u001b[0;31mAttributeError\u001b[0m                            Traceback (most recent call last)",
      "\u001b[0;32m<ipython-input-10-d5f3a81a6b7b>\u001b[0m in \u001b[0;36m<module>\u001b[0;34m\u001b[0m\n\u001b[1;32m      6\u001b[0m \u001b[0mprint\u001b[0m\u001b[0;34m(\u001b[0m\u001b[0mnames_list\u001b[0m\u001b[0;34m)\u001b[0m\u001b[0;34m\u001b[0m\u001b[0;34m\u001b[0m\u001b[0m\n\u001b[1;32m      7\u001b[0m \u001b[0;34m\u001b[0m\u001b[0m\n\u001b[0;32m----> 8\u001b[0;31m \u001b[0mnames_tuple\u001b[0m\u001b[0;34m.\u001b[0m\u001b[0mappend\u001b[0m\u001b[0;34m(\u001b[0m\u001b[0;34m'mariska'\u001b[0m\u001b[0;34m)\u001b[0m \u001b[0;31m#error because you can't append (aka edit) items to a tuple\u001b[0m\u001b[0;34m\u001b[0m\u001b[0;34m\u001b[0m\u001b[0m\n\u001b[0m",
      "\u001b[0;31mAttributeError\u001b[0m: 'tuple' object has no attribute 'append'"
     ]
    }
   ],
   "source": [
    "names_tuple = ('james', 'ayla', 'emily', 'yilun', 'raphael') #tuple\n",
    "names_list = ['james', 'ayla', 'emily', 'yilun', 'raphael'] #list\n",
    "\n",
    "names_list.append('mariska') #you can append items to a list\n",
    "\n",
    "print(names_list)\n",
    "\n",
    "names_tuple.append('mariska') #error because you can't append (aka edit) items to a tuple"
   ]
  },
  {
   "cell_type": "markdown",
   "metadata": {},
   "source": [
    "## Booleans\n",
    "\n",
    "Booleans is a fancy word for True or False. Pretty simple. You can use these as conditions for different loops and conditional statements (down below)"
   ]
  },
  {
   "cell_type": "code",
   "execution_count": 11,
   "metadata": {},
   "outputs": [
    {
     "name": "stdout",
     "output_type": "stream",
     "text": [
      "yes\n",
      "no\n"
     ]
    }
   ],
   "source": [
    "my_bool = True\n",
    "my_bool2 = False\n",
    "\n",
    "if my_bool == True: #checks to see if my_bool is True\n",
    "    print('yes')\n",
    "else:\n",
    "    print('no')\n",
    "    \n",
    "if my_bool2 == True: #checks to see if my_bool2 is True\n",
    "    print('yes')\n",
    "else:\n",
    "    print('no')"
   ]
  },
  {
   "cell_type": "markdown",
   "metadata": {},
   "source": [
    "## Dictionaries\n",
    "\n",
    "These are like super fancy lists. They work just like a normal dictionary. For every key in a dictionary, you have its' corresponding value. Just like in a real dictionary, the key is the word you want and the value is the definition... but in python you can generalize it."
   ]
  },
  {
   "cell_type": "code",
   "execution_count": 12,
   "metadata": {},
   "outputs": [
    {
     "name": "stdout",
     "output_type": "stream",
     "text": [
      "the number one public university!\n",
      "an organic compound responsible for life on Earth\n"
     ]
    }
   ],
   "source": [
    "words = {'python':'a coding language', 'UC Berkeley':'the number one public university!',\n",
    "         'water': 'an organic compound responsible for life on Earth', 'Mars':'4th planet in the solar system'}\n",
    "\n",
    "print(words['UC Berkeley']) #prints out the definition for UC Berkeley\n",
    "print(words['water'])\n",
    "\n",
    "# curly braces make it a dictionary, keys are followed by a colon and a value\n",
    "# to acces a value in a dictionary you index with the name of the key"
   ]
  },
  {
   "cell_type": "markdown",
   "metadata": {},
   "source": [
    "## Functions"
   ]
  },
  {
   "cell_type": "markdown",
   "metadata": {},
   "source": [
    "Functions in python are a piece of code that defines something which can be used elsewhere in the code\n",
    "\n",
    "Python has 3 classes of functions:\n",
    "-  built-in functions, e.g. print()\n",
    "-  functions from packages/modules, e.g. sin() from the math package(you'll learn about this later with numpy)\n",
    "-  user-defined functions."
   ]
  },
  {
   "cell_type": "code",
   "execution_count": 13,
   "metadata": {},
   "outputs": [
    {
     "name": "stdout",
     "output_type": "stream",
     "text": [
      "8\n"
     ]
    }
   ],
   "source": [
    "#Print statements and other built-in functions are relatively straightforward\n",
    "x=5+3\n",
    "print(x)"
   ]
  },
  {
   "cell_type": "code",
   "execution_count": 14,
   "metadata": {},
   "outputs": [
    {
     "data": {
      "text/plain": [
       "3702"
      ]
     },
     "execution_count": 14,
     "metadata": {},
     "output_type": "execute_result"
    }
   ],
   "source": [
    "#User-defined functions can do simple math or far more complicated processes\n",
    "def triple(x):\n",
    "    return 3*x # The final return must be indented\n",
    "triple(1234)"
   ]
  },
  {
   "cell_type": "code",
   "execution_count": 15,
   "metadata": {},
   "outputs": [
    {
     "data": {
      "text/plain": [
       "119025"
      ]
     },
     "execution_count": 15,
     "metadata": {},
     "output_type": "execute_result"
    }
   ],
   "source": [
    "#You can define things within functions\n",
    "def squared(x):\n",
    "    y=x**2\n",
    "    return y\n",
    "\n",
    "squared(345)"
   ]
  },
  {
   "cell_type": "code",
   "execution_count": 16,
   "metadata": {},
   "outputs": [
    {
     "data": {
      "text/plain": [
       "7"
      ]
     },
     "execution_count": 16,
     "metadata": {},
     "output_type": "execute_result"
    }
   ],
   "source": [
    "#You can have multiple arguments within a function\n",
    "def absolute_val(x,y):\n",
    "    return abs(x-y) #abs is a built in function\n",
    "absolute_val(3,10)"
   ]
  },
  {
   "cell_type": "markdown",
   "metadata": {},
   "source": [
    "## if/elif/else statements\n",
    "These are all conditionals, meaning they can be used to impose conditions within python. Conditionals are extremely useful because they allow one to account for several possibilities within their code. The easiest example of when to use them would be inside a function."
   ]
  },
  {
   "cell_type": "markdown",
   "metadata": {},
   "source": [
    "To understand if statements, we can use this function which rolls a dice.\n",
    "If you roll a 6, you win. If not, you lose"
   ]
  },
  {
   "cell_type": "code",
   "execution_count": 17,
   "metadata": {},
   "outputs": [
    {
     "data": {
      "text/plain": [
       "'You Lost!'"
      ]
     },
     "execution_count": 17,
     "metadata": {},
     "output_type": "execute_result"
    }
   ],
   "source": [
    "def roll_6(x):\n",
    "    if x<6:\n",
    "        return 'You Lost!'\n",
    "    elif x==6: #elif means else if (like saying, okay if the \"if\" statement above fails, try this condition instead)\n",
    "        return 'Victory!'\n",
    "    else: #else is like the \"if all else fails, do this\" condition in your code\n",
    "        return 'Not a Valid Roll'\n",
    "\n",
    "roll_6(1) #change the 1 to a 6 and see what happens"
   ]
  },
  {
   "cell_type": "markdown",
   "metadata": {},
   "source": [
    "you can use else if you want to denote that in all other cases besides the if statmenet, the else statement should be true. Take a step function."
   ]
  },
  {
   "cell_type": "code",
   "execution_count": 18,
   "metadata": {},
   "outputs": [
    {
     "name": "stdout",
     "output_type": "stream",
     "text": [
      "0\n",
      "1\n"
     ]
    }
   ],
   "source": [
    "def step_function(x):\n",
    "    if x<=0:\n",
    "        return 0\n",
    "    else:\n",
    "        return 1 \n",
    "    \n",
    "print(step_function(-2))\n",
    "print(step_function(10))"
   ]
  },
  {
   "cell_type": "markdown",
   "metadata": {},
   "source": [
    "## While loops"
   ]
  },
  {
   "cell_type": "markdown",
   "metadata": {},
   "source": [
    "While loops essentially impose a condition for which python will run until that condition becomes no longer true or is stopped. \"While this condition is true, do this over and over again\", so when the condition is no longer met the loop stops. Be careful, you may have heard of the \"infinite loop\" before... this is where it happens. What do you think would happen in the cell below if you forgot to add 1 to count each time?\n"
   ]
  },
  {
   "cell_type": "code",
   "execution_count": 19,
   "metadata": {},
   "outputs": [
    {
     "name": "stdout",
     "output_type": "stream",
     "text": [
      "5\n",
      "10\n",
      "15\n",
      "20\n",
      "25\n",
      "30\n",
      "35\n",
      "40\n",
      "45\n",
      "50\n",
      "50 10\n"
     ]
    }
   ],
   "source": [
    "#In this cell, adapted from physics 77, the while loop adds numbers until the condition is no longer met\n",
    "sum = 0\n",
    "count = 0\n",
    "while sum < 49:\n",
    "    sum += 5 # sum += 5 is short hand for sum = sum + 5 \n",
    "    count += 1 \n",
    "    print(sum) # the print makes sure you get an output\n",
    "print(sum,count)"
   ]
  },
  {
   "cell_type": "code",
   "execution_count": 20,
   "metadata": {},
   "outputs": [
    {
     "name": "stdout",
     "output_type": "stream",
     "text": [
      "25 5\n"
     ]
    }
   ],
   "source": [
    "#The break expression breaks the loop early if you want\n",
    "sum = 0\n",
    "count = 0\n",
    "while sum < 49:\n",
    "    sum += 5\n",
    "    count += 1\n",
    "    if count >=5:\n",
    "        break\n",
    "print(sum,count)\n",
    "#while loops essentially can hold a condition and allow you to loop through huge sets of numbers"
   ]
  },
  {
   "cell_type": "markdown",
   "metadata": {},
   "source": [
    "## For loops"
   ]
  },
  {
   "cell_type": "markdown",
   "metadata": {},
   "source": [
    "For loops impose a condition and loop through the index/range you give, similar to a while loop but more conventional. This loop is almost always used when you want to do a task to each item in a list, or for each item in a list. A good example of this might be when you have a python list with names of the people in our class and you wanted to check attendance. You could use a for loop to check if each name is in the zoom call.\n",
    "\n",
    "A for loop is just a while loop in disguise basically"
   ]
  },
  {
   "cell_type": "code",
   "execution_count": 21,
   "metadata": {},
   "outputs": [
    {
     "name": "stdout",
     "output_type": "stream",
     "text": [
      "Here\n",
      "Here\n",
      "Here\n",
      "Here\n",
      "Here\n"
     ]
    }
   ],
   "source": [
    "students = ['james', 'ayla', 'emily', 'yilun', 'raphael']\n",
    "\n",
    "for i in students: #i is just a dummy variable that keeps track of which item in the list the loop is on\n",
    "    print('Here')"
   ]
  },
  {
   "cell_type": "code",
   "execution_count": 22,
   "metadata": {},
   "outputs": [
    {
     "name": "stdout",
     "output_type": "stream",
     "text": [
      "0\n",
      "1\n",
      "2\n",
      "3\n",
      "4\n",
      "5\n",
      "6\n",
      "7\n",
      "8\n",
      "9\n"
     ]
    }
   ],
   "source": [
    "for i in range(10): #range(10) is a built in function that makes a list of numbers from 0 to N-1 to iterate over\n",
    "    print(i)\n",
    "#you loop through some index and can pick out certain values"
   ]
  },
  {
   "cell_type": "code",
   "execution_count": 23,
   "metadata": {},
   "outputs": [
    {
     "name": "stdout",
     "output_type": "stream",
     "text": [
      "0\n",
      "1\n",
      "2\n",
      "3\n",
      "greater than 3\n",
      "greater than 3\n",
      "greater than 3\n",
      "greater than 3\n",
      "greater than 3\n",
      "greater than 3\n"
     ]
    }
   ],
   "source": [
    "#combine with if\n",
    "for i in range(10):\n",
    "    if i<4:\n",
    "        print(i)\n",
    "    else:\n",
    "        print(\"greater than 3\")"
   ]
  },
  {
   "cell_type": "markdown",
   "metadata": {},
   "source": [
    "Congratulations, you have now finished with some of the python basics! Continue to future notebooks/lectures for more details etc."
   ]
  },
  {
   "cell_type": "markdown",
   "metadata": {},
   "source": [
    "Created by Raphael Baer-Way and James Sunseri. Some material adapted from Data 8 and Physics 77"
   ]
  },
  {
   "cell_type": "code",
   "execution_count": null,
   "metadata": {},
   "outputs": [],
   "source": []
  }
 ],
 "metadata": {
  "kernelspec": {
   "display_name": "Python 3",
   "language": "python",
   "name": "python3"
  },
  "language_info": {
   "codemirror_mode": {
    "name": "ipython",
    "version": 3
   },
   "file_extension": ".py",
   "mimetype": "text/x-python",
   "name": "python",
   "nbconvert_exporter": "python",
   "pygments_lexer": "ipython3",
   "version": "3.7.3"
  }
 },
 "nbformat": 4,
 "nbformat_minor": 4
}
