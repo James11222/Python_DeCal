{
 "cells": [
  {
   "cell_type": "markdown",
   "metadata": {
    "id": "rY2kvt7mh04L"
   },
   "source": [
    "# Homework 6"
   ]
  },
  {
   "cell_type": "markdown",
   "metadata": {},
   "source": [
    "**Submit the MP4 files you make along with a PDF of this notebook**"
   ]
  },
  {
   "cell_type": "markdown",
   "metadata": {
    "id": "MP99MGLdiCsG"
   },
   "source": [
    "This week we will learn about how to turn the plots we have been making into animations! This will be really helpful for any groups that want to make simulations or other animations for their final project. This will build off of the differential equations we learned last week as well as the plotting skills we have learned so far."
   ]
  },
  {
   "cell_type": "markdown",
   "metadata": {
    "id": "9MSnCuw2iibG"
   },
   "source": [
    "First let us import the neccessary libraries,"
   ]
  },
  {
   "cell_type": "code",
   "execution_count": 1,
   "metadata": {
    "colab": {
     "base_uri": "https://localhost:8080/"
    },
    "id": "kVvtEMI6iGzY",
    "outputId": "d444145e-8f76-41da-bcf4-28654a6de58e"
   },
   "outputs": [
    {
     "name": "stderr",
     "output_type": "stream",
     "text": [
      "In /Users/jamessunseri/anaconda3/lib/python3.7/site-packages/matplotlib/mpl-data/stylelib/_classic_test.mplstyle: \n",
      "The text.latex.preview rcparam was deprecated in Matplotlib 3.3 and will be removed two minor releases later.\n",
      "In /Users/jamessunseri/anaconda3/lib/python3.7/site-packages/matplotlib/mpl-data/stylelib/_classic_test.mplstyle: \n",
      "The mathtext.fallback_to_cm rcparam was deprecated in Matplotlib 3.3 and will be removed two minor releases later.\n",
      "In /Users/jamessunseri/anaconda3/lib/python3.7/site-packages/matplotlib/mpl-data/stylelib/_classic_test.mplstyle: Support for setting the 'mathtext.fallback_to_cm' rcParam is deprecated since 3.3 and will be removed two minor releases later; use 'mathtext.fallback : 'cm' instead.\n",
      "In /Users/jamessunseri/anaconda3/lib/python3.7/site-packages/matplotlib/mpl-data/stylelib/_classic_test.mplstyle: \n",
      "The validate_bool_maybe_none function was deprecated in Matplotlib 3.3 and will be removed two minor releases later.\n",
      "In /Users/jamessunseri/anaconda3/lib/python3.7/site-packages/matplotlib/mpl-data/stylelib/_classic_test.mplstyle: \n",
      "The savefig.jpeg_quality rcparam was deprecated in Matplotlib 3.3 and will be removed two minor releases later.\n",
      "In /Users/jamessunseri/anaconda3/lib/python3.7/site-packages/matplotlib/mpl-data/stylelib/_classic_test.mplstyle: \n",
      "The keymap.all_axes rcparam was deprecated in Matplotlib 3.3 and will be removed two minor releases later.\n",
      "In /Users/jamessunseri/anaconda3/lib/python3.7/site-packages/matplotlib/mpl-data/stylelib/_classic_test.mplstyle: \n",
      "The animation.avconv_path rcparam was deprecated in Matplotlib 3.3 and will be removed two minor releases later.\n",
      "In /Users/jamessunseri/anaconda3/lib/python3.7/site-packages/matplotlib/mpl-data/stylelib/_classic_test.mplstyle: \n",
      "The animation.avconv_args rcparam was deprecated in Matplotlib 3.3 and will be removed two minor releases later.\n"
     ]
    }
   ],
   "source": [
    "import numpy as np\n",
    "import matplotlib.pyplot as plt\n",
    "import scipy\n",
    "import scipy.integrate\n",
    "\n",
    "from mpl_toolkits.mplot3d import Axes3D\n",
    "from matplotlib.animation import FFMpegWriter\n",
    "\n",
    "%config InlineBackend.figure_format='retina' # makes animation display better\n",
    "\n",
    "%matplotlib osx \n",
    "# ^ UNCOMMENT THIS LINE IF USING MAC\n",
    "\n",
    "# %matplotlib qt \n",
    "# ^ UNCOMMENT THIS LINE IF USING WINDOWS"
   ]
  },
  {
   "cell_type": "markdown",
   "metadata": {},
   "source": [
    "# Problem 1 (10 points)\n",
    "\n",
    "**Animating a Cool Function**\n",
    "\n",
    "In homework 5, we plotted the following function:\n",
    "\n",
    "\\begin{equation}\n",
    "f = \\frac{\\sin(10(x^2 + y^2))}{10}\n",
    "\\end{equation}"
   ]
  },
  {
   "cell_type": "code",
   "execution_count": null,
   "metadata": {},
   "outputs": [],
   "source": [
    "x, y = np.meshgrid(np.linspace(0, 2*np.pi, 100),\n",
    "                   np.linspace(0, 2*np.pi, 100))\n",
    "\n",
    "f = np.sin(10*(x**2 + y**2))/10\n",
    "\n",
    "plt.figure(figsize=(12,12))\n",
    "plt.imshow(f)          # Plot the 2D array\n",
    "plt.set_cmap('hot')    # Set the color scheme (\"jet\" is matplotlib's default)\n",
    "plt.colorbar()         # Display a legend for the color values\n",
    "plt.show()"
   ]
  },
  {
   "cell_type": "markdown",
   "metadata": {},
   "source": [
    "Now let's animate it! \n",
    "\n",
    "For each iteration, add 1 more to x and y. For example, add 1 to x and y for the first iteration, and add 10 to both x and y for the tenth iteration.\n",
    "\n",
    "Rember to use plt.imshow( ) so that your function is shown."
   ]
  },
  {
   "cell_type": "code",
   "execution_count": null,
   "metadata": {},
   "outputs": [],
   "source": [
    "## SAVE AS MP4 ##\n",
    "fig, ax = plt.subplots(figsize=(5,5))\n",
    "\n",
    "num_iterations = 20\n",
    "\n",
    "with writer.saving(fig, \"3Dfunction.mp4\", dpi=200):\n",
    "    for i in range(num_iterations):\n",
    "\n",
    "        ax.clear() # first clear the figure\n",
    "\n",
    "        ### YOUR CODE HERE ###\n",
    "        f = np.sin(10*((x+i)**2 + (y+i)**2))/10\n",
    "        plt.imshow(f)\n",
    "        \n",
    "        plt.draw()\n",
    "        plt.pause(0.01)\n",
    "        writer.grab_frame() # save the current frame to mp4"
   ]
  },
  {
   "cell_type": "markdown",
   "metadata": {
    "id": "hdjXvAWRjQXh"
   },
   "source": [
    "# Problem 2 (20 points)\n",
    "**Binary Star System**\n",
    "\n",
    "In lecture we animated a single planet orbiting a star, but now let's animate a binary star system — two stars orbiting eachother. Because these two objects are of similar mass, we need to update the movements of both stars instead of just one. \n",
    "\n",
    "\n",
    "First we'll define our initial conditions. For the sake of simplicity, don't worry about units for this problem.\n",
    "- Star 1: mass $=1$, $x_i=-1$, $y_i=0$, $v_{xi}=1$, $v_{yx}=1$\n",
    "\n",
    "- Star 2: mass $=1$, $x_i=1$, $y_i=0$, $v_{xi}=-1$, $v_{yx}=1$"
   ]
  },
  {
   "cell_type": "code",
   "execution_count": null,
   "metadata": {
    "id": "soDr8Y9FjZAW"
   },
   "outputs": [],
   "source": [
    "G = 1 #gravitational constant\n",
    "\n",
    "# Define masses (in units of solar mass)\n",
    "m1 = 1.0\n",
    "m2 = 1.0\n",
    "\n",
    "# Define initial position vectors\n",
    "r1 = np.array([-1, 0])\n",
    "r2 = np.array([1, 0])\n",
    "\n",
    "# Define initial velocities\n",
    "v1 = np.array([1, 1])\n",
    "v2 = np.array([-1, 1])"
   ]
  },
  {
   "cell_type": "markdown",
   "metadata": {
    "id": "_bmcyULFmfhQ"
   },
   "source": [
    "The stars motions are characterized by the Law of Universal Gravitation:\n",
    "\n",
    "\\begin{equation}\n",
    " F = G \\frac{m_1 m_2}{r^2}\n",
    "\\end{equation}\n",
    "\n",
    "Ultimately, all we need to plot the stars motion is the position coordinates of the two stars. But to correctly update the stars positions we need the stars velocity and the change in velocity (acceleration). Instead of working with forces, let us work with accelerations. We can then rewrite the equations for star 1 and star 2 like this:\n",
    "\n",
    "- $ a_1 = \\frac{m_2(r_2 - r_1)}{r_{12}^3} $\n",
    "\n",
    "- $ a_2 = \\frac{m_1(r_1 - r_2)}{r_{12}^3} $\n",
    "\n",
    "Fill out the following cell to define a function that we will integrate over to obtain our star positions.\n",
    "\n",
    "Refer to the lecture demo notebook for help! OrbitEquation( ) that was used in the demo is set up the same way, but now we want to change position and velocity for another object as well."
   ]
  },
  {
   "cell_type": "code",
   "execution_count": null,
   "metadata": {
    "id": "jEhkzSQGmRE9"
   },
   "outputs": [],
   "source": [
    "def TwoBodyEquations(w, t, m1, m2): # w is an array containing positions and velocities\n",
    "    r1 = w[:2]\n",
    "    r2 = w[2:4]\n",
    "    v1 = w[4:6]\n",
    "    v2 = w[6:8]\n",
    "\n",
    "    r12 = np.linalg.norm(r2-r1)\n",
    "    \n",
    "    dv1bydt = m2*(r2-r1)/r12**3  # derivative of velocity\n",
    "    dv2bydt = m1*(r1-r2)/r12**3\n",
    "\n",
    "    dr1bydt = v1 # derivative of position \n",
    "    dr2bydt = v2\n",
    "    \n",
    "    r_derivs = np.concatenate((dr1bydt,dr2bydt)) # joining arrays together\n",
    "    v_derivs = np.concatenate((dv1bydt,dv2bydt))\n",
    "    derivs = np.concatenate((r_derivs,v_derivs))\n",
    "    \n",
    "    return derivs"
   ]
  },
  {
   "cell_type": "markdown",
   "metadata": {},
   "source": [
    "Now we want to run the ordinary differential equation solver. Then set r1_sol equal to the parts of two_body_sol that correspond to the first star. Do the same for r2_sol but for the second star."
   ]
  },
  {
   "cell_type": "code",
   "execution_count": null,
   "metadata": {},
   "outputs": [],
   "source": [
    "# Package initial parameters into one array (just easier to work with this way)\n",
    "init_params = np.array([r1,r2,v1,v2])\n",
    "init_params = init_params.flatten()\n",
    "time_span = np.linspace(0, 20, 5000)  # run for t=20 (5000 points)\n",
    "\n",
    "# Run the ordinary differential equation solver\n",
    "two_body_sol = scipy.integrate.odeint(TwoBodyEquations, init_params, time_span, args=(m1,m2)) # use scipy.integrate.odeint()\n",
    "\n",
    "r1_sol=two_body_sol[:,:2]\n",
    "r2_sol=two_body_sol[:,2:4]"
   ]
  },
  {
   "cell_type": "markdown",
   "metadata": {},
   "source": [
    "Now we have all of the data we want to plot. Using FFMpegWriter, let us loop through all of our data and save each frame to our MP4 file. Set your x and y axes to range from -2 to 2. \n",
    "\n",
    "Again, this code is very similar to what was shown in the lecture demo!"
   ]
  },
  {
   "cell_type": "code",
   "execution_count": null,
   "metadata": {
    "colab": {
     "base_uri": "https://localhost:8080/",
     "height": 484
    },
    "id": "RJRynYtJoLJW",
    "outputId": "e2818fa2-7918-491d-99f5-4b5e7eaaa2a2"
   },
   "outputs": [],
   "source": [
    "# Initilize writer \n",
    "metadata = dict(title='2D animation', artist='Matplotlib')\n",
    "writer = FFMpegWriter(fps=50, metadata=metadata, bitrate=200000)\n",
    "fig = plt.figure(dpi=200)\n",
    "\n",
    "## SAVE AS MP4 ##\n",
    "fig, ax = plt.subplots()\n",
    "\n",
    "with writer.saving(fig, \"binary_stars.mp4\", dpi=200):\n",
    "    for i in range(len(time_span)):\n",
    "\n",
    "        ax.clear()\n",
    "\n",
    "        ### YOUR CODE HERE ###\n",
    "        ax.plot(r1_sol[:i,0],r1_sol[:i,1],color=\"#00C9C8\", alpha=0.5)\n",
    "        ax.plot(r2_sol[:i,0],r2_sol[:i,1],color=\"#9296F0\", alpha=0.5)\n",
    "        \n",
    "        ax.scatter(r1_sol[i,0],r1_sol[i,1],color=\"#00C9C8\",marker=\"o\",s= m1*30)\n",
    "        ax.scatter(r2_sol[i,0],r2_sol[i,1],color=\"#9296F0\",marker=\"o\",s=m2*30)\n",
    "        \n",
    "        ax.set_xlim(-3, 3)\n",
    "        ax.set_ylim(-3, 3)\n",
    "        ###\n",
    "        \n",
    "        plt.draw()\n",
    "        plt.pause(0.01)\n",
    "        writer.grab_frame()"
   ]
  },
  {
   "cell_type": "markdown",
   "metadata": {},
   "source": [
    "**Optional**: try changing the star masses, initial postions, and/or initial velocities and show us an animation that you think looks cool!"
   ]
  },
  {
   "cell_type": "code",
   "execution_count": null,
   "metadata": {},
   "outputs": [],
   "source": [
    "# can be whatever other initial conditions"
   ]
  },
  {
   "cell_type": "markdown",
   "metadata": {
    "id": "zd6pVTabjaCW"
   },
   "source": [
    "# Problem 3 (20 points)\n",
    "## Swinging Pendulum\n",
    "Now we will animate a basic swinging pendulum that you have probably seen in your Physics classes! The steps for animating this are similar to how we animated the binary star system. The main difference is how we define our ode_func and the differential equations. \n",
    "For our pendulum system, we will have a point mass $m$ connected to a string of length $l$ with slight damping:\n",
    "* $m = 1 kg$ is the mass,\n",
    "* $g = 9.81 m/s^2$ is gravity,\n",
    "* $l = 1 m$ is the length of the massless string\n",
    "* $b = 0.05$ is the damping coefficient, and\n",
    "* $t = 0$ to $10 s$ is the time duration with 100 intervals.\n",
    "\\\n",
    "\\\n",
    "We can derive the change in the pendulum system as:\n",
    "\\\n",
    "\\\n",
    "$$\\frac{d^2\\theta}{dt} = - \\frac{b}{m} \\frac{d\\theta}{dt} - \\frac{g  *  sin(\\theta)}{l}$$\n",
    "\\\n",
    "To further simplify this second order differential equation, we can rewrite this as two linear equations by defining \n",
    "\n",
    "$$\\theta_{1} = \\theta  ,  \\theta_{2} = \\frac{d\\theta}{dt}$$\n",
    "\n",
    "$$\\frac{d\\theta_{1}}{dt} = \\theta_{2}$$\n",
    "\n",
    "$$\\frac{d\\theta_{2}}{dt} = -\\frac{b  *  \\theta_{2}}{m} - \\frac{g  *  sin(\\theta_{1})}{l}$$\n",
    "\n",
    "Don't worry if you do not understand the physics equations and math for this derivation! We will only be needing the last two equations for this problem. Now use ode_func as an argument to scipy.integrate.odeint to solve for the theta1 and theta2 values for all time steps. Use the initial conditions of \n",
    "* $\\theta_{1} = \\frac{\\pi}{10} $ as the initial angle and\n",
    "* $\\theta_{2} = 0$ as the initial angular velocity."
   ]
  },
  {
   "cell_type": "code",
   "execution_count": 4,
   "metadata": {
    "colab": {
     "base_uri": "https://localhost:8080/",
     "height": 282
    },
    "id": "4qSUKa4x5IhQ",
    "outputId": "f609112c-0d93-4c9f-dbb3-fe52b069f37a"
   },
   "outputs": [],
   "source": [
    "def ode_func(theta, t, g, l, m, b):\n",
    "    '''\n",
    "    Given a list theta that is [theta1, theta2] and the conditions of the system\n",
    "    Computes the differential change for theta1 and theta2 following the last two eqs.\n",
    "    Returns dtheta1dt and dtheta2dt as a list in that order\n",
    "    '''\n",
    "    # YOUR CODE HERE\n",
    "    theta1, theta2 = theta\n",
    "    dtheta1 = theta2\n",
    "    dtheta2 = (- b * theta2 / m - g * np.sin(theta1) / l)\n",
    "    return [dtheta1, dtheta2]\n",
    "\n",
    "# Define system variables l, m, g, b, t and initial conditions\n",
    "# YOUR CODE HERE\n",
    "l = 1\n",
    "m = 1\n",
    "g = 9.81\n",
    "b = 0.05\n",
    "t = np.linspace(0, 10, 100)\n",
    "initial_conditions = [np.pi/10,1]\n",
    "\n",
    "# Calculate theta1 and theta2 at all time steps\n",
    "# HINT: scipy.integrate.odeint returns a 2D matrix where \n",
    "# the first column is the theta1 values and the second column is the theta2 values\n",
    "# YOUR CODE HERE\n",
    "theta = scipy.integrate.odeint(ode_func, initial_conditions, t, args=(g, l, m, b))"
   ]
  },
  {
   "cell_type": "code",
   "execution_count": 5,
   "metadata": {},
   "outputs": [
    {
     "name": "stdout",
     "output_type": "stream",
     "text": [
      "[[ 0.31415927  1.        ]\n",
      " [ 0.398018    0.64771035]\n",
      " [ 0.44306772  0.23782479]\n",
      " [ 0.44541221 -0.19139118]\n",
      " [ 0.4050558  -0.60124506]\n",
      " [ 0.32587182 -0.95407744]\n",
      " [ 0.21540056 -1.21543582]\n",
      " [ 0.08434552 -1.35790867]\n",
      " [-0.05437793 -1.36587406]\n",
      " [-0.18702947 -1.23896065]\n",
      " [-0.30062355 -0.99218707]\n",
      " [-0.38434018 -0.6526558 ]\n",
      " [-0.4305026  -0.25469205]\n",
      " [-0.43508437  0.16430654]\n",
      " [-0.39788089  0.56636046]\n",
      " [-0.32248769  0.91446998]\n",
      " [-0.21610397  1.17475525]\n",
      " [-0.08904618  1.32010269]\n",
      " [ 0.04616388  1.3346923 ]\n",
      " [ 0.17613041  1.21738761]\n",
      " [ 0.28811269  0.98204388]\n",
      " [ 0.37141091  0.6545109 ]\n",
      " [ 0.41834859  0.26802143]\n",
      " [ 0.42480095 -0.14089232]\n",
      " [ 0.39038601 -0.53496928]\n",
      " [ 0.31845253 -0.87787375]\n",
      " [ 0.21588882 -1.13631559]\n",
      " [ 0.09265104 -1.28353388]\n",
      " [-0.03911396 -1.30361605]\n",
      " [-0.1663489  -1.19480033]\n",
      " [-0.27656608 -0.96991274]\n",
      " [-0.35920571 -0.65364313]\n",
      " [-0.40661823 -0.27817347]\n",
      " [-0.41460943  0.12082177]\n",
      " [-0.38264889  0.50680309]\n",
      " [-0.31386723  0.84410259]\n",
      " [-0.21486975  1.10003385]\n",
      " [-0.09527732  1.24823432]\n",
      " [ 0.03311995  1.27278942]\n",
      " [ 0.15759615  1.17143583]\n",
      " [ 0.26592229  0.95609385]\n",
      " [ 0.34769527  0.65038302]\n",
      " [ 0.39531587  0.28547918]\n",
      " [ 0.4045465  -0.10378911]\n",
      " [ 0.37473486 -0.48160467]\n",
      " [ 0.30881971 -0.81297023]\n",
      " [ 0.21314903 -1.06581477]\n",
      " [ 0.09703176 -1.21421233]\n",
      " [-0.0280812  -1.24232403]\n",
      " [-0.14978745 -1.14749441]\n",
      " [-0.2561203  -0.9408506 ]\n",
      " [-0.33684714 -0.64502755]\n",
      " [-0.38443955 -0.29024138]\n",
      " [-0.39464008  0.08950979]\n",
      " [-0.36669871  0.45912963]\n",
      " [-0.30338652  0.78429348]\n",
      " [-0.21081781  1.03355532]\n",
      " [-0.09801129  1.18145801]\n",
      " [ 0.02390466  1.21230494]\n",
      " [ 0.14284272  1.12314448]\n",
      " [ 0.24710037  0.92441299]\n",
      " [ 0.3266268   0.63784241]\n",
      " [ 0.37398233  0.29273627]\n",
      " [ 0.38491068 -0.07771987]\n",
      " [ 0.35858614 -0.43914702]\n",
      " [ 0.29763419 -0.75789414]\n",
      " [ 0.20795719 -1.00314801]\n",
      " [ 0.09830372 -1.14994717]\n",
      " [-0.02050443 -1.1827944 ]\n",
      " [-0.13668639 -1.09852661]\n",
      " [-0.23880433 -0.90698197]\n",
      " [-0.31699849 -0.6290658 ]\n",
      " [-0.3639334  -0.29321584]\n",
      " [-0.37537275  0.06817479]\n",
      " [-0.35043508  0.42143914]\n",
      " [-0.2916205   0.73359985]\n",
      " [-0.20463935  0.9744828 ]\n",
      " [-0.09798863  1.11964476]\n",
      " [ 0.01780143  1.15383682]\n",
      " [ 0.13124769  1.07375836]\n",
      " [ 0.23117637  0.8887328 ]\n",
      " [ 0.30792618  0.61891031]\n",
      " [ 0.35427918  0.29190893]\n",
      " [ 0.36603578 -0.06064914]\n",
      " [ 0.34227687 -0.40580225]\n",
      " [ 0.28539555 -0.71124587]\n",
      " [ 0.20092836 -0.94744985]\n",
      " [ 0.09713789 -1.09050795]\n",
      " [-0.01572309 -1.12546133]\n",
      " [-0.12646046 -1.0489367 ]\n",
      " [-0.22416306 -0.86981778]\n",
      " [-0.29937384 -0.60756581]\n",
      " [-0.34500393 -0.28902375]\n",
      " [-0.35690524  0.05493486]\n",
      " [-0.33413724  0.39204552]\n",
      " [-0.27900277  0.69067486]\n",
      " [-0.19688124  0.92194029]\n",
      " [-0.09581655  1.06248806]\n",
      " [ 0.01420275  1.09768504]\n",
      " [ 0.12226303  1.02414186]]\n"
     ]
    }
   ],
   "source": [
    "print(theta)"
   ]
  },
  {
   "cell_type": "markdown",
   "metadata": {},
   "source": [
    "Now that we have all of the $\\theta_{1}$ and $\\theta_{2}$ values from scipy.integrate.odeint, we can find the position of the point mass (x, y) values as\n",
    "\\\n",
    "\\\n",
    "$$ x = l*sin(\\theta_{1})$$\n",
    "$$ y = - l*cos(\\theta_{1})$$\n",
    "\\\n",
    "For every time step, plot and save the (x, y) position using the $\\theta$ values calculated above as an animation.\n",
    "* Save the animation as \"pendulum.mp4\"\n",
    "* Set y-axis limits as -1.1, 0\n",
    "* Set x-axis limits as -0.5, 0.5\n",
    "* If you would like to animate the string, include a line at each frame: \n",
    "    \"plt.plot( [ 0, x[i] ], [ 0, y[i] ] )\" that will plot a line between the origin and the pendulum in the current frame i"
   ]
  },
  {
   "cell_type": "code",
   "execution_count": 6,
   "metadata": {
    "colab": {
     "base_uri": "https://localhost:8080/",
     "height": 1000
    },
    "id": "iHAKySRMs-HK",
    "outputId": "70249d77-9188-4ce9-bdd4-fca98271d4eb"
   },
   "outputs": [],
   "source": [
    "# Calculate x and y from theta1\n",
    "# YOUR CODE HERE\n",
    "theta1 = theta[:,0]\n",
    "x = [l * np.sin(th) for th in theta1]\n",
    "y = [-l * np.cos(th) for th in theta1]\n",
    "\n",
    "# Initialize writer \n",
    "# YOUR CODE HERE\n",
    "metadata = dict(title='2D animation', artist='Matplotlib')\n",
    "writer = FFMpegWriter(fps=100, metadata=metadata, bitrate=200000)\n",
    "fig = plt.figure(dpi=200)\n",
    "\n",
    "## SAVE AS MP4 ##\n",
    "# YOUR CODE HERE\n",
    "fig = plt.figure()\n",
    "\n",
    "with writer.saving(fig, \"pendulum.mp4\", dpi=200):\n",
    "    for i in range(len(t)):\n",
    "\n",
    "        fig.clear()\n",
    "\n",
    "        plt.plot([0, x[i]], [0, y[i]]) # plots the string\n",
    "        plt.plot(x[i], y[i], marker=\"o\", markersize=10) # plots the point mass\n",
    "        plt.xlim([-0.5,0.5])\n",
    "        plt.ylim([-1.1,0])\n",
    "        \n",
    "        plt.draw()\n",
    "        plt.pause(0.01)\n",
    "        writer.grab_frame()"
   ]
  },
  {
   "cell_type": "code",
   "execution_count": null,
   "metadata": {},
   "outputs": [],
   "source": []
  }
 ],
 "metadata": {
  "colab": {
   "collapsed_sections": [],
   "name": "Homework_6.ipynb",
   "provenance": []
  },
  "kernelspec": {
   "display_name": "Python 3",
   "language": "python",
   "name": "python3"
  },
  "language_info": {
   "codemirror_mode": {
    "name": "ipython",
    "version": 3
   },
   "file_extension": ".py",
   "mimetype": "text/x-python",
   "name": "python",
   "nbconvert_exporter": "python",
   "pygments_lexer": "ipython3",
   "version": "3.7.3"
  }
 },
 "nbformat": 4,
 "nbformat_minor": 4
}
