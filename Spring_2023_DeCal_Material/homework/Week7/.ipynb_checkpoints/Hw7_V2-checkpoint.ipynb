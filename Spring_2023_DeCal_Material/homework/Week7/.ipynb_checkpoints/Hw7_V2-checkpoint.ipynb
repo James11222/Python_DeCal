{
 "cells": [
  {
   "cell_type": "markdown",
   "id": "67556caf",
   "metadata": {},
   "source": [
    "# Homework 7"
   ]
  },
  {
   "cell_type": "markdown",
   "id": "eaa71fd3",
   "metadata": {},
   "source": [
    "This homework is all about useful external libraries that are most common to use in astronomy research. The two most important libraries apart from scipy, numpy, and matplotlib are **astropy** and **pandas**. We explore the basics of these super versatile libraries. \n",
    "\n",
    "### This version includes an ODE problem because we did ODEs this week\n"
   ]
  },
  {
   "cell_type": "code",
   "execution_count": 2,
   "id": "c50a04d7",
   "metadata": {},
   "outputs": [],
   "source": [
    "import numpy as np\n",
    "import matplotlib.pyplot as plt\n",
    "import astropy.units as u\n",
    "import astropy.constants as c\n",
    "from scipy.integrate import odeint"
   ]
  },
  {
   "cell_type": "markdown",
   "id": "df9922be",
   "metadata": {},
   "source": [
    "# Astropy (40 Points)"
   ]
  },
  {
   "cell_type": "markdown",
   "id": "03fcd80f",
   "metadata": {},
   "source": [
    "## CRAZY UNIT CONVERSION!!! (20 Points)"
   ]
  },
  {
   "cell_type": "markdown",
   "id": "f80eae4a",
   "metadata": {},
   "source": [
    "As you take more astronomy classes, you will face more and more unit conversion problems - they are annoying. That's why astropy.units is very helpful. Let's do some practices here.\n",
    "\n",
    "The documentations for astropy.units and astropy.constants will very helpful to you.\n",
    "\n",
    "astropy.units documentation: https://docs.astropy.org/en/stable/units/\n",
    "\n",
    "astropy.constants documentation: https://docs.astropy.org/en/stable/constants/\n",
    "\n",
    "NOTE: In this problem, you MUST use astropy.constants when doing calculations involving fundamental constants. Also, you cannot look up values such as solar mass, earth mass, etc. Use the two packages solely."
   ]
  },
  {
   "cell_type": "markdown",
   "id": "e018dbb9",
   "metadata": {},
   "source": [
    "### Problem 1.1) Speed of light (5 Points)\n",
    "\n",
    "What is the speed of light ($c$) in $pc/yr$?"
   ]
  },
  {
   "cell_type": "code",
   "execution_count": null,
   "id": "39edf0ef",
   "metadata": {},
   "outputs": [],
   "source": [
    "### Write your code here"
   ]
  },
  {
   "cell_type": "markdown",
   "id": "7f7aaede",
   "metadata": {},
   "source": [
    "### Problem 1.2) Newton's 2nd Law (5 Points)\n",
    "\n",
    "Recall that NII states \n",
    "$$F =ma\\,\\,.$$\n",
    "Say a force of $97650134N$ is exerted on an object having a mass of $0.0071$ earth mass. What is the acceleration of the object in $AU/days^2$?"
   ]
  },
  {
   "cell_type": "code",
   "execution_count": null,
   "id": "35ac03da",
   "metadata": {},
   "outputs": [],
   "source": [
    "### Write your code here"
   ]
  },
  {
   "cell_type": "markdown",
   "id": "cc9ac41f",
   "metadata": {},
   "source": [
    "### Problem 1.3) Newton's Universal Law of Gravitation (10 Points)\n",
    "\n",
    "Recall that the gravitational acceleration due to an object with mass $m$ at a distance $r$ is given by \n",
    "$$a_g = \\frac{Gm}{r^2}\\,\\,.$$\n",
    "What is the gravitational acceleration due to a planet of $3.1415926$ Jupiter-mass at a distance of $1.523AU$? Give your answer in $pc/yr^2$."
   ]
  },
  {
   "cell_type": "code",
   "execution_count": null,
   "id": "b8da3155",
   "metadata": {},
   "outputs": [],
   "source": [
    "### Write your code here"
   ]
  },
  {
   "cell_type": "markdown",
   "id": "4bcba83e",
   "metadata": {},
   "source": [
    "### Problem 1.4: Visualising Coordinate Transformation (20 Points)"
   ]
  },
  {
   "cell_type": "markdown",
   "id": "d9c9741a",
   "metadata": {},
   "source": [
    "We introduced coordinate transformation using astropy, but maybe that was too astract to you, so let's use this problem as a way for you to visualise this process. Each part will be worth **5 Points**\n",
    "\n",
    "There are several things you need to do:\n",
    "1. Open up the FITS file named 'clusters.fits' (this part of the code is written for you already)\n",
    "\n",
    "\n",
    "2. Read it as a table using astropy.table (you will have to import the packages you need and write your own code from hereafter)\n",
    "\n",
    "\n",
    "3. Plot the positions of all the objects in the table, COLOUR-CODED by their types (there is a column named 'CLASS'), with RA on the x-axis and DEC on the y-axis. You should see a curved trend with a huge dip in the middle.\n",
    "\n",
    "\n",
    "4. Carry out a coordinate transformation from the ICRS coordinates to the galactic coordinates - there is a column named \"DISTANCE\" which you will need. \n",
    "\n",
    "\n",
    "5. Now plot the position of all the objects in the galactic coordinates, with $\\ell$ on the x-axis and $b$ on the y-axis; again, colour-code everything by their \"CLASS\". If you did everything correctly, you should see that the curve in the previous plot resembles a horizontal band. \n",
    "\n",
    "\n",
    "6. Answer this question: What is that curved band in the first plot and the horizontal band in the second plot? Does it make sense that the band got straightened up? Why?\n",
    "\n",
    "\n",
    "Note: When you make your plots, please include the axis labels with units and the legend."
   ]
  },
  {
   "cell_type": "code",
   "execution_count": null,
   "id": "eb5858f2",
   "metadata": {},
   "outputs": [],
   "source": [
    "from astropy.io import fits\n",
    "#You will have to import other packages to complete this problem \n",
    "\n",
    "###IMPORT YOUR OTHER PACKAGES HERE\n"
   ]
  },
  {
   "cell_type": "code",
   "execution_count": null,
   "id": "9ab24619",
   "metadata": {},
   "outputs": [],
   "source": [
    "fits_file = fits.open('clusters.fits')\n",
    "\n",
    "#To read the fits file as a table, simply run the line: Table.read(fits_file)\n",
    "#Although you will have to write up your code to get that Table function \n",
    "\n",
    "### YOUR CODE HERE"
   ]
  },
  {
   "cell_type": "markdown",
   "id": "f6ad348c",
   "metadata": {},
   "source": [
    "(DOUBLE CLICK HERE TO ANSWER QUESTION 6):\n",
    "\n",
    "YOUR ANSWER: "
   ]
  },
  {
   "cell_type": "markdown",
   "id": "b0c7c479",
   "metadata": {},
   "source": [
    "# Ordinary Differential Equations\n",
    "\n",
    "Let's talk about ordinary differential equations! They are something you will see over and over again in physics and math courses. As we went over in lecture, ODEs are important for determining equations that are defined by their rates of change. An example that you will encounter early on is projectiles. We will be looking at an ideal projectile that does not experience drag or any other force aside from gravity. That equation is shown as:\n",
    "\n",
    "$$F = ma = mg$$\n",
    "\n",
    "And the diagram we use to demonstrate what is happening is shown here:\n",
    "\n",
    "<img src='https://useruploads.socratic.org/TBOrceq2QFaPSZx9AUfN_projectile-motion.gif' width=\"600\" height=\"400\">\n",
    "\n",
    "The ODEs come in because the acceleration is defined as:\n",
    "\n",
    "$$a = \\frac{d^2x}{dt^2}$$\n",
    "\n",
    "So if we combine the top equation with this equation:\n",
    "\n",
    "$$\\frac{d^2x}{dt^2} = g$$\n",
    "\n",
    "This equation is essentially saying that the second derivative of the position of the projectile is constant and equal to the constant of gravity on the surface of earth:\n",
    "\n",
    "$$g = 9.8 m/s^2$$\n",
    "\n",
    "We want to find the position of the projectile, which we could do by taking two integrals of that acceleration, which would get us a parabolic equation with some initial conditions. In this case, it is a fairly easy integral to do by hand, but as you get further into math and physics you get very complex ODEs so computers come in to do these ODEs numerically; there are some diff eqs that can only be solved numerically with computers."
   ]
  },
  {
   "cell_type": "markdown",
   "id": "0dfcba90",
   "metadata": {},
   "source": [
    "## Problem 2 (25 points)\n",
    "\n",
    "Using `scipy.integrate.odeint()` or any other ODE function you can find that works for you and the initial conditions given to you below to graph the projectile's path and graph the projectile's velocity in a way that is clear and concise. \n",
    "\n",
    "Hint: you will need to define a function that returns the first and second derivatives of position (velocity and acceleration respectively) for your `scipy.integrate.odeint()`. Make sure that you keep up the documentation for whatever function you choose. Here is the docs for the one we recommend: https://docs.scipy.org/doc/scipy/reference/generated/scipy.integrate.odeint.html. "
   ]
  },
  {
   "cell_type": "code",
   "execution_count": 3,
   "id": "47f1f4ea",
   "metadata": {},
   "outputs": [],
   "source": [
    "###initial conditions for 2 dimensions##\n",
    "\n",
    "m = 1 #mass being thrown, kg\n",
    "\n",
    "#init velocity\n",
    "v = np.array([5, 5]) #m/s\n",
    "\n",
    "#init pos\n",
    "r = np.array([0,0]) #meters"
   ]
  },
  {
   "cell_type": "code",
   "execution_count": 4,
   "id": "9dce665e",
   "metadata": {},
   "outputs": [],
   "source": [
    "###Your Code Here###"
   ]
  }
 ],
 "metadata": {
  "kernelspec": {
   "display_name": "Python 3 (ipykernel)",
   "language": "python",
   "name": "python3"
  },
  "language_info": {
   "codemirror_mode": {
    "name": "ipython",
    "version": 3
   },
   "file_extension": ".py",
   "mimetype": "text/x-python",
   "name": "python",
   "nbconvert_exporter": "python",
   "pygments_lexer": "ipython3",
   "version": "3.9.13"
  }
 },
 "nbformat": 4,
 "nbformat_minor": 5
}
