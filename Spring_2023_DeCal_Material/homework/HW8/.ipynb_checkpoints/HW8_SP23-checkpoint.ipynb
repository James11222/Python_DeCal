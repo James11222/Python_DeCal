{
 "cells": [
  {
   "cell_type": "markdown",
   "id": "3d5f568a",
   "metadata": {
    "id": "rY2kvt7mh04L"
   },
   "source": [
    "# Homework 8"
   ]
  },
  {
   "cell_type": "markdown",
   "id": "a21953fd",
   "metadata": {},
   "source": [
    "### Submit the MP4 files you make along with a PDF of this notebook!"
   ]
  },
  {
   "cell_type": "markdown",
   "id": "3f50856c",
   "metadata": {
    "id": "MP99MGLdiCsG"
   },
   "source": [
    "This week we will learn about how to turn the plots we have been making into animations! This will be really helpful for any groups that want to make simulations or other animations for their final project. This will build off of the differential equations we learned a couple of weeks ago as well as the plotting skills we have learned so far. We will also be working on our OOP skills.\n",
    "\n",
    "If you are having trouble running the popup window with the %matplotlib commands, you can just comment the lines out. The animations will not show up in a popup window, but they will still save and you can open them from your current directory.\n",
    "\n",
    "I will upload a file that helps y'all to troubleshoot if FFMpeg doesn't work on your computer, and if all else fails you can use datahub.berkeley.edu (if you want to just start at the datahub that might save you a lot of pain and heartache). "
   ]
  },
  {
   "cell_type": "markdown",
   "id": "f93bfaa3",
   "metadata": {
    "id": "9MSnCuw2iibG"
   },
   "source": [
    "First let us import the neccessary libraries,"
   ]
  },
  {
   "cell_type": "code",
   "execution_count": 6,
   "id": "200c5966",
   "metadata": {
    "colab": {
     "base_uri": "https://localhost:8080/"
    },
    "id": "kVvtEMI6iGzY",
    "outputId": "d444145e-8f76-41da-bcf4-28654a6de58e"
   },
   "outputs": [],
   "source": [
    "import numpy as np\n",
    "import matplotlib.pyplot as plt\n",
    "import scipy\n",
    "import scipy.integrate\n",
    "\n",
    "from mpl_toolkits.mplot3d import Axes3D\n",
    "from matplotlib.animation import FFMpegWriter\n",
    "\n",
    "###The following lines are entirely optional! If they break your computer don't use them###\n",
    "\n",
    "#%config InlineBackend.figure_format='retina' # UNCOMMENT IF USING MAC makes display better\n",
    "\n",
    "#%matplotlib osx \n",
    "# ^ UNCOMMENT THIS LINE IF USING MAC\n",
    "\n",
    "# %matplotlib qt \n",
    "# ^ UNCOMMENT THIS LINE IF USING WINDOWS"
   ]
  },
  {
   "cell_type": "markdown",
   "id": "73072940",
   "metadata": {},
   "source": [
    "# Problem 1 (10 points)\n",
    "\n",
    "## Animating a Cool Function\n",
    "\n",
    "In a past homework, we plotted the following function:\n",
    "\n",
    "\\begin{equation}\n",
    "f = \\frac{\\sin(10(x^2 + y^2))}{10}\n",
    "\\end{equation}"
   ]
  },
  {
   "cell_type": "code",
   "execution_count": null,
   "id": "b3dc1f92",
   "metadata": {},
   "outputs": [],
   "source": [
    "#no code necessary here\n",
    "x, y = np.meshgrid(np.linspace(0, 2*np.pi, 100),\n",
    "                   np.linspace(0, 2*np.pi, 100))\n",
    "\n",
    "f = np.sin(10*(x**2 + y**2))/10\n",
    "\n",
    "plt.figure(figsize=(12,12))\n",
    "plt.imshow(f)          # Plot the 2D array\n",
    "plt.set_cmap('hot')    # Set the color scheme (\"jet\" is matplotlib's default)\n",
    "plt.colorbar()         # Display a legend for the color values\n",
    "plt.show()"
   ]
  },
  {
   "cell_type": "markdown",
   "id": "e51d7579",
   "metadata": {},
   "source": [
    "Now let's animate it! \n",
    "\n",
    "For each iteration, add 1 more to x and y. For example, add 1 to x and y for the first iteration, and add 10 to both x and y for the tenth iteration.\n",
    "\n",
    "Rember to use plt.imshow( ) so that your function is shown."
   ]
  },
  {
   "cell_type": "code",
   "execution_count": null,
   "id": "e9f2a787",
   "metadata": {},
   "outputs": [],
   "source": [
    "## SAVE AS MP4 ##\n",
    "fig, ax = plt.subplots(figsize=(5,5))\n",
    "\n",
    "num_iterations = 20\n",
    "\n",
    "with writer.saving(fig, \"3Dfunction.mp4\", dpi=200):\n",
    "    for i in range(num_iterations):\n",
    "\n",
    "        ax.clear() # first clear the figure\n",
    "\n",
    "        ### YOUR CODE HERE ###\n",
    "        \n",
    "        plt.draw()\n",
    "        plt.pause(0.01)\n",
    "        writer.grab_frame() # save the current frame to mp4"
   ]
  },
  {
   "cell_type": "markdown",
   "id": "e7f21af0",
   "metadata": {},
   "source": [
    "# Object Oriented Programming (30 Points)\n",
    "\n",
    "## Problem 2 (10 Points)\n",
    "\n",
    "Create a \"vector\" class from scratch. Look at the lecture slides for how to write one from scratch. Your vector should be able to have a normalize method, and a method for calculating the dot product as well as finding the angle between two vectors. \n",
    "\n",
    "Another two methods (not mandatory) that may help you navigate the weirdness is a display method that takes in the self and returns something easier to read that if you just called the vector, and another is to turn the vector object into an array. These can even be the same function."
   ]
  },
  {
   "cell_type": "code",
   "execution_count": null,
   "id": "3ce16657",
   "metadata": {},
   "outputs": [],
   "source": [
    "###Your Code Here###"
   ]
  },
  {
   "cell_type": "markdown",
   "id": "34bd1471",
   "metadata": {},
   "source": [
    "## Problem 3 (10 Points)\n",
    "\n",
    "Create a star class that uses vector objects as it's position and velocity traits. This star class should also have a temperature trait. Then create two star objects with initial positions `Vector(0,0)` and `Vector(80, 30)`. The initial velocities can be (0,0) for both, set star1's temperature to be 6000 and star2's temperature to be 10000. We should also give these objects a mass trait, let's say star1 has a mass of 2e30 kg and star2 has 2e31 kg (aka star2 is 10 times more massive than star1!) Let's find the distance between the stars using the object traits and methods from both the star and vector classes. "
   ]
  },
  {
   "cell_type": "code",
   "execution_count": null,
   "id": "a7f0fe3c",
   "metadata": {},
   "outputs": [],
   "source": [
    "###Your Code Here###"
   ]
  },
  {
   "cell_type": "markdown",
   "id": "16854735",
   "metadata": {},
   "source": [
    "## Problem 4 (10 Points)\n",
    "\n",
    "Now edit your star class to have a method called `calc_grav_force()`  and an initial trait of `force` which will be 0 to start. `calc_grav_force()` takes in another star as it's input and calculates the force of gravity between the two stars. Recall that Newton's law of gravitation says that:\n",
    "\n",
    "$$\\mathbf{F} = G \\frac{m_1 m_2}{r^2} \\hat{\\mathbf{r}}$$\n",
    "\n",
    "where $\\mathbf{r}$ refers to the vector between the two stars ($\\mathbf{r} = \\mathbf{r}_2 - \\mathbf{r}_1$). We also know the Gravitational Constant is\n",
    "\n",
    "$$G = 6.67\\times10^{-11} \\frac{\\mathrm{N \\cdot m^2}}{\\mathrm{kg^2}}$$\n",
    "\n",
    "and masses and vectors are inherently a trait of the star class! Save this force as a new trait to the star object in the `calc_grav_force()` method, let's just call it `force`. Don't forget that force is also a vector so you can multiply by a unit vector in the direction of the other star. Lastly, Newton's 3rd tells us that $\\mathbf{F}_1 = -\\mathbf{F}_2$, so update the other star's force accordingly.\n",
    "\n",
    "Test to see if your code works by making two star objects \n",
    "\n",
    "```python\n",
    "\n",
    "star1 = Star(Vector(0,0), Vector(0,0), 6000, 2e30) #position, velocity, temperature, mass\n",
    "star2 = Star(Vector(60e9,60e9), Vector(0,0), 10000, 2e31) #position, velocity, temperature, mass\n",
    "\n",
    "```\n",
    "You should get the length of the force vectors are ~ $10^{29} \\mathrm{N}$. This system roughly represents the what would happen if we swapped out the Earth with a star 10 times the mass of our sun! \n",
    "\n",
    "\n",
    "Hint: we defined a `norm()` method in the vector class for this job of making a unit vector! We also know the vector that points to the the other star is the $\\mathbf{r}_2 - \\mathbf{r}_1$"
   ]
  },
  {
   "cell_type": "code",
   "execution_count": null,
   "id": "9cafee3d",
   "metadata": {},
   "outputs": [],
   "source": [
    "###Your Code Here###"
   ]
  },
  {
   "cell_type": "markdown",
   "id": "76b0a57a",
   "metadata": {},
   "source": [
    "Wow! Pat yourself on the back you just wrote code to calculate the force of gravity in a binary star system using object oriented programming."
   ]
  },
  {
   "cell_type": "markdown",
   "id": "d5576371",
   "metadata": {},
   "source": [
    "****"
   ]
  },
  {
   "cell_type": "markdown",
   "id": "7cf83069",
   "metadata": {},
   "source": [
    "****"
   ]
  },
  {
   "cell_type": "markdown",
   "id": "f6af7e74",
   "metadata": {
    "id": "hdjXvAWRjQXh"
   },
   "source": [
    "# Optional: Problem 5 (20 points)\n",
    "## Binary Star System\n",
    "\n",
    "We have uploaded a demo showing how to animate a single orbiting planet, but now let's animate a binary star system — two stars orbiting each other. Because these two objects are of similar mass, we need to update the movements of both stars instead of just one. \n",
    "\n",
    "\n",
    "First we'll define our initial conditions. For the sake of simplicity, don't worry about units for this problem.\n",
    "- Star 1: mass $=3$, $x_i=-1$, $y_i=0$, $v_{xi}=0$, $v_{yx}=1$\n",
    "\n",
    "- Star 2: mass $=3$, $x_i=1$, $y_i=0$, $v_{xi}=0$, $v_{yx}=-1$\n",
    "\n",
    "You can either use your classes that you initialized in Problem 3, or you can just initialize the variables as is shown in the demo."
   ]
  },
  {
   "cell_type": "code",
   "execution_count": 4,
   "id": "d0d9f0e8",
   "metadata": {
    "id": "soDr8Y9FjZAW"
   },
   "outputs": [],
   "source": [
    "G = 1 #gravitational constant\n",
    "\n",
    "# Define masses (in terms of solar mass)\n",
    "m1 = ...\n",
    "m2 = ...\n",
    "\n",
    "# Define initial position vectors\n",
    "r1 = ...\n",
    "r2 = ...\n",
    "\n",
    "# Define initial velocities\n",
    "v1 = ...\n",
    "v2 = ...\n",
    "\n",
    "#Initialize new instances of the Star Class \n",
    "###(NOT NECESSARY BUT YOU CAN TO KEEP PRACTICING OOP)\n",
    "star_1 = ...\n",
    "star_2 = ..."
   ]
  },
  {
   "cell_type": "markdown",
   "id": "967b25e9",
   "metadata": {
    "id": "_bmcyULFmfhQ"
   },
   "source": [
    "The stars motions are characterized by the Law of Universal Gravitation:\n",
    "\n",
    "\\begin{equation}\n",
    " F = G \\frac{m_1 m_2}{r^2}\n",
    "\\end{equation}\n",
    "\n",
    "Ultimately, all we need to plot the stars motion is the position coordinates of the two stars. But to correctly update the stars positions we need the stars velocity and the change in velocity (acceleration). Instead of working with forces, let us work with accelerations. We can then rewrite the equations for star 1 and star 2 like this:\n",
    "\n",
    "- $ a_1 = \\frac{m_2(r_2 - r_1)}{r_{12}^3} $\n",
    "\n",
    "- $ a_2 = \\frac{m_1(r_1 - r_2)}{r_{12}^3} $\n",
    "\n",
    "Fill out the following cell to define a function that we will integrate over to obtain our star positions.\n",
    "\n",
    "Refer to the Files > Lecture Demos > 'Orbiting_Planet_Demo.ipynb' for help! OrbitEquation() that was used in the demo is set up the same way, but now we want to change position and velocity for another object as well."
   ]
  },
  {
   "cell_type": "code",
   "execution_count": null,
   "id": "2bb210f5",
   "metadata": {
    "id": "jEhkzSQGmRE9"
   },
   "outputs": [],
   "source": [
    "def TwoBodyEquations(w, t, m1, m2): # w is an array containing positions and velocities\n",
    "    r1 = ...\n",
    "    r2 = ...\n",
    "    v1 = ...\n",
    "    v2 = ...\n",
    "\n",
    "    r12 = np.linalg.norm(r2-r1)\n",
    "    \n",
    "    dv1bydt = ...  # derivative of velocity\n",
    "    dv2bydt = ...\n",
    "\n",
    "    dr1bydt = ... # derivative of position \n",
    "    dr2bydt = ...\n",
    "    \n",
    "    r_derivs = np.concatenate((dr1bydt,dr2bydt)) # joining arrays together\n",
    "    v_derivs = np.concatenate((dv1bydt,dv2bydt))\n",
    "    derivs = np.concatenate((r_derivs,v_derivs))\n",
    "    \n",
    "    return derivs"
   ]
  },
  {
   "cell_type": "markdown",
   "id": "c91db3a0",
   "metadata": {},
   "source": [
    "Now we want to run the ordinary differential equation solver. Then set r1_sol equal to the parts of two_body_sol that correspond to the first star. Do the same for r2_sol but for the second star."
   ]
  },
  {
   "cell_type": "code",
   "execution_count": null,
   "id": "22b3599f",
   "metadata": {
    "colab": {
     "base_uri": "https://localhost:8080/",
     "height": 198
    },
    "id": "1C0vs-gKnfO2",
    "outputId": "decefd30-cdff-4b72-b324-5acc8a373375"
   },
   "outputs": [],
   "source": [
    "# Package initial parameters into one array (just easier to work with this way)\n",
    "init_params = np.array([r1,r2,v1,v2])\n",
    "init_params = init_params.flatten()\n",
    "time_span = np.linspace(0, 20, 5000)  # run for t=20 (5000 points)\n",
    "\n",
    "# Run the ODE solver\n",
    "two_body_sol = ... # use scipy.integrate.odeint()\n",
    "\n",
    "r1_sol = ...\n",
    "r2_sol = ..."
   ]
  },
  {
   "cell_type": "markdown",
   "id": "0a5d5f2a",
   "metadata": {},
   "source": [
    "Now we have all of the data we want to plot. Using FFMpegWriter, let us loop through all of our data and save each frame to our MP4 file. Set your x and y axes to range from -2 to 2. \n",
    "\n",
    "Again, this code is very similar to what was shown in the lecture demo!"
   ]
  },
  {
   "cell_type": "code",
   "execution_count": null,
   "id": "6c081d2f",
   "metadata": {
    "colab": {
     "base_uri": "https://localhost:8080/",
     "height": 484
    },
    "id": "RJRynYtJoLJW",
    "outputId": "e2818fa2-7918-491d-99f5-4b5e7eaaa2a2"
   },
   "outputs": [],
   "source": [
    "# Initilize writer \n",
    "metadata = dict(title='2D animation', artist='Matplotlib')\n",
    "writer = FFMpegWriter(fps=50, metadata=metadata, bitrate=200000)\n",
    "fig = plt.figure(dpi=200)\n",
    "\n",
    "## SAVE AS MP4 ##\n",
    "fig, ax = plt.subplots()\n",
    "\n",
    "with writer.saving(fig, \"binary_stars.mp4\", dpi=200):\n",
    "    for i in range(len(time_span)):\n",
    "\n",
    "        ax.clear()\n",
    "\n",
    "        ### YOUR CODE HERE ###\n",
    "        \n",
    "        plt.draw()\n",
    "        plt.pause(0.01)\n",
    "        writer.grab_frame()"
   ]
  },
  {
   "cell_type": "markdown",
   "id": "168da529",
   "metadata": {
    "id": "mnaa1kENrMLz"
   },
   "source": [
    "**Optional**: try changing the star masses, initial postions, and/or initial velocities and show us an animation that you think looks cool!"
   ]
  },
  {
   "cell_type": "markdown",
   "id": "00496547",
   "metadata": {},
   "source": [
    "****"
   ]
  },
  {
   "cell_type": "markdown",
   "id": "b4022085",
   "metadata": {},
   "source": [
    "****"
   ]
  }
 ],
 "metadata": {
  "kernelspec": {
   "display_name": "Python 3 (ipykernel)",
   "language": "python",
   "name": "python3"
  },
  "language_info": {
   "codemirror_mode": {
    "name": "ipython",
    "version": 3
   },
   "file_extension": ".py",
   "mimetype": "text/x-python",
   "name": "python",
   "nbconvert_exporter": "python",
   "pygments_lexer": "ipython3",
   "version": "3.9.13"
  }
 },
 "nbformat": 4,
 "nbformat_minor": 5
}
