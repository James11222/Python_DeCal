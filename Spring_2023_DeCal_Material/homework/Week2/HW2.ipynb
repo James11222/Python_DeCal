{
 "cells": [
  {
   "cell_type": "markdown",
   "metadata": {},
   "source": [
    "# Homework 2\n",
    "\n",
    "This week we learned about one of the most powerful concepts in all of programming. The `for` and `while` loops are used for so many different things in the world of programming and we will give you a sense of this in this homework. We also cover how to format strings, and use that as a tool for some real world application problems! If you have questions go to office hours (fill out the poll if you haven't already) or ask on the class piazza page."
   ]
  },
  {
   "cell_type": "markdown",
   "metadata": {},
   "source": [
    "## Comparison Operators (5 points)\n",
    "For each of the following expressions below, write the boolean answer that the expression will evaluate to. Double click where it says to put your answer, this will allow you to edit the cell."
   ]
  },
  {
   "cell_type": "code",
   "execution_count": 1,
   "metadata": {},
   "outputs": [],
   "source": [
    "a = 7\n",
    "b = 14"
   ]
  },
  {
   "cell_type": "markdown",
   "metadata": {},
   "source": [
    "`a > b` evaluates to: **[YOUR ANSWER HERE]**"
   ]
  },
  {
   "cell_type": "markdown",
   "metadata": {},
   "source": [
    "`a > 0 and b > 0` evaluates to: **[YOUR ANSWER HERE]**"
   ]
  },
  {
   "cell_type": "markdown",
   "metadata": {},
   "source": [
    "`a > 0 and b < 0` evaluates to: **[YOUR ANSWER HERE]**"
   ]
  },
  {
   "cell_type": "markdown",
   "metadata": {},
   "source": [
    "`a == b` evaluates to: **[YOUR ANSWER HERE]**"
   ]
  },
  {
   "cell_type": "markdown",
   "metadata": {},
   "source": [
    "`2*a == b and a < b` evaluates to: **[YOUR ANSWER HERE]**"
   ]
  },
  {
   "cell_type": "markdown",
   "metadata": {},
   "source": [
    "`a != b` evaluates to: **[YOUR ANSWER HERE]**"
   ]
  },
  {
   "cell_type": "markdown",
   "metadata": {},
   "source": [
    "`a == b or a != -b` evaluates to: **[YOUR ANSWER HERE]**"
   ]
  },
  {
   "cell_type": "markdown",
   "metadata": {},
   "source": [
    "`\"James\" > \"Yilun\" or \"Wendy\" > \"Yilun\"` evaluates to: **[YOUR ANSWER HERE]**"
   ]
  },
  {
   "cell_type": "markdown",
   "metadata": {},
   "source": [
    "`\"racecar\" == \"racecar\"[::-1]` evaluates to: **[YOUR ANSWER HERE]**"
   ]
  },
  {
   "cell_type": "markdown",
   "metadata": {},
   "source": [
    "`\"a\" < \"b\"` evaluates to: **[YOUR ANSWER HERE]**"
   ]
  },
  {
   "cell_type": "markdown",
   "metadata": {},
   "source": [
    "## Operations on Lists (5 Points)"
   ]
  },
  {
   "cell_type": "markdown",
   "metadata": {},
   "source": [
    "Note: The following cells have to be run in order!"
   ]
  },
  {
   "cell_type": "code",
   "execution_count": null,
   "metadata": {
    "collapsed": true,
    "jupyter": {
     "outputs_hidden": true
    }
   },
   "outputs": [],
   "source": [
    "''' Here is a list of the names of everyone in this course! '''\n",
    "\n",
    "students = [\"Caytyn\", \"Paige\", \"Victoria\", \"Riley\", \"Victor\", \"Oski\",\n",
    "            \"Kingsley\", \"Geo\", \"Enmanuel\",\"Carol Christ\", \"Joshua\", \"Lyla\",\n",
    "            \"Nadia\",\"Camden\",\"Mey\", \"Sebastian\", \"Esther\",\"Chloe\"]"
   ]
  },
  {
   "cell_type": "code",
   "execution_count": null,
   "metadata": {
    "collapsed": true,
    "jupyter": {
     "outputs_hidden": true
    }
   },
   "outputs": [],
   "source": [
    "''' What is the length of this list? '''\n",
    "\n",
    "### YOUR CODE HERE ###"
   ]
  },
  {
   "cell_type": "code",
   "execution_count": null,
   "metadata": {
    "collapsed": true,
    "jupyter": {
     "outputs_hidden": true
    }
   },
   "outputs": [],
   "source": [
    "'''Oops, we forgot the facilitators. Can you create a new list for faciliators and append it to the original list?'''\n",
    "\n",
    "### YOUR CODE HERE ###"
   ]
  },
  {
   "cell_type": "code",
   "execution_count": null,
   "metadata": {
    "collapsed": true,
    "jupyter": {
     "outputs_hidden": true
    }
   },
   "outputs": [],
   "source": [
    "''' I think I also put in a couple people that aren't students by accident.\n",
    "Can you remove Carol Christ and Oski from the list? '''\n",
    "\n",
    "### YOUR CODE HERE ###"
   ]
  },
  {
   "cell_type": "code",
   "execution_count": null,
   "metadata": {},
   "outputs": [],
   "source": [
    "'''Now can you give me a new list with only people who's names start with a V. \n",
    "This might be  a little challenging'''\n",
    "\n",
    "### YOUR CODE HERE ###"
   ]
  },
  {
   "cell_type": "markdown",
   "metadata": {},
   "source": [
    "## Conditional + Iterative Problems (40 Points)"
   ]
  },
  {
   "cell_type": "markdown",
   "metadata": {},
   "source": [
    "### <span style=\"color:red\">Absolute</span>ly  Magnificent (5 Points)\n",
    "\n",
    "Write your own version of an absolute value function. Where it takes in a number a and returns the absolute value of a. You are not allowed to use the built in `abs` function discussed in lecture. "
   ]
  },
  {
   "cell_type": "code",
   "execution_count": null,
   "metadata": {},
   "outputs": [],
   "source": [
    "def my_absolute(a):\n",
    "    \"\"\"Return abs(a), but without calling abs.\n",
    "\n",
    "    >>> my_absolute(2)\n",
    "    2\n",
    "    >>> my_absolute(-2)\n",
    "    2\n",
    "    \"\"\""
   ]
  },
  {
   "cell_type": "markdown",
   "metadata": {},
   "source": [
    "### Huh. That's Odd... (5 Points)"
   ]
  },
  {
   "cell_type": "code",
   "execution_count": 4,
   "metadata": {},
   "outputs": [],
   "source": [
    "def is_odd(num):\n",
    "    ''' Returns True if number is odd. '''\n",
    "   \n",
    "    ### YOUR CODE HERE ###\n",
    "\n",
    "def select_odd(numbers):\n",
    "    ''' Returns a new list with only the numbers that are odd in the numbers list.\n",
    "    \n",
    "    >>> select_odd([2, 3, 7, 10])\n",
    "    [3, 7]\n",
    "    >>> select_odd([2, 4, 6, 8])\n",
    "    []\n",
    "    '''\n",
    "     ### YOUR CODE HERE ###\n",
    "        "
   ]
  },
  {
   "cell_type": "markdown",
   "metadata": {},
   "source": [
    "### Prime Numbers (10 Points)\n",
    "\n",
    "[Adapted from Ayars, Problem 1-6] Write a function called `is_prime(n)` that determines whether a number `n` is prime or not, and returns either `True` or `False` accordingly. You can assume that the argument `n` passed to any of your functions will be an integer. Remember to include descriptive doc strings for each function your write!\n",
    "\n",
    "    def is_prime(n):\n",
    "        \"\"\" Determines if n is prime or not. Takes an integer n.\n",
    "        Returns True if n is prime, and False otherwise. \"\"\"\n",
    "        # Your code here!\n",
    "        \n",
    "        \n",
    "Remember to try various test cases: What if the argument passed to `is_prime` is ...\n",
    "- 20\n",
    "- 2\n",
    "- 1\n",
    "- 0\n",
    "- negative"
   ]
  },
  {
   "cell_type": "code",
   "execution_count": 6,
   "metadata": {},
   "outputs": [],
   "source": [
    "### YOUR CODE HERE ###"
   ]
  },
  {
   "cell_type": "markdown",
   "metadata": {},
   "source": [
    "### Fibonacci Sequence (10 Points)\n",
    "The Fibonacci sequence is a sequence of integers defined by the following relation. The $n$-th integer $a_n$ is defined in terms of previous integers of the sequence as\n",
    "\n",
    "$$a_n = a_{n-1} + a_{n-2}$$\n",
    "\n",
    "and $a_0 = 0$ and $a_1 = 1$. So the first few numbers are 0, 1, 1, 2, 3, 5, 8, 13, 21, .... Write a program to print the Fibonacci series from 0 to 50. Expected output:\n",
    "    \n",
    "    0 1 1 2 3 5 8 13 21 34\n",
    "Hint 1: Two (or more) variables can be assigned simultaneously. For instance, to swap the values of `a` and `b`, you can write `a, b = b, a`.\n",
    "\n",
    "Hint 2: Try doing so using a while or a for loop. If you feel ambitious you can try doing this recursively but that is not required. If you do code this recursively you will see how much prettier recursion can be and is often why computer scientists like to use it."
   ]
  },
  {
   "cell_type": "code",
   "execution_count": 5,
   "metadata": {},
   "outputs": [],
   "source": [
    "### YOUR CODE HERE ###"
   ]
  },
  {
   "cell_type": "markdown",
   "metadata": {},
   "source": [
    "### Pyramid Building (10 Points)\n",
    "\n",
    "Write a Python program to construct the following pattern, using a nested `for` loop (or maybe two nested `for` loops).\n",
    "\n",
    "    * \n",
    "    * * \n",
    "    * * * \n",
    "    * * * * \n",
    "    * * * * * \n",
    "    * * * * \n",
    "    * * * \n",
    "    * * \n",
    "    *\n",
    "Hints: You can multiply strings by numbers to have them repeat multiple times!\n",
    "\n",
    "Also, some solutions to exercise this might use a `range()` going backwards. You can make `range()` go backwards using syntax like this: `range(20,10,-1)`."
   ]
  },
  {
   "cell_type": "code",
   "execution_count": 26,
   "metadata": {},
   "outputs": [],
   "source": [
    "### YOUR CODE HERE ###"
   ]
  },
  {
   "cell_type": "markdown",
   "metadata": {},
   "source": [
    "## How to Format Strings\n",
    "\n",
    "We did not get the chance to cover this in lecture, but in scientific computing it is often extremeley valuable to print your results out in a way that the average reader could understand. We will be looking at the `.format` method which will help you in some of the problems above.\n",
    "\n",
    "`print(\"blah blah {0:2.1f} stuff and blah blah {1:2.1f} other stuff more blahs\".format(stuff1, stuff2))`\n",
    "\n",
    "The above line of code is how we can place well formatted values into a long sentence in python when we want to print it out. You will notice right away the curly braces. The first number inside is the index of the `.format` tuple at the very end of the string (How you put multiple variables into the string). The second number refers to how much white space you would like between the words and your value. The third number is the number of sig figs past the decimal you would like. Below are some examples of how this works in practice."
   ]
  },
  {
   "cell_type": "code",
   "execution_count": 18,
   "metadata": {},
   "outputs": [
    {
     "name": "stdout",
     "output_type": "stream",
     "text": [
      "My mass would be 7.2 kg and my height would be 1.4 meters\n",
      "My mass would be 7.239 kg and my height would be 1.400 meters\n",
      "My mass would be 7.238722 kg and my height would be 1.400000 meters\n",
      "\n",
      "\n",
      "My mass would be       7.24 kg\n",
      "My mass would be  7.24 kg\n",
      "My mass would be 7.24 kg\n"
     ]
    }
   ],
   "source": [
    "mass = 7.23872193 #kg\n",
    "height = 1.4 #meters\n",
    "\n",
    "print(\"My mass would be {0:2.1f} kg and my height would be {1:2.1f} meters\".format(mass, height))\n",
    "print(\"My mass would be {0:2.3f} kg and my height would be {1:2.3f} meters\".format(mass, height))\n",
    "print(\"My mass would be {0:2.6f} kg and my height would be {1:2.6f} meters\".format(mass, height))\n",
    "\n",
    "print('\\n') #prints a new line for neatness\n",
    "\n",
    "print(\"My mass would be {0:10.2f} kg\".format(mass))\n",
    "print(\"My mass would be {0:5.2f} kg\".format(mass))\n",
    "print(\"My mass would be {0:1.2f} kg\".format(mass))"
   ]
  },
  {
   "cell_type": "markdown",
   "metadata": {},
   "source": [
    "## Real World Application Problems (15 Points) "
   ]
  },
  {
   "cell_type": "markdown",
   "metadata": {},
   "source": [
    "### Satellite Altitudes (15 Points)\n",
    "\n",
    "[Adapted from Newman, Exercise 2.2 and Physics 77] A satellite is to be launched into a circular orbit around the Earth so that it orbits the planet once every $T$ seconds. The altitude $h$ above the Earth's surface that the satellite must have is $$ h = \\left( \\frac{G M T^2}{4 \\pi^2} \\right)^{1/3} - R, $$ where $G = 6.67 \\times 10^{-11}~\\text{m}^3~\\text{kg}^{-1}~\\text{s}^{-2}$ is Newton's gravitational constant, $M = 5.97 \\times 10^{24}~\\text{kg}$ is the mass of the Earth, and $R = 6371~\\text{km}$ is its radius."
   ]
  },
  {
   "cell_type": "markdown",
   "metadata": {},
   "source": [
    "**1a.** Write a program that, for a given value of $T$ (entered as a variable T in a cell), calculates and prints out the correct altitude in meters, kilometers, and miles, with one decimal place for each result.\n",
    "\n",
    "*Output for 1a*: When the code cell for this part of the problem is entered, it should specify (in the comments or the Markdown cell above) what units of $T$ are assumed. The program should print out the correct altitude in meters, kilometers, and miles, with one decimal place for each result."
   ]
  },
  {
   "cell_type": "code",
   "execution_count": 7,
   "metadata": {},
   "outputs": [],
   "source": [
    "### YOUR CODE HERE ###"
   ]
  },
  {
   "cell_type": "markdown",
   "metadata": {},
   "source": [
    "*Output for 1b:* Use code cells to carry out the desired calculations, and Markdown cells to present and discuss your results. To create a new cell go to the top menu and click `Insert` then `Insert Cell` either above or below the cell you currently have selected\n",
    "\n",
    "**1b.** Use your program to calculate the altitudes of satellites that orbit the Earth once a day (so-called \"geosynchronous\" orbit), once every 90 minutes, and once every 45 minutes. What do you conclude from the last of these calculations?"
   ]
  },
  {
   "cell_type": "code",
   "execution_count": 19,
   "metadata": {},
   "outputs": [],
   "source": [
    "### YOUR CODE HERE ###"
   ]
  },
  {
   "cell_type": "markdown",
   "metadata": {},
   "source": [
    "### Perfect Hardboiled Eggs (OPTIONAL Extra Credit of 30 Points)\n",
    "\n",
    "[Adapted from Langtangen, Exercise 1.12 and Physics 77. You may derive the formula in Physics 112 or Physics 89] As an egg cooks, the proteins first denature and then coagulate. When the temperature exceeds a critical point, reactions begin and proceed faster as the temperature increases. In the egg white the proteins start to coagulate for temperatures above 63 C, while in the  yolk the proteins start to coagulate for temperatures above 70 C. For a soft boiled egg, the white needs to have been heated long enough to coagulate at a temperature above 63 C, but the yolk should not be heated above 70 C. For a hard boiled egg, the center of the yolk should be allowed to reach 70 C.\n",
    "\n",
    "The following formula expresses the time $t$ it takes (in seconds) for the center of the yolk to reach the temperature $T_y$ (in Celsius degrees): $$ t = \\frac{M^{2/3} c \\rho^{1/3}}{K \\pi^2 (4\\pi/3)^{2/3}} \\ln \\left[ 0.76 \\frac{T_0 - T_w}{T_y - T_w} \\right] . $$ Here, $M$, $\\rho$, $c$, and $K$ are properties of the egg:\n",
    "* $M$ is the mass,\n",
    "* $\\rho$ is the density,\n",
    "* $c$ is the specific heat capacity, and \n",
    "* $K$ is the thermal conductivity.\n",
    "\n",
    "Relevant values are\n",
    "* $M = 64~\\text{g}$ for a large egg (USA size XL: en.wikipedia.org/wiki/Chicken_egg_sizes),\n",
    "* $\\rho = 1.0378~\\text{g cm}^{-3}$,\n",
    "* $c = 3.7~\\text{J g}^{-1}\\,\\text{K}^{-1}$, and\n",
    "* $K = 5.4 \\cdot 10^{-3}~\\text{W cm}^{-1}\\,\\text{K}^{-1}$.\n",
    "\n",
    "Furthermore,\n",
    "* $T_w$ is the temperature (in C degrees) of the boiling water, and\n",
    "* $T_0$ is the original temperature (in C degrees) of the egg before being put in the water.\n",
    "\n",
    "Suppose we want our eggs hard-boiled. Implement the formula in a program, set $T_w = 100~\\text{C}$ and $T_y = 70~\\text{C}$, and compute $t$ for a large egg taken from the fridge ($T_0 = 4~\\text{C}$) and from room temperature ($T_0 = 20~\\text{C}$). Also compute the results for a small egg ($M = 42~\\text{g}$)."
   ]
  },
  {
   "cell_type": "markdown",
   "metadata": {},
   "source": [
    "*Output for 2:*\n",
    "When you run your code cell, it should produce the following text, with your numbers instead of the `TTT`, `MMM`, and `SSS` placeholders:\n",
    "\n",
    "    To hard-boil a large egg taken directly from the fridge, cook it for TTT minutes (MMM min, SSS sec).\n",
    "    To hard-boil a small egg taken directly from the fridge, cook it for TTT minutes (MMM min, SSS sec).\n",
    "    To hard-boil a large egg starting from room temperature, cook it for TTT minutes (MMM min, SSS sec).\n",
    "    To hard-boil a small egg starting from room temperature, cook it for TTT minutes (MMM min, SSS sec).\n",
    "\n",
    "The `TTT` placeholders should be values in minutes to two decimal places. The `MMM` and `SSS` placeholders should be rounded to the nearest minute/second, with no decimal places. For example,\n",
    "\n",
    "    To hard-boil a large egg taken directly from the fridge, cook it for 56.78 minutes (56 min 47 sec).\n",
    "    "
   ]
  },
  {
   "cell_type": "markdown",
   "metadata": {},
   "source": [
    "#### Hints\n",
    "\n",
    "Writing the entire formula in one line is difficult to type, difficult to read, difficult to debug---and you have to retype the entire calculation just to change one piece of it. Try breaking it down in smaller chunks assigned to variables, and combine those chunks to produce the final result.\n",
    "\n",
    "Beware of integer division!\n",
    "\n",
    "Remember to comment your code and use descriptive variable names so others (and future you) can understand what you're doing!"
   ]
  },
  {
   "cell_type": "code",
   "execution_count": 20,
   "metadata": {},
   "outputs": [],
   "source": [
    "### YOUR CODE HERE ###"
   ]
  }
 ],
 "metadata": {
  "kernelspec": {
   "display_name": "Python 3 (ipykernel)",
   "language": "python",
   "name": "python3"
  },
  "language_info": {
   "codemirror_mode": {
    "name": "ipython",
    "version": 3
   },
   "file_extension": ".py",
   "mimetype": "text/x-python",
   "name": "python",
   "nbconvert_exporter": "python",
   "pygments_lexer": "ipython3",
   "version": "3.9.13"
  }
 },
 "nbformat": 4,
 "nbformat_minor": 4
}
