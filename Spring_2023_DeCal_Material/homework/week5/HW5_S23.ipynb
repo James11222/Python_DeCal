{
 "cells": [
  {
   "cell_type": "markdown",
   "id": "4206bc27",
   "metadata": {},
   "source": [
    "# Homework 5\n",
    "\n",
    "This homework is going to be all about advanced plotting and curve fitting! All of these are extremely useful in any STEM based course, so the goal of this homework is to get y'all more comfortable with these methods."
   ]
  },
  {
   "cell_type": "code",
   "execution_count": null,
   "id": "d9246b58",
   "metadata": {
    "scrolled": true
   },
   "outputs": [],
   "source": [
    "#Code Preamble#\n",
    "import numpy as np\n",
    "import scipy as sp\n",
    "import matplotlib.pyplot as plt\n",
    "import scipy.optimize as fitter\n",
    "%matplotlib inline"
   ]
  },
  {
   "cell_type": "markdown",
   "id": "424ac393",
   "metadata": {},
   "source": [
    "## Problem 1: 3D Subplots (25 Points)\n",
    "\n",
    "Plot the following graphs in one figure. We should see 4 total plots (2 x 2)\n",
    "\n",
    "**Top Left**:\n",
    "\n",
    "$$f(x,y) = \\frac{sgn(xy) * sgn(1-(9x)^2+(9y)^2)}{9}$$\n",
    "\n",
    "**Top Right**:\n",
    "\n",
    "$$f(x,y) = (0.4^2-(0.6-(x^2+y^2)^{1/2})^2)^{1/2}$$\n",
    "\n",
    "**Bottom Left**:\n",
    "\n",
    "$$f(x,y) = \\frac{1}{15(x^2+y^2)}$$\n",
    "\n",
    "**Bottom Right**:\n",
    "\n",
    "$$f(x,y) = \\frac{(1-sgn(-x-.51+abs(2y)))(sgn(\\frac{1}{2}-x)+1)}{3}$$\n",
    "\n",
    "\n",
    "Use the same colormap for the whole figure (all 4 plots), add a colorbar for the whole figure, a title for each plot, and x and y labels for each plot. Pick the same domain for $x$ and $y$ and it should be the same for all plots. I will let you figure out what domain works best. Each of these is an interesting shape or structure. Create a markdown cell below your plotting cell describing what you see in each plot.\n",
    "\n",
    "Hint: `numpy` has a sgn(x) function"
   ]
  },
  {
   "cell_type": "code",
   "execution_count": null,
   "id": "8ed6c270",
   "metadata": {},
   "outputs": [],
   "source": [
    "###Your Code Here###"
   ]
  },
  {
   "cell_type": "markdown",
   "id": "57a5aefb",
   "metadata": {},
   "source": [
    "# Plotting Data\n",
    "\n",
    "## Problem 2: Covid-19 (25 Points)\n",
    "\n",
    "\n",
    "Last week we learned how to import data into our notebooks in the form of arrays. Well we can actually plot that data! For this problem we will actually make a pretty relevant plot to the state of the world in 2020. As someone who has taken the Python DeCal you will be able to say that you have worked with real COVID-19 Data. So often we simply listen to people tell us about the data, but you should be able to look at it yourself (to reduce bias of course). \n",
    "\n",
    "In this problem we will plot some COVID-19 United States Data from the https://ourworldindata.org/coronavirus-source-data, You should have a file named `Covid_Data.csv` in the same directory as this notebook. The data starts on January 1st, 2020 and each new row below that is the next day until the end of the data set which goes to September 23rd, 2020. \n",
    "\n",
    "\n",
    "**Part a)** Your task for this problem is to make a scatter plot of the Total Cases (unsmoothed) in the United States for each day since the data started being taken. Make sure to import the data using the `numpy.loadtxt`function.\n",
    "\n",
    "Hint 1: Set `Unpack = True` and import all the required data sets as their own 1D arrays\n",
    "\n",
    "Hint 2: Skip the first row in the data set.\n",
    "\n",
    "Hint 3: You dont need the first column because that is the  date which would be a string, while the rest of the data is floats. This may cause some issues. Think about how you can get around this. \n",
    "\n",
    "Extra: If you feel ambitious, try and figure out how you can make the x-axis in units of months instead of just number of days. You `plt.xticks()` could be useful for this because you can put strings for your x-axis tick marks. \n"
   ]
  },
  {
   "cell_type": "code",
   "execution_count": null,
   "id": "e85df1e6",
   "metadata": {},
   "outputs": [],
   "source": [
    "###Your Code Here###"
   ]
  },
  {
   "cell_type": "markdown",
   "id": "bdbcd78d",
   "metadata": {},
   "source": [
    "**Part b)** Now make a similar plot of New Cases (unsmoothed) vs. time (days). Dont forget to include your plot's title, axis labels (with units), and a legend."
   ]
  },
  {
   "cell_type": "code",
   "execution_count": null,
   "id": "bcd3294c",
   "metadata": {},
   "outputs": [],
   "source": [
    "###Your Code Here###"
   ]
  },
  {
   "cell_type": "markdown",
   "id": "4e1da5e9",
   "metadata": {},
   "source": [
    "**Part c)** A crucial part of being a scientist is being able to look at a data set and find something interesting that they want to look at within a data set. Go ahead and open up the data set in some spreadsheet editor (I Use Microsoft Excel for example) and look at the titles for each column. Pick one of the columns that you find really interesting or that is relevant to show someone. Plot that vs time (days). As usual dont forget to add a title, labels, and a legend. "
   ]
  },
  {
   "cell_type": "code",
   "execution_count": null,
   "id": "1e323e6c",
   "metadata": {},
   "outputs": [],
   "source": [
    "###Your Code Here###"
   ]
  },
  {
   "cell_type": "markdown",
   "id": "4b51f8af",
   "metadata": {},
   "source": [
    "## Problem 3: An Astronomy Image (10 points)\n",
    "\n",
    "Make sure you know where the \"astro_image.csv\" is located in your computer. Load up the image data with whichever function you would like (i.e. `np.loadtxt()`, `pd.read_csv()`) etc. and use the `plt.imshow()` to plot the image. Show multiple plots with multiple colormaps, thinking about the best way to plot the image such that it shows up. If you would like, you can put them in a subplot with each other as well as you did with the plots in the previous homework. "
   ]
  },
  {
   "cell_type": "code",
   "execution_count": null,
   "id": "adf5b62b",
   "metadata": {},
   "outputs": [],
   "source": []
  }
 ],
 "metadata": {
  "kernelspec": {
   "display_name": "Python 3 (ipykernel)",
   "language": "python",
   "name": "python3"
  },
  "language_info": {
   "codemirror_mode": {
    "name": "ipython",
    "version": 3
   },
   "file_extension": ".py",
   "mimetype": "text/x-python",
   "name": "python",
   "nbconvert_exporter": "python",
   "pygments_lexer": "ipython3",
   "version": "3.9.13"
  }
 },
 "nbformat": 4,
 "nbformat_minor": 5
}
