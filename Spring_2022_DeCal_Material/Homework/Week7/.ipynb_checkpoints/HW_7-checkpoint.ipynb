{
 "cells": [
  {
   "cell_type": "markdown",
   "metadata": {},
   "source": [
    "# Homework 7"
   ]
  },
  {
   "cell_type": "markdown",
   "metadata": {},
   "source": [
    "This homework is all about useful external libraries that are most common to use in astronomy research and Objeect Oriented Programming. The two most important libraries apart from scipy, numpy, and matplotlib are **astropy** and **pandas**. We explore the basics of these super versatile libraries. Followed by a nice problem involving creating python objects"
   ]
  },
  {
   "cell_type": "markdown",
   "metadata": {},
   "source": [
    "# Astropy (40 Points)"
   ]
  },
  {
   "cell_type": "markdown",
   "metadata": {},
   "source": [
    "## CRAZY UNIT CONVERSION!!! (20 Points)"
   ]
  },
  {
   "cell_type": "markdown",
   "metadata": {},
   "source": [
    "As you take more astronomy classes, you will face more and more unit conversion problems - they are annoying. That's why astropy.units is very helpful. Let's do some practices here.\n",
    "\n",
    "The documentations for astropy.units and astropy.constants will very helpful to you.\n",
    "\n",
    "astropy.units documentation: https://docs.astropy.org/en/stable/units/\n",
    "\n",
    "astropy.constants documentation: https://docs.astropy.org/en/stable/constants/\n",
    "\n",
    "NOTE: In this problem, you MUST use astropy.constants when doing calculations involving fundamental constants. Also, you cannot look up values such as solar mass, earth mass, etc. Use the two packages solely."
   ]
  },
  {
   "cell_type": "markdown",
   "metadata": {},
   "source": [
    "### Problem 1.1) Speed of light (5 Points)\n",
    "\n",
    "What is the speed of light ($c$) in $pc/yr$?"
   ]
  },
  {
   "cell_type": "code",
   "execution_count": null,
   "metadata": {},
   "outputs": [],
   "source": [
    "### Write your code here"
   ]
  },
  {
   "cell_type": "markdown",
   "metadata": {},
   "source": [
    "### Problem 1.2) Newton's 2nd Law (5 Points)\n",
    "\n",
    "Recall that NII states \n",
    "$$F =ma\\,\\,.$$\n",
    "Say a force of $97650134N$ is exerted on an object having a mass of $0.0071$ earth mass. What is the acceleration of the object in $AU/days^2$?"
   ]
  },
  {
   "cell_type": "code",
   "execution_count": null,
   "metadata": {},
   "outputs": [],
   "source": [
    "### Write your code here"
   ]
  },
  {
   "cell_type": "markdown",
   "metadata": {},
   "source": [
    "### Problem 1.3) Newton's Universal Law of Gravitation (10 Points)\n",
    "\n",
    "Recall that the gravitational acceleration due to an object with mass $m$ at a distance $r$ is given by \n",
    "$$a_g = \\frac{Gm}{r^2}\\,\\,.$$\n",
    "What is the gravitational acceleration due to a planet of $3.1415926$ Jupiter-mass at a distance of $1.523AU$? Give your answer in $pc/yr^2$."
   ]
  },
  {
   "cell_type": "code",
   "execution_count": null,
   "metadata": {},
   "outputs": [],
   "source": [
    "### Write your code here"
   ]
  },
  {
   "cell_type": "markdown",
   "metadata": {},
   "source": [
    "### Problem 1.4: Visualising Coordinate Transformation (20 Points)"
   ]
  },
  {
   "cell_type": "markdown",
   "metadata": {},
   "source": [
    "We introduced coordinate transformation using astropy, but maybe that was too astract to you, so let's use this problem as a way for you to visualise this process. Each part will be worth **5 Points**\n",
    "\n",
    "There are several things you need to do:\n",
    "1. Open up the FITS file named 'clusters.fits' (this part of the code is written for you already)\n",
    "\n",
    "\n",
    "2. Read it as a table using astropy.table (you will have to import the packages you need and write your own code from hereafter)\n",
    "\n",
    "\n",
    "3. Plot the positions of all the objects in the table, COLOUR-CODED by their types (there is a column named 'CLASS'), with RA on the x-axis and DEC on the y-axis. You should see a curved trend with a huge dip in the middle.\n",
    "\n",
    "\n",
    "4. Carry out a coordinate transformation from the ICRS coordinates to the galactic coordinates - there is a column named \"DISTANCE\" which you will need. \n",
    "\n",
    "\n",
    "5. Now plot the position of all the objects in the galactic coordinates, with $\\ell$ on the x-axis and $b$ on the y-axis; again, colour-code everything by their \"CLASS\". If you did everything correctly, you should see that the curve in the previous plot resembles a horizontal band. \n",
    "\n",
    "\n",
    "6. Answer this question: What is that curved band in the first plot and the horizontal band in the second plot? Does it make sense that the band got straightened up? Why?\n",
    "\n",
    "\n",
    "Note: When you make your plots, please include the axis labels with units and the legend."
   ]
  },
  {
   "cell_type": "code",
   "execution_count": null,
   "metadata": {},
   "outputs": [],
   "source": [
    "from astropy.io import fits\n",
    "#You will have to import other packages to complete this problem \n",
    "\n",
    "###IMPORT YOUR OTHER PACKAGES HERE\n"
   ]
  },
  {
   "cell_type": "code",
   "execution_count": null,
   "metadata": {},
   "outputs": [],
   "source": [
    "fits_file = fits.open('clusters.fits')\n",
    "\n",
    "#To read the fits file as a table, simply run the line: Table.read(fits_file)\n",
    "#Although you will have to write up your code to get that Table function \n",
    "\n",
    "### YOUR CODE HERE"
   ]
  },
  {
   "cell_type": "markdown",
   "metadata": {},
   "source": [
    "(DOUBLE CLICK HERE TO ANSWER QUESTION 6):\n",
    "\n",
    "YOUR ANSWER: "
   ]
  },
  {
   "cell_type": "markdown",
   "metadata": {},
   "source": [
    "# Pandas (30 Points)\n",
    "\n",
    "One of the most efficient and easy to use libraries for importing data files. We will explore the basics here.\n",
    "\n",
    "Let's import some data that represents the position of a ball being thrown off the roof of Campbell Hall. Using some basic kinematics we can derive the following equation.\n",
    "\n",
    "$$y(t) = -\\frac{1}{2} g t^2 + v_{0,y} t + y_0$$\n",
    "\n",
    "For this problem we need to import our position measurements from our fellow colleagues in our research group.\n",
    "\n",
    "<img src='https://useruploads.socratic.org/TBOrceq2QFaPSZx9AUfN_projectile-motion.gif' width=\"600\" height=\"400\"> "
   ]
  },
  {
   "cell_type": "markdown",
   "metadata": {},
   "source": [
    "## Problem 2.1 (5 Points)\n",
    "\n",
    "Your job for this problem is to simply read in the file named **\"projectile.csv\"** using the pandas library (DONT USE `numpy`). Print out your DataFrame so we can see what the data looks like as a table."
   ]
  },
  {
   "cell_type": "code",
   "execution_count": null,
   "metadata": {},
   "outputs": [],
   "source": [
    "###YOUR CODE HERE###"
   ]
  },
  {
   "cell_type": "markdown",
   "metadata": {},
   "source": [
    "## Problem 2.2 (5 Points)\n",
    "\n",
    "Now load your DataFrame columns into numpy arrays and make a plot of Position vs. Time."
   ]
  },
  {
   "cell_type": "code",
   "execution_count": null,
   "metadata": {},
   "outputs": [],
   "source": [
    "###YOUR CODE HERE###"
   ]
  },
  {
   "cell_type": "markdown",
   "metadata": {},
   "source": [
    "## Problem 2.3 (5 Points)\n",
    "\n",
    "In the last problem set we learned how to curve fit a quadratic equation. The above equation is also a quadratic equation with respect to time. Use what we learned last week to fit a curve to the noisy data from our fellow researchers. Explicitly print out what the initial velocity $v_{0,y}$ and initial height $y_0$ are based on your curve fit along with their respective errors. "
   ]
  },
  {
   "cell_type": "code",
   "execution_count": null,
   "metadata": {},
   "outputs": [],
   "source": [
    "###YOUR CODE HERE###"
   ]
  },
  {
   "cell_type": "markdown",
   "metadata": {},
   "source": [
    "## Problem 2.4 (5 Points)\n",
    "\n",
    "Alright now we have a model function that can fit the function as a function of time. create two lists/arrays of values using this function. One list's values should be time where we use `t = np.linspace(0,5,100)` to create the values and the other list should be your model's output after taking in all those times. (A list of the values you would normally plot)\n",
    "\n",
    "Once you have created your two lists of values, construct a pandas DataFrame using these lists. Your data frame should have two columns with 100 values each. "
   ]
  },
  {
   "cell_type": "code",
   "execution_count": null,
   "metadata": {},
   "outputs": [],
   "source": [
    "###Your Code Here###"
   ]
  },
  {
   "cell_type": "markdown",
   "metadata": {},
   "source": [
    "## Problem 2.5 (10 Points)\n",
    "\n",
    "Last part of the problem set! This is basically one line of code. Export your new DataFrame to a csv file called **\"trajectory.csv\"**, this will be useful for your colleagues!"
   ]
  },
  {
   "cell_type": "code",
   "execution_count": null,
   "metadata": {},
   "outputs": [],
   "source": [
    "###Your Code Here###"
   ]
  },
  {
   "cell_type": "markdown",
   "metadata": {},
   "source": [
    "# Object Oriented Programming (30 Points)\n",
    "\n",
    "## Problem 10 (10 Points)\n",
    "\n",
    "Create a \"vector\" class from scratch. Look at the lecture slides for how to write one from scratch. Your vector should be able to have a normalize method, and a method for calculating the dot product as well as finding the angle between two vectors. "
   ]
  },
  {
   "cell_type": "code",
   "execution_count": null,
   "metadata": {},
   "outputs": [],
   "source": [
    "###Your Code Here###"
   ]
  },
  {
   "cell_type": "markdown",
   "metadata": {},
   "source": [
    "## Problem 11 (10 Points)\n",
    "\n",
    "Create a star class that uses vector objects as it's position and velocity traits. This star class should also have a temperature trait. Then create two star objects with initial positions `Vector(0,0)` and `Vector(80, 30)`. The initial velocities can be (0,0) for both, set star1's temperature to be 6000 and star2's temperature to be 10000. We should also give these objects a mass trait, let's say star1 has a mass of 2e30 kg and star2 has 2e31 kg (aka star2 is 10 times more massive than star1!) Let's find the distance between the stars using the object traits and methods from both the star and vector classes. "
   ]
  },
  {
   "cell_type": "code",
   "execution_count": null,
   "metadata": {},
   "outputs": [],
   "source": [
    "###Your Code Here###"
   ]
  },
  {
   "cell_type": "markdown",
   "metadata": {},
   "source": [
    "## Problem 12 (10 Points)\n",
    "\n",
    "Now edit your star class to have a method called `calc_grav_force()`  and an initial trait of `force` which will be 0 to start. `calc_grav_force()` takes in another star as it's input and calculates the force of gravity between the two stars. Recall that Newton's law of gravitation says that:\n",
    "\n",
    "$$\\mathbf{F} = G \\frac{m_1 m_2}{r^2} \\hat{\\mathbf{r}}$$\n",
    "\n",
    "where $\\mathbf{r}$ refers to the vector between the two stars ($\\mathbf{r} = \\mathbf{r}_2 - \\mathbf{r}_1$). We also know the Gravitational Constant is\n",
    "\n",
    "$$G = 6.67\\times10^{-11} \\frac{\\mathrm{N \\cdot m^2}}{\\mathrm{kg^2}}$$\n",
    "\n",
    "and masses and vectors are inherently a trait of the star class! Save this force as a new trait to the star object in the `calc_grav_force()` method, let's just call it `force`. Don't forget that force is also a vector so you can multiply by a unit vector in the direction of the other star. Lastly, Newton's 3rd tells us that $\\mathbf{F}_1 = -\\mathbf{F}_2$, so update the other star's force accordingly.\n",
    "\n",
    "Test to see if your code works by making two star objects \n",
    "\n",
    "```python\n",
    "\n",
    "star1 = Star(Vector(0,0), Vector(0,0), 6000, 2e30) #position, velocity, temperature, mass\n",
    "star2 = Star(Vector(60e9,60e9), Vector(0,0), 10000, 2e31) #position, velocity, temperature, mass\n",
    "\n",
    "```\n",
    "You should get the length of the force vectors are ~ $10^{29} \\mathrm{N}$. This system roughly represents the what would happen if we swapped out the Earth with a star 10 times the mass of our sun! \n",
    "\n",
    "\n",
    "Hint: we defined a `norm()` method in the vector class for this job of making a unit vector! We also know the vector that points to the the other star is the $\\mathbf{r}_2 - \\mathbf{r}_1$"
   ]
  },
  {
   "cell_type": "code",
   "execution_count": null,
   "metadata": {},
   "outputs": [],
   "source": [
    "###Your Code Here###"
   ]
  },
  {
   "cell_type": "markdown",
   "metadata": {},
   "source": [
    "Wow! Pat yourself on the back you just wrote code to calculate the force of gravity in a binary star system using object oriented programming."
   ]
  },
  {
   "cell_type": "markdown",
   "metadata": {},
   "source": [
    "# Extra Credit / Optional Problems\n",
    "\n",
    "Don't worry this isn't crazy, it's just some insight on the system.\n",
    "\n",
    "* Calculate the acceleration vectors using Newton's 2nd Law, what is the relative magnitude of acceleration between the two stars? Why is that? Based on what you find, which one is going to move more?\n",
    "\n",
    "* If you're curious, swap out the mass of a 10 solar masses in star2 to the mass of the earth, how does that change things?\n",
    "\n",
    "* Big Challenge: edit your vector class to work with `astropy.units` so your vectors automatically encode distances, then edit your `calc_grav_force` method to work with `astropy.constants` and `astropy.units`. Now your code should be able to convert your forces to any units you want and all values you want will automatically have units with them. Pretty handy little trick if you ask me."
   ]
  },
  {
   "cell_type": "code",
   "execution_count": null,
   "metadata": {},
   "outputs": [],
   "source": [
    "###Your Code Here###"
   ]
  }
 ],
 "metadata": {
  "kernelspec": {
   "display_name": "Python 3 (ipykernel)",
   "language": "python",
   "name": "python3"
  },
  "language_info": {
   "codemirror_mode": {
    "name": "ipython",
    "version": 3
   },
   "file_extension": ".py",
   "mimetype": "text/x-python",
   "name": "python",
   "nbconvert_exporter": "python",
   "pygments_lexer": "ipython3",
   "version": "3.7.3"
  }
 },
 "nbformat": 4,
 "nbformat_minor": 4
}
