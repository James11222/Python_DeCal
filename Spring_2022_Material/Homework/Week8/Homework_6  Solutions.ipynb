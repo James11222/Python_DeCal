{
 "cells": [
  {
   "cell_type": "markdown",
   "metadata": {
    "id": "rY2kvt7mh04L"
   },
   "source": [
    "# Homework 6"
   ]
  },
  {
   "cell_type": "markdown",
   "metadata": {},
   "source": [
    "### Submit the MP4 files you make along with a PDF of this notebook!"
   ]
  },
  {
   "cell_type": "markdown",
   "metadata": {
    "id": "MP99MGLdiCsG"
   },
   "source": [
    "This week we will learn about how to turn the plots we have been making into animations! This will be really helpful for any groups that want to make simulations or other animations for their final project. This will build off of the differential equations we learned last week as well as the plotting skills we have learned so far.\n",
    "\n",
    "If you are having trouble running the popup window with the %matplotlib commands, you can just comment the lines out. The animations will not show up in a popup window, but they will still save and you can open them from your current directory."
   ]
  },
  {
   "cell_type": "markdown",
   "metadata": {
    "id": "9MSnCuw2iibG"
   },
   "source": [
    "First let us import the neccessary libraries,"
   ]
  },
  {
   "cell_type": "code",
   "execution_count": null,
   "metadata": {
    "colab": {
     "base_uri": "https://localhost:8080/"
    },
    "id": "kVvtEMI6iGzY",
    "outputId": "d444145e-8f76-41da-bcf4-28654a6de58e"
   },
   "outputs": [],
   "source": [
    "import numpy as np\n",
    "import matplotlib.pyplot as plt\n",
    "import scipy\n",
    "import scipy.integrate\n",
    "\n",
    "from mpl_toolkits.mplot3d import Axes3D\n",
    "from matplotlib.animation import FFMpegWriter\n",
    "\n",
    "#%config InlineBackend.figure_format='retina' # UNCOMMENT IF USING MAC makes display better\n",
    "\n",
    "%matplotlib osx \n",
    "# ^ UNCOMMENT THIS LINE IF USING MAC\n",
    "\n",
    "# %matplotlib qt \n",
    "# ^ UNCOMMENT THIS LINE IF USING WINDOWS"
   ]
  },
  {
   "cell_type": "markdown",
   "metadata": {},
   "source": [
    "# Problem 1 (10 points)\n",
    "\n",
    "## Animating a Cool Function\n",
    "\n",
    "In homework 5, we plotted the following function:\n",
    "\n",
    "\\begin{equation}\n",
    "f = \\frac{\\sin(10(x^2 + y^2))}{10}\n",
    "\\end{equation}"
   ]
  },
  {
   "cell_type": "code",
   "execution_count": null,
   "metadata": {},
   "outputs": [],
   "source": [
    "x, y = np.meshgrid(np.linspace(0, 2*np.pi, 100),\n",
    "                   np.linspace(0, 2*np.pi, 100))\n",
    "\n",
    "f = np.sin(10*(x**2 + y**2))/10\n",
    "\n",
    "plt.figure(figsize=(12,12))\n",
    "plt.imshow(f)          # Plot the 2D array\n",
    "plt.set_cmap('hot')    # Set the color scheme (\"jet\" is matplotlib's default)\n",
    "plt.colorbar()         # Display a legend for the color values\n",
    "plt.show()"
   ]
  },
  {
   "cell_type": "markdown",
   "metadata": {},
   "source": [
    "Now let's animate it! \n",
    "\n",
    "For each iteration, add 1 more to x and y. For example, add 1 to x and y for the first iteration, and add 10 to both x and y for the tenth iteration.\n",
    "\n",
    "Rember to use plt.imshow( ) so that your function is shown."
   ]
  },
  {
   "cell_type": "code",
   "execution_count": null,
   "metadata": {},
   "outputs": [],
   "source": [
    "## SAVE AS MP4 ##\n",
    "fig, ax = plt.subplots(figsize=(5,5))\n",
    "\n",
    "num_iterations = 20\n",
    "\n",
    "with writer.saving(fig, \"3Dfunction.mp4\", dpi=200):\n",
    "    for i in range(num_iterations):\n",
    "\n",
    "        ax.clear() # first clear the figure\n",
    "\n",
    "        ### YOUR CODE HERE ###\n",
    "        f = np.sin(10*((x+i)**2 + (y+i)**2))/10\n",
    "        plt.imshow(f)\n",
    "        \n",
    "        plt.draw()\n",
    "        plt.pause(0.01)\n",
    "        writer.grab_frame() # save the current frame to mp4"
   ]
  },
  {
   "cell_type": "markdown",
   "metadata": {},
   "source": [
    "****"
   ]
  },
  {
   "cell_type": "markdown",
   "metadata": {
    "id": "hdjXvAWRjQXh"
   },
   "source": [
    "# Problem 2 (20 points)\n",
    "## Binary Star System\n",
    "\n",
    "In lecture we animated a single planet orbiting a star, but now let's animate a binary star system — two stars orbiting eachother. Because these two objects are of similar mass, we need to update the movements of both stars instead of just one. \n",
    "\n",
    "\n",
    "First we'll define our initial conditions. For the sake of simplicity, don't worry about units for this problem.\n",
    "- Star 1: mass $=3$, $x_i=-1$, $y_i=0$, $v_{xi}=0$, $v_{yx}=1$\n",
    "\n",
    "- Star 2: mass $=3$, $x_i=1$, $y_i=0$, $v_{xi}=0$, $v_{yx}=-1$"
   ]
  },
  {
   "cell_type": "code",
   "execution_count": null,
   "metadata": {
    "id": "soDr8Y9FjZAW"
   },
   "outputs": [],
   "source": [
    "G = 1 # gravitational constant\n",
    "\n",
    "# Define masses (in units of solar mass)\n",
    "m1 = 3.0\n",
    "m2 = 3.0\n",
    "\n",
    "# Define initial position vectors\n",
    "r1 = np.array([-1, 0])\n",
    "r2 = np.array([1, 0])\n",
    "\n",
    "# Define initial velocities\n",
    "v1 = np.array([0, 1])\n",
    "v2 = np.array([0, -1])"
   ]
  },
  {
   "cell_type": "markdown",
   "metadata": {
    "id": "_bmcyULFmfhQ"
   },
   "source": [
    "The stars motions are characterized by the Law of Universal Gravitation:\n",
    "\n",
    "\\begin{equation}\n",
    " F = G \\frac{m_1 m_2}{r^2}\n",
    "\\end{equation}\n",
    "\n",
    "Ultimately, all we need to plot the stars motion is the position coordinates of the two stars. But to correctly update the stars positions we need the stars velocity and the change in velocity (acceleration). Instead of working with forces, let us work with accelerations. We can then rewrite the equations for star 1 and star 2 like this:\n",
    "\n",
    "- $ a_1 = \\frac{m_2(r_2 - r_1)}{r_{12}^3} $\n",
    "\n",
    "- $ a_2 = \\frac{m_1(r_1 - r_2)}{r_{12}^3} $\n",
    "\n",
    "Fill out the following cell to define a function that we will integrate over to obtain our star positions.\n",
    "\n",
    "Refer to the lecture demo notebook for help! OrbitEquation( ) that was used in the demo is set up the same way, but now we want to change position and velocity for another object as well."
   ]
  },
  {
   "cell_type": "code",
   "execution_count": null,
   "metadata": {
    "id": "jEhkzSQGmRE9"
   },
   "outputs": [],
   "source": [
    "def TwoBodyEquations(w, t, m1, m2): # w is an array containing positions and velocities\n",
    "    r1 = w[:2]\n",
    "    r2 = w[2:4]\n",
    "    v1 = w[4:6]\n",
    "    v2 = w[6:8]\n",
    "\n",
    "    r12 = np.linalg.norm(r2-r1)\n",
    "    \n",
    "    dv1bydt = m2*(r2-r1)/r12**3  # derivative of velocity\n",
    "    dv2bydt = m1*(r1-r2)/r12**3\n",
    "\n",
    "    dr1bydt = v1 # derivative of position \n",
    "    dr2bydt = v2\n",
    "    \n",
    "    r_derivs = np.concatenate((dr1bydt,dr2bydt)) # joining arrays together\n",
    "    v_derivs = np.concatenate((dv1bydt,dv2bydt))\n",
    "    derivs = np.concatenate((r_derivs,v_derivs))\n",
    "    \n",
    "    return derivs"
   ]
  },
  {
   "cell_type": "markdown",
   "metadata": {},
   "source": [
    "Now we want to run the ordinary differential equation solver. Then set r1_sol equal to the parts of two_body_sol that correspond to the first star. Do the same for r2_sol but for the second star."
   ]
  },
  {
   "cell_type": "code",
   "execution_count": null,
   "metadata": {},
   "outputs": [],
   "source": [
    "# Package initial parameters into one array (just easier to work with this way)\n",
    "init_params = np.array([r1,r2,v1,v2])\n",
    "init_params = init_params.flatten()\n",
    "time_span = np.linspace(0, 20, 5000)  # run for t=20 (5000 points)\n",
    "\n",
    "# Run the ordinary differential equation solver\n",
    "two_body_sol = scipy.integrate.odeint(TwoBodyEquations, init_params, time_span, args=(m1,m2)) # use scipy.integrate.odeint()\n",
    "\n",
    "r1_sol = two_body_sol[:,:2]\n",
    "r2_sol = two_body_sol[:,2:4]"
   ]
  },
  {
   "cell_type": "markdown",
   "metadata": {},
   "source": [
    "Now we have all of the data we want to plot. Using FFMpegWriter, let us loop through all of our data and save each frame to our MP4 file. Set your x and y axes to range from -2 to 2. \n",
    "\n",
    "Again, this code is very similar to what was shown in the lecture demo!"
   ]
  },
  {
   "cell_type": "code",
   "execution_count": null,
   "metadata": {
    "colab": {
     "base_uri": "https://localhost:8080/",
     "height": 484
    },
    "id": "RJRynYtJoLJW",
    "outputId": "e2818fa2-7918-491d-99f5-4b5e7eaaa2a2"
   },
   "outputs": [],
   "source": [
    "# Initilize writer \n",
    "metadata = dict(title='2D animation', artist='Matplotlib')\n",
    "writer = FFMpegWriter(fps=50, metadata=metadata, bitrate=200000)\n",
    "fig = plt.figure(dpi=200)\n",
    "\n",
    "## SAVE AS MP4 ##\n",
    "fig, ax = plt.subplots()\n",
    "\n",
    "with writer.saving(fig, \"binary_stars.mp4\", dpi=200):\n",
    "    for i in range(len(time_span)):\n",
    "\n",
    "        ax.clear()\n",
    "\n",
    "        ### YOUR CODE HERE ###\n",
    "        ax.plot(r1_sol[:i,0],r1_sol[:i,1],color=\"red\", alpha=0.5)\n",
    "        ax.plot(r2_sol[:i,0],r2_sol[:i,1],color=\"orange\", alpha=0.5)\n",
    "        \n",
    "        ax.scatter(r1_sol[i,0],r1_sol[i,1],color=\"red\",marker=\"o\",s= m1*30, zorder=5)\n",
    "        ax.scatter(r2_sol[i,0],r2_sol[i,1],color=\"orange\",marker=\"o\",s=m2*30, zorder=5)\n",
    "        \n",
    "        ax.set_xlim(-3, 3)\n",
    "        ax.set_ylim(-3, 3)\n",
    "        ###\n",
    "        \n",
    "        plt.draw()\n",
    "        plt.pause(0.01)\n",
    "        writer.grab_frame()"
   ]
  },
  {
   "cell_type": "markdown",
   "metadata": {},
   "source": [
    "**Optional**: try changing the star masses, initial postions, and/or initial velocities and show us an animation that you think looks cool!"
   ]
  },
  {
   "cell_type": "code",
   "execution_count": null,
   "metadata": {},
   "outputs": [],
   "source": [
    "# can be whatever other initial conditions"
   ]
  },
  {
   "cell_type": "markdown",
   "metadata": {},
   "source": [
    "****"
   ]
  },
  {
   "cell_type": "markdown",
   "metadata": {
    "id": "zd6pVTabjaCW"
   },
   "source": [
    "# Problem 3 (20 points)\n",
    "## Swinging Pendulum\n",
    "Now we will animate a basic swinging pendulum that you have probably seen in your Physics classes! The steps for animating this are similar to how we animated the binary star system. The main difference is how we define our ode_func and the differential equations. \n",
    "For our pendulum system, we will have a point mass $m$ connected to a string of length $l$ with slight damping:\n",
    "* $m = 1 kg$ is the mass,\n",
    "* $g = 9.81 m/s^2$ is gravity,\n",
    "* $l = 1 m$ is the length of the massless string\n",
    "* $b = 0.05$ is the damping coefficient, and\n",
    "* $t = 0$ to $10 s$ is the time duration with 100 intervals.\n",
    "\\\n",
    "\\\n",
    "We can derive the change in the pendulum system as:\n",
    "\\\n",
    "\\\n",
    "$$\\frac{d^2\\theta}{dt} = - \\frac{b}{m} \\frac{d\\theta}{dt} - \\frac{g  *  sin(\\theta)}{l}$$\n",
    "\\\n",
    "To further simplify this second order differential equation, we can rewrite this as two linear equations by defining \n",
    "\n",
    "$$\\theta_{1} = \\theta  ,  \\theta_{2} = \\frac{d\\theta}{dt}$$\n",
    "\n",
    "$$\\frac{d\\theta_{1}}{dt} = \\theta_{2}$$\n",
    "\n",
    "$$\\frac{d\\theta_{2}}{dt} = -\\frac{b  *  \\theta_{2}}{m} - \\frac{g  *  sin(\\theta_{1})}{l}$$\n",
    "\n",
    "Don't worry if you do not understand the physics equations and math for this derivation! We will only be needing the last two equations for this problem. Now use ode_func as an argument to scipy.integrate.odeint to solve for the theta1 and theta2 values for all time steps. Use the initial conditions of \n",
    "* $\\theta_{1} = \\frac{\\pi}{10} $ as the initial angle and\n",
    "* $\\theta_{2} = 0$ as the initial angular velocity."
   ]
  },
  {
   "cell_type": "code",
   "execution_count": null,
   "metadata": {
    "colab": {
     "base_uri": "https://localhost:8080/",
     "height": 282
    },
    "id": "4qSUKa4x5IhQ",
    "outputId": "f609112c-0d93-4c9f-dbb3-fe52b069f37a"
   },
   "outputs": [],
   "source": [
    "def ode_func(theta, t, g, l, m, b):\n",
    "    '''\n",
    "    Given a list theta that is [theta1, theta2] and the conditions of the system\n",
    "    Computes the differential change for theta1 and theta2 following the last two eqs.\n",
    "    Returns dtheta1dt and dtheta2dt as a list in that order\n",
    "    '''\n",
    "    # YOUR CODE HERE\n",
    "    theta1, theta2 = theta\n",
    "    dtheta1_dt = theta2\n",
    "    dtheta2_dt = (- b * theta2 / m - g * np.sin(theta1) / l)\n",
    "    return [dtheta1_dt, dtheta2_dt]\n",
    "\n",
    "# Define system variables l, m, g, b, t and initial conditions\n",
    "# YOUR CODE HERE\n",
    "l = 1\n",
    "m = 1\n",
    "g = 9.81\n",
    "b = 0.05\n",
    "t = np.linspace(0, 10, 100)\n",
    "initial_conditions = [np.pi/10,1]\n",
    "\n",
    "# Calculate theta1 and theta2 at all time steps\n",
    "# HINT: scipy.integrate.odeint returns a 2D matrix where \n",
    "# the first column is the theta1 values and the second column is the theta2 values\n",
    "# YOUR CODE HERE\n",
    "theta = scipy.integrate.odeint(ode_func, initial_conditions, t, args=(g, l, m, b))"
   ]
  },
  {
   "cell_type": "markdown",
   "metadata": {},
   "source": [
    "Now that we have all of the $\\theta_{1}$ and $\\theta_{2}$ values from scipy.integrate.odeint, we can find the position of the point mass (x, y) values as\n",
    "\\\n",
    "\\\n",
    "$$ x = l*sin(\\theta_{1})$$\n",
    "$$ y = - l*cos(\\theta_{1})$$\n",
    "\\\n",
    "For every time step, plot and save the (x, y) position using the $\\theta$ values calculated above as an animation.\n",
    "* Save the animation as \"pendulum.mp4\"\n",
    "* Set y-axis limits as -1.1, 0\n",
    "* Set x-axis limits as -0.5, 0.5\n",
    "* If you would like to animate the string, include a line at each frame: \n",
    "    \"plt.plot( [ 0, x[i] ], [ 0, y[i] ] )\" that will plot a line between the origin and the pendulum in the current frame i"
   ]
  },
  {
   "cell_type": "code",
   "execution_count": null,
   "metadata": {
    "colab": {
     "base_uri": "https://localhost:8080/",
     "height": 1000
    },
    "id": "iHAKySRMs-HK",
    "outputId": "70249d77-9188-4ce9-bdd4-fca98271d4eb"
   },
   "outputs": [],
   "source": [
    "# Calculate x and y from theta1\n",
    "# YOUR CODE HERE\n",
    "theta1 = theta[:,0]\n",
    "x = [l * np.sin(th) for th in theta1]\n",
    "y = [-l * np.cos(th) for th in theta1]\n",
    "\n",
    "# Initialize writer \n",
    "# YOUR CODE HERE\n",
    "metadata = dict(title='2D animation', artist='Matplotlib')\n",
    "writer = FFMpegWriter(fps=100, metadata=metadata, bitrate=200000)\n",
    "fig = plt.figure(dpi=200)\n",
    "\n",
    "## SAVE AS MP4 ##\n",
    "# YOUR CODE HERE\n",
    "fig = plt.figure()\n",
    "\n",
    "with writer.saving(fig, \"pendulum.mp4\", dpi=200):\n",
    "    for i in range(len(t)):\n",
    "\n",
    "        fig.clear()\n",
    "\n",
    "        plt.plot([0, x[i]], [0, y[i]]) # plots the string\n",
    "        plt.plot(x[i], y[i], marker=\"o\", markersize=10) # plots the point mass\n",
    "        plt.xlim([-0.5,0.5])\n",
    "        plt.ylim([-1.1,0])\n",
    "        \n",
    "        plt.draw()\n",
    "        plt.pause(0.01)\n",
    "        writer.grab_frame()"
   ]
  },
  {
   "cell_type": "markdown",
   "metadata": {},
   "source": [
    "****"
   ]
  },
  {
   "cell_type": "markdown",
   "metadata": {},
   "source": [
    "# Problem 4 (Extra Credit 5 points)\n",
    "## Random Walk"
   ]
  },
  {
   "cell_type": "markdown",
   "metadata": {},
   "source": [
    "An optional problem in homework 4 was plotting 7 different random walk runs. We'll be using the same base code but instead of just plotting, let's animate the random walks! \n",
    "\n",
    "Here's a function that defines the random walk (check out homework 4 for a more detailed explanation):"
   ]
  },
  {
   "cell_type": "code",
   "execution_count": null,
   "metadata": {},
   "outputs": [],
   "source": [
    "N=int(1e3)  #step number\n",
    "interval=0.5  #interval\n",
    "n = 7 #number of particles\n",
    "\n",
    "def random_walk(step):\n",
    "    \"\"\"\n",
    "    A function that takes in the number of random \n",
    "    steps you want to take and returns an x and y \n",
    "    1D array corresponding to the path the particle \n",
    "    took in the xy plane. It also returns roughly \n",
    "    the limit of how far the particle can travel in \n",
    "    N steps.\n",
    "    \"\"\"\n",
    "    \n",
    "    N1 = int(step)\n",
    "    theta = np.random.uniform(0, 2*np.pi, size=N1)\n",
    "    x = np.cos(theta).cumsum(0)\n",
    "    y = np.sin(theta).cumsum(0)\n",
    "    return x,y,np.sqrt(N1)"
   ]
  },
  {
   "cell_type": "markdown",
   "metadata": {},
   "source": [
    "Now use whatever animation method you want (FFMpegWriter, FuncAnimation, etc.) to animate the random walk!"
   ]
  },
  {
   "cell_type": "code",
   "execution_count": null,
   "metadata": {},
   "outputs": [],
   "source": [
    "# YOUR CODE HERE\n",
    "xarr, yarr = np.zeros((n,N+1)), np.zeros((n,N+1))\n",
    "for trail in range(n):\n",
    "    xarr[trail][1:],yarr[trail][1:],lim = random_walk(N)    \n",
    "    \n",
    "fig, ax = plt.subplots(figsize=(8,8))\n",
    "ax.set_xlim(-lim*1.3,lim*1.3)\n",
    "ax.set_ylim(-lim*1.3,lim*1.3)\n",
    "circle = plt.Circle((0, 0), lim, color='k',ec='white')\n",
    "ax.add_patch(circle)\n",
    "ax.set_facecolor('k')\n",
    "ax.grid(1, zorder=-10, alpha=0.3)\n",
    "ax.get_xaxis().set_visible(False)\n",
    "ax.get_yaxis().set_visible(False)\n",
    "\n",
    "lines = [ax.plot([], [], lw=0.5)[0] for _ in range(n)]\n",
    "texts = [ax.text(0, lim*1.15, '', fontsize=15, color='white', ha='center', va='center') for _ in range(n)]\n",
    "\n",
    "def init():\n",
    "    for line in lines:\n",
    "        line.set_data([], [])\n",
    "\n",
    "def animate(i):\n",
    "    for j, line in enumerate(lines):\n",
    "        line.set_data(xarr[j][:i], yarr[j][:i])\n",
    "        texts[j].set_text('N={}'.format(i))\n",
    "    return lines\n",
    "\n",
    "ani = animation.FuncAnimation(fig, func=animate, frames=np.arange(0,len(xarr[0])), \\\n",
    "                    interval = interval, repeat=False)\n",
    " \n",
    "ani.save('random_walkh.gif', writer=animation.PillowWriter(fps=120))\n",
    "\n",
    "plt.show()"
   ]
  }
 ],
 "metadata": {
  "colab": {
   "collapsed_sections": [],
   "name": "Homework_6.ipynb",
   "provenance": []
  },
  "kernelspec": {
   "display_name": "Python 3",
   "language": "python",
   "name": "python3"
  },
  "language_info": {
   "codemirror_mode": {
    "name": "ipython",
    "version": 3
   },
   "file_extension": ".py",
   "mimetype": "text/x-python",
   "name": "python",
   "nbconvert_exporter": "python",
   "pygments_lexer": "ipython3",
   "version": "3.8.3"
  }
 },
 "nbformat": 4,
 "nbformat_minor": 1
}
